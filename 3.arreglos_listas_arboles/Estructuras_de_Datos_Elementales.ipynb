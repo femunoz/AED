{
  "cells": [
    {
      "cell_type": "code",
      "execution_count": 1,
      "metadata": {
        "colab": {
          "base_uri": "https://localhost:8080/"
        },
        "id": "ZwvZ7819l7VC",
        "outputId": "3a0d360a-8b18-4060-ee32-3de16a3fafbc"
      },
      "outputs": [
        {
          "name": "stdout",
          "output_type": "stream",
          "text": [
            "Collecting aed-utilities\n",
            "  Downloading aed_utilities-0.5.6.tar.gz (4.3 kB)\n",
            "  Preparing metadata (setup.py) ... \u001b[?25ldone\n",
            "\u001b[?25hCollecting validators (from aed-utilities)\n",
            "  Downloading validators-0.28.0-py3-none-any.whl.metadata (3.6 kB)\n",
            "Requirement already satisfied: beautifulsoup4 in /Library/Frameworks/Python.framework/Versions/3.11/lib/python3.11/site-packages (from aed-utilities) (4.12.2)\n",
            "Requirement already satisfied: soupsieve>1.2 in /Library/Frameworks/Python.framework/Versions/3.11/lib/python3.11/site-packages (from beautifulsoup4->aed-utilities) (2.5)\n",
            "Downloading validators-0.28.0-py3-none-any.whl (39 kB)\n",
            "Building wheels for collected packages: aed-utilities\n",
            "  Building wheel for aed-utilities (setup.py) ... \u001b[?25ldone\n",
            "\u001b[?25h  Created wheel for aed-utilities: filename=aed_utilities-0.5.6-py3-none-any.whl size=4542 sha256=bd7fdb79f71e3ee57db4110139004d5ff0761efddfebbe736a9acb729b6acfbf\n",
            "  Stored in directory: /Users/felipe/Library/Caches/pip/wheels/e2/87/f8/223d5e6792e7b0fc909ef2cdb96ceb6a5336f428bc8eea7ffa\n",
            "Successfully built aed-utilities\n",
            "Installing collected packages: validators, aed-utilities\n",
            "Successfully installed aed-utilities-0.5.6 validators-0.28.0\n"
          ]
        }
      ],
      "source": [
        "!pip install aed-utilities"
      ]
    },
    {
      "attachments": {},
      "cell_type": "markdown",
      "metadata": {
        "id": "gKQZhPwwb_uI"
      },
      "source": [
        "# Estructuras de datos elementales\n",
        "\n",
        "Los sistemas o métodos de organización de datos que permiten un almacenamiento eficiente de la información en la memoria del computador son conocidos como estructuras de datos. Estos métodos de organización constituyen las piezas básicas para la construcción de algoritmos complejos, y permiten implementarlos de manera eficiente.\n",
        "\n",
        "En el presente capítulo se presentan las estructuras de datos básicas como son arreglos, listas enlazadas y árboles, con las cuales se implementarán posteriormente los _tipos de datos abstractos_."
      ]
    },
    {
      "attachments": {},
      "cell_type": "markdown",
      "metadata": {
        "id": "beBcsfmMb_vp"
      },
      "source": [
        "## Arreglos\n",
        "\n",
        "Un arreglo es una secuencia contigua en memoria, que almacena un número fijo de elementos homogéneos. En la siguiente figura se muestra un arreglo de enteros con 10 elementos:\n",
        "\n",
        "![ejemplo-arreglo](https://github.com/ivansipiran/AED-Apuntes/blob/main/recursos/ejemplo-arreglo.png?raw=1)\n",
        "\n",
        "Una ventaja que tienen los arreglos es que el costo de acceso a un elemento dado del arreglo es constante, es decir no hay diferencias de costo entre accesar el primer, el último o cualquier elemento del arreglo, lo cual es muy eficiente. La desventaja es que es necesario definir a priori el tamaño del arreglo, lo cual puede generar mucha pérdida de espacio en memoria si se definen arreglos muy grandes para contener conjuntos pequeños de elementos.\n",
        "\n",
        "Esta característica de costo de acceso constante es esencial para la eficiencia de algunos algoritmos muy importantes, como por ejemplo el siguiente:"
      ]
    },
    {
      "attachments": {},
      "cell_type": "markdown",
      "metadata": {
        "id": "JFLFBdd9b_vq"
      },
      "source": [
        "### Ejemplo: Búsqueda Binaria\n",
        "\n",
        "Supongamos que queremos buscar un elemento $x$ en un arreglo $a$ de tamaño $n$. Si no tenemos más información sobre el orden de los elementos dentro del arreglo, lo único que podemos hacer es una *búsqueda secuencial*, la cual tiene costo $\\Theta(n)$ tanto en el peor caso como en el caso promedio.\n",
        "\n",
        "Pero si sabemos que los elementos están en orden ascendente, existe una forma mucho más eficiente, llamada *búsqueda binaria*.\n",
        "\n",
        "La idea es comparar primero $x$ conta el elemento del centro del arreglo. Si tenemos suerte, lo encontramos ahí, pero incluso si no tenemos suerte, podemos de inmediato descartar la mitad del arreglo. En efecto, si $x$ es mayor que el elemento del centro, entonces basta seguir buscando en la segunda mitad. De la misma manera, si $x$ es menor, basta seguir buscando en la primera mitad."
      ]
    },
    {
      "cell_type": "markdown",
      "metadata": {},
      "source": [
        "## Búsqueda binaria - versión recursiva"
      ]
    },
    {
      "cell_type": "code",
      "execution_count": 1,
      "metadata": {
        "id": "-wMJcpUyb_vr"
      },
      "outputs": [],
      "source": [
        "import numpy as np\n",
        "a=np.array([12,25,29,34,45,53,59,67,86,92])"
      ]
    },
    {
      "cell_type": "code",
      "execution_count": 3,
      "metadata": {
        "id": "vCMV3J66b_wP"
      },
      "outputs": [],
      "source": [
        "# Búsqueda binaria, versión recursiva\n",
        "# busca x en el arreglo a, retorna subíndice o -1 si no está\n",
        "def bbin(x,a):\n",
        "\n",
        "    # puntapié inicial\n",
        "    n=len(a)\n",
        "\n",
        "    # vamos a utilizar una función auxiliar, que se define fuera de \n",
        "    # esta función bbin\n",
        "    return bbin_rec(x,a,0,n-1)\n",
        "\n",
        "# Definimos una función auxiliar para\n",
        "# buscar en el subarreglo a[i],...,a[j]\n",
        "def bbin_rec(x,a,i,j):\n",
        "    if i>j:\n",
        "        return -1\n",
        "    k=(i+j)//2\n",
        "    if x==a[k]:\n",
        "        return k\n",
        "    if x<a[k]:\n",
        "        return bbin_rec(x,a,i,k-1)\n",
        "    else:\n",
        "        return bbin_rec(x,a,k+1,j)"
      ]
    },
    {
      "cell_type": "code",
      "execution_count": 4,
      "metadata": {
        "id": "w5URh0h4b_xK",
        "outputId": "e79d5f9c-deb1-44f8-e881-4cd4575afa90"
      },
      "outputs": [
        {
          "name": "stdout",
          "output_type": "stream",
          "text": [
            "0 5 9 -1\n"
          ]
        }
      ],
      "source": [
        "print(bbin(12,a), bbin(53,a), bbin(92,a), bbin(30,a))"
      ]
    },
    {
      "cell_type": "markdown",
      "metadata": {},
      "source": [
        "## Búsqueda binaria - versión iterativa (con bucle/ciclo)"
      ]
    },
    {
      "cell_type": "code",
      "execution_count": null,
      "metadata": {
        "id": "VFOMEoMXb_xg"
      },
      "outputs": [],
      "source": [
        "# Búsqueda binaria, versión iterativa\n",
        "# busca x en el arreglo a, retorna subíndice o -1 si no está\n",
        "def bbin(x,a):\n",
        "    n=len(a)\n",
        "    i=0\n",
        "    j=n-1\n",
        "    while i<=j:\n",
        "        k=(i+j)//2\n",
        "        if x==a[k]:\n",
        "            return k\n",
        "        if x<a[k]:\n",
        "            j=k-1\n",
        "        else:\n",
        "            i=k+1\n",
        "    return -1"
      ]
    },
    {
      "cell_type": "code",
      "execution_count": null,
      "metadata": {
        "id": "-NuN8DBAb_xu",
        "outputId": "083f27c4-1104-473e-fd61-d020dc24353d"
      },
      "outputs": [
        {
          "name": "stdout",
          "output_type": "stream",
          "text": [
            "0 5 9 -1\n"
          ]
        }
      ],
      "source": [
        "print(bbin(12,a), bbin(53,a), bbin(92,a), bbin(30,a))"
      ]
    },
    {
      "attachments": {},
      "cell_type": "markdown",
      "metadata": {
        "id": "CcdaL-Hub_xy"
      },
      "source": [
        "Podemos estimar rápidamente la eficiencia de este algoritmo si vemos que para hacer una búsqueda en un conjunto de tamaño $n$, después de accesar el elemento del medio, en el peor caso continuamos buscando en un conjunto de tamaño aproximadamente igual a la mitad:\n",
        "\n",
        "$$\n",
        "T(n)=1+T\\left(\\frac{n}{2}\\right)\n",
        "$$\n",
        "\n",
        "Aplicando el Teorema Maestro con $p=1$, $q=2$, $r=0$, vemos que $T(n)=\\Theta(\\log{n})$.\n",
        "Por lo tanto, gracias a que el arreglo está ordenado, una búsqueda binaria es mucho más eficiente que una búsqueda secuencial.\n",
        "\n",
        "La ecuación anterior nos permite obtener una estimación rápida, pero no refleja de manera totalmente exacta lo que ocurre en el algoritmo.\n",
        "Si queremos modelar de manera precisa lo que ocurre en el peor caso, la ecuación correcta es\n",
        "\n",
        "$$\n",
        "\\begin{align}\n",
        "T(n) &= 1 + T\\left(\\left\\lceil\\frac{n-1}{2}\\right\\rceil\\right)\\\\\n",
        "T(1) &= 1\n",
        "\\end{align}\n",
        "$$\n",
        "\n",
        "donde la notación \"techo\" $\\lceil x\\rceil$ denota el menor entero mayor o igual a $x$ (y, similarmente, la notación \"piso\" $\\lfloor x \\rfloor$ denota el mayor entero menor o igual a $x$).\n",
        "\n",
        "Si tabulamos el valor de la función $T(n)$ para los primeros valores de $n$, tenemos:\n",
        "\n",
        "| $𝑛$  | 1 | 2 | 3 | 4 | 5 | 6 | 7 | 8 | 9 | 10 | 11 | 12 | 13 | 14 | 15 | 16 | 17 |\n",
        "| --- | --- | --- | --- | --- | --- | --- | --- | --- | --- | --- | --- | --- | --- | --- | --- | --- | --- |\n",
        "| $T(n)$ | 1 | 2 | 2 | 3 | 3 | 3 | 3 | 4 | 4 | 4 | 4 | 4 | 4 | 4 | 4 |5 | 5 |\n",
        "\n",
        "Observando esta tabla, no es difícil adivinar la solución:\n",
        "\n",
        "$$\n",
        "T(n) = \\lceil \\log_2{(n+1)} \\rceil\n",
        "$$"
      ]
    },
    {
      "attachments": {},
      "cell_type": "markdown",
      "metadata": {
        "id": "jkMUR9rFb_xz"
      },
      "source": [
        "---"
      ]
    },
    {
      "attachments": {},
      "cell_type": "markdown",
      "metadata": {
        "id": "oDMuy7qAb_x7"
      },
      "source": [
        "### Una manera más eficiente de programar la búsqueda binaria\n",
        "\n",
        "En el análisis anterior, hemos considerado que en cada iteración, el costo de accesar el elemento $a[k]$ es igual a $1$, representando así el costo total de comparar primero con`==`y luego con `<`.\n",
        "Si quisiéramos hacer una contabilidad más precisa, deberíamos decir que ese costo es en realidad de $2$ comparaciones por cada iteración.\n",
        "A continuación veremos que es posible reducir eso a $1$ comparación por ciclo, si utilizamos comparaciones de tipo `<=`:"
      ]
    },
    {
      "cell_type": "code",
      "execution_count": null,
      "metadata": {
        "id": "SlfQqvjgb_x8"
      },
      "outputs": [],
      "source": [
        "# Búsqueda binaria, versión iterativa y con <=\n",
        "# busca x en el arreglo a, retorna subíndice o -1 si no está\n",
        "def bbin(x,a):\n",
        "    n=len(a)\n",
        "    i=0\n",
        "    j=n-1\n",
        "    while i<j: # conjunto tiene al menos 2 elementos\n",
        "        k=(i+j)//2\n",
        "        if x<=a[k]:\n",
        "            j=k    # x estaría en a[i],...,a[k]\n",
        "        else:\n",
        "            i=k+1  # x estaría en a[k+1],...,a[j]\n",
        "    # al terminar, el conjunto factible se ha reducido a 0 o 1 elemento\n",
        "    if i==j and x==a[i]:\n",
        "        return i\n",
        "    else:\n",
        "        return -1"
      ]
    },
    {
      "cell_type": "code",
      "execution_count": null,
      "metadata": {
        "id": "ABDnWJ1Ab_yA",
        "outputId": "493b4b1e-e138-4306-ac93-b382199f04d0"
      },
      "outputs": [
        {
          "name": "stdout",
          "output_type": "stream",
          "text": [
            "0 5 9 -1\n"
          ]
        }
      ],
      "source": [
        "print(bbin(12,a), bbin(53,a), bbin(92,a), bbin(30,a))"
      ]
    },
    {
      "attachments": {},
      "cell_type": "markdown",
      "metadata": {
        "id": "8bvaTQl9b_yU"
      },
      "source": [
        "En esta versión logramos ahorrar una comparación de elementos por iteración, al precio de que toda las búsquedas ahora hacen el máximo de iteraciones, a diferencia del algoritmo original, en donde si teníamos suerte el algoritmo buscado se podría encontrar en las primeras iteraciones.\n",
        "\n",
        "Este es un precio que vale la pena pagar, porque en el algoritmo original son muy pocos los casos en que la búsqueda termina tempranamente, y en la gran mayoría de los casos igual se hace un número de iteraciones muy cercano al máximo."
      ]
    },
    {
      "attachments": {},
      "cell_type": "markdown",
      "metadata": {
        "id": "Oj2vevRMb_zS"
      },
      "source": [
        "## Estructuras enlazadas\n",
        "\n",
        "Como hemos visto, los arreglos permiten que algunos algoritmos se puedan programar de manera muy eficiente, pero las estructuras basadas en arreglos suelen ser muy rígidas.\n",
        "Por ejemplo, si quisiéramos agregar un nuevo elemento al arreglo ordenado en que se hace búsqueda binaria (suponiendo que hubiera holgura suficiente), la inserción tomaría tiempo $\\Theta(n)$ tanto en el peor caso como en promedio, por la necesidad de preservar el orden de los elementos.\n",
        "\n",
        "Veremos a continuación que podemos diseñar estructuras mucho más flexibles sin hacemos uso de la capacidad de definir clases de objetos que contienen dentro de sus campos referencias (también llamadas \"punteros\") a otros objetos."
      ]
    },
    {
      "attachments": {},
      "cell_type": "markdown",
      "metadata": {
        "id": "C-hATftVb_zW"
      },
      "source": [
        "## Listas de enlace simple\n",
        "\n",
        "Comenzaremos viendo la estructura más sencilla de este tipo: una secuencia de nodos, en que cada uno contiene una referencia al siguiente de la lista. Consideremos nodos compuestos de dos *campos* (o *atributos*): `info` y `sgte`. El primero almacena el elemento de la secuencia, y el segundo apunta al siguiente nodo. Por ejemplo, un nodo que almacena el valor $42$ y que apunta al siguiente nodo se puede representar gráficamente así:\n",
        "\n",
        "![Nodo](https://github.com/ivansipiran/AED-Apuntes/blob/main/recursos/Nodo.png?raw=1)\n",
        "\n",
        "O, más simplemente:\n",
        "\n",
        "![Nodo-circular](https://github.com/ivansipiran/AED-Apuntes/blob/main/recursos/Nodo-circular.png?raw=1)\n",
        "\n",
        "Para definir el formato de estos nodos utilizaremos la siguiente definición de clase, la que incluye un constructor para inicializar sus campos al crear un objeto:"
      ]
    },
    {
      "cell_type": "code",
      "execution_count": null,
      "metadata": {
        "id": "xzjMpF3lb_00"
      },
      "outputs": [],
      "source": [
        "class Nodo:\n",
        "    def __init__(self, info, sgte=None):\n",
        "        self.info=info\n",
        "        self.sgte=sgte"
      ]
    },
    {
      "cell_type": "code",
      "execution_count": null,
      "metadata": {
        "colab": {
          "base_uri": "https://localhost:8080/"
        },
        "id": "pWk3Jh5Hb_1D",
        "outputId": "162159b5-b9f7-46df-f445-4cb23dff7824"
      },
      "outputs": [
        {
          "name": "stdout",
          "output_type": "stream",
          "text": [
            "42 None\n"
          ]
        }
      ],
      "source": [
        "p=Nodo(42)\n",
        "print(p.info, p.sgte)"
      ]
    },
    {
      "attachments": {},
      "cell_type": "markdown",
      "metadata": {
        "id": "MBA7IQwVb_1a"
      },
      "source": [
        "El siguiente trozo de programa muestra la construcción de una lista con 4 elementos: $42$, $65$, $13$ y $44$, y un ejemplo simple de uso:"
      ]
    },
    {
      "cell_type": "code",
      "execution_count": null,
      "metadata": {
        "colab": {
          "base_uri": "https://localhost:8080/"
        },
        "id": "fywtIOnOb_1a",
        "outputId": "811aa587-4e2f-4871-9973-f69a7fb154e3"
      },
      "outputs": [
        {
          "name": "stdout",
          "output_type": "stream",
          "text": [
            "42 65 13 44 \n"
          ]
        }
      ],
      "source": [
        "primero=Nodo(42,Nodo(65,Nodo(13,Nodo(44))))\n",
        "p=primero\n",
        "while p is not None:\n",
        "    print(p.info, end=\" \")\n",
        "    p=p.sgte\n",
        "print()"
      ]
    },
    {
      "attachments": {},
      "cell_type": "markdown",
      "metadata": {
        "id": "URLghW3yb_3h"
      },
      "source": [
        "Algo adicional respecto de la representación gráfica. Cuando una referencia es nula (`None`), es tradicional representarla como \"conectada a tierra\":\n",
        "\n",
        "![Nodo-None](https://github.com/ivansipiran/AED-Apuntes/blob/main/recursos/Nodo-None.png?raw=1)\n",
        "\n",
        "Al usar la representación con nodos circulares, la ausencia de un nodo siguiente la podemos representar simplemente por la ausencia de la flecha saliente:\n",
        "\n",
        "![Nodo-circular-None](https://github.com/ivansipiran/AED-Apuntes/blob/main/recursos/Nodo-circular-None.png?raw=1)\n",
        "\n",
        "O, si queremos hacer explícita la ausencia de un nodo siguiente (o, en otras palabras, que el puntero al nodo siguiente es nulo), podemos representarlo por un nodo cuadrado, que es una convención que nos resultará muy conveniente más adelante, al ver *árboles*:\n",
        "\n",
        "![Nodo-circular-cuadrado](https://github.com/ivansipiran/AED-Apuntes/blob/main/recursos/Nodo-circular-cuadrado.png?raw=1)\n",
        "\n",
        "Con esta última convención, la lista que construimos en el ejemplo anterior, se visualizaría así:\n",
        "\n",
        "![lista-ejemplo](https://github.com/ivansipiran/AED-Apuntes/blob/main/recursos/lista-ejemplo.png?raw=1)"
      ]
    },
    {
      "attachments": {},
      "cell_type": "markdown",
      "metadata": {
        "id": "ZE7sPGOib_3i"
      },
      "source": [
        "A continuación definiremos una clase `Lista`, que contendrá el puntero al primer nodo de la lista, así como la funcionalidad que necesitamos para operar sobre la lista:"
      ]
    },
    {
      "cell_type": "code",
      "execution_count": null,
      "metadata": {
        "id": "IWYotum3b_5C"
      },
      "outputs": [],
      "source": [
        "import aed_utilities as aed\n",
        "\n",
        "class Lista:\n",
        "    def __init__(self):\n",
        "        self.primero=None\n",
        "\n",
        "    def insertar_al_inicio(self,info):\n",
        "        self.primero=Nodo(info,self.primero)\n",
        "\n",
        "    def insertar_despues_de(self,p,info): # inserta después de nodo p\n",
        "        p.sgte=Nodo(info,p.sgte)\n",
        "\n",
        "    def eliminar_al_inicio(self):\n",
        "        assert self.primero is not None\n",
        "        self.primero=self.primero.sgte\n",
        "\n",
        "    def eliminar_sgte_de(self,p): # elimina el nodo siguiente de p\n",
        "        assert p.sgte is not None\n",
        "        p.sgte=p.sgte.sgte\n",
        "\n",
        "    def k_esimo(self,k): # retorna k-esimo nodo, o None si fuera de rango\n",
        "        p=self.primero\n",
        "        j=1\n",
        "        while p is not None:\n",
        "            if j==k:\n",
        "                return p\n",
        "            p=p.sgte\n",
        "            j+=1\n",
        "        return None\n",
        "\n",
        "    def imprimir(self):\n",
        "        p=self.primero\n",
        "        while p is not None:\n",
        "            print(p.info, end=\" \")\n",
        "            p=p.sgte\n",
        "        print()\n",
        "\n",
        "    #Método para dibujar una lista enlazada.\n",
        "    # - Se crea una instancia de la clase LinkedListDrawer. Este objeto necesita conocer cómo se llaman los\n",
        "    #   campos de la estructura de los nodos de la lista. Para eso sirven los parámetros:\n",
        "    #     - fieldHeader: nombre del campo en la lista con el primer puntero de la lista\n",
        "    #     - fieldData: nombre del campo en el nodo que almacena la data\n",
        "    #     - fieldLink: nombre del campo en el nodo que almacena el puntero\n",
        "    #     - strHeader: cadena de texto que representa la cabecera de la lista\n",
        "    # - Para dibujar se llama al método \"draw_linked_list\" con la lista como parámetro\n",
        "\n",
        "    def dibujar(self):\n",
        "      lld = aed.LinkedListDrawer(fieldHeader=\"primero\", fieldData=\"info\", fieldLink=\"sgte\", strHeader=\"primero\")\n",
        "      lld.draw_linked_list(self)"
      ]
    },
    {
      "cell_type": "code",
      "execution_count": null,
      "metadata": {
        "colab": {
          "base_uri": "https://localhost:8080/"
        },
        "id": "tb4J8Wf3b_5m",
        "outputId": "cb185399-f52b-4eb4-b4ec-9d604a3f2007"
      },
      "outputs": [
        {
          "name": "stdout",
          "output_type": "stream",
          "text": [
            "42 65 13 44 \n"
          ]
        }
      ],
      "source": [
        "L=Lista()\n",
        "L.insertar_al_inicio(44)\n",
        "L.insertar_al_inicio(13)\n",
        "L.insertar_al_inicio(65)\n",
        "L.insertar_al_inicio(42)\n",
        "L.imprimir()"
      ]
    },
    {
      "cell_type": "code",
      "execution_count": null,
      "metadata": {
        "colab": {
          "base_uri": "https://localhost:8080/",
          "height": 88
        },
        "id": "8cxLKgYFsr-V",
        "outputId": "0638189c-ebd2-4fb2-bb8b-b6833adcdc80"
      },
      "outputs": [
        {
          "data": {
            "image/svg+xml": [
              "<svg height=\"50pt\" viewBox=\"0.00 0.00 452.39 49.60\" width=\"452pt\" xmlns=\"http://www.w3.org/2000/svg\" xmlns:xlink=\"http://www.w3.org/1999/xlink\">\n",
              "<g class=\"graph\" id=\"graph0\" transform=\"scale(1 1) rotate(0) translate(4 45.5963)\">\n",
              "<title>Lista</title>\n",
              "<polygon fill=\"#ffffff\" points=\"-4,4 -4,-45.5963 448.3852,-45.5963 448.3852,4 -4,4\" stroke=\"transparent\"/>\n",
              "<!-- primero -->\n",
              "<g class=\"node\" id=\"node1\">\n",
              "<title>primero</title>\n",
              "<text fill=\"#000000\" font-family=\"Times,serif\" font-size=\"14.00\" text-anchor=\"middle\" x=\"31\" y=\"-17.0982\">primero</text>\n",
              "</g>\n",
              "<!-- 42 -->\n",
              "<g class=\"node\" id=\"node3\">\n",
              "<title>42</title>\n",
              "<ellipse cx=\"118.7982\" cy=\"-20.7982\" fill=\"none\" rx=\"20.5982\" ry=\"20.5982\" stroke=\"#000000\"/>\n",
              "<text fill=\"#000000\" font-family=\"Times,serif\" font-size=\"14.00\" text-anchor=\"middle\" x=\"118.7982\" y=\"-17.0982\">42</text>\n",
              "</g>\n",
              "<!-- primero&#45;&gt;42 -->\n",
              "<g class=\"edge\" id=\"edge1\">\n",
              "<title>primero-&gt;42</title>\n",
              "<path d=\"M62.2016,-20.7982C70.519,-20.7982 79.5018,-20.7982 87.8079,-20.7982\" fill=\"none\" stroke=\"#000000\"/>\n",
              "<polygon fill=\"#000000\" points=\"87.866,-24.2983 97.8659,-20.7982 87.8659,-17.2983 87.866,-24.2983\" stroke=\"#000000\"/>\n",
              "</g>\n",
              "<g class=\"node\" id=\"node2\">\n",
              "<title/>\n",
              "<polygon fill=\"none\" points=\"444.3852,-38.7982 408.3852,-38.7982 408.3852,-2.7982 444.3852,-2.7982 444.3852,-38.7982\" stroke=\"#000000\"/>\n",
              "</g>\n",
              "<!-- 65 -->\n",
              "<g class=\"node\" id=\"node4\">\n",
              "<title>65</title>\n",
              "<ellipse cx=\"196.3945\" cy=\"-20.7982\" fill=\"none\" rx=\"20.5982\" ry=\"20.5982\" stroke=\"#000000\"/>\n",
              "<text fill=\"#000000\" font-family=\"Times,serif\" font-size=\"14.00\" text-anchor=\"middle\" x=\"196.3945\" y=\"-17.0982\">65</text>\n",
              "</g>\n",
              "<!-- 42&#45;&gt;65 -->\n",
              "<g class=\"edge\" id=\"edge2\">\n",
              "<title>42-&gt;65</title>\n",
              "<path d=\"M140.0017,-20.7982C147.8495,-20.7982 156.9158,-20.7982 165.4525,-20.7982\" fill=\"none\" stroke=\"#000000\"/>\n",
              "<polygon fill=\"#000000\" points=\"165.4853,-24.2983 175.4852,-20.7982 165.4852,-17.2983 165.4853,-24.2983\" stroke=\"#000000\"/>\n",
              "</g>\n",
              "<!-- 13 -->\n",
              "<g class=\"node\" id=\"node5\">\n",
              "<title>13</title>\n",
              "<ellipse cx=\"273.9908\" cy=\"-20.7982\" fill=\"none\" rx=\"20.5982\" ry=\"20.5982\" stroke=\"#000000\"/>\n",
              "<text fill=\"#000000\" font-family=\"Times,serif\" font-size=\"14.00\" text-anchor=\"middle\" x=\"273.9908\" y=\"-17.0982\">13</text>\n",
              "</g>\n",
              "<!-- 65&#45;&gt;13 -->\n",
              "<g class=\"edge\" id=\"edge3\">\n",
              "<title>65-&gt;13</title>\n",
              "<path d=\"M217.598,-20.7982C225.4458,-20.7982 234.5121,-20.7982 243.0488,-20.7982\" fill=\"none\" stroke=\"#000000\"/>\n",
              "<polygon fill=\"#000000\" points=\"243.0816,-24.2983 253.0815,-20.7982 243.0815,-17.2983 243.0816,-24.2983\" stroke=\"#000000\"/>\n",
              "</g>\n",
              "<!-- 44 -->\n",
              "<g class=\"node\" id=\"node6\">\n",
              "<title>44</title>\n",
              "<ellipse cx=\"351.5871\" cy=\"-20.7982\" fill=\"none\" rx=\"20.5982\" ry=\"20.5982\" stroke=\"#000000\"/>\n",
              "<text fill=\"#000000\" font-family=\"Times,serif\" font-size=\"14.00\" text-anchor=\"middle\" x=\"351.5871\" y=\"-17.0982\">44</text>\n",
              "</g>\n",
              "<!-- 13&#45;&gt;44 -->\n",
              "<g class=\"edge\" id=\"edge4\">\n",
              "<title>13-&gt;44</title>\n",
              "<path d=\"M295.1943,-20.7982C303.0421,-20.7982 312.1084,-20.7982 320.6451,-20.7982\" fill=\"none\" stroke=\"#000000\"/>\n",
              "<polygon fill=\"#000000\" points=\"320.6779,-24.2983 330.6779,-20.7982 320.6778,-17.2983 320.6779,-24.2983\" stroke=\"#000000\"/>\n",
              "</g>\n",
              "<!-- 44&#45;&gt; -->\n",
              "<g class=\"edge\" id=\"edge5\">\n",
              "<title>44-&gt;</title>\n",
              "<path d=\"M372.4225,-20.7982C380.325,-20.7982 389.4638,-20.7982 397.9487,-20.7982\" fill=\"none\" stroke=\"#000000\"/>\n",
              "<polygon fill=\"#000000\" points=\"398.2041,-24.2983 408.2041,-20.7982 398.2041,-17.2983 398.2041,-24.2983\" stroke=\"#000000\"/>\n",
              "</g>\n",
              "</g>\n",
              "</svg>"
            ],
            "text/plain": [
              "<IPython.core.display.SVG object>"
            ]
          },
          "metadata": {
            "tags": []
          },
          "output_type": "display_data"
        }
      ],
      "source": [
        "L.dibujar()"
      ]
    },
    {
      "cell_type": "code",
      "execution_count": null,
      "metadata": {
        "colab": {
          "base_uri": "https://localhost:8080/",
          "height": 105
        },
        "id": "Q4g43k5Db_52",
        "outputId": "7c695004-67a7-4e35-8f5d-0d50fb8114d2"
      },
      "outputs": [
        {
          "name": "stdout",
          "output_type": "stream",
          "text": [
            "42 65 88 13 44 \n"
          ]
        },
        {
          "data": {
            "image/svg+xml": [
              "<svg height=\"50pt\" viewBox=\"0.00 0.00 529.98 49.60\" width=\"530pt\" xmlns=\"http://www.w3.org/2000/svg\" xmlns:xlink=\"http://www.w3.org/1999/xlink\">\n",
              "<g class=\"graph\" id=\"graph0\" transform=\"scale(1 1) rotate(0) translate(4 45.5963)\">\n",
              "<title>Lista</title>\n",
              "<polygon fill=\"#ffffff\" points=\"-4,4 -4,-45.5963 525.9815,-45.5963 525.9815,4 -4,4\" stroke=\"transparent\"/>\n",
              "<!-- primero -->\n",
              "<g class=\"node\" id=\"node1\">\n",
              "<title>primero</title>\n",
              "<text fill=\"#000000\" font-family=\"Times,serif\" font-size=\"14.00\" text-anchor=\"middle\" x=\"31\" y=\"-17.0982\">primero</text>\n",
              "</g>\n",
              "<!-- 42 -->\n",
              "<g class=\"node\" id=\"node3\">\n",
              "<title>42</title>\n",
              "<ellipse cx=\"118.7982\" cy=\"-20.7982\" fill=\"none\" rx=\"20.5982\" ry=\"20.5982\" stroke=\"#000000\"/>\n",
              "<text fill=\"#000000\" font-family=\"Times,serif\" font-size=\"14.00\" text-anchor=\"middle\" x=\"118.7982\" y=\"-17.0982\">42</text>\n",
              "</g>\n",
              "<!-- primero&#45;&gt;42 -->\n",
              "<g class=\"edge\" id=\"edge1\">\n",
              "<title>primero-&gt;42</title>\n",
              "<path d=\"M62.2016,-20.7982C70.519,-20.7982 79.5018,-20.7982 87.8079,-20.7982\" fill=\"none\" stroke=\"#000000\"/>\n",
              "<polygon fill=\"#000000\" points=\"87.866,-24.2983 97.8659,-20.7982 87.8659,-17.2983 87.866,-24.2983\" stroke=\"#000000\"/>\n",
              "</g>\n",
              "<g class=\"node\" id=\"node2\">\n",
              "<title/>\n",
              "<polygon fill=\"none\" points=\"521.9815,-38.7982 485.9815,-38.7982 485.9815,-2.7982 521.9815,-2.7982 521.9815,-38.7982\" stroke=\"#000000\"/>\n",
              "</g>\n",
              "<!-- 65 -->\n",
              "<g class=\"node\" id=\"node4\">\n",
              "<title>65</title>\n",
              "<ellipse cx=\"196.3945\" cy=\"-20.7982\" fill=\"none\" rx=\"20.5982\" ry=\"20.5982\" stroke=\"#000000\"/>\n",
              "<text fill=\"#000000\" font-family=\"Times,serif\" font-size=\"14.00\" text-anchor=\"middle\" x=\"196.3945\" y=\"-17.0982\">65</text>\n",
              "</g>\n",
              "<!-- 42&#45;&gt;65 -->\n",
              "<g class=\"edge\" id=\"edge2\">\n",
              "<title>42-&gt;65</title>\n",
              "<path d=\"M140.0017,-20.7982C147.8495,-20.7982 156.9158,-20.7982 165.4525,-20.7982\" fill=\"none\" stroke=\"#000000\"/>\n",
              "<polygon fill=\"#000000\" points=\"165.4853,-24.2983 175.4852,-20.7982 165.4852,-17.2983 165.4853,-24.2983\" stroke=\"#000000\"/>\n",
              "</g>\n",
              "<!-- 88 -->\n",
              "<g class=\"node\" id=\"node5\">\n",
              "<title>88</title>\n",
              "<ellipse cx=\"273.9908\" cy=\"-20.7982\" fill=\"none\" rx=\"20.5982\" ry=\"20.5982\" stroke=\"#000000\"/>\n",
              "<text fill=\"#000000\" font-family=\"Times,serif\" font-size=\"14.00\" text-anchor=\"middle\" x=\"273.9908\" y=\"-17.0982\">88</text>\n",
              "</g>\n",
              "<!-- 65&#45;&gt;88 -->\n",
              "<g class=\"edge\" id=\"edge3\">\n",
              "<title>65-&gt;88</title>\n",
              "<path d=\"M217.598,-20.7982C225.4458,-20.7982 234.5121,-20.7982 243.0488,-20.7982\" fill=\"none\" stroke=\"#000000\"/>\n",
              "<polygon fill=\"#000000\" points=\"243.0816,-24.2983 253.0815,-20.7982 243.0815,-17.2983 243.0816,-24.2983\" stroke=\"#000000\"/>\n",
              "</g>\n",
              "<!-- 13 -->\n",
              "<g class=\"node\" id=\"node6\">\n",
              "<title>13</title>\n",
              "<ellipse cx=\"351.5871\" cy=\"-20.7982\" fill=\"none\" rx=\"20.5982\" ry=\"20.5982\" stroke=\"#000000\"/>\n",
              "<text fill=\"#000000\" font-family=\"Times,serif\" font-size=\"14.00\" text-anchor=\"middle\" x=\"351.5871\" y=\"-17.0982\">13</text>\n",
              "</g>\n",
              "<!-- 88&#45;&gt;13 -->\n",
              "<g class=\"edge\" id=\"edge4\">\n",
              "<title>88-&gt;13</title>\n",
              "<path d=\"M295.1943,-20.7982C303.0421,-20.7982 312.1084,-20.7982 320.6451,-20.7982\" fill=\"none\" stroke=\"#000000\"/>\n",
              "<polygon fill=\"#000000\" points=\"320.6779,-24.2983 330.6779,-20.7982 320.6778,-17.2983 320.6779,-24.2983\" stroke=\"#000000\"/>\n",
              "</g>\n",
              "<!-- 44 -->\n",
              "<g class=\"node\" id=\"node7\">\n",
              "<title>44</title>\n",
              "<ellipse cx=\"429.1834\" cy=\"-20.7982\" fill=\"none\" rx=\"20.5982\" ry=\"20.5982\" stroke=\"#000000\"/>\n",
              "<text fill=\"#000000\" font-family=\"Times,serif\" font-size=\"14.00\" text-anchor=\"middle\" x=\"429.1834\" y=\"-17.0982\">44</text>\n",
              "</g>\n",
              "<!-- 13&#45;&gt;44 -->\n",
              "<g class=\"edge\" id=\"edge5\">\n",
              "<title>13-&gt;44</title>\n",
              "<path d=\"M372.7906,-20.7982C380.6384,-20.7982 389.7047,-20.7982 398.2414,-20.7982\" fill=\"none\" stroke=\"#000000\"/>\n",
              "<polygon fill=\"#000000\" points=\"398.2742,-24.2983 408.2742,-20.7982 398.2741,-17.2983 398.2742,-24.2983\" stroke=\"#000000\"/>\n",
              "</g>\n",
              "<!-- 44&#45;&gt; -->\n",
              "<g class=\"edge\" id=\"edge6\">\n",
              "<title>44-&gt;</title>\n",
              "<path d=\"M450.0188,-20.7982C457.9213,-20.7982 467.0601,-20.7982 475.545,-20.7982\" fill=\"none\" stroke=\"#000000\"/>\n",
              "<polygon fill=\"#000000\" points=\"475.8004,-24.2983 485.8004,-20.7982 475.8004,-17.2983 475.8004,-24.2983\" stroke=\"#000000\"/>\n",
              "</g>\n",
              "</g>\n",
              "</svg>"
            ],
            "text/plain": [
              "<IPython.core.display.SVG object>"
            ]
          },
          "metadata": {
            "tags": []
          },
          "output_type": "display_data"
        }
      ],
      "source": [
        "L.insertar_despues_de(L.k_esimo(2),88)\n",
        "L.imprimir()\n",
        "L.dibujar()"
      ]
    },
    {
      "cell_type": "code",
      "execution_count": null,
      "metadata": {
        "colab": {
          "base_uri": "https://localhost:8080/",
          "height": 105
        },
        "id": "-2WtFLOOcABk",
        "outputId": "c3c95ac5-e737-4e00-b5e7-1fe43bba743f"
      },
      "outputs": [
        {
          "name": "stdout",
          "output_type": "stream",
          "text": [
            "65 88 13 44 \n"
          ]
        },
        {
          "data": {
            "image/svg+xml": [
              "<svg height=\"50pt\" viewBox=\"0.00 0.00 452.39 49.60\" width=\"452pt\" xmlns=\"http://www.w3.org/2000/svg\" xmlns:xlink=\"http://www.w3.org/1999/xlink\">\n",
              "<g class=\"graph\" id=\"graph0\" transform=\"scale(1 1) rotate(0) translate(4 45.5963)\">\n",
              "<title>Lista</title>\n",
              "<polygon fill=\"#ffffff\" points=\"-4,4 -4,-45.5963 448.3852,-45.5963 448.3852,4 -4,4\" stroke=\"transparent\"/>\n",
              "<!-- primero -->\n",
              "<g class=\"node\" id=\"node1\">\n",
              "<title>primero</title>\n",
              "<text fill=\"#000000\" font-family=\"Times,serif\" font-size=\"14.00\" text-anchor=\"middle\" x=\"31\" y=\"-17.0982\">primero</text>\n",
              "</g>\n",
              "<!-- 65 -->\n",
              "<g class=\"node\" id=\"node3\">\n",
              "<title>65</title>\n",
              "<ellipse cx=\"118.7982\" cy=\"-20.7982\" fill=\"none\" rx=\"20.5982\" ry=\"20.5982\" stroke=\"#000000\"/>\n",
              "<text fill=\"#000000\" font-family=\"Times,serif\" font-size=\"14.00\" text-anchor=\"middle\" x=\"118.7982\" y=\"-17.0982\">65</text>\n",
              "</g>\n",
              "<!-- primero&#45;&gt;65 -->\n",
              "<g class=\"edge\" id=\"edge1\">\n",
              "<title>primero-&gt;65</title>\n",
              "<path d=\"M62.2016,-20.7982C70.519,-20.7982 79.5018,-20.7982 87.8079,-20.7982\" fill=\"none\" stroke=\"#000000\"/>\n",
              "<polygon fill=\"#000000\" points=\"87.866,-24.2983 97.8659,-20.7982 87.8659,-17.2983 87.866,-24.2983\" stroke=\"#000000\"/>\n",
              "</g>\n",
              "<g class=\"node\" id=\"node2\">\n",
              "<title/>\n",
              "<polygon fill=\"none\" points=\"444.3852,-38.7982 408.3852,-38.7982 408.3852,-2.7982 444.3852,-2.7982 444.3852,-38.7982\" stroke=\"#000000\"/>\n",
              "</g>\n",
              "<!-- 88 -->\n",
              "<g class=\"node\" id=\"node4\">\n",
              "<title>88</title>\n",
              "<ellipse cx=\"196.3945\" cy=\"-20.7982\" fill=\"none\" rx=\"20.5982\" ry=\"20.5982\" stroke=\"#000000\"/>\n",
              "<text fill=\"#000000\" font-family=\"Times,serif\" font-size=\"14.00\" text-anchor=\"middle\" x=\"196.3945\" y=\"-17.0982\">88</text>\n",
              "</g>\n",
              "<!-- 65&#45;&gt;88 -->\n",
              "<g class=\"edge\" id=\"edge2\">\n",
              "<title>65-&gt;88</title>\n",
              "<path d=\"M140.0017,-20.7982C147.8495,-20.7982 156.9158,-20.7982 165.4525,-20.7982\" fill=\"none\" stroke=\"#000000\"/>\n",
              "<polygon fill=\"#000000\" points=\"165.4853,-24.2983 175.4852,-20.7982 165.4852,-17.2983 165.4853,-24.2983\" stroke=\"#000000\"/>\n",
              "</g>\n",
              "<!-- 13 -->\n",
              "<g class=\"node\" id=\"node5\">\n",
              "<title>13</title>\n",
              "<ellipse cx=\"273.9908\" cy=\"-20.7982\" fill=\"none\" rx=\"20.5982\" ry=\"20.5982\" stroke=\"#000000\"/>\n",
              "<text fill=\"#000000\" font-family=\"Times,serif\" font-size=\"14.00\" text-anchor=\"middle\" x=\"273.9908\" y=\"-17.0982\">13</text>\n",
              "</g>\n",
              "<!-- 88&#45;&gt;13 -->\n",
              "<g class=\"edge\" id=\"edge3\">\n",
              "<title>88-&gt;13</title>\n",
              "<path d=\"M217.598,-20.7982C225.4458,-20.7982 234.5121,-20.7982 243.0488,-20.7982\" fill=\"none\" stroke=\"#000000\"/>\n",
              "<polygon fill=\"#000000\" points=\"243.0816,-24.2983 253.0815,-20.7982 243.0815,-17.2983 243.0816,-24.2983\" stroke=\"#000000\"/>\n",
              "</g>\n",
              "<!-- 44 -->\n",
              "<g class=\"node\" id=\"node6\">\n",
              "<title>44</title>\n",
              "<ellipse cx=\"351.5871\" cy=\"-20.7982\" fill=\"none\" rx=\"20.5982\" ry=\"20.5982\" stroke=\"#000000\"/>\n",
              "<text fill=\"#000000\" font-family=\"Times,serif\" font-size=\"14.00\" text-anchor=\"middle\" x=\"351.5871\" y=\"-17.0982\">44</text>\n",
              "</g>\n",
              "<!-- 13&#45;&gt;44 -->\n",
              "<g class=\"edge\" id=\"edge4\">\n",
              "<title>13-&gt;44</title>\n",
              "<path d=\"M295.1943,-20.7982C303.0421,-20.7982 312.1084,-20.7982 320.6451,-20.7982\" fill=\"none\" stroke=\"#000000\"/>\n",
              "<polygon fill=\"#000000\" points=\"320.6779,-24.2983 330.6779,-20.7982 320.6778,-17.2983 320.6779,-24.2983\" stroke=\"#000000\"/>\n",
              "</g>\n",
              "<!-- 44&#45;&gt; -->\n",
              "<g class=\"edge\" id=\"edge5\">\n",
              "<title>44-&gt;</title>\n",
              "<path d=\"M372.4225,-20.7982C380.325,-20.7982 389.4638,-20.7982 397.9487,-20.7982\" fill=\"none\" stroke=\"#000000\"/>\n",
              "<polygon fill=\"#000000\" points=\"398.2041,-24.2983 408.2041,-20.7982 398.2041,-17.2983 398.2041,-24.2983\" stroke=\"#000000\"/>\n",
              "</g>\n",
              "</g>\n",
              "</svg>"
            ],
            "text/plain": [
              "<IPython.core.display.SVG object>"
            ]
          },
          "metadata": {
            "tags": []
          },
          "output_type": "display_data"
        }
      ],
      "source": [
        "L.eliminar_al_inicio()\n",
        "L.imprimir()\n",
        "L.dibujar()"
      ]
    },
    {
      "cell_type": "code",
      "execution_count": null,
      "metadata": {
        "colab": {
          "base_uri": "https://localhost:8080/",
          "height": 105
        },
        "id": "oK_MjRKUcABz",
        "outputId": "f91fa84d-42d6-4113-d389-64108d5e4409"
      },
      "outputs": [
        {
          "name": "stdout",
          "output_type": "stream",
          "text": [
            "65 13 44 \n"
          ]
        },
        {
          "data": {
            "image/svg+xml": [
              "<svg height=\"50pt\" viewBox=\"0.00 0.00 374.79 49.60\" width=\"375pt\" xmlns=\"http://www.w3.org/2000/svg\" xmlns:xlink=\"http://www.w3.org/1999/xlink\">\n",
              "<g class=\"graph\" id=\"graph0\" transform=\"scale(1 1) rotate(0) translate(4 45.5963)\">\n",
              "<title>Lista</title>\n",
              "<polygon fill=\"#ffffff\" points=\"-4,4 -4,-45.5963 370.7889,-45.5963 370.7889,4 -4,4\" stroke=\"transparent\"/>\n",
              "<!-- primero -->\n",
              "<g class=\"node\" id=\"node1\">\n",
              "<title>primero</title>\n",
              "<text fill=\"#000000\" font-family=\"Times,serif\" font-size=\"14.00\" text-anchor=\"middle\" x=\"31\" y=\"-17.0982\">primero</text>\n",
              "</g>\n",
              "<!-- 65 -->\n",
              "<g class=\"node\" id=\"node3\">\n",
              "<title>65</title>\n",
              "<ellipse cx=\"118.7982\" cy=\"-20.7982\" fill=\"none\" rx=\"20.5982\" ry=\"20.5982\" stroke=\"#000000\"/>\n",
              "<text fill=\"#000000\" font-family=\"Times,serif\" font-size=\"14.00\" text-anchor=\"middle\" x=\"118.7982\" y=\"-17.0982\">65</text>\n",
              "</g>\n",
              "<!-- primero&#45;&gt;65 -->\n",
              "<g class=\"edge\" id=\"edge1\">\n",
              "<title>primero-&gt;65</title>\n",
              "<path d=\"M62.2016,-20.7982C70.519,-20.7982 79.5018,-20.7982 87.8079,-20.7982\" fill=\"none\" stroke=\"#000000\"/>\n",
              "<polygon fill=\"#000000\" points=\"87.866,-24.2983 97.8659,-20.7982 87.8659,-17.2983 87.866,-24.2983\" stroke=\"#000000\"/>\n",
              "</g>\n",
              "<g class=\"node\" id=\"node2\">\n",
              "<title/>\n",
              "<polygon fill=\"none\" points=\"366.7889,-38.7982 330.7889,-38.7982 330.7889,-2.7982 366.7889,-2.7982 366.7889,-38.7982\" stroke=\"#000000\"/>\n",
              "</g>\n",
              "<!-- 13 -->\n",
              "<g class=\"node\" id=\"node4\">\n",
              "<title>13</title>\n",
              "<ellipse cx=\"196.3945\" cy=\"-20.7982\" fill=\"none\" rx=\"20.5982\" ry=\"20.5982\" stroke=\"#000000\"/>\n",
              "<text fill=\"#000000\" font-family=\"Times,serif\" font-size=\"14.00\" text-anchor=\"middle\" x=\"196.3945\" y=\"-17.0982\">13</text>\n",
              "</g>\n",
              "<!-- 65&#45;&gt;13 -->\n",
              "<g class=\"edge\" id=\"edge2\">\n",
              "<title>65-&gt;13</title>\n",
              "<path d=\"M140.0017,-20.7982C147.8495,-20.7982 156.9158,-20.7982 165.4525,-20.7982\" fill=\"none\" stroke=\"#000000\"/>\n",
              "<polygon fill=\"#000000\" points=\"165.4853,-24.2983 175.4852,-20.7982 165.4852,-17.2983 165.4853,-24.2983\" stroke=\"#000000\"/>\n",
              "</g>\n",
              "<!-- 44 -->\n",
              "<g class=\"node\" id=\"node5\">\n",
              "<title>44</title>\n",
              "<ellipse cx=\"273.9908\" cy=\"-20.7982\" fill=\"none\" rx=\"20.5982\" ry=\"20.5982\" stroke=\"#000000\"/>\n",
              "<text fill=\"#000000\" font-family=\"Times,serif\" font-size=\"14.00\" text-anchor=\"middle\" x=\"273.9908\" y=\"-17.0982\">44</text>\n",
              "</g>\n",
              "<!-- 13&#45;&gt;44 -->\n",
              "<g class=\"edge\" id=\"edge3\">\n",
              "<title>13-&gt;44</title>\n",
              "<path d=\"M217.598,-20.7982C225.4458,-20.7982 234.5121,-20.7982 243.0488,-20.7982\" fill=\"none\" stroke=\"#000000\"/>\n",
              "<polygon fill=\"#000000\" points=\"243.0816,-24.2983 253.0815,-20.7982 243.0815,-17.2983 243.0816,-24.2983\" stroke=\"#000000\"/>\n",
              "</g>\n",
              "<!-- 44&#45;&gt; -->\n",
              "<g class=\"edge\" id=\"edge4\">\n",
              "<title>44-&gt;</title>\n",
              "<path d=\"M294.8262,-20.7982C302.7286,-20.7982 311.8675,-20.7982 320.3524,-20.7982\" fill=\"none\" stroke=\"#000000\"/>\n",
              "<polygon fill=\"#000000\" points=\"320.6078,-24.2983 330.6078,-20.7982 320.6078,-17.2983 320.6078,-24.2983\" stroke=\"#000000\"/>\n",
              "</g>\n",
              "</g>\n",
              "</svg>"
            ],
            "text/plain": [
              "<IPython.core.display.SVG object>"
            ]
          },
          "metadata": {
            "tags": []
          },
          "output_type": "display_data"
        }
      ],
      "source": [
        "L.eliminar_sgte_de(L.k_esimo(1))\n",
        "L.imprimir()\n",
        "L.dibujar()"
      ]
    },
    {
      "attachments": {},
      "cell_type": "markdown",
      "metadata": {
        "id": "_xe32oascAB5"
      },
      "source": [
        "---"
      ]
    },
    {
      "attachments": {},
      "cell_type": "markdown",
      "metadata": {
        "id": "7CS96xN2cAJO"
      },
      "source": [
        "Hay algunas cosas que no resultan muy elegantes en el diseño de listas que estamos considerando hasta el momento.\n",
        "\n",
        "Una de ellas es que para eliminar un elemento, no se pueda indicar al elemento que se desea eliminar, sino que haya que indicar al previo. Esto es inevitable, dado el caracter unidireccional de los enlaces, y más adelante, cuando veamos _listas de doble enlace_ veremos que eso puede mejorarse.\n",
        "\n",
        "Otro punto molesto en la interfaz de uso es la necesidad de distinguir entre si se opera al comienzo de la lista, o en un punto interior. Esto es porque las operaciones afectan al elemento previo, y el primero de la lista, por definición, no tiene un elemento previo.\n",
        "\n",
        "Esto puede subsanarse, sin embargo, introduciendo un nodo \"cabecera\" (\"*header*\") al comienzo de la lista. Este nodo no contiene información útil y para todos los efectos es como si no existiera, excepto que sirve como el previo del primer nodo real de la lista. Para poder ubicarlo, lo identificaremos con el nodo \"0-ésimo\" de la lista.\n",
        "\n",
        "![lista-ejemplo-con-cabecera](https://github.com/ivansipiran/AED-Apuntes/blob/main/recursos/lista-ejemplo-con-cabecera.png?raw=1)\n",
        "\n",
        "A continuación reescribimos nuestra definición de la clase `Lista` y sus ejemplos de uso, bajo el supuesto de que existe un nodo cabecera."
      ]
    },
    {
      "cell_type": "code",
      "execution_count": null,
      "metadata": {
        "id": "9jq5nS9UcAJt"
      },
      "outputs": [],
      "source": [
        "class Lista_con_cabecera:\n",
        "    def __init__(self):\n",
        "        self.cabecera=Nodo(0,None)\n",
        "\n",
        "    def insertar_despues_de(self,p,info): # inserta después de nodo p\n",
        "        p.sgte=Nodo(info,p.sgte)\n",
        "\n",
        "    def eliminar_sgte_de(self,p): # elimina el nodo siguiente de p\n",
        "        assert p.sgte is not None\n",
        "        p.sgte=p.sgte.sgte\n",
        "\n",
        "    def k_esimo(self,k): # retorna k-esimo nodo, o None si fuera de rango\n",
        "        p=self.cabecera\n",
        "        j=0\n",
        "        while True:\n",
        "            if j==k:\n",
        "                return p\n",
        "            p=p.sgte\n",
        "            if p is None:\n",
        "                return None\n",
        "            j+=1\n",
        "\n",
        "    def imprimir(self):\n",
        "        p=self.cabecera.sgte\n",
        "        while p is not None:\n",
        "            print(p.info,end=\" \")\n",
        "            p=p.sgte\n",
        "        print()"
      ]
    },
    {
      "cell_type": "code",
      "execution_count": null,
      "metadata": {
        "colab": {
          "base_uri": "https://localhost:8080/",
          "height": 35
        },
        "id": "d07676uucAK5",
        "outputId": "2693df50-7db9-431d-ca62-c3fe607f0f27"
      },
      "outputs": [
        {
          "name": "stdout",
          "output_type": "stream",
          "text": [
            "42 65 13 44 \n"
          ]
        }
      ],
      "source": [
        "L=Lista_con_cabecera()\n",
        "L.insertar_despues_de(L.k_esimo(0),42)\n",
        "L.insertar_despues_de(L.k_esimo(1),65)\n",
        "L.insertar_despues_de(L.k_esimo(2),13)\n",
        "L.insertar_despues_de(L.k_esimo(3),44)\n",
        "L.imprimir()"
      ]
    },
    {
      "cell_type": "code",
      "execution_count": null,
      "metadata": {
        "colab": {
          "base_uri": "https://localhost:8080/",
          "height": 35
        },
        "id": "YcgO7SD-cAK8",
        "outputId": "5d2c634f-9ba3-4462-c8ab-e717b61d6b4f"
      },
      "outputs": [
        {
          "name": "stdout",
          "output_type": "stream",
          "text": [
            "65 13 44 \n"
          ]
        }
      ],
      "source": [
        "L.eliminar_sgte_de(L.k_esimo(0)) # eliminar el primero\n",
        "L.imprimir()"
      ]
    },
    {
      "cell_type": "code",
      "execution_count": null,
      "metadata": {
        "id": "QxiTsFjucALC",
        "outputId": "d64b3e38-ca08-4bc6-833c-cb0e68b19268"
      },
      "outputs": [
        {
          "name": "stdout",
          "output_type": "stream",
          "text": [
            "None\n"
          ]
        }
      ],
      "source": [
        "print(L.k_esimo(7))"
      ]
    },
    {
      "cell_type": "code",
      "execution_count": null,
      "metadata": {
        "id": "oF-LiqtbcALN",
        "outputId": "d73b5b2f-ce60-4101-f4ac-c34c5a2db6d2"
      },
      "outputs": [
        {
          "name": "stdout",
          "output_type": "stream",
          "text": [
            "65 44 \n"
          ]
        }
      ],
      "source": [
        "L.eliminar_sgte_de(L.k_esimo(1)) # eliminar un elemento en el medio\n",
        "L.imprimir()"
      ]
    },
    {
      "attachments": {},
      "cell_type": "markdown",
      "metadata": {
        "id": "15NMezn3cALU"
      },
      "source": [
        "### Recorriendo la lista con un iterador\n",
        "\n",
        "A continuación veremos cómo, en lugar de imprimir la lista, podemos implementar un iterador que vaya entregando los elementos de la lista cada vez que es llamado:"
      ]
    },
    {
      "cell_type": "code",
      "execution_count": null,
      "metadata": {
        "id": "bwuxzbmhcALV"
      },
      "outputs": [],
      "source": [
        "class Lista_con_cabecera:\n",
        "    def __init__(self):\n",
        "        self.cabecera=Nodo(0,None)\n",
        "\n",
        "    def insertar_despues_de(self,p,info): # inserta después de nodo p\n",
        "        p.sgte=Nodo(info,p.sgte)\n",
        "\n",
        "    def eliminar_sgte_de(self,p): # elimina el nodo siguiente de p\n",
        "        assert p.sgte is not None\n",
        "        p.sgte=p.sgte.sgte\n",
        "\n",
        "    def k_esimo(self,k): # retorna k-esimo nodo, o None si fuera de rango\n",
        "        p=self.cabecera\n",
        "        j=0\n",
        "        while p is not None:\n",
        "            if j==k:\n",
        "                return p\n",
        "            p=p.sgte\n",
        "            j+=1\n",
        "        return None\n",
        "\n",
        "    def valores(self):\n",
        "        p=self.cabecera.sgte\n",
        "        while p is not None:\n",
        "            yield p.info\n",
        "            p=p.sgte"
      ]
    },
    {
      "cell_type": "code",
      "execution_count": null,
      "metadata": {
        "id": "NvCDkQR7cALY"
      },
      "outputs": [],
      "source": [
        "L=Lista_con_cabecera()\n",
        "L.insertar_despues_de(L.k_esimo(0),42)\n",
        "L.insertar_despues_de(L.k_esimo(1),65)\n",
        "L.insertar_despues_de(L.k_esimo(2),13)\n",
        "L.insertar_despues_de(L.k_esimo(3),44)"
      ]
    },
    {
      "cell_type": "code",
      "execution_count": null,
      "metadata": {
        "colab": {
          "base_uri": "https://localhost:8080/",
          "height": 35
        },
        "id": "8DFkllz3cALa",
        "outputId": "9041a9b5-71a5-4cd4-81cc-8c2275c5d962"
      },
      "outputs": [
        {
          "name": "stdout",
          "output_type": "stream",
          "text": [
            "42 65 13 44 \n"
          ]
        }
      ],
      "source": [
        "for x in L.valores():\n",
        "    print(x, end=\" \")\n",
        "print()"
      ]
    },
    {
      "cell_type": "code",
      "execution_count": null,
      "metadata": {
        "colab": {
          "base_uri": "https://localhost:8080/",
          "height": 35
        },
        "id": "SBTOUgN0cAOw",
        "outputId": "05e15b68-c978-417b-9e7e-5578aa71b170"
      },
      "outputs": [
        {
          "name": "stdout",
          "output_type": "stream",
          "text": [
            "[42, 65, 13, 44]\n"
          ]
        }
      ],
      "source": [
        "print([x for x in L.valores()])"
      ]
    },
    {
      "attachments": {},
      "cell_type": "markdown",
      "metadata": {
        "id": "xAQlV4xHcAO7"
      },
      "source": [
        "## Listas de doble enlace\n",
        "\n",
        "Las listas de enlace simple permiten solo procesos unidireccionales, por lo que no son muy apropiadas cuando los procesos necesitan poder recorrerlas en ambas dicecciones.\n",
        "\n",
        "Podemos mejorar esto si agregamos a los nodos una referencia al nodo *previo*, además del nodo siguiente:\n",
        "\n",
        "![Nodo-doble](https://github.com/ivansipiran/AED-Apuntes/blob/main/recursos/Nodo-doble.png?raw=1)\n",
        "\n"
      ]
    },
    {
      "cell_type": "code",
      "execution_count": null,
      "metadata": {
        "id": "HpPYCevFcAQc"
      },
      "outputs": [],
      "source": [
        "class Nodo:\n",
        "    def __init__(self, prev, info, sgte):\n",
        "        self.prev=prev\n",
        "        self.info=info\n",
        "        self.sgte=sgte"
      ]
    },
    {
      "attachments": {},
      "cell_type": "markdown",
      "metadata": {
        "id": "a7iWALmLcAQj"
      },
      "source": [
        "Con este tipo de nodos podemos formar una lista que puede ser recorrida en ambas direcciones.\n",
        "Por consideraciones similares a las anteriores, resulta conveniente agregar un nodo cabecera en cada extremo, pero en realidad un mismo nodo puede jugar ambos roles, con lo cual la lista adopta un aspecto físicamente circular, aunque desde un punto de vista conceptual no lo sea:\n",
        "\n",
        "![lista-ejemplo-doble-enlace](https://github.com/ivansipiran/AED-Apuntes/blob/main/recursos/lista-ejemplo-doble-enlace.png?raw=1)\n",
        "\n",
        "La siguiente es una definición de lista de doble enlace, con alguna de la funcionalidad que ella permite:"
      ]
    },
    {
      "cell_type": "code",
      "execution_count": null,
      "metadata": {
        "id": "Ip_BRaAOcAQk"
      },
      "outputs": [],
      "source": [
        "import aed_utilities as aed\n",
        "\n",
        "class Lista_doble_enlace:\n",
        "    def __init__(self):\n",
        "        self.cabecera=Nodo(None,0,None)\n",
        "        self.cabecera.prev=self.cabecera\n",
        "        self.cabecera.sgte=self.cabecera\n",
        "\n",
        "    def insertar_despues_de(self,p,info): # inserta después de nodo p\n",
        "        r=p.sgte\n",
        "        p.sgte=r.prev=Nodo(p,info,r)\n",
        "\n",
        "    def eliminar(self,p): # elimina el nodo p\n",
        "        assert p is not self.cabecera\n",
        "        (p.prev.sgte,p.sgte.prev)=(p.sgte,p.prev)\n",
        "\n",
        "    def k_esimo(self,k): # retorna k-esimo nodo, o None si fuera de rango\n",
        "        p=self.cabecera\n",
        "        j=0\n",
        "        while True:\n",
        "            if j==k:\n",
        "                return p\n",
        "            p=p.sgte\n",
        "            if p is self.cabecera:\n",
        "                return None\n",
        "            j+=1\n",
        "\n",
        "    def ascendente(self):\n",
        "        p=self.cabecera.sgte\n",
        "        while p is not self.cabecera:\n",
        "            yield p.info\n",
        "            p=p.sgte\n",
        "\n",
        "    def descendente(self):\n",
        "        p=self.cabecera.prev\n",
        "        while p is not self.cabecera:\n",
        "            yield p.info\n",
        "            p=p.prev\n",
        "\n",
        "    #Para dibujar una lista doblemente enlazada, es necesario además definir el nombre del campo del puntero hacia atrás.\n",
        "    # El parámetro para definir ese campo es \"fieldReverseLink\". Por default, este campo es None.\n",
        "    def dibujar(self):\n",
        "      lld=aed.LinkedListDrawer(fieldHeader=\"cabecera\", fieldData=\"info\", fieldLink=\"sgte\", fieldReverseLink=\"prev\")\n",
        "      lld.draw_double_linked_list(self)"
      ]
    },
    {
      "cell_type": "code",
      "execution_count": null,
      "metadata": {
        "colab": {
          "base_uri": "https://localhost:8080/",
          "height": 114
        },
        "id": "0frGgSjjcAQp",
        "outputId": "62e7b61b-39af-41ad-a297-49c3cc73eb4b"
      },
      "outputs": [
        {
          "name": "stdout",
          "output_type": "stream",
          "text": [
            "[42, 65, 13, 44]\n",
            "[44, 13, 65, 42]\n"
          ]
        },
        {
          "data": {
            "image/svg+xml": [
              "<svg height=\"44pt\" viewBox=\"0.00 0.00 332.00 44.00\" width=\"332pt\" xmlns=\"http://www.w3.org/2000/svg\" xmlns:xlink=\"http://www.w3.org/1999/xlink\">\n",
              "<g class=\"graph\" id=\"graph0\" transform=\"scale(1 1) rotate(0) translate(4 40)\">\n",
              "<title>Lista</title>\n",
              "<polygon fill=\"#ffffff\" points=\"-4,4 -4,-40 328,-40 328,4 -4,4\" stroke=\"transparent\"/>\n",
              "<!-- 42 -->\n",
              "<g class=\"node\" id=\"node1\">\n",
              "<title>42</title>\n",
              "<ellipse cx=\"27\" cy=\"-18\" fill=\"none\" rx=\"27\" ry=\"18\" stroke=\"#000000\"/>\n",
              "<text fill=\"#000000\" font-family=\"Times,serif\" font-size=\"14.00\" text-anchor=\"middle\" x=\"27\" y=\"-14.3\">42</text>\n",
              "</g>\n",
              "<!-- 65 -->\n",
              "<g class=\"node\" id=\"node2\">\n",
              "<title>65</title>\n",
              "<ellipse cx=\"117\" cy=\"-18\" fill=\"none\" rx=\"27\" ry=\"18\" stroke=\"#000000\"/>\n",
              "<text fill=\"#000000\" font-family=\"Times,serif\" font-size=\"14.00\" text-anchor=\"middle\" x=\"117\" y=\"-14.3\">65</text>\n",
              "</g>\n",
              "<!-- 42&#45;&gt;65 -->\n",
              "<g class=\"edge\" id=\"edge1\">\n",
              "<title>42-&gt;65</title>\n",
              "<path d=\"M52.5497,-11.8449C61.4801,-11.2634 71.6762,-11.1082 81.2822,-11.3793\" fill=\"none\" stroke=\"#000000\"/>\n",
              "<polygon fill=\"#000000\" points=\"81.2372,-14.8808 91.3865,-11.8408 81.5566,-7.8881 81.2372,-14.8808\" stroke=\"#000000\"/>\n",
              "</g>\n",
              "<!-- 65&#45;&gt;42 -->\n",
              "<g class=\"edge\" id=\"edge6\">\n",
              "<title>65-&gt;42</title>\n",
              "<path d=\"M91.3865,-24.1592C82.45,-24.7387 72.2523,-24.8919 62.6491,-24.6188\" fill=\"none\" stroke=\"#000000\"/>\n",
              "<polygon fill=\"#000000\" points=\"62.6997,-21.1175 52.5497,-24.1551 62.3786,-28.1101 62.6997,-21.1175\" stroke=\"#000000\"/>\n",
              "</g>\n",
              "<!-- 13 -->\n",
              "<g class=\"node\" id=\"node3\">\n",
              "<title>13</title>\n",
              "<ellipse cx=\"207\" cy=\"-18\" fill=\"none\" rx=\"27\" ry=\"18\" stroke=\"#000000\"/>\n",
              "<text fill=\"#000000\" font-family=\"Times,serif\" font-size=\"14.00\" text-anchor=\"middle\" x=\"207\" y=\"-14.3\">13</text>\n",
              "</g>\n",
              "<!-- 65&#45;&gt;13 -->\n",
              "<g class=\"edge\" id=\"edge2\">\n",
              "<title>65-&gt;13</title>\n",
              "<path d=\"M142.5497,-11.8449C151.4801,-11.2634 161.6762,-11.1082 171.2822,-11.3793\" fill=\"none\" stroke=\"#000000\"/>\n",
              "<polygon fill=\"#000000\" points=\"171.2372,-14.8808 181.3865,-11.8408 171.5566,-7.8881 171.2372,-14.8808\" stroke=\"#000000\"/>\n",
              "</g>\n",
              "<!-- 13&#45;&gt;65 -->\n",
              "<g class=\"edge\" id=\"edge5\">\n",
              "<title>13-&gt;65</title>\n",
              "<path d=\"M181.3865,-24.1592C172.45,-24.7387 162.2523,-24.8919 152.6491,-24.6188\" fill=\"none\" stroke=\"#000000\"/>\n",
              "<polygon fill=\"#000000\" points=\"152.6997,-21.1175 142.5497,-24.1551 152.3786,-28.1101 152.6997,-21.1175\" stroke=\"#000000\"/>\n",
              "</g>\n",
              "<!-- 44 -->\n",
              "<g class=\"node\" id=\"node4\">\n",
              "<title>44</title>\n",
              "<ellipse cx=\"297\" cy=\"-18\" fill=\"none\" rx=\"27\" ry=\"18\" stroke=\"#000000\"/>\n",
              "<text fill=\"#000000\" font-family=\"Times,serif\" font-size=\"14.00\" text-anchor=\"middle\" x=\"297\" y=\"-14.3\">44</text>\n",
              "</g>\n",
              "<!-- 13&#45;&gt;44 -->\n",
              "<g class=\"edge\" id=\"edge3\">\n",
              "<title>13-&gt;44</title>\n",
              "<path d=\"M232.5497,-11.8449C241.4801,-11.2634 251.6762,-11.1082 261.2822,-11.3793\" fill=\"none\" stroke=\"#000000\"/>\n",
              "<polygon fill=\"#000000\" points=\"261.2372,-14.8808 271.3865,-11.8408 261.5566,-7.8881 261.2372,-14.8808\" stroke=\"#000000\"/>\n",
              "</g>\n",
              "<!-- 44&#45;&gt;13 -->\n",
              "<g class=\"edge\" id=\"edge4\">\n",
              "<title>44-&gt;13</title>\n",
              "<path d=\"M271.3865,-24.1592C262.45,-24.7387 252.2523,-24.8919 242.6491,-24.6188\" fill=\"none\" stroke=\"#000000\"/>\n",
              "<polygon fill=\"#000000\" points=\"242.6997,-21.1175 232.5497,-24.1551 242.3786,-28.1101 242.6997,-21.1175\" stroke=\"#000000\"/>\n",
              "</g>\n",
              "</g>\n",
              "</svg>"
            ],
            "text/plain": [
              "<IPython.core.display.SVG object>"
            ]
          },
          "metadata": {
            "tags": []
          },
          "output_type": "display_data"
        }
      ],
      "source": [
        "L=Lista_doble_enlace()\n",
        "L.insertar_despues_de(L.k_esimo(0),42)\n",
        "L.insertar_despues_de(L.k_esimo(1),65)\n",
        "L.insertar_despues_de(L.k_esimo(2),13)\n",
        "L.insertar_despues_de(L.k_esimo(3),44)\n",
        "print([x for x in L.ascendente()])\n",
        "print([x for x in L.descendente()])\n",
        "\n",
        "L.dibujar()"
      ]
    },
    {
      "cell_type": "code",
      "execution_count": null,
      "metadata": {
        "colab": {
          "base_uri": "https://localhost:8080/",
          "height": 97
        },
        "id": "97UhmCr9cAQv",
        "outputId": "9b56a8c9-4fb9-425a-d5ad-bf7fd8390806"
      },
      "outputs": [
        {
          "name": "stdout",
          "output_type": "stream",
          "text": [
            "[42, 65, 44]\n"
          ]
        },
        {
          "data": {
            "image/svg+xml": [
              "<svg height=\"44pt\" viewBox=\"0.00 0.00 242.00 44.00\" width=\"242pt\" xmlns=\"http://www.w3.org/2000/svg\" xmlns:xlink=\"http://www.w3.org/1999/xlink\">\n",
              "<g class=\"graph\" id=\"graph0\" transform=\"scale(1 1) rotate(0) translate(4 40)\">\n",
              "<title>Lista</title>\n",
              "<polygon fill=\"#ffffff\" points=\"-4,4 -4,-40 238,-40 238,4 -4,4\" stroke=\"transparent\"/>\n",
              "<!-- 42 -->\n",
              "<g class=\"node\" id=\"node1\">\n",
              "<title>42</title>\n",
              "<ellipse cx=\"27\" cy=\"-18\" fill=\"none\" rx=\"27\" ry=\"18\" stroke=\"#000000\"/>\n",
              "<text fill=\"#000000\" font-family=\"Times,serif\" font-size=\"14.00\" text-anchor=\"middle\" x=\"27\" y=\"-14.3\">42</text>\n",
              "</g>\n",
              "<!-- 65 -->\n",
              "<g class=\"node\" id=\"node2\">\n",
              "<title>65</title>\n",
              "<ellipse cx=\"117\" cy=\"-18\" fill=\"none\" rx=\"27\" ry=\"18\" stroke=\"#000000\"/>\n",
              "<text fill=\"#000000\" font-family=\"Times,serif\" font-size=\"14.00\" text-anchor=\"middle\" x=\"117\" y=\"-14.3\">65</text>\n",
              "</g>\n",
              "<!-- 42&#45;&gt;65 -->\n",
              "<g class=\"edge\" id=\"edge1\">\n",
              "<title>42-&gt;65</title>\n",
              "<path d=\"M52.5497,-11.8449C61.4801,-11.2634 71.6762,-11.1082 81.2822,-11.3793\" fill=\"none\" stroke=\"#000000\"/>\n",
              "<polygon fill=\"#000000\" points=\"81.2372,-14.8808 91.3865,-11.8408 81.5566,-7.8881 81.2372,-14.8808\" stroke=\"#000000\"/>\n",
              "</g>\n",
              "<!-- 65&#45;&gt;42 -->\n",
              "<g class=\"edge\" id=\"edge4\">\n",
              "<title>65-&gt;42</title>\n",
              "<path d=\"M91.3865,-24.1592C82.45,-24.7387 72.2523,-24.8919 62.6491,-24.6188\" fill=\"none\" stroke=\"#000000\"/>\n",
              "<polygon fill=\"#000000\" points=\"62.6997,-21.1175 52.5497,-24.1551 62.3786,-28.1101 62.6997,-21.1175\" stroke=\"#000000\"/>\n",
              "</g>\n",
              "<!-- 44 -->\n",
              "<g class=\"node\" id=\"node3\">\n",
              "<title>44</title>\n",
              "<ellipse cx=\"207\" cy=\"-18\" fill=\"none\" rx=\"27\" ry=\"18\" stroke=\"#000000\"/>\n",
              "<text fill=\"#000000\" font-family=\"Times,serif\" font-size=\"14.00\" text-anchor=\"middle\" x=\"207\" y=\"-14.3\">44</text>\n",
              "</g>\n",
              "<!-- 65&#45;&gt;44 -->\n",
              "<g class=\"edge\" id=\"edge2\">\n",
              "<title>65-&gt;44</title>\n",
              "<path d=\"M142.5497,-11.8449C151.4801,-11.2634 161.6762,-11.1082 171.2822,-11.3793\" fill=\"none\" stroke=\"#000000\"/>\n",
              "<polygon fill=\"#000000\" points=\"171.2372,-14.8808 181.3865,-11.8408 171.5566,-7.8881 171.2372,-14.8808\" stroke=\"#000000\"/>\n",
              "</g>\n",
              "<!-- 44&#45;&gt;65 -->\n",
              "<g class=\"edge\" id=\"edge3\">\n",
              "<title>44-&gt;65</title>\n",
              "<path d=\"M181.3865,-24.1592C172.45,-24.7387 162.2523,-24.8919 152.6491,-24.6188\" fill=\"none\" stroke=\"#000000\"/>\n",
              "<polygon fill=\"#000000\" points=\"152.6997,-21.1175 142.5497,-24.1551 152.3786,-28.1101 152.6997,-21.1175\" stroke=\"#000000\"/>\n",
              "</g>\n",
              "</g>\n",
              "</svg>"
            ],
            "text/plain": [
              "<IPython.core.display.SVG object>"
            ]
          },
          "metadata": {
            "tags": []
          },
          "output_type": "display_data"
        }
      ],
      "source": [
        "L.eliminar(L.k_esimo(3))\n",
        "print([x for x in L.ascendente()])\n",
        "\n",
        "L.dibujar()"
      ]
    },
    {
      "attachments": {},
      "cell_type": "markdown",
      "metadata": {
        "id": "DOg6llSdcAQ7"
      },
      "source": [
        "---"
      ]
    },
    {
      "attachments": {},
      "cell_type": "markdown",
      "metadata": {
        "id": "_J9bS7IocAR1"
      },
      "source": [
        "## Árboles Binarios\n",
        "\n",
        "Al usar nodos que hacen referencia a otros nodos, no es de ninguna manera obligatorio limitarse a estructuras lineales como las que hemos visto en las secciones anteriores: podemos construir estructuras enlazadas tan complejas como queramos.\n",
        "\n",
        "Un tipo de estructura muy utilizada son los *árboles binarios*, en que cada nodo puede tener \"hijos\" tanto a su izquierda como a si derecha, y eso mismo se reproduce para los hijos, recursivamente.\n",
        "\n",
        "Los nodos tienen un formato similar al de los nodos de doble enlace, pero las referencias se llaman `izq` (izquierda) y `der` (derecha).\n",
        "\n",
        "![Nodo-arbol-binario](https://github.com/ivansipiran/AED-Apuntes/blob/main/recursos/Nodo-arbol-binario.png?raw=1)\n",
        "\n",
        "Al dibujarlo con nodos circulares, normalmente las líneas no llevan flecha, porque se entiende que apuntan hacia abajo:\n",
        "\n",
        "![Nodo-arbol-binario-circular](https://github.com/ivansipiran/AED-Apuntes/blob/main/recursos/Nodo-arbol-binario-circular.png?raw=1)"
      ]
    },
    {
      "cell_type": "code",
      "execution_count": 2,
      "metadata": {
        "id": "9idcMoGKcAR2"
      },
      "outputs": [],
      "source": [
        "class Nodo:\n",
        "    def __init__(self, izq, info, der):\n",
        "        self.izq=izq\n",
        "        self.info=info\n",
        "        self.der=der"
      ]
    },
    {
      "attachments": {},
      "cell_type": "markdown",
      "metadata": {
        "id": "Fc-UAZ59cAR_"
      },
      "source": [
        "La siguiente figura muestra un ejemplo de un árbol binario:\n",
        "\n",
        "![ejemplo-ABB](https://github.com/ivansipiran/AED-Apuntes/blob/main/recursos/ejemplo-ABB.png?raw=1)\n",
        "\n",
        "Este es un tipo especial de árbol binario, llamado *árbol de búsqueda binaria* (*ABB*), que se caracteriza porque para cada nodo, sus hijos descendientes hacia la izquierda son menores que él, y los de la derecha son mayores. Más adelante estudiaremos en profundidad los ABB.\n",
        "\n",
        "La terminología asociada a los árboles combina lo forestal con lo genealógico. El nodo de nivel superior se llama la *raíz* y los nodos que están en los niveles inferiores (los nodos cuadrados en la figura) se llaman *hojas*. Como vemos, al revés que en la naturaleza, estos árboles crecen hacia abajo.\n",
        "\n",
        "Un nodo apunta hacia abajo a sus hijos (izquierdo y derecho), y se dice que es el *padre* de ellos. Yendo desde un nodo hacia abajo se encuentran sus *descendientes*, y hacia arriba se encuentran sus *ancestros*.\n",
        "\n",
        "Si el nodo $b$ es descendiente del nodo $a$, se dice que la distancia entre $a$ y $b$ es el número de pasos que hay que dar para ir de $a$ a $b$. La máxima distancia entre la raíz y una hoja se llama la *altura* del árbol. En el ejemplo, la altura es $5$, que se alcanza yendo desde la raíz hasta cualquiera de las hojas hijas de $65$ o de $81$.\n",
        "\n",
        "Al dibujar un árbol con nodos circulares y nodos cuadrados, los circulares se llaman *nodos internos* y los cuadrados, *nodos externos*. Los nodos internos siempre tienen dos hijos (internos y/o externos) y los nodos externos no tienen hijos.\n",
        "\n",
        "La altura máxima de un árbol binario con $n$ nodos internos es $n$, y la altura mínima es $\\lceil \\log_2{(n+1)} \\rceil$. Esto último es una consecuencia de que un árbol binario de altura $h$ puede tener a lo más $2^h$ nodos externos.\n",
        "\n",
        "A continuación definiremos una clase árbol, con un constructor que define un puntero al nodo raíz. Para poder hacer ejemplos de uso, admitiremos que el constructor reciba un puntero a la raíz de un árbol ya construido."
      ]
    },
    {
      "cell_type": "code",
      "execution_count": null,
      "metadata": {
        "id": "UT_wwk8PcASC"
      },
      "outputs": [],
      "source": [
        "class Arbol:\n",
        "    def __init__(self,raiz=None):\n",
        "        self.raiz=raiz"
      ]
    },
    {
      "attachments": {},
      "cell_type": "markdown",
      "metadata": {
        "id": "hwGFfeK8aMda"
      },
      "source": [
        "# Recursividad\n",
        "\n",
        "_Para entender recursividad hay que entender recursividad_\n",
        "\n",
        "Una función se dice **recursiva**, si en su definición de llama a sí misma.\n",
        "\n",
        "Una **función recursiva** consta de un caso base y de un caso recursivo."
      ]
    },
    {
      "cell_type": "code",
      "execution_count": null,
      "metadata": {
        "id": "eGY07DIWaUfe"
      },
      "outputs": [],
      "source": [
        "# Ej: fib(n): int -> int\n",
        "# calcula el n-ésimo término de la sucesión de Fibonacci\n",
        "# Ej: fib(4) retorna 3 y fib(6) retorna 8\n",
        "\n",
        "def fib(n):\n",
        "  # CASO BASE:\n",
        "  if n<=2:\n",
        "    return 1\n",
        "\n",
        "  # CASO RECURSIVO\n",
        "  else:\n",
        "    return fib(n-1)+fib(n-2)\n",
        "\n",
        "assert fib(4) == 3\n",
        "assert fib(6) == 8\n"
      ]
    },
    {
      "attachments": {},
      "cell_type": "markdown",
      "metadata": {
        "id": "BesPe4oVcJIQ"
      },
      "source": [
        "**IMPORTANTE**: El caso recursivo **debe** converger al caso base."
      ]
    },
    {
      "cell_type": "code",
      "execution_count": null,
      "metadata": {
        "id": "f8rhBNYrcU4q"
      },
      "outputs": [],
      "source": [
        "# Ej: pot(x,n): int int -> int\n",
        "# Calcula x elevado a n.\n",
        "# Ej: pot(2,10) entrega 1024; pot(2,3) entrega 8.\n",
        "\n",
        "def pot(x,n):\n",
        "  # CASO BASE:\n",
        "  if n == 0:\n",
        "    return 1\n",
        "\n",
        "  # CASO RECURSIVO:\n",
        "  return x*pot(x,n-1)\n",
        "\n",
        "assert pot(2,10) == 1024\n",
        "assert pot(2,3) == 8"
      ]
    },
    {
      "cell_type": "code",
      "execution_count": null,
      "metadata": {
        "id": "bxyaLPPimjJB",
        "outputId": "bdf834b0-2097-4def-e602-2d6750a14931"
      },
      "outputs": [
        {
          "name": "stdout",
          "output_type": "stream",
          "text": [
            "402387260077093773543702433923003985719374864210714632543799910429938512398629020592044208486969404800479988610197196058631666872994808558901323829669944590997424504087073759918823627727188732519779505950995276120874975462497043601418278094646496291056393887437886487337119181045825783647849977012476632889835955735432513185323958463075557409114262417474349347553428646576611667797396668820291207379143853719588249808126867838374559731746136085379534524221586593201928090878297308431392844403281231558611036976801357304216168747609675871348312025478589320767169132448426236131412508780208000261683151027341827977704784635868170164365024153691398281264810213092761244896359928705114964975419909342221566832572080821333186116811553615836546984046708975602900950537616475847728421889679646244945160765353408198901385442487984959953319101723355556602139450399736280750137837615307127761926849034352625200015888535147331611702103968175921510907788019393178114194545257223865541461062892187960223838971476088506276862967146674697562911234082439208160153780889893964518263243671616762179168909779911903754031274622289988005195444414282012187361745992642956581746628302955570299024324153181617210465832036786906117260158783520751516284225540265170483304226143974286933061690897968482590125458327168226458066526769958652682272807075781391858178889652208164348344825993266043367660176999612831860788386150279465955131156552036093988180612138558600301435694527224206344631797460594682573103790084024432438465657245014402821885252470935190620929023136493273497565513958720559654228749774011413346962715422845862377387538230483865688976461927383814900140767310446640259899490222221765904339901886018566526485061799702356193897017860040811889729918311021171229845901641921068884387121855646124960798722908519296819372388642614839657382291123125024186649353143970137428531926649875337218940694281434118520158014123344828015051399694290153483077644569099073152433278288269864602789864321139083506217095002597389863554277196742822248757586765752344220207573630569498825087968928162753848863396909959826280956121450994871701244516461260379029309120889086942028510640182154399457156805941872748998094254742173582401063677404595741785160829230135358081840096996372524230560855903700624271243416909004153690105933983835777939410970027753472000000000000000000000000000000000000000000000000000000000000000000000000000000000000000000000000000000000000000000000000000000000000000000000000000000000000000000000000000000000000000000000000000000000000000000000000000000000000000000000000000000000\n"
          ]
        },
        {
          "ename": "RecursionError",
          "evalue": "maximum recursion depth exceeded in comparison",
          "output_type": "error",
          "traceback": [
            "\u001b[0;31m---------------------------------------------------------------------------\u001b[0m",
            "\u001b[0;31mRecursionError\u001b[0m                            Traceback (most recent call last)",
            "\u001b[1;32m/Users/felipe/Downloads/04_Estructuras_de_Datos_Elementales.ipynb Celda 57\u001b[0m in \u001b[0;36m<cell line: 18>\u001b[0;34m()\u001b[0m\n\u001b[1;32m     <a href='vscode-notebook-cell:/Users/felipe/Downloads/04_Estructuras_de_Datos_Elementales.ipynb#Y202sZmlsZQ%3D%3D?line=15'>16</a>\u001b[0m \u001b[39massert\u001b[39;00m fact(\u001b[39m10\u001b[39m) \u001b[39m==\u001b[39m \u001b[39m3628800\u001b[39m\n\u001b[1;32m     <a href='vscode-notebook-cell:/Users/felipe/Downloads/04_Estructuras_de_Datos_Elementales.ipynb#Y202sZmlsZQ%3D%3D?line=16'>17</a>\u001b[0m \u001b[39mprint\u001b[39m(fact(\u001b[39m1000\u001b[39m))\n\u001b[0;32m---> <a href='vscode-notebook-cell:/Users/felipe/Downloads/04_Estructuras_de_Datos_Elementales.ipynb#Y202sZmlsZQ%3D%3D?line=17'>18</a>\u001b[0m \u001b[39mprint\u001b[39m(fact(\u001b[39m1000000000000000000\u001b[39;49m))\n",
            "\u001b[1;32m/Users/felipe/Downloads/04_Estructuras_de_Datos_Elementales.ipynb Celda 57\u001b[0m in \u001b[0;36mfact\u001b[0;34m(x)\u001b[0m\n\u001b[1;32m      <a href='vscode-notebook-cell:/Users/felipe/Downloads/04_Estructuras_de_Datos_Elementales.ipynb#Y202sZmlsZQ%3D%3D?line=8'>9</a>\u001b[0m     \u001b[39mreturn\u001b[39;00m \u001b[39m1\u001b[39m\n\u001b[1;32m     <a href='vscode-notebook-cell:/Users/felipe/Downloads/04_Estructuras_de_Datos_Elementales.ipynb#Y202sZmlsZQ%3D%3D?line=10'>11</a>\u001b[0m \u001b[39m# CASO RECURSIVO:\u001b[39;00m\n\u001b[0;32m---> <a href='vscode-notebook-cell:/Users/felipe/Downloads/04_Estructuras_de_Datos_Elementales.ipynb#Y202sZmlsZQ%3D%3D?line=12'>13</a>\u001b[0m \u001b[39mreturn\u001b[39;00m x \u001b[39m*\u001b[39m fact(x\u001b[39m-\u001b[39;49m\u001b[39m1\u001b[39;49m)\n",
            "\u001b[1;32m/Users/felipe/Downloads/04_Estructuras_de_Datos_Elementales.ipynb Celda 57\u001b[0m in \u001b[0;36mfact\u001b[0;34m(x)\u001b[0m\n\u001b[1;32m      <a href='vscode-notebook-cell:/Users/felipe/Downloads/04_Estructuras_de_Datos_Elementales.ipynb#Y202sZmlsZQ%3D%3D?line=8'>9</a>\u001b[0m     \u001b[39mreturn\u001b[39;00m \u001b[39m1\u001b[39m\n\u001b[1;32m     <a href='vscode-notebook-cell:/Users/felipe/Downloads/04_Estructuras_de_Datos_Elementales.ipynb#Y202sZmlsZQ%3D%3D?line=10'>11</a>\u001b[0m \u001b[39m# CASO RECURSIVO:\u001b[39;00m\n\u001b[0;32m---> <a href='vscode-notebook-cell:/Users/felipe/Downloads/04_Estructuras_de_Datos_Elementales.ipynb#Y202sZmlsZQ%3D%3D?line=12'>13</a>\u001b[0m \u001b[39mreturn\u001b[39;00m x \u001b[39m*\u001b[39m fact(x\u001b[39m-\u001b[39;49m\u001b[39m1\u001b[39;49m)\n",
            "    \u001b[0;31m[... skipping similar frames: fact at line 13 (2969 times)]\u001b[0m\n",
            "\u001b[1;32m/Users/felipe/Downloads/04_Estructuras_de_Datos_Elementales.ipynb Celda 57\u001b[0m in \u001b[0;36mfact\u001b[0;34m(x)\u001b[0m\n\u001b[1;32m      <a href='vscode-notebook-cell:/Users/felipe/Downloads/04_Estructuras_de_Datos_Elementales.ipynb#Y202sZmlsZQ%3D%3D?line=8'>9</a>\u001b[0m     \u001b[39mreturn\u001b[39;00m \u001b[39m1\u001b[39m\n\u001b[1;32m     <a href='vscode-notebook-cell:/Users/felipe/Downloads/04_Estructuras_de_Datos_Elementales.ipynb#Y202sZmlsZQ%3D%3D?line=10'>11</a>\u001b[0m \u001b[39m# CASO RECURSIVO:\u001b[39;00m\n\u001b[0;32m---> <a href='vscode-notebook-cell:/Users/felipe/Downloads/04_Estructuras_de_Datos_Elementales.ipynb#Y202sZmlsZQ%3D%3D?line=12'>13</a>\u001b[0m \u001b[39mreturn\u001b[39;00m x \u001b[39m*\u001b[39m fact(x\u001b[39m-\u001b[39;49m\u001b[39m1\u001b[39;49m)\n",
            "\u001b[1;32m/Users/felipe/Downloads/04_Estructuras_de_Datos_Elementales.ipynb Celda 57\u001b[0m in \u001b[0;36mfact\u001b[0;34m(x)\u001b[0m\n\u001b[1;32m      <a href='vscode-notebook-cell:/Users/felipe/Downloads/04_Estructuras_de_Datos_Elementales.ipynb#Y202sZmlsZQ%3D%3D?line=4'>5</a>\u001b[0m \u001b[39mdef\u001b[39;00m \u001b[39mfact\u001b[39m(x):\n\u001b[1;32m      <a href='vscode-notebook-cell:/Users/felipe/Downloads/04_Estructuras_de_Datos_Elementales.ipynb#Y202sZmlsZQ%3D%3D?line=5'>6</a>\u001b[0m     \n\u001b[1;32m      <a href='vscode-notebook-cell:/Users/felipe/Downloads/04_Estructuras_de_Datos_Elementales.ipynb#Y202sZmlsZQ%3D%3D?line=6'>7</a>\u001b[0m     \u001b[39m# CASO BASE:\u001b[39;00m\n\u001b[0;32m----> <a href='vscode-notebook-cell:/Users/felipe/Downloads/04_Estructuras_de_Datos_Elementales.ipynb#Y202sZmlsZQ%3D%3D?line=7'>8</a>\u001b[0m     \u001b[39mif\u001b[39;00m x \u001b[39m==\u001b[39;49m \u001b[39m0\u001b[39;49m:\n\u001b[1;32m      <a href='vscode-notebook-cell:/Users/felipe/Downloads/04_Estructuras_de_Datos_Elementales.ipynb#Y202sZmlsZQ%3D%3D?line=8'>9</a>\u001b[0m         \u001b[39mreturn\u001b[39;00m \u001b[39m1\u001b[39m\n\u001b[1;32m     <a href='vscode-notebook-cell:/Users/felipe/Downloads/04_Estructuras_de_Datos_Elementales.ipynb#Y202sZmlsZQ%3D%3D?line=10'>11</a>\u001b[0m     \u001b[39m# CASO RECURSIVO:\u001b[39;00m\n",
            "\u001b[0;31mRecursionError\u001b[0m: maximum recursion depth exceeded in comparison"
          ]
        }
      ],
      "source": [
        "# Ej: fact(x): int -> int\n",
        "# calcula el factorial de x\n",
        "# ej: fact(3) entrega 6, fact(10) entrega 3628800\n",
        "\n",
        "def fact(x):\n",
        "\n",
        "    # CASO BASE:\n",
        "    if x == 0:\n",
        "        return 1\n",
        "\n",
        "    # CASO RECURSIVO:\n",
        "\n",
        "    return x * fact(x-1)\n",
        "\n",
        "assert fact(3) == 6\n",
        "assert fact(10) == 3628800\n",
        "print(fact(958))\n",
        "#print(fact(1000000000000000000))\n",
        "\n",
        "\n"
      ]
    },
    {
      "attachments": {},
      "cell_type": "markdown",
      "metadata": {
        "id": "0OfPA1VIcASN"
      },
      "source": [
        "### Recorridos de Árboles Binarios\n",
        "\n",
        "Un árbol binario es una estructura esencialmente **recursiva**, y las principales formas de recorrer un árbol se definen también recursivamente.\n",
        "Los tres tipos de recorridos más conocidos son:\n",
        "\n",
        "* Preorden: Visitar la raíz, recorrer el subárbol izquierdo y recorrer el subárbol derecho\n",
        "\n",
        "* Indorden: Recorrer el subárbol izquierdo, visitar la raíz y recorrer el subárbol derecho\n",
        "\n",
        "* Postorden: Recorrer el subárbol izquierdo, recorrer el subárbol derecho y visitar la raíz\n",
        "\n",
        "A continuación agregamos a la definición de la clase tres métodos que imprimen en contenido del árbol en estos recorridos:"
      ]
    },
    {
      "cell_type": "code",
      "execution_count": 3,
      "metadata": {
        "id": "Y17mLMlScASN"
      },
      "outputs": [
        {
          "ename": "ModuleNotFoundError",
          "evalue": "No module named 'graphviz'",
          "output_type": "error",
          "traceback": [
            "\u001b[0;31m---------------------------------------------------------------------------\u001b[0m",
            "\u001b[0;31mModuleNotFoundError\u001b[0m                       Traceback (most recent call last)",
            "\u001b[1;32m/Users/felipe/Documents/GitHub/AED/04_Estructuras_de_Datos_Elementales.ipynb Celda 59\u001b[0m in \u001b[0;36m<cell line: 1>\u001b[0;34m()\u001b[0m\n\u001b[0;32m----> <a href='vscode-notebook-cell:/Users/felipe/Documents/GitHub/AED/04_Estructuras_de_Datos_Elementales.ipynb#Y112sZmlsZQ%3D%3D?line=0'>1</a>\u001b[0m \u001b[39mimport\u001b[39;00m \u001b[39maed_utilities\u001b[39;00m \u001b[39mas\u001b[39;00m \u001b[39maed\u001b[39;00m\n\u001b[1;32m      <a href='vscode-notebook-cell:/Users/felipe/Documents/GitHub/AED/04_Estructuras_de_Datos_Elementales.ipynb#Y112sZmlsZQ%3D%3D?line=2'>3</a>\u001b[0m \u001b[39mdef\u001b[39;00m \u001b[39mpre\u001b[39m(p):\n\u001b[1;32m      <a href='vscode-notebook-cell:/Users/felipe/Documents/GitHub/AED/04_Estructuras_de_Datos_Elementales.ipynb#Y112sZmlsZQ%3D%3D?line=3'>4</a>\u001b[0m     \u001b[39mif\u001b[39;00m p \u001b[39mis\u001b[39;00m \u001b[39mnot\u001b[39;00m \u001b[39mNone\u001b[39;00m:\n",
            "File \u001b[0;32m/usr/local/lib/python3.10/site-packages/aed_utilities/__init__.py:1\u001b[0m, in \u001b[0;36m<module>\u001b[0;34m\u001b[0m\n\u001b[0;32m----> 1\u001b[0m \u001b[39mfrom\u001b[39;00m \u001b[39maed_utilities\u001b[39;00m\u001b[39m.\u001b[39;00m\u001b[39mvisualizacion\u001b[39;00m \u001b[39mimport\u001b[39;00m \u001b[39m*\u001b[39m\n",
            "File \u001b[0;32m/usr/local/lib/python3.10/site-packages/aed_utilities/visualizacion.py:1\u001b[0m, in \u001b[0;36m<module>\u001b[0;34m\u001b[0m\n\u001b[0;32m----> 1\u001b[0m \u001b[39mfrom\u001b[39;00m \u001b[39mgraphviz\u001b[39;00m \u001b[39mimport\u001b[39;00m Source\n\u001b[1;32m      2\u001b[0m \u001b[39mfrom\u001b[39;00m \u001b[39mIPython\u001b[39;00m\u001b[39m.\u001b[39;00m\u001b[39mdisplay\u001b[39;00m \u001b[39mimport\u001b[39;00m display_svg, SVG,display\n\u001b[1;32m      3\u001b[0m \u001b[39mimport\u001b[39;00m \u001b[39mnumpy\u001b[39;00m \u001b[39mas\u001b[39;00m \u001b[39mnp\u001b[39;00m\n",
            "\u001b[0;31mModuleNotFoundError\u001b[0m: No module named 'graphviz'"
          ]
        }
      ],
      "source": [
        "import aed_utilities as aed\n",
        "\n",
        "def pre(p):\n",
        "    if p is not None:\n",
        "        print(p.info,end=\" \")\n",
        "        pre(p.izq)\n",
        "        pre(p.der)\n",
        "\n",
        "def ino(p):\n",
        "    if p is not None:\n",
        "        ino(p.izq)\n",
        "        print(p.info,end=\" \")\n",
        "        ino(p.der)\n",
        "\n",
        "def post(p):\n",
        "    if p is not None:\n",
        "        post(p.izq)\n",
        "        post(p.der)\n",
        "        print(p.info,end=\" \")\n",
        "\n",
        "class Arbol:\n",
        "    def __init__(self,raiz=None):\n",
        "        self.raiz=raiz\n",
        "\n",
        "    def preorden(self):\n",
        "        print(\"Preorden:\", end=\" \")\n",
        "        pre(self.raiz)\n",
        "        print()\n",
        "\n",
        "    def inorden(self):\n",
        "        print(\"Inorden:\", end=\" \")\n",
        "        ino(self.raiz)\n",
        "        print()\n",
        "\n",
        "    def postorden(self):\n",
        "        print(\"Postorden:\", end=\" \")\n",
        "        post(self.raiz)\n",
        "        print()\n",
        "\n",
        "    # ingresarValor: int -> None\n",
        "    # ingresar el valor 'valor' al arbol, en el lugar que corresponde\n",
        "    #\n",
        "    def ingresarValor(self, valor):\n",
        "        pass\n",
        "\n",
        "\n",
        "    # Para dibujar un árbol binario, necesitamos crear una instancia de la clase BinaryTreeDrawer\n",
        "    # Aquí también necesitamos conocer la estructura de los nodos. Esta información se envía como parámetro\n",
        "    # al constructor de la clase:\n",
        "    #    - fieldData: nombre del campo del nodo que mantiene la data\n",
        "    #    - fieldLeft: nombre del campo del nodo con el puntero izquierdo\n",
        "    #    - fieldRight: nombre del campo del noso con le puntero derecho\n",
        "    # Para dibujar se llama al método \"draw_tree\", enviando como parámetro el árbol binario y el nombre del campo que identifica al nodo raiz.\n",
        "\n",
        "    def dibujar(self):\n",
        "      btd = aed.BinaryTreeDrawer(fieldData=\"info\", fieldLeft=\"izq\", fieldRight=\"der\")\n",
        "      btd.draw_tree(self, \"raiz\")\n"
      ]
    },
    {
      "cell_type": "code",
      "execution_count": 12,
      "metadata": {
        "colab": {
          "base_uri": "https://localhost:8080/",
          "height": 253
        },
        "id": "vSWMNy8qmwzo",
        "outputId": "46889fcc-0444-4993-f423-3d831f077b4b"
      },
      "outputs": [
        {
          "data": {
            "image/svg+xml": [
              "<svg xmlns=\"http://www.w3.org/2000/svg\" xmlns:xlink=\"http://www.w3.org/1999/xlink\" width=\"195pt\" height=\"174pt\" viewBox=\"0.00 0.00 195.20 173.60\">\n",
              "<g id=\"graph0\" class=\"graph\" transform=\"scale(1 1) rotate(0) translate(4 169.6)\">\n",
              "<title>Arbol</title>\n",
              "<polygon fill=\"white\" stroke=\"transparent\" points=\"-4,4 -4,-169.6 191.2,-169.6 191.2,4 -4,4\"/>\n",
              "<!-- node0 -->\n",
              "<g id=\"node1\" class=\"node\">\n",
              "<title>node0</title>\n",
              "<ellipse fill=\"none\" stroke=\"black\" cx=\"18\" cy=\"-104.4\" rx=\"18\" ry=\"18\"/>\n",
              "<text text-anchor=\"middle\" x=\"18\" y=\"-100.7\" font-family=\"Times,serif\" font-size=\"14.00\">5</text>\n",
              "</g>\n",
              "<!-- node4 -->\n",
              "<g id=\"node2\" class=\"node\">\n",
              "<title>node4</title>\n",
              "<ellipse fill=\"none\" stroke=\"black\" cx=\"51.6\" cy=\"-147.6\" rx=\"18\" ry=\"18\"/>\n",
              "<text text-anchor=\"middle\" x=\"51.6\" y=\"-143.9\" font-family=\"Times,serif\" font-size=\"14.00\">9</text>\n",
              "</g>\n",
              "<!-- node4&#45;&#45;node0 -->\n",
              "<g id=\"edge1\" class=\"edge\">\n",
              "<title>node4--node0</title>\n",
              "<path fill=\"none\" stroke=\"black\" d=\"M40.22,-132.97C36.65,-128.37 32.7,-123.3 29.14,-118.72\"/>\n",
              "</g>\n",
              "<!-- node3 -->\n",
              "<g id=\"node5\" class=\"node\">\n",
              "<title>node3</title>\n",
              "<ellipse fill=\"none\" stroke=\"black\" cx=\"169.2\" cy=\"-104.4\" rx=\"18\" ry=\"18\"/>\n",
              "<text text-anchor=\"middle\" x=\"169.2\" y=\"-100.7\" font-family=\"Times,serif\" font-size=\"14.00\">21</text>\n",
              "</g>\n",
              "<!-- node4&#45;&#45;node3 -->\n",
              "<g id=\"edge2\" class=\"edge\">\n",
              "<title>node4--node3</title>\n",
              "<path fill=\"none\" stroke=\"black\" d=\"M68.7,-141.32C91,-133.13 129.77,-118.88 152.08,-110.69\"/>\n",
              "</g>\n",
              "<!-- node2 -->\n",
              "<g id=\"node3\" class=\"node\">\n",
              "<title>node2</title>\n",
              "<ellipse fill=\"none\" stroke=\"black\" cx=\"102\" cy=\"-61.2\" rx=\"18\" ry=\"18\"/>\n",
              "<text text-anchor=\"middle\" x=\"102\" y=\"-57.5\" font-family=\"Times,serif\" font-size=\"14.00\">11</text>\n",
              "</g>\n",
              "<!-- node1 -->\n",
              "<g id=\"node4\" class=\"node\">\n",
              "<title>node1</title>\n",
              "<ellipse fill=\"none\" stroke=\"black\" cx=\"135.6\" cy=\"-18\" rx=\"18\" ry=\"18\"/>\n",
              "<text text-anchor=\"middle\" x=\"135.6\" y=\"-14.3\" font-family=\"Times,serif\" font-size=\"14.00\">15</text>\n",
              "</g>\n",
              "<!-- node2&#45;&#45;node1 -->\n",
              "<g id=\"edge4\" class=\"edge\">\n",
              "<title>node2--node1</title>\n",
              "<path fill=\"none\" stroke=\"black\" d=\"M113.38,-46.57C116.95,-41.97 120.9,-36.9 124.46,-32.32\"/>\n",
              "</g>\n",
              "<!-- node3&#45;&#45;node2 -->\n",
              "<g id=\"edge3\" class=\"edge\">\n",
              "<title>node3--node2</title>\n",
              "<path fill=\"none\" stroke=\"black\" d=\"M153.95,-94.6C142.95,-87.53 128.17,-78.02 117.19,-70.96\"/>\n",
              "</g>\n",
              "</g>\n",
              "</svg>"
            ],
            "text/plain": [
              "<IPython.core.display.SVG object>"
            ]
          },
          "metadata": {},
          "output_type": "display_data"
        }
      ],
      "source": [
        "# nodo sin hijos e info = 9\n",
        "n2 = Nodo(None, 9, None)\n",
        "a = Arbol(n2)\n",
        "\n",
        "\n",
        "n3 = Nodo(None, 21, None)\n",
        "n2.der = n3\n",
        "\n",
        "\n",
        "n4 = Nodo(None,11, None)\n",
        "n3.izq = n4\n",
        "\n",
        "n5 = Nodo(None,15, None)\n",
        "n4.der = n5\n",
        "\n",
        "n6 = Nodo(None, 5, None)\n",
        "n2.izq = n6\n",
        "\n",
        "a.dibujar()\n"
      ]
    },
    {
      "cell_type": "code",
      "execution_count": 1,
      "metadata": {
        "id": "qTIM84SBcAS1"
      },
      "outputs": [
        {
          "ename": "NameError",
          "evalue": "name 'Arbol' is not defined",
          "output_type": "error",
          "traceback": [
            "\u001b[0;31m---------------------------------------------------------------------------\u001b[0m",
            "\u001b[0;31mNameError\u001b[0m                                 Traceback (most recent call last)",
            "\u001b[1;32m/Users/felipe/Documents/GitHub/AED/04_Estructuras_de_Datos_Elementales.ipynb Celda 61\u001b[0m in \u001b[0;36m<cell line: 1>\u001b[0;34m()\u001b[0m\n\u001b[0;32m----> <a href='vscode-notebook-cell:/Users/felipe/Documents/GitHub/AED/04_Estructuras_de_Datos_Elementales.ipynb#Y114sZmlsZQ%3D%3D?line=0'>1</a>\u001b[0m AX\u001b[39m=\u001b[39mArbol(\n\u001b[1;32m      <a href='vscode-notebook-cell:/Users/felipe/Documents/GitHub/AED/04_Estructuras_de_Datos_Elementales.ipynb#Y114sZmlsZQ%3D%3D?line=1'>2</a>\u001b[0m     Nodo(\n\u001b[1;32m      <a href='vscode-notebook-cell:/Users/felipe/Documents/GitHub/AED/04_Estructuras_de_Datos_Elementales.ipynb#Y114sZmlsZQ%3D%3D?line=2'>3</a>\u001b[0m         Nodo(\n\u001b[1;32m      <a href='vscode-notebook-cell:/Users/felipe/Documents/GitHub/AED/04_Estructuras_de_Datos_Elementales.ipynb#Y114sZmlsZQ%3D%3D?line=3'>4</a>\u001b[0m             Nodo(\u001b[39mNone\u001b[39;00m,\u001b[39m15\u001b[39m,\u001b[39mNone\u001b[39;00m),\n\u001b[1;32m      <a href='vscode-notebook-cell:/Users/felipe/Documents/GitHub/AED/04_Estructuras_de_Datos_Elementales.ipynb#Y114sZmlsZQ%3D%3D?line=4'>5</a>\u001b[0m             \u001b[39m20\u001b[39m,\n\u001b[1;32m      <a href='vscode-notebook-cell:/Users/felipe/Documents/GitHub/AED/04_Estructuras_de_Datos_Elementales.ipynb#Y114sZmlsZQ%3D%3D?line=5'>6</a>\u001b[0m             Nodo(\n\u001b[1;32m      <a href='vscode-notebook-cell:/Users/felipe/Documents/GitHub/AED/04_Estructuras_de_Datos_Elementales.ipynb#Y114sZmlsZQ%3D%3D?line=6'>7</a>\u001b[0m                 Nodo(\u001b[39mNone\u001b[39;00m,\u001b[39m30\u001b[39m,\u001b[39mNone\u001b[39;00m),\n\u001b[1;32m      <a href='vscode-notebook-cell:/Users/felipe/Documents/GitHub/AED/04_Estructuras_de_Datos_Elementales.ipynb#Y114sZmlsZQ%3D%3D?line=7'>8</a>\u001b[0m                 \u001b[39m35\u001b[39m,\n\u001b[1;32m      <a href='vscode-notebook-cell:/Users/felipe/Documents/GitHub/AED/04_Estructuras_de_Datos_Elementales.ipynb#Y114sZmlsZQ%3D%3D?line=8'>9</a>\u001b[0m                 \u001b[39mNone\u001b[39;00m\n\u001b[1;32m     <a href='vscode-notebook-cell:/Users/felipe/Documents/GitHub/AED/04_Estructuras_de_Datos_Elementales.ipynb#Y114sZmlsZQ%3D%3D?line=9'>10</a>\u001b[0m             )\n\u001b[1;32m     <a href='vscode-notebook-cell:/Users/felipe/Documents/GitHub/AED/04_Estructuras_de_Datos_Elementales.ipynb#Y114sZmlsZQ%3D%3D?line=10'>11</a>\u001b[0m         ),\n\u001b[1;32m     <a href='vscode-notebook-cell:/Users/felipe/Documents/GitHub/AED/04_Estructuras_de_Datos_Elementales.ipynb#Y114sZmlsZQ%3D%3D?line=11'>12</a>\u001b[0m         \u001b[39m42\u001b[39m,\n\u001b[1;32m     <a href='vscode-notebook-cell:/Users/felipe/Documents/GitHub/AED/04_Estructuras_de_Datos_Elementales.ipynb#Y114sZmlsZQ%3D%3D?line=12'>13</a>\u001b[0m         Nodo(\n\u001b[1;32m     <a href='vscode-notebook-cell:/Users/felipe/Documents/GitHub/AED/04_Estructuras_de_Datos_Elementales.ipynb#Y114sZmlsZQ%3D%3D?line=13'>14</a>\u001b[0m             Nodo(\n\u001b[1;32m     <a href='vscode-notebook-cell:/Users/felipe/Documents/GitHub/AED/04_Estructuras_de_Datos_Elementales.ipynb#Y114sZmlsZQ%3D%3D?line=14'>15</a>\u001b[0m                 Nodo(\n\u001b[1;32m     <a href='vscode-notebook-cell:/Users/felipe/Documents/GitHub/AED/04_Estructuras_de_Datos_Elementales.ipynb#Y114sZmlsZQ%3D%3D?line=15'>16</a>\u001b[0m                     Nodo(Nodo(\u001b[39mNone\u001b[39;00m,\u001b[39m62\u001b[39m, \u001b[39mNone\u001b[39;00m),\u001b[39m65\u001b[39m,\u001b[39mNone\u001b[39;00m),\n\u001b[1;32m     <a href='vscode-notebook-cell:/Users/felipe/Documents/GitHub/AED/04_Estructuras_de_Datos_Elementales.ipynb#Y114sZmlsZQ%3D%3D?line=16'>17</a>\u001b[0m                     \u001b[39m72\u001b[39m,\n\u001b[1;32m     <a href='vscode-notebook-cell:/Users/felipe/Documents/GitHub/AED/04_Estructuras_de_Datos_Elementales.ipynb#Y114sZmlsZQ%3D%3D?line=17'>18</a>\u001b[0m                     Nodo(\u001b[39mNone\u001b[39;00m,\u001b[39m81\u001b[39m,\u001b[39mNone\u001b[39;00m)\n\u001b[1;32m     <a href='vscode-notebook-cell:/Users/felipe/Documents/GitHub/AED/04_Estructuras_de_Datos_Elementales.ipynb#Y114sZmlsZQ%3D%3D?line=18'>19</a>\u001b[0m                 ),\n\u001b[1;32m     <a href='vscode-notebook-cell:/Users/felipe/Documents/GitHub/AED/04_Estructuras_de_Datos_Elementales.ipynb#Y114sZmlsZQ%3D%3D?line=19'>20</a>\u001b[0m                 \u001b[39m90\u001b[39m,\n\u001b[1;32m     <a href='vscode-notebook-cell:/Users/felipe/Documents/GitHub/AED/04_Estructuras_de_Datos_Elementales.ipynb#Y114sZmlsZQ%3D%3D?line=20'>21</a>\u001b[0m                 \u001b[39mNone\u001b[39;00m\n\u001b[1;32m     <a href='vscode-notebook-cell:/Users/felipe/Documents/GitHub/AED/04_Estructuras_de_Datos_Elementales.ipynb#Y114sZmlsZQ%3D%3D?line=21'>22</a>\u001b[0m             ),\n\u001b[1;32m     <a href='vscode-notebook-cell:/Users/felipe/Documents/GitHub/AED/04_Estructuras_de_Datos_Elementales.ipynb#Y114sZmlsZQ%3D%3D?line=22'>23</a>\u001b[0m             \u001b[39m95\u001b[39m,\n\u001b[1;32m     <a href='vscode-notebook-cell:/Users/felipe/Documents/GitHub/AED/04_Estructuras_de_Datos_Elementales.ipynb#Y114sZmlsZQ%3D%3D?line=23'>24</a>\u001b[0m             \u001b[39mNone\u001b[39;00m\n\u001b[1;32m     <a href='vscode-notebook-cell:/Users/felipe/Documents/GitHub/AED/04_Estructuras_de_Datos_Elementales.ipynb#Y114sZmlsZQ%3D%3D?line=24'>25</a>\u001b[0m         )\n\u001b[1;32m     <a href='vscode-notebook-cell:/Users/felipe/Documents/GitHub/AED/04_Estructuras_de_Datos_Elementales.ipynb#Y114sZmlsZQ%3D%3D?line=25'>26</a>\u001b[0m        )\n\u001b[1;32m     <a href='vscode-notebook-cell:/Users/felipe/Documents/GitHub/AED/04_Estructuras_de_Datos_Elementales.ipynb#Y114sZmlsZQ%3D%3D?line=26'>27</a>\u001b[0m )\n\u001b[1;32m     <a href='vscode-notebook-cell:/Users/felipe/Documents/GitHub/AED/04_Estructuras_de_Datos_Elementales.ipynb#Y114sZmlsZQ%3D%3D?line=28'>29</a>\u001b[0m AX1 \u001b[39m=\u001b[39m Arbol(Nodo(Nodo(Nodo(\u001b[39mNone\u001b[39;00m,\u001b[39m7\u001b[39m,\u001b[39mNone\u001b[39;00m),\u001b[39m10\u001b[39m,Nodo(\u001b[39mNone\u001b[39;00m, \u001b[39m12\u001b[39m, \u001b[39mNone\u001b[39;00m)),\u001b[39m18\u001b[39m, Nodo(Nodo(\u001b[39mNone\u001b[39;00m, \u001b[39m20\u001b[39m,\u001b[39mNone\u001b[39;00m),\u001b[39m24\u001b[39m,Nodo(\u001b[39mNone\u001b[39;00m, \u001b[39m30\u001b[39m, \u001b[39mNone\u001b[39;00m))))\n\u001b[1;32m     <a href='vscode-notebook-cell:/Users/felipe/Documents/GitHub/AED/04_Estructuras_de_Datos_Elementales.ipynb#Y114sZmlsZQ%3D%3D?line=29'>30</a>\u001b[0m AX2 \u001b[39m=\u001b[39m Arbol(Nodo(\u001b[39mNone\u001b[39;00m, \u001b[39m10\u001b[39m, Nodo(\u001b[39mNone\u001b[39;00m, \u001b[39m12\u001b[39m, Nodo(\u001b[39mNone\u001b[39;00m, \u001b[39m14\u001b[39m, Nodo(\u001b[39mNone\u001b[39;00m, \u001b[39m20\u001b[39m, \u001b[39mNone\u001b[39;00m)))))\n",
            "\u001b[0;31mNameError\u001b[0m: name 'Arbol' is not defined"
          ]
        }
      ],
      "source": [
        "AX=Arbol(\n",
        "    Nodo(\n",
        "        Nodo(\n",
        "            Nodo(None,15,None),\n",
        "            20,\n",
        "            Nodo(\n",
        "                Nodo(None,30,None),\n",
        "                35,\n",
        "                None\n",
        "            )\n",
        "        ),\n",
        "        42,\n",
        "        Nodo(\n",
        "            Nodo(\n",
        "                Nodo(\n",
        "                    Nodo(Nodo(None,62, None),65,None),\n",
        "                    72,\n",
        "                    Nodo(None,81,None)\n",
        "                ),\n",
        "                90,\n",
        "                None\n",
        "            ),\n",
        "            95,\n",
        "            None\n",
        "        )\n",
        "       )\n",
        ")\n",
        "\n",
        "AX1 = Arbol(Nodo(Nodo(Nodo(None,7,None),10,Nodo(None, 12, None)),18, Nodo(Nodo(None, 20,None),24,Nodo(None, 30, None))))\n",
        "AX2 = Arbol(Nodo(None, 10, Nodo(None, 12, Nodo(None, 14, Nodo(None, 20, None)))))\n",
        "AX3 = Arbol(Nodo(Nodo(Nodo(None,5,None),7,Nodo(None, 9, None)),10,None))"
      ]
    },
    {
      "cell_type": "code",
      "execution_count": null,
      "metadata": {
        "colab": {
          "base_uri": "https://localhost:8080/"
        },
        "id": "GUxu0Dz9cATY",
        "outputId": "ae6cdb75-31be-43b9-f3b1-b5aab3d2f68c"
      },
      "outputs": [
        {
          "name": "stdout",
          "output_type": "stream",
          "text": [
            "Preorden: 42 20 15 35 30 95 90 72 65 62 81 \n",
            "Inorden: 15 20 30 35 42 62 65 72 81 90 95 \n",
            "Postorden: 15 30 35 20 62 65 81 72 90 95 42 \n"
          ]
        }
      ],
      "source": [
        "AX.preorden()\n",
        "AX.inorden()\n",
        "AX.postorden()"
      ]
    },
    {
      "cell_type": "code",
      "execution_count": 8,
      "metadata": {
        "colab": {
          "base_uri": "https://localhost:8080/",
          "height": 195
        },
        "id": "B5iAVuSpDbS8",
        "outputId": "1147818b-8836-4b2e-f40d-8f507e3e4c45"
      },
      "outputs": [
        {
          "data": {
            "image/svg+xml": [
              "<svg xmlns=\"http://www.w3.org/2000/svg\" xmlns:xlink=\"http://www.w3.org/1999/xlink\" width=\"145pt\" height=\"130pt\" viewBox=\"0.00 0.00 144.80 130.40\">\n",
              "<g id=\"graph0\" class=\"graph\" transform=\"scale(1 1) rotate(0) translate(4 126.4)\">\n",
              "<title>Arbol</title>\n",
              "<polygon fill=\"white\" stroke=\"transparent\" points=\"-4,4 -4,-126.4 140.8,-126.4 140.8,4 -4,4\"/>\n",
              "<!-- node0 -->\n",
              "<g id=\"node1\" class=\"node\">\n",
              "<title>node0</title>\n",
              "<ellipse fill=\"none\" stroke=\"black\" cx=\"18\" cy=\"-18\" rx=\"18\" ry=\"18\"/>\n",
              "<text text-anchor=\"middle\" x=\"18\" y=\"-14.3\" font-family=\"Times,serif\" font-size=\"14.00\">5</text>\n",
              "</g>\n",
              "<!-- node2 -->\n",
              "<g id=\"node2\" class=\"node\">\n",
              "<title>node2</title>\n",
              "<ellipse fill=\"none\" stroke=\"black\" cx=\"51.6\" cy=\"-61.2\" rx=\"18\" ry=\"18\"/>\n",
              "<text text-anchor=\"middle\" x=\"51.6\" y=\"-57.5\" font-family=\"Times,serif\" font-size=\"14.00\">7</text>\n",
              "</g>\n",
              "<!-- node2&#45;&#45;node0 -->\n",
              "<g id=\"edge2\" class=\"edge\">\n",
              "<title>node2--node0</title>\n",
              "<path fill=\"none\" stroke=\"black\" d=\"M40.22,-46.57C36.65,-41.97 32.7,-36.9 29.14,-32.32\"/>\n",
              "</g>\n",
              "<!-- node1 -->\n",
              "<g id=\"node3\" class=\"node\">\n",
              "<title>node1</title>\n",
              "<ellipse fill=\"none\" stroke=\"black\" cx=\"85.2\" cy=\"-18\" rx=\"18\" ry=\"18\"/>\n",
              "<text text-anchor=\"middle\" x=\"85.2\" y=\"-14.3\" font-family=\"Times,serif\" font-size=\"14.00\">9</text>\n",
              "</g>\n",
              "<!-- node2&#45;&#45;node1 -->\n",
              "<g id=\"edge3\" class=\"edge\">\n",
              "<title>node2--node1</title>\n",
              "<path fill=\"none\" stroke=\"black\" d=\"M62.98,-46.57C66.55,-41.97 70.5,-36.9 74.06,-32.32\"/>\n",
              "</g>\n",
              "<!-- node3 -->\n",
              "<g id=\"node4\" class=\"node\">\n",
              "<title>node3</title>\n",
              "<ellipse fill=\"none\" stroke=\"black\" cx=\"118.8\" cy=\"-104.4\" rx=\"18\" ry=\"18\"/>\n",
              "<text text-anchor=\"middle\" x=\"118.8\" y=\"-100.7\" font-family=\"Times,serif\" font-size=\"14.00\">10</text>\n",
              "</g>\n",
              "<!-- node3&#45;&#45;node2 -->\n",
              "<g id=\"edge1\" class=\"edge\">\n",
              "<title>node3--node2</title>\n",
              "<path fill=\"none\" stroke=\"black\" d=\"M103.55,-94.6C92.55,-87.53 77.77,-78.02 66.79,-70.96\"/>\n",
              "</g>\n",
              "</g>\n",
              "</svg>"
            ],
            "text/plain": [
              "<IPython.core.display.SVG object>"
            ]
          },
          "metadata": {},
          "output_type": "display_data"
        }
      ],
      "source": [
        "AX3.dibujar()"
      ]
    },
    {
      "attachments": {},
      "cell_type": "markdown",
      "metadata": {
        "id": "aORA93W5cAWD"
      },
      "source": [
        "### Recorridos usando iteradores\n",
        "\n",
        "Utilizando la instrucción ``yield`` podemos convertir estos métodos en iteradores, los cuales pueden ser utilizados desde una instrucción ``for``:"
      ]
    },
    {
      "cell_type": "code",
      "execution_count": null,
      "metadata": {
        "id": "prWg0erQcAWO"
      },
      "outputs": [],
      "source": [
        "class Nodo:\n",
        "    def __init__(self, izq, info, der):\n",
        "        self.izq=izq\n",
        "        self.info=info\n",
        "        self.der=der"
      ]
    },
    {
      "cell_type": "code",
      "execution_count": null,
      "metadata": {
        "id": "RblMDEo8cAWi"
      },
      "outputs": [],
      "source": [
        "def pre(p):\n",
        "    if p is not None:\n",
        "        yield p\n",
        "        yield from pre(p.izq)\n",
        "        yield from pre(p.der)\n",
        "\n",
        "def ino(p):\n",
        "    if p is not None:\n",
        "        yield from ino(p.izq)\n",
        "        yield p\n",
        "        yield from ino(p.der)\n",
        "\n",
        "def post(p):\n",
        "    if p is not None:\n",
        "        yield from post(p.izq)\n",
        "        yield from post(p.der)\n",
        "        yield p\n",
        "\n",
        "class Arbol:\n",
        "    def __init__(self,raiz=None):\n",
        "        self.raiz=raiz\n",
        "\n",
        "    def preorden(self):\n",
        "        yield from pre(self.raiz)\n",
        "\n",
        "    def inorden(self):\n",
        "        yield from ino(self.raiz)\n",
        "\n",
        "    def postorden(self):\n",
        "        yield from post(self.raiz)"
      ]
    },
    {
      "cell_type": "code",
      "execution_count": 6,
      "metadata": {
        "id": "GwChOkcYcAXl"
      },
      "outputs": [],
      "source": [
        "a=Arbol(\n",
        "    Nodo(\n",
        "        Nodo(\n",
        "            Nodo(None,15,None),\n",
        "            20,\n",
        "            Nodo(\n",
        "                Nodo(None,30,None),\n",
        "                35,\n",
        "                None\n",
        "            )\n",
        "        ),\n",
        "        42,\n",
        "        Nodo(\n",
        "            Nodo(\n",
        "                Nodo(\n",
        "                    Nodo(None,65,None),\n",
        "                    72,\n",
        "                    Nodo(None,81,None)\n",
        "                ),\n",
        "                90,\n",
        "                None\n",
        "            ),\n",
        "            95,\n",
        "            None\n",
        "        )\n",
        "       )\n",
        ")"
      ]
    },
    {
      "cell_type": "code",
      "execution_count": null,
      "metadata": {
        "colab": {
          "base_uri": "https://localhost:8080/",
          "height": 67
        },
        "id": "l2HUlzQ8cAZU",
        "outputId": "d2175cc4-3030-4ba0-d593-0aa1440162ba"
      },
      "outputs": [
        {
          "name": "stdout",
          "output_type": "stream",
          "text": [
            "Preorden: [42, 20, 15, 35, 30, 95, 90, 72, 65, 81]\n",
            "Inorden: [15, 20, 30, 35, 42, 65, 72, 81, 90, 95]\n",
            "Postorden: [15, 30, 35, 20, 65, 81, 72, 90, 95, 42]\n"
          ]
        }
      ],
      "source": [
        "print (\"Preorden:\", [p.info for p in a.preorden()])\n",
        "print (\"Inorden:\", [p.info for p in a.inorden()])\n",
        "print (\"Postorden:\", [p.info for p in a.postorden()])"
      ]
    },
    {
      "attachments": {},
      "cell_type": "markdown",
      "metadata": {
        "id": "BcPlnlqZcAZt"
      },
      "source": [
        "### Una representación alternativa para árboles binarios\n",
        "\n",
        "Un diseño alternativo para esta estructura se basa en darle una existencia real a los nodos externos, en lugar de que sean punteros `None`. Esto nos permite asociar funcionalidad a los nodos, lo cual ejemplificamos con el recorrido en inorden:"
      ]
    },
    {
      "cell_type": "code",
      "execution_count": null,
      "metadata": {
        "id": "qC182aF8cAZy"
      },
      "outputs": [],
      "source": [
        "class Nodoi:\n",
        "    def __init__(self, izq, info, der):\n",
        "        self.izq=izq\n",
        "        self.info=info\n",
        "        self.der=der\n",
        "    def inorden(self):\n",
        "        self.izq.inorden()\n",
        "        print(self.info, end=\" \")\n",
        "        self.der.inorden()\n",
        "\n",
        "class Nodoe:\n",
        "    def __init__(self):\n",
        "        pass\n",
        "    def inorden(self):\n",
        "        pass"
      ]
    },
    {
      "cell_type": "code",
      "execution_count": null,
      "metadata": {
        "id": "R31Zxg4UcAZ6"
      },
      "outputs": [],
      "source": [
        "import aed_utilities as aed\n",
        "\n",
        "class Arbol:\n",
        "    def __init__(self,raiz=Nodoe()):\n",
        "        self.raiz=raiz\n",
        "\n",
        "    def inorden(self):\n",
        "        print(\"Inorden:\", end=\" \")\n",
        "        self.raiz.inorden()\n",
        "        print()\n",
        "\n",
        "    def dibujar(self):\n",
        "      btd = aed.BinaryTreeDrawer(fieldData=\"info\", fieldLeft=\"izq\", fieldRight=\"der\", classNone=Nodoe)\n",
        "      btd.draw_tree(self, \"raiz\")"
      ]
    },
    {
      "cell_type": "code",
      "execution_count": null,
      "metadata": {
        "id": "qz9PfKBscAaa"
      },
      "outputs": [],
      "source": [
        "a=Arbol(\n",
        "    Nodoi(\n",
        "        Nodoi(\n",
        "            Nodoi(Nodoe(),15,Nodoe()),\n",
        "            20,\n",
        "            Nodoi(\n",
        "                Nodoi(Nodoe(),30,Nodoe()),\n",
        "                35,\n",
        "                Nodoe()\n",
        "            )\n",
        "        ),\n",
        "        42,\n",
        "        Nodoi(\n",
        "            Nodoi(\n",
        "                Nodoi(\n",
        "                    Nodoi(Nodoe(),65,Nodoe()),\n",
        "                    72,\n",
        "                    Nodoi(Nodoe(),81,Nodoe())\n",
        "                ),\n",
        "                90,\n",
        "                Nodoe()\n",
        "            ),\n",
        "            95,\n",
        "            Nodoe()\n",
        "        )\n",
        "       )\n",
        ")"
      ]
    },
    {
      "cell_type": "code",
      "execution_count": null,
      "metadata": {
        "colab": {
          "base_uri": "https://localhost:8080/"
        },
        "id": "Crswdr7ccAap",
        "outputId": "b3ef9a92-46da-407c-9978-ee1c336ffa62"
      },
      "outputs": [
        {
          "name": "stdout",
          "output_type": "stream",
          "text": [
            "Inorden: 15 20 30 35 42 65 72 81 90 95 \n"
          ]
        }
      ],
      "source": [
        "a.inorden()"
      ]
    },
    {
      "cell_type": "code",
      "execution_count": null,
      "metadata": {
        "colab": {
          "base_uri": "https://localhost:8080/",
          "height": 317
        },
        "id": "yXsUjJAqsGf1",
        "outputId": "9534b7ea-59b4-4ecf-b26f-b1284f89fa58"
      },
      "outputs": [
        {
          "data": {
            "image/svg+xml": [
              "<svg height=\"222pt\" viewBox=\"0.00 0.00 503.20 222.40\" width=\"503pt\" xmlns=\"http://www.w3.org/2000/svg\" xmlns:xlink=\"http://www.w3.org/1999/xlink\">\n",
              "<g class=\"graph\" id=\"graph0\" transform=\"scale(1 1) rotate(0) translate(4 218.3963)\">\n",
              "<title>Arbol</title>\n",
              "<polygon fill=\"#ffffff\" points=\"-4,4 -4,-218.3963 499.1963,-218.3963 499.1963,4 -4,4\" stroke=\"transparent\"/>\n",
              "<!-- 15 -->\n",
              "<g class=\"node\" id=\"node1\">\n",
              "<title>15</title>\n",
              "<ellipse cx=\"20.7982\" cy=\"-107.1982\" fill=\"none\" rx=\"20.5982\" ry=\"20.5982\" stroke=\"#000000\"/>\n",
              "<text fill=\"#000000\" font-family=\"Times,serif\" font-size=\"14.00\" text-anchor=\"middle\" x=\"20.7982\" y=\"-103.4982\">15</text>\n",
              "</g>\n",
              "<!-- 20 -->\n",
              "<g class=\"node\" id=\"node2\">\n",
              "<title>20</title>\n",
              "<ellipse cx=\"71.1982\" cy=\"-150.3982\" fill=\"none\" rx=\"20.5982\" ry=\"20.5982\" stroke=\"#000000\"/>\n",
              "<text fill=\"#000000\" font-family=\"Times,serif\" font-size=\"14.00\" text-anchor=\"middle\" x=\"71.1982\" y=\"-146.6982\">20</text>\n",
              "</g>\n",
              "<!-- 20&#45;&#45;15 -->\n",
              "<g class=\"edge\" id=\"edge2\">\n",
              "<title>20--15</title>\n",
              "<path d=\"M55.2513,-136.7294C49.3681,-131.6867 42.7036,-125.9742 36.8143,-120.9263\" fill=\"none\" stroke=\"#000000\"/>\n",
              "</g>\n",
              "<!-- 35 -->\n",
              "<g class=\"node\" id=\"node4\">\n",
              "<title>35</title>\n",
              "<ellipse cx=\"171.9982\" cy=\"-107.1982\" fill=\"none\" rx=\"20.5982\" ry=\"20.5982\" stroke=\"#000000\"/>\n",
              "<text fill=\"#000000\" font-family=\"Times,serif\" font-size=\"14.00\" text-anchor=\"middle\" x=\"171.9982\" y=\"-103.4982\">35</text>\n",
              "</g>\n",
              "<!-- 20&#45;&#45;35 -->\n",
              "<g class=\"edge\" id=\"edge3\">\n",
              "<title>20--35</title>\n",
              "<path d=\"M90.6334,-142.0688C108.4828,-134.419 134.7921,-123.1436 152.6226,-115.502\" fill=\"none\" stroke=\"#000000\"/>\n",
              "</g>\n",
              "<!-- 30 -->\n",
              "<g class=\"node\" id=\"node3\">\n",
              "<title>30</title>\n",
              "<ellipse cx=\"121.5982\" cy=\"-63.9982\" fill=\"none\" rx=\"20.5982\" ry=\"20.5982\" stroke=\"#000000\"/>\n",
              "<text fill=\"#000000\" font-family=\"Times,serif\" font-size=\"14.00\" text-anchor=\"middle\" x=\"121.5982\" y=\"-60.2982\">30</text>\n",
              "</g>\n",
              "<!-- 35&#45;&#45;30 -->\n",
              "<g class=\"edge\" id=\"edge4\">\n",
              "<title>35--30</title>\n",
              "<path d=\"M156.0513,-93.5294C150.1681,-88.4867 143.5036,-82.7742 137.6143,-77.7263\" fill=\"none\" stroke=\"#000000\"/>\n",
              "</g>\n",
              "<!-- 42 -->\n",
              "<g class=\"node\" id=\"node5\">\n",
              "<title>42</title>\n",
              "<ellipse cx=\"222.3982\" cy=\"-193.5982\" fill=\"none\" rx=\"20.5982\" ry=\"20.5982\" stroke=\"#000000\"/>\n",
              "<text fill=\"#000000\" font-family=\"Times,serif\" font-size=\"14.00\" text-anchor=\"middle\" x=\"222.3982\" y=\"-189.8982\">42</text>\n",
              "</g>\n",
              "<!-- 42&#45;&#45;20 -->\n",
              "<g class=\"edge\" id=\"edge1\">\n",
              "<title>42--20</title>\n",
              "<path d=\"M202.32,-187.8615C173.4009,-179.5989 120.3246,-164.4343 91.3594,-156.1585\" fill=\"none\" stroke=\"#000000\"/>\n",
              "</g>\n",
              "<!-- 95 -->\n",
              "<g class=\"node\" id=\"node10\">\n",
              "<title>95</title>\n",
              "<ellipse cx=\"474.3982\" cy=\"-150.3982\" fill=\"none\" rx=\"20.5982\" ry=\"20.5982\" stroke=\"#000000\"/>\n",
              "<text fill=\"#000000\" font-family=\"Times,serif\" font-size=\"14.00\" text-anchor=\"middle\" x=\"474.3982\" y=\"-146.6982\">95</text>\n",
              "</g>\n",
              "<!-- 42&#45;&#45;95 -->\n",
              "<g class=\"edge\" id=\"edge5\">\n",
              "<title>42--95</title>\n",
              "<path d=\"M243.0204,-190.0629C290.3925,-181.942 406.5386,-162.0312 453.8444,-153.9217\" fill=\"none\" stroke=\"#000000\"/>\n",
              "</g>\n",
              "<!-- 65 -->\n",
              "<g class=\"node\" id=\"node6\">\n",
              "<title>65</title>\n",
              "<ellipse cx=\"272.7982\" cy=\"-20.7982\" fill=\"none\" rx=\"20.5982\" ry=\"20.5982\" stroke=\"#000000\"/>\n",
              "<text fill=\"#000000\" font-family=\"Times,serif\" font-size=\"14.00\" text-anchor=\"middle\" x=\"272.7982\" y=\"-17.0982\">65</text>\n",
              "</g>\n",
              "<!-- 72 -->\n",
              "<g class=\"node\" id=\"node7\">\n",
              "<title>72</title>\n",
              "<ellipse cx=\"323.1982\" cy=\"-63.9982\" fill=\"none\" rx=\"20.5982\" ry=\"20.5982\" stroke=\"#000000\"/>\n",
              "<text fill=\"#000000\" font-family=\"Times,serif\" font-size=\"14.00\" text-anchor=\"middle\" x=\"323.1982\" y=\"-60.2982\">72</text>\n",
              "</g>\n",
              "<!-- 72&#45;&#45;65 -->\n",
              "<g class=\"edge\" id=\"edge8\">\n",
              "<title>72--65</title>\n",
              "<path d=\"M307.2513,-50.3294C301.3681,-45.2867 294.7036,-39.5742 288.8143,-34.5263\" fill=\"none\" stroke=\"#000000\"/>\n",
              "</g>\n",
              "<!-- 81 -->\n",
              "<g class=\"node\" id=\"node8\">\n",
              "<title>81</title>\n",
              "<ellipse cx=\"373.5982\" cy=\"-20.7982\" fill=\"none\" rx=\"20.5982\" ry=\"20.5982\" stroke=\"#000000\"/>\n",
              "<text fill=\"#000000\" font-family=\"Times,serif\" font-size=\"14.00\" text-anchor=\"middle\" x=\"373.5982\" y=\"-17.0982\">81</text>\n",
              "</g>\n",
              "<!-- 72&#45;&#45;81 -->\n",
              "<g class=\"edge\" id=\"edge9\">\n",
              "<title>72--81</title>\n",
              "<path d=\"M339.145,-50.3294C345.0282,-45.2867 351.6928,-39.5742 357.582,-34.5263\" fill=\"none\" stroke=\"#000000\"/>\n",
              "</g>\n",
              "<!-- 90 -->\n",
              "<g class=\"node\" id=\"node9\">\n",
              "<title>90</title>\n",
              "<ellipse cx=\"423.9982\" cy=\"-107.1982\" fill=\"none\" rx=\"20.5982\" ry=\"20.5982\" stroke=\"#000000\"/>\n",
              "<text fill=\"#000000\" font-family=\"Times,serif\" font-size=\"14.00\" text-anchor=\"middle\" x=\"423.9982\" y=\"-103.4982\">90</text>\n",
              "</g>\n",
              "<!-- 90&#45;&#45;72 -->\n",
              "<g class=\"edge\" id=\"edge7\">\n",
              "<title>90--72</title>\n",
              "<path d=\"M404.5629,-98.8688C386.7135,-91.219 360.4043,-79.9436 342.5737,-72.302\" fill=\"none\" stroke=\"#000000\"/>\n",
              "</g>\n",
              "<!-- 95&#45;&#45;90 -->\n",
              "<g class=\"edge\" id=\"edge6\">\n",
              "<title>95--90</title>\n",
              "<path d=\"M458.4513,-136.7294C452.5681,-131.6867 445.9036,-125.9742 440.0143,-120.9263\" fill=\"none\" stroke=\"#000000\"/>\n",
              "</g>\n",
              "</g>\n",
              "</svg>"
            ],
            "text/plain": [
              "<IPython.core.display.SVG object>"
            ]
          },
          "metadata": {
            "tags": []
          },
          "output_type": "display_data"
        }
      ],
      "source": [
        "a.dibujar()"
      ]
    },
    {
      "attachments": {},
      "cell_type": "markdown",
      "metadata": {
        "id": "y-d_QB_6cAa0"
      },
      "source": [
        "### Recorrido usando iteradores\n",
        "\n",
        "De la misma manera como lo hicimos antes, podemos usar la instrucción ``yield`` para entregar uno a uno los nodos que se van visitando. Ejemplificamos esto con el recorrido en inorden:"
      ]
    },
    {
      "cell_type": "code",
      "execution_count": null,
      "metadata": {
        "id": "x3SKLt9fcAa0"
      },
      "outputs": [],
      "source": [
        "class Nodoi:\n",
        "    def __init__(self, izq, info, der):\n",
        "        self.izq=izq\n",
        "        self.info=info\n",
        "        self.der=der\n",
        "\n",
        "    def inorden(self):\n",
        "        yield from self.izq.inorden()\n",
        "        yield self\n",
        "        yield from self.der.inorden()\n",
        "\n",
        "class Nodoe:\n",
        "    def __init__(self):\n",
        "        pass\n",
        "\n",
        "    def inorden(self):\n",
        "        return\n",
        "        yield None # no se ejecuta, permite que la función sea un generator"
      ]
    },
    {
      "cell_type": "code",
      "execution_count": null,
      "metadata": {
        "id": "O9skyO-jcAbK"
      },
      "outputs": [],
      "source": [
        "class Arbol:\n",
        "    def __init__(self,raiz=Nodoe()):\n",
        "        self.raiz=raiz\n",
        "\n",
        "    def inorden(self):\n",
        "        yield from self.raiz.inorden()"
      ]
    },
    {
      "cell_type": "code",
      "execution_count": null,
      "metadata": {
        "id": "54GYivq1cAbc"
      },
      "outputs": [],
      "source": [
        "a=Arbol(\n",
        "    Nodoi(\n",
        "        Nodoi(\n",
        "            Nodoi(Nodoe(),15,Nodoe()),\n",
        "            20,\n",
        "            Nodoi(\n",
        "                Nodoi(Nodoe(),30,Nodoe()),\n",
        "                35,\n",
        "                Nodoe()\n",
        "            )\n",
        "        ),\n",
        "        42,\n",
        "        Nodoi(\n",
        "            Nodoi(\n",
        "                Nodoi(\n",
        "                    Nodoi(Nodoe(),65,Nodoe()),\n",
        "                    72,\n",
        "                    Nodoi(Nodoe(),81,Nodoe())\n",
        "                ),\n",
        "                90,\n",
        "                Nodoe()\n",
        "            ),\n",
        "            95,\n",
        "            Nodoe()\n",
        "        )\n",
        "       )\n",
        ")"
      ]
    },
    {
      "cell_type": "code",
      "execution_count": null,
      "metadata": {
        "colab": {
          "base_uri": "https://localhost:8080/",
          "height": 34
        },
        "id": "b5ikEiW5cAbf",
        "outputId": "b74700f1-4d08-419a-9f38-733353298036"
      },
      "outputs": [
        {
          "name": "stdout",
          "output_type": "stream",
          "text": [
            "Inorden: [15, 20, 30, 35, 42, 65, 72, 81, 90, 95]\n"
          ]
        }
      ],
      "source": [
        "print (\"Inorden:\", [p.info for p in a.inorden()])"
      ]
    },
    {
      "attachments": {},
      "cell_type": "markdown",
      "metadata": {
        "id": "RQzW55-WcAcY"
      },
      "source": [
        "## Árboles para representar fórmulas\n",
        "\n",
        "La estructura de una fórmula matemática, por ejemplo la fórmula\n",
        "\n",
        "$$\n",
        "(a+1)*\\left(2-\\frac{1}{b}\\right)\n",
        "$$\n",
        "\n",
        "se puede representar mediante el árbol:\n",
        "\n",
        "![arbol-formula](https://github.com/ivansipiran/AED-Apuntes/blob/main/recursos/arbol-formula.png?raw=1)\n",
        "\n",
        "Modifiquemos la definición de nodos externos para que puedan almacenar información en su interior y veamos el efecto de hacer un recorrido en postorden de un árbol de este tipo:"
      ]
    },
    {
      "cell_type": "code",
      "execution_count": null,
      "metadata": {
        "id": "6QPIYuHmcAcZ"
      },
      "outputs": [],
      "source": [
        "class Nodoi:\n",
        "    def __init__(self, izq, info, der):\n",
        "        self.izq=izq\n",
        "        self.info=info\n",
        "        self.der=der\n",
        "    def postorden(self):\n",
        "        self.izq.postorden()\n",
        "        self.der.postorden()\n",
        "        print(self.info, end=\" \")\n",
        "\n",
        "class Nodoe:\n",
        "    def __init__(self, info=\"\"):\n",
        "        self.info=info\n",
        "    def postorden(self):\n",
        "        print(self.info, end=\" \")\n",
        "\n",
        "class Arbol:\n",
        "    def __init__(self,raiz=Nodoe()):\n",
        "        self.raiz=raiz\n",
        "\n",
        "    def postorden(self):\n",
        "        print(\"Postorden:\", end=\" \")\n",
        "        self.raiz.postorden()\n",
        "        print()\n",
        "\n",
        "    def dibujar(self):\n",
        "      btd = aed.BinaryTreeDrawer(fieldData=\"info\", fieldLeft=\"izq\", fieldRight=\"der\", classNone=Nodoe)\n",
        "      btd.draw_tree(self, \"raiz\")"
      ]
    },
    {
      "cell_type": "code",
      "execution_count": null,
      "metadata": {
        "id": "y4GzmRMxcAcf"
      },
      "outputs": [],
      "source": [
        "formula= Arbol(\n",
        "            Nodoi(\n",
        "                Nodoi(Nodoe(\"a\"),\"+\",Nodoe(\"1\")),\n",
        "                \"*\",\n",
        "                Nodoi(\n",
        "                    Nodoe(\"2\"),\n",
        "                    \"-\",\n",
        "                    Nodoi(Nodoe(\"1\"),\"/\",Nodoe(\"b\"))\n",
        "                )\n",
        "            )\n",
        "        )\n"
      ]
    },
    {
      "cell_type": "code",
      "execution_count": null,
      "metadata": {
        "colab": {
          "base_uri": "https://localhost:8080/"
        },
        "id": "I4W21Y4JcAcj",
        "outputId": "41f279a4-fbb2-40fa-b7b0-cb259791eea1"
      },
      "outputs": [
        {
          "name": "stdout",
          "output_type": "stream",
          "text": [
            "Postorden: a 1 + 2 1 b / - * \n"
          ]
        }
      ],
      "source": [
        "formula.postorden()"
      ]
    },
    {
      "attachments": {},
      "cell_type": "markdown",
      "metadata": {
        "id": "KIROTKWRcAdS"
      },
      "source": [
        "El resultado de este recorrido en postorden es la misma fórmula escrita en *notación polaca de postfijo* (también llamada *notación polaca reversa* o, más simplemente, *notación polaca*).\n",
        "Esta notación, inventada en 1924 por el lógico polaco Jan Łukasiewicz, se caracteriza porque el operador va a continuación de los operandos, mientras que en la notación usual (llamada de *infijo*) el operador va entre los operandos. Por ejemplo, la fórmula \"$a+b$\" se escribe en notación polaca como \"$a b +$\".\n",
        "\n",
        "La notación polaca tiene varias ventajas.\n",
        "Una de ellas es que no necesita paréntesis. Por ejemplo, si no consideramos prioridad de operadores (que es una forma implícita de parentizar), la fórmula \"$a+b*c$\" sería ambigua, porque podría significar \"$(a+b)*c$\" o \"$a+(b*c)$\". En notación polaca no habría ambigüedad, porque la primera se escribiría\"$ab+c*$\", y la segunda sería \"$abc*+$\".\n",
        "\n",
        "Otra ventaja es que, como veremos más adelante, una fórmula en notación polaca se puede evaluar en una sola pasada de izquierda a derecha haciendo uso de una estructura llamada *pila* o *stack*."
      ]
    },
    {
      "attachments": {},
      "cell_type": "markdown",
      "metadata": {
        "id": "hAdF5IbhcAda"
      },
      "source": [
        "---"
      ]
    },
    {
      "attachments": {},
      "cell_type": "markdown",
      "metadata": {
        "id": "l6_tyQBXcAfC"
      },
      "source": [
        "## Propiedades matemáticas de los árboles binarios\n",
        "\n",
        "\n",
        "Los árboles binarios tienen muchas propiedades interesantes:\n",
        "\n",
        "### Relación entre nodos internos y externos\n",
        "\n",
        "Sea $e_n$ el número de nodos externos de un árbol binario con $n$ nodos internos. Entonces $e_n=n+1$\n",
        "\n",
        "Esta propiedad se puede demostrar de varias maneras:\n",
        "\n",
        "Demostración 1:\n",
        "\n",
        "Por inducción sobre el número de nodos internos. La base es un árbol vacío (`raiz==None`), para la cual $e_0=1$. Para el paso inductivo, consideremos un árbol con $n+1$ nodos internos. Ese árbol debe tener al menos un nodo interno cuyos dos hijos son nodos externos (o el árbol sería infinito). Tomemos el subárbol constituído por ese nodo y sus dos hijos y reemplacémoslo por un nodo externo. El árbol resultante tiene $n$ nodos y por lo tanto su número de nodos externos es $n+1$, por hipótesis de inducción. Deshagamos ahora el cambio efectuado: esto agrega 1 interno, y elimina 1 nodo externo pero agrega 2, de modo que el incremento neto en el número de nodos externos es 1. Por lo tanto el número de nodos externos del árbol resultante es $e_{n+1}=n+2$. QED\n",
        "\n",
        "Demostración 2:\n",
        "\n",
        "Por inducción sobre la estructura del árbol. Si el árbol es vacío, trivialmente se cumple $e_0=1$. Si el árbol es no vacío, digamos tiene $n+1$ nodos, entonces consiste de una raíz, más un subárbol izquierdo y un subárbol derecho. Si el subárbol izquierdo tiene $k$ nodos internos, entonces el derecho tiene $n-k$ nodos internos. El número total de nodos externos es $e_{n+1}=e_k+e_{n-k}$. Usando la hipótesis de inducción, $e_{n+1}=(k+1)+(n-k+1)=n+2$. QED\n",
        "\n",
        "Demostración 3:\n",
        "\n",
        "Por recorrido en inorden. Supongamos que hacemos un recorrido en inorden, escribiendo un \"○\" cada vez que visitamos un nodo interno, y un \"☐\" cada vez que visitamos un nodo externo.\n"
      ]
    },
    {
      "cell_type": "code",
      "execution_count": null,
      "metadata": {
        "id": "rTru6qO_cAfH"
      },
      "outputs": [],
      "source": [
        "class Nodoi:\n",
        "    def __init__(self, izq, info, der):\n",
        "        self.izq=izq\n",
        "        self.info=info\n",
        "        self.der=der\n",
        "    def inorden(self):\n",
        "        self.izq.inorden()\n",
        "        print(\"○\", end=\" \")\n",
        "        self.der.inorden()\n",
        "\n",
        "class Nodoe:\n",
        "    def __init__(self, info=\"\"):\n",
        "        self.info=info\n",
        "    def inorden(self):\n",
        "        print(\"☐\", end=\" \")\n",
        "\n",
        "class Arbol:\n",
        "    def __init__(self,raiz=Nodoe()):\n",
        "        self.raiz=raiz\n",
        "    def inorden(self):\n",
        "        print(\"Inorden:\", end=\" \")\n",
        "        self.raiz.inorden()\n",
        "        print()"
      ]
    },
    {
      "cell_type": "code",
      "execution_count": null,
      "metadata": {
        "id": "xOm-L72McAfM"
      },
      "outputs": [],
      "source": [
        "a=Arbol(\n",
        "    Nodoi(\n",
        "        Nodoi(\n",
        "            Nodoi(Nodoe(),15,Nodoe()),\n",
        "            20,\n",
        "            Nodoi(\n",
        "                Nodoi(Nodoe(),30,Nodoe()),\n",
        "                35,\n",
        "                Nodoe()\n",
        "            )\n",
        "        ),\n",
        "        42,\n",
        "        Nodoi(\n",
        "            Nodoi(\n",
        "                Nodoi(\n",
        "                    Nodoi(Nodoe(),65,Nodoe()),\n",
        "                    72,\n",
        "                    Nodoi(Nodoe(),81,Nodoe())\n",
        "                ),\n",
        "                90,\n",
        "                Nodoe()\n",
        "            ),\n",
        "            95,\n",
        "            Nodoe()\n",
        "        )\n",
        "       )\n",
        ")"
      ]
    },
    {
      "cell_type": "code",
      "execution_count": null,
      "metadata": {
        "colab": {
          "base_uri": "https://localhost:8080/",
          "height": 34
        },
        "id": "17WJ7vX8cAfZ",
        "outputId": "fe8ca02c-5fbd-424c-9c8f-9583a883e724"
      },
      "outputs": [
        {
          "name": "stdout",
          "output_type": "stream",
          "text": [
            "Inorden: ☐ ○ ☐ ○ ☐ ○ ☐ ○ ☐ ○ ☐ ○ ☐ ○ ☐ ○ ☐ ○ ☐ ○ ☐ \n"
          ]
        }
      ],
      "source": [
        "a.inorden()"
      ]
    },
    {
      "attachments": {},
      "cell_type": "markdown",
      "metadata": {
        "id": "v3fmxfA1cAfm"
      },
      "source": [
        "Dado que los nodos se visitan intercalando nodos externos e internos, y en ambos extremos hay nodos externos, claramente $e_n=n+1$. QED\n",
        "\n",
        "La última no es una demostración rigurosa (aunque se puede formalizar), pero sin duda es la que hace que la propiedad sea vea más obvia."
      ]
    },
    {
      "attachments": {},
      "cell_type": "markdown",
      "metadata": {
        "id": "J5w5UQtRcAfn"
      },
      "source": [
        "### Relación entre largo de caminos internos y externos\n",
        "\n",
        "Definamos el _largo de caminos internos_ (*LCI*), denotado $I_n$, como\n",
        "\n",
        "$$\n",
        "I_n=\\sum_{x\\in \\text{Nodos internos}}\\text{distancia}(\\text{raiz},x)\n",
        "$$\n",
        "\n",
        "De manera análoga, _largo de caminos externos_ (*LCE*), denotado $E_n$, como\n",
        "\n",
        "$$\n",
        "E_n=\\sum_{y\\in \\text{Nodos externos}}\\text{distancia}(\\text{raiz},y)\n",
        "$$\n",
        "\n",
        "En el árbol que hemos usado de ejemplo, tenemos $n=10$, $I_n=22$, $E_n=42$.\n",
        "\n",
        "En general, se cumple que\n",
        "\n",
        "$$\n",
        "E_n=I_n+2n\n",
        "$$\n",
        "\n",
        "Demostración: Queda como ejercicio. Sugerencia: aplicar inducción sobre la estructura del árbol."
      ]
    },
    {
      "attachments": {},
      "cell_type": "markdown",
      "metadata": {
        "id": "bXNfr8b_cAfn"
      },
      "source": [
        "### Enumeración de árboles binarios con $n$ nodos\n",
        "\n",
        "Si tenemos $n$ nodos indistinguibles (no rotulados), llamemos $a_n$ al número de árboles binarios distintos que podemos construir.\n",
        "\n",
        "Para $n=0$, tenemos que $a_0=1$ (el árbol vacío).\n",
        "\n",
        "Para $n=1$, tenemos $a_1=1$ (el árbol con un solo nodo). La siguiente figura muestra los árboles que se puede construir con $n=1$, $n=2$ y $n=3$ nodos (mostrando solo los nodos internos):\n",
        "\n",
        "![Enum-arboles-binarios](https://github.com/ivansipiran/AED-Apuntes/blob/main/recursos/Enum-arboles-binarios.png?raw=1)\n",
        "\n",
        "Por lo tanto, tenemos $a_2=2$ y $a_3=5$. Nos interesa encontrar $a_n$ en el caso general.\n",
        "\n",
        "Consideremos un árbol con $n$ nodos. Uno de ellos será la raíz, y los $n-1$ nodos restantes se deberían distribuir a la izquierda y a la derecha. Si a la izquierda quedan $k$ nodos, ahí se puede poner cualquiera de los $a_k$ árboles posible, el que se combinan con el de la derecha, que puede ser cualquiera de los $a_{n-k-1}$ árboles posibles.\n",
        "Como ambas elecciones son independientes, el número de maneras en que se puede hacer es el producto de ambos números, y finalmente hay que sumar sobre todos los posibles valores de $k$.\n",
        "Esto conduce a la ecuación\n",
        "\n",
        "$$\n",
        "a_{n}=\\sum_{0\\le k\\le n-1}a_k a_{n-k-1}\n",
        "$$\n",
        "\n",
        "con la condición inicial $a_0=1$.\n",
        "\n",
        "Esto nos permite construir una tabla de valores:\n",
        "\n"
      ]
    },
    {
      "cell_type": "code",
      "execution_count": null,
      "metadata": {
        "id": "BOkep_iLcAfn"
      },
      "outputs": [],
      "source": [
        "import numpy as np\n",
        "def enum_arboles(nmax):\n",
        "    a=np.zeros(nmax,dtype=int)\n",
        "    a[0]=1\n",
        "    for n in range(1,nmax):\n",
        "        for k in range(0,n):\n",
        "            a[n]+=a[k]*a[n-1-k]\n",
        "    return(a)"
      ]
    },
    {
      "cell_type": "code",
      "execution_count": null,
      "metadata": {
        "colab": {
          "base_uri": "https://localhost:8080/"
        },
        "id": "Hb3vBqWdcAfq",
        "outputId": "9b04e2f3-c28c-4524-e2c0-ac3aa64366fa"
      },
      "outputs": [
        {
          "name": "stdout",
          "output_type": "stream",
          "text": [
            "[         1          1          2          5         14         42\n",
            "        132        429       1430       4862      16796      58786\n",
            "     208012     742900    2674440    9694845   35357670  129644790\n",
            "  477638700 1767263190]\n"
          ]
        }
      ],
      "source": [
        "print(enum_arboles(20))"
      ]
    },
    {
      "attachments": {},
      "cell_type": "markdown",
      "metadata": {
        "id": "1oTaJITZcAf2"
      },
      "source": [
        "Para resolver este tipo de ecuaciones necesitamos herramientas matemática más avanzadas, llamadas *funciones generatrices*, de modo que aquí simplemente diremos que la solución es\n",
        "\n",
        "$$\n",
        "a_n = \\frac{1}{n+1}\\binom{2n}{n}\n",
        "$$\n",
        "\n",
        "llamados *números de Catalan*, y podemos comprobar con el siguiente programa que esa fórmula entrega los mismos valores que calculamos recién:"
      ]
    },
    {
      "cell_type": "code",
      "execution_count": null,
      "metadata": {
        "id": "aub-pGfQcAf2"
      },
      "outputs": [],
      "source": [
        "# Calcula binomial(n,k) = n*(n-1)*...*(n-k+1)/k!\n",
        "def binomial(n,k):\n",
        "    numer=1\n",
        "    denom=1\n",
        "    for j in range(0,k):\n",
        "        denom*=(j+1)\n",
        "        numer*=(n-j)\n",
        "    return(numer//denom)\n",
        "\n",
        "def catalan(n):\n",
        "    return binomial(2*n,n)//(n+1)"
      ]
    },
    {
      "cell_type": "code",
      "execution_count": null,
      "metadata": {
        "colab": {
          "base_uri": "https://localhost:8080/"
        },
        "id": "CE_XgtR2cAh_",
        "outputId": "86f38894-d971-4c4f-9b9a-995508526319"
      },
      "outputs": [
        {
          "name": "stdout",
          "output_type": "stream",
          "text": [
            "1 1 2 5 14 42 132 429 1430 4862 16796 58786 \n"
          ]
        }
      ],
      "source": [
        "for n in range(0,12):\n",
        "    print(catalan(n), end=\" \")\n",
        "print()"
      ]
    },
    {
      "attachments": {},
      "cell_type": "markdown",
      "metadata": {
        "id": "9x3RyemOcAiR"
      },
      "source": [
        "Los números de Catalan crecen muy rápido, y se puede demostrar que\n",
        "\n",
        "$$\n",
        "a_n \\sim \\frac{4^n}{n^{3/2}\\sqrt{\\pi}}\n",
        "$$\n",
        "\n",
        "Esto hace que, en particular, cualquier algoritmo de fuerza bruta que necesite recorrer todos los árboles binarios posibles no será práctico para valores grandes de $n$."
      ]
    },
    {
      "attachments": {},
      "cell_type": "markdown",
      "metadata": {
        "id": "hFc_UmEacAiS"
      },
      "source": [
        "## Árboles cardinales (o $k$-arios)\n",
        "\n",
        "Los árboles binarios se pueden generalizar a **árboles $k$-arios**, también llamados **árboles cardinales**.\n",
        "Los nodos internos de un árbol $k$-ario tienen espacio para $k$ punteros a sus hijos. Cada uno de estos punteros puede referirse a otro nodo interno, o bien ser nulo (visualizado como un nodo externo). La siguiente figura muestra la estructura de un ejemplo de árbol ternario (3-ario):\n",
        "\n",
        "![cardinal](https://github.com/ivansipiran/AED-Apuntes/blob/main/recursos/cardinal.png?raw=1)\n",
        "\n",
        "Con la adición de los nodos externos, se cumple que los nodos internos siempre tienen exactamente $k$ hijos (que pueden ser nodos internos y/o externos), y los nodos externos no tienen hijos. Tal como en un árbol binario se distingue entre un hijo izquierdo y un hijo derecho, en un árbol $k$-ario distinguimos entre el hijo número 1, el hijo número 2, etc."
      ]
    },
    {
      "attachments": {},
      "cell_type": "markdown",
      "metadata": {
        "id": "br983bI9cAiW"
      },
      "source": [
        "## Árboles ordinales (\"multiway trees\")\n",
        "\n",
        "A diferencia de los árboles que hemos visto hasta ahora, en un árbol ordinal cada nodo puede tener un número ilimitado de hijos. Formalmente, un árbol ordinal consiste siempre de un nodo raíz y un conjunto ordenado de cero o más árboles hijos. Por lo tanto:\n",
        "\n",
        "* Un árbol ordinal nunca puede ser vacío, siempre tiene al menos un nodo\n",
        "* No existe el concepto de un hijo \"faltante\", de modo que no se utilizan nodos externos\n",
        "\n",
        "El siguiente es un ejemplo de un árbol ordinal:\n",
        "\n",
        "![ordinal](https://github.com/ivansipiran/AED-Apuntes/blob/main/recursos/ordinal.png?raw=1)"
      ]
    },
    {
      "attachments": {},
      "cell_type": "markdown",
      "metadata": {
        "id": "oGmBLpxvcAil"
      },
      "source": [
        "A primera vista, parecería que los nodos de un árbol ordinal necesitarían tener espacio para una cantidad variable de punteros a sus hijos, pero existe una correspondencia con árboles binarios que permite que el árbol se pueda almacenar usando solo dos punteros en cada nodo.\n",
        "\n",
        "La idea es la siguiente:\n",
        "\n",
        "* Cada nodo del árbol ordinal se representa mediante un nodo interno de un árbol binario.\n",
        "* El puntero izquierdo se utiliza para apuntar al **primer hijo**. Si no hay hijos, se usa un puntero nulo (nodo externo).\n",
        "* El puntero derecho se utiliza para apuntar al **siguiente hermano**. Si el nodo es el último entre los hermanos, se usa un puntero nulo (nodo externo)\n",
        "\n",
        "Usando esta técnica, el árbol del ejemplo se representaría así:\n",
        "\n",
        "![ordinal-binario](https://github.com/ivansipiran/AED-Apuntes/blob/main/recursos/ordinal-binario.png?raw=1)\n",
        "\n",
        "Como la raíz del árbol ordinal no tiene hermano, en la representación de árbol binario el puntero derecho de la raíz siempre es nulo. Por lo tanto, hay una biyección entre los árboles ordinales y los árboles binarios en que la raíz no tiene hijo derecho. De esta relación uno a uno podemos deducir que el número de árboles ordinales con $n$ nodos es igual al número de árboles binarios con $n-1$ nodos internos, esto es,el número de Catalan de orden $n-1$:\n",
        "\n",
        "$$\n",
        "\\frac{1}{n}\\binom{2(n-1)}{n-1}\n",
        "$$\n",
        "\n",
        "Si la raíz del árbol binario pudiera tener hijo derecho, entonces ese árbol binario estaría representando a un conjunto ordenado de árboles ordinales, lo cual sería un **bosque ordinal**."
      ]
    },
    {
      "cell_type": "code",
      "execution_count": null,
      "metadata": {
        "id": "ZpTdpWuxl7WI"
      },
      "outputs": [],
      "source": []
    }
  ],
  "metadata": {
    "colab": {
      "collapsed_sections": [
        "0WW1OiVbcAB6",
        "15NMezn3cALU",
        "J5w5UQtRcAfn",
        "bXNfr8b_cAfn"
      ],
      "name": "04 Estructuras de Datos Elementales.ipynb",
      "provenance": []
    },
    "kernelspec": {
      "display_name": "Python 3",
      "language": "python",
      "name": "python3"
    },
    "language_info": {
      "codemirror_mode": {
        "name": "ipython",
        "version": 3
      },
      "file_extension": ".py",
      "mimetype": "text/x-python",
      "name": "python",
      "nbconvert_exporter": "python",
      "pygments_lexer": "ipython3",
      "version": "3.11.5"
    }
  },
  "nbformat": 4,
  "nbformat_minor": 0
}
