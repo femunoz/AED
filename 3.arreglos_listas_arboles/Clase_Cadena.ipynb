{
  "nbformat": 4,
  "nbformat_minor": 0,
  "metadata": {
    "colab": {
      "provenance": []
    },
    "kernelspec": {
      "name": "python3",
      "display_name": "Python 3"
    },
    "language_info": {
      "name": "python"
    }
  },
  "cells": [
    {
      "cell_type": "code",
      "execution_count": null,
      "metadata": {
        "id": "iAbd9w5tswkm"
      },
      "outputs": [],
      "source": []
    },
    {
      "cell_type": "code",
      "source": [
        "#import NodoCadena as nc\n",
        "\n",
        "# clase Cadena\n",
        "# atributos:\n",
        "# primero: NodoCadena\n",
        "\n",
        "'''\n",
        "class NodoCadena:\n",
        "\n",
        "\tdef __init__(self, carac):\n",
        "\t\tself.caracter = carac\n",
        "\t\tself.sgte = None\n",
        "'''\n",
        "\n",
        "class Cadena:\n",
        "# Constructor de un objeto de la clase Cadena como una lista\n",
        "# de caracteres. Recibe una lista nativa de Python.\n",
        "# Ej: [“h”,”o”,”l”,”a”]\n",
        "\tdef __init__(self, lista):\n",
        "\n",
        "\t\tif len(lista)==0:\n",
        "\t\t\treturn None\n",
        "\n",
        "\t\tself.primero = NodoCadena(lista[0])\n",
        "\t\taux = self.primero\n",
        "\n",
        "\t\ti = 0\n",
        "\t\tfor i in range(1,len(lista)):\n",
        "\t\t\taux.sgte = NodoCadena(lista[i])\n",
        "\t\t\taux = aux.sgte\n",
        "\n",
        "#Devuelve el largo de la cadena\n",
        "\tdef largo(self):\n",
        "\t\tn = 0\n",
        "\t\tif self.primero == None: return 0\n",
        "\n",
        "\t\taux = self.primero\n",
        "\t\twhile aux != None:\n",
        "\t\t\taux = aux.sgte\n",
        "\t\t\tn=n+1\n",
        "\n",
        "\t\treturn n\n",
        "\n",
        "#Retorna True si las cadenas son iguales\n",
        "# ej: si c1 = Cadena([“E”,”n”]) y c2 = Cadena([“E”,”n”]),\n",
        "# c1.esIgual(c2) retorna True.\n",
        "\tdef esIgual(self, x):\n",
        "\n",
        "\t\tn = self.largo()\n",
        "\n",
        "\t\tif n != x.largo(): return False\n",
        "\n",
        "\t\tif n == 0: return True\n",
        "\n",
        "\t\taux_self = self.primero\n",
        "\t\taux_x = x.primero\n",
        "\n",
        "\t\tfor i in range(n):\n",
        "\t\t\tif aux_self.caracter != aux_x.caracter:\n",
        "\t\t\t\treturn False\n",
        "\n",
        "\t\t\taux_self = aux_self.sgte\n",
        "\t\t\taux_x = aux_x.sgte\n",
        "\n",
        "\t\treturn True\n",
        "\n",
        "\n",
        "#Retorna el carácter en la posición i\n",
        "#\tdef charAt(self, i):\n",
        "\n",
        "#Retorna el string correspondiente a la cadena\n",
        "\tdef string(self):\n",
        "\t\tnodo_aux = self.primero\n",
        "\t\tresultado = \"\"\n",
        "\t\twhile nodo_aux != None:\n",
        "\t\t\tresultado = resultado + nodo_aux.caracter\n",
        "\t\t\tnodo_aux = nodo_aux.sgte\n",
        "\t\treturn resultado\n",
        "\n",
        "\n",
        "c1 = Cadena([\"h\",\"o\",\"l\",\"a\"])\n",
        "print(c1.string())\n",
        "\n",
        "c2 = Cadena([\"h\",\"o\",\"L\",\"a\"])\n",
        "c3 = Cadena([\"H\",\"O\",\"L\", \"A\"])\n",
        "\n",
        "c4 = Cadena([\"h\",\"o\",\"l\",\"A\"])\n",
        "c5 = Cadena([\"h\",\"o\",\"l\",\"a\",\"s\"])\n",
        "\n",
        "print(c1.largo())\n",
        "\n",
        "\n",
        "print(c1.esIgual(c1))\n",
        "print(c1.esIgual(c2))\n",
        "print(c1.esIgual(c3))\n",
        "print(c1.esIgual(c4))\n",
        "print(c1.esIgual(c5))"
      ],
      "metadata": {
        "colab": {
          "base_uri": "https://localhost:8080/"
        },
        "id": "mScAusvSlPO2",
        "outputId": "587e86fc-bfc6-45a9-dc6a-fa547ab2beb0"
      },
      "execution_count": null,
      "outputs": [
        {
          "output_type": "stream",
          "name": "stdout",
          "text": [
            "hola\n",
            "4\n",
            "True\n",
            "False\n",
            "False\n",
            "False\n",
            "False\n"
          ]
        }
      ]
    },
    {
      "cell_type": "code",
      "source": [
        "l = [5,6,1,21]\n",
        "#print(l[1])\n",
        "\n",
        "\n",
        "for i in range(1,len(l)):\n",
        "\tprint(l[i])"
      ],
      "metadata": {
        "colab": {
          "base_uri": "https://localhost:8080/"
        },
        "outputId": "cccc9e8e-5b13-440a-b174-bdb38d6e893f",
        "id": "9PiHnBccqHFU"
      },
      "execution_count": null,
      "outputs": [
        {
          "output_type": "stream",
          "name": "stdout",
          "text": [
            "6\n",
            "1\n",
            "21\n"
          ]
        }
      ]
    }
  ]
}