{
  "nbformat": 4,
  "nbformat_minor": 0,
  "metadata": {
    "colab": {
      "name": "Colab, Pilas, Colas y Colas de Prioridad.ipynb",
      "provenance": []
    },
    "kernelspec": {
      "name": "python3",
      "display_name": "Python 3"
    },
    "language_info": {
      "name": "python"
    }
  },
  "cells": [
    {
      "cell_type": "markdown",
      "metadata": {
        "id": "SlAEFLWZk4Yx"
      },
      "source": [
        "# Google Colab\n",
        "\n",
        "Visite el siguiente video como introducción a Google Colaboratory. Recuerde **activar subtítulos** en español de Latinoamérica.\n",
        "\n",
        "[Get started with Google Colaboratory (~3min.)](https://www.youtube.com/watch?v=inN8seMm7UI)"
      ]
    },
    {
      "cell_type": "markdown",
      "metadata": {
        "id": "NCgv4hiNgi4t"
      },
      "source": [
        "# 5 Pilas, Colas y Colas de Prioridad"
      ]
    },
    {
      "cell_type": "markdown",
      "metadata": {
        "id": "W67AUdovglRz"
      },
      "source": [
        "En este capítulo veremos tres _tipos de datos abstractos_ (_TDAs_) que son muy utilizados.\n",
        "\n",
        "Un tipo de datos abstracto es un conjunto de datos, más operaciones asociadas, para el cual se aplica una política de \"ocultamiento de información\": los usuarios del TDA saben **qué** funcionalidad éste provee, pero no saben **cómo** se implementa esta funcionalidad.\n",
        "\n",
        "Esta separación de responsabilidad es fundamental para mantener la complejidad bajo control.\n",
        "Sólo los implementadores del TDA necesitan preocuparse de su implementación, y además son libres para modificarla en la medida que la interfaz de uso se mantenga intacta."
      ]
    },
    {
      "cell_type": "markdown",
      "metadata": {
        "id": "sbpPOO-7g2gR"
      },
      "source": [
        "## Pilas (\"*Stacks*\")\n",
        "\n",
        "Una **pila**, también llamada *stack* o *pushdown* en inglés, es una lista de elementos en la cual todas las operaciones se realizan solo en un extremo de la lista.\n",
        "\n",
        "Es usual visualizar la pila creciendo verticalmente hacia arriba, y llamamos \"tope\" a su extremo superior:\n",
        "\n",
        "![pila](https://github.com/ppoblete/AED/blob/master/pila.png?raw=1)\n",
        "\n",
        "Las dos operaciones básicas son **push** (apilar), que agrega un elemento encima de todos, y **pop** (desapilar), que extrae el elemento del tope de la pila. Más precisamente, si `s` es un objeto de tipo Pila, están disponibles las siguientes operaciones:\n",
        "\n",
        "* `s.push(x)`: apila x en el tope de la pila `s`\n",
        "* `x=s.pop()`: extrae y retorna el elemento del tope de la pila `s`\n",
        "* `b=s.is_empty()`: retorna verdadero si la pila `s` está vacía, falso si no\n",
        "\n",
        "Dado que los elementos salen de la pila en el orden inverso en que ingresaron, esta estructura también se conoce como \"lista LIFO\", por \"Last-In-First-Out\"."
      ]
    },
    {
      "cell_type": "markdown",
      "metadata": {
        "id": "O66bmBJGhDtp"
      },
      "source": [
        "### Implementación usando listas de Python\n",
        "\n",
        "Es posible implementar una pila muy fácilmente usando las listas que provee el lenguaje Python:"
      ]
    },
    {
      "cell_type": "code",
      "metadata": {
        "id": "EY_Q26PlhHHE"
      },
      "source": [
        "class Pila:\n",
        "    def __init__(self):\n",
        "        self.s=[]\n",
        "    def push(self,x):\n",
        "        self.s.append(x)\n",
        "    def pop(self):\n",
        "        assert len(self.s)>0\n",
        "        return self.s.pop() # pop de lista, no de Pila\n",
        "    def is_empty(self):\n",
        "        return len(self.s)==0"
      ],
      "execution_count": null,
      "outputs": []
    },
    {
      "cell_type": "code",
      "metadata": {
        "colab": {
          "base_uri": "https://localhost:8080/"
        },
        "id": "f-d0pcFnhOfm",
        "outputId": "1eb780a9-556f-4aa6-b395-54f3a97f10f5"
      },
      "source": [
        "a=Pila()\n",
        "a.push(10)\n",
        "a.push(20)\n",
        "print(a.pop())\n",
        "a.push(30)\n",
        "print(a.pop())\n",
        "print(a.pop())"
      ],
      "execution_count": null,
      "outputs": [
        {
          "output_type": "stream",
          "text": [
            "20\n",
            "30\n",
            "10\n"
          ],
          "name": "stdout"
        }
      ]
    },
    {
      "cell_type": "markdown",
      "metadata": {
        "id": "OBRX_J9fhUeu"
      },
      "source": [
        "Esta implementación simple posiblemente sirve en la mayoría de los casos, pero si necesitamos poder garantizar su eficiencia, tenemos el problema que la implementación de las listas de Python está fuera de nuestro control, y no podemos garantizar, por ejemplo, que cada una de las operaciones tome tiempo constante.\n",
        "\n",
        "Por ese motivo, es útil contar con implementaciones en que sí podamos dar ese tipo de garantía."
      ]
    },
    {
      "cell_type": "markdown",
      "metadata": {
        "id": "IHUtprWLh-Vp"
      },
      "source": [
        "### Numpy y Arreglos\n",
        "\n",
        "Numpy es la principal biblioteca para computación científica en Python.\n",
        "\n",
        "Una de las características de Numpy es que provee arreglos multidimensionales de alta eficiencia. Mientras la gran flexibilidad de las listas de Python puede hacer que no sea muy eficiente el acceso a elementos específicos, los arreglos de Numpy aseguran el acceso a cada elemento en tiempo constante. Por esa razón, utilizaremos estos arreglos cuando necesitemos asegurar la eficiencia de la implementación de los algoritmos."
      ]
    },
    {
      "cell_type": "code",
      "metadata": {
        "colab": {
          "base_uri": "https://localhost:8080/"
        },
        "id": "vT2Cbsz4myMa",
        "outputId": "af47d689-5daf-455a-fe4f-2828f8ec3fa8"
      },
      "source": [
        "import numpy as np\n",
        "\n",
        "a = np.array([6.5, 5.2, 4.6, 7.0, 4.3])\n",
        "print(a[2])"
      ],
      "execution_count": null,
      "outputs": [
        {
          "output_type": "stream",
          "text": [
            "4.6\n"
          ],
          "name": "stdout"
        }
      ]
    },
    {
      "cell_type": "code",
      "metadata": {
        "id": "23I4IhYsm4a-",
        "colab": {
          "base_uri": "https://localhost:8080/"
        },
        "outputId": "4ba49feb-de40-4706-eff5-2b242ea37ec3"
      },
      "source": [
        "print(len(a))"
      ],
      "execution_count": null,
      "outputs": [
        {
          "output_type": "stream",
          "text": [
            "5\n"
          ],
          "name": "stdout"
        }
      ]
    },
    {
      "cell_type": "markdown",
      "metadata": {
        "id": "rOJ2cej7oZfi"
      },
      "source": [
        "Hay varias formas de crear arreglos inicializados con ceros, unos, valores constantes o valores aleatorios."
      ]
    },
    {
      "cell_type": "code",
      "metadata": {
        "colab": {
          "base_uri": "https://localhost:8080/"
        },
        "id": "jR13i1IXocza",
        "outputId": "c505c8a0-1031-43c5-f8c2-bc86b0b5f2cf"
      },
      "source": [
        "b = np.ones(10)\n",
        "print(b)"
      ],
      "execution_count": null,
      "outputs": [
        {
          "output_type": "stream",
          "text": [
            "[1. 1. 1. 1. 1. 1. 1. 1. 1. 1.]\n"
          ],
          "name": "stdout"
        }
      ]
    },
    {
      "cell_type": "code",
      "metadata": {
        "colab": {
          "base_uri": "https://localhost:8080/"
        },
        "id": "oRgJae6UohFS",
        "outputId": "3d922d84-0b26-4a17-cb92-89632ea2dd59"
      },
      "source": [
        "c = np.zeros(7,dtype=int)\n",
        "print(c)"
      ],
      "execution_count": null,
      "outputs": [
        {
          "output_type": "stream",
          "text": [
            "[0 0 0 0 0 0 0]\n"
          ],
          "name": "stdout"
        }
      ]
    },
    {
      "cell_type": "markdown",
      "metadata": {
        "id": "2WU7O_OWrWxM"
      },
      "source": [
        "En los dos ejemplos anteriores mostramos la diferencia que se produce al explicitar el tipo de datos del arreglo. En el primero, obtenemos el *default*, que es flotante, mientras en el segundo forzamos a que sea entero."
      ]
    },
    {
      "cell_type": "code",
      "metadata": {
        "colab": {
          "base_uri": "https://localhost:8080/"
        },
        "id": "pWFkYgQTrsM9",
        "outputId": "3c90fb37-dc11-4e4f-c83a-59070b6282fa"
      },
      "source": [
        "c = np.full(5, 2)\n",
        "print(c)"
      ],
      "execution_count": null,
      "outputs": [
        {
          "output_type": "stream",
          "text": [
            "[2 2 2 2 2]\n"
          ],
          "name": "stdout"
        }
      ]
    },
    {
      "cell_type": "code",
      "metadata": {
        "colab": {
          "base_uri": "https://localhost:8080/"
        },
        "id": "33zyYWcGKNz0",
        "outputId": "baae7774-04ff-4e00-9fac-4c16d6422cfc"
      },
      "source": [
        "d = np.random.random(6)\n",
        "print(d)"
      ],
      "execution_count": null,
      "outputs": [
        {
          "output_type": "stream",
          "text": [
            "[0.35640065 0.09732194 0.02349796 0.46170343 0.06758907 0.24967954]\n"
          ],
          "name": "stdout"
        }
      ]
    },
    {
      "cell_type": "markdown",
      "metadata": {
        "id": "crVrxCl5KVVg"
      },
      "source": [
        "También es posible crear y manejar arreglos de varias dimensiones."
      ]
    },
    {
      "cell_type": "code",
      "metadata": {
        "colab": {
          "base_uri": "https://localhost:8080/"
        },
        "id": "zwj8fqazKUth",
        "outputId": "c8cd7481-e03a-4c7c-daef-d3be23ac7dee"
      },
      "source": [
        "a = np.array([[1,2,3],[4,5,6]])\n",
        "print(a)"
      ],
      "execution_count": null,
      "outputs": [
        {
          "output_type": "stream",
          "text": [
            "[[1 2 3]\n",
            " [4 5 6]]\n"
          ],
          "name": "stdout"
        }
      ]
    },
    {
      "cell_type": "code",
      "metadata": {
        "id": "tKP8AogmMPgu",
        "colab": {
          "base_uri": "https://localhost:8080/"
        },
        "outputId": "dc9045cd-c33b-48fd-f2cf-90f0f7ce7bf9"
      },
      "source": [
        "(m,n)=np.shape(a)\n",
        "print(m,n)"
      ],
      "execution_count": null,
      "outputs": [
        {
          "output_type": "stream",
          "text": [
            "2 3\n"
          ],
          "name": "stdout"
        }
      ]
    },
    {
      "cell_type": "code",
      "metadata": {
        "id": "lwKkQsRaMQFd",
        "colab": {
          "base_uri": "https://localhost:8080/"
        },
        "outputId": "d6b37b56-8172-40ff-ecc9-525ea4d7f9aa"
      },
      "source": [
        "b = np.zeros((3,3))\n",
        "print(b)"
      ],
      "execution_count": null,
      "outputs": [
        {
          "output_type": "stream",
          "text": [
            "[[0. 0. 0.]\n",
            " [0. 0. 0.]\n",
            " [0. 0. 0.]]\n"
          ],
          "name": "stdout"
        }
      ]
    },
    {
      "cell_type": "code",
      "metadata": {
        "colab": {
          "base_uri": "https://localhost:8080/"
        },
        "id": "HIiCkjtvMS2M",
        "outputId": "8b55a64b-e8e5-4b9f-bcec-fe6f234007ff"
      },
      "source": [
        "c = np.eye(4)\n",
        "print(c)"
      ],
      "execution_count": null,
      "outputs": [
        {
          "output_type": "stream",
          "text": [
            "[[1. 0. 0. 0.]\n",
            " [0. 1. 0. 0.]\n",
            " [0. 0. 1. 0.]\n",
            " [0. 0. 0. 1.]]\n"
          ],
          "name": "stdout"
        }
      ]
    },
    {
      "cell_type": "markdown",
      "metadata": {
        "id": "1KrFrtCYhYYb"
      },
      "source": [
        "### Implementación de una pila usando un arreglo\n",
        "\n",
        "Utilizaremos un arreglo $s$, en donde los elementos de la pila se almacenarán en los casilleros $0,1,\\ldots$, con el elemento del tope en el casillero ocupado de más a la derecha. Mantendremos una variable $n$ para almacenar el número de elementos presentes en la pila, y el arreglo tendrá un tamaño máximo, el que se podrá especificar opcionalmente al momento de crear la pila.\n",
        "\n",
        "![pila-arreglo](https://github.com/ppoblete/AED/blob/master/pila-arreglo.png?raw=1)"
      ]
    },
    {
      "cell_type": "code",
      "metadata": {
        "colab": {
          "base_uri": "https://localhost:8080/"
        },
        "id": "MLFkuUsxfrTm",
        "outputId": "d3f3b4c0-5e06-4a40-f640-d934516c1492"
      },
      "source": [
        "import numpy as np\n",
        "\n",
        "class Pila:\n",
        "    def __init__(self,maxn=100):\n",
        "        self.s=np.zeros(maxn)\n",
        "        self.n=0\n",
        "    def push(self,x):\n",
        "        assert self.n<len(self.s)-1\n",
        "        self.s[self.n]=x\n",
        "        self.n+=1\n",
        "    def pop(self):\n",
        "        assert self.n>0\n",
        "        self.n-=1\n",
        "        return self.s[self.n]\n",
        "    def is_empty(self):\n",
        "        return self.n==0\n",
        "a=Pila() \n",
        "a.push(10) \n",
        "a.push(20)\n",
        "print(a.is_empty())\n",
        "print(a.pop()) \n",
        "a.push(30) \n",
        "print(a.pop()) \n",
        "print(a.pop())\n",
        "print(a.is_empty())"
      ],
      "execution_count": null,
      "outputs": [
        {
          "output_type": "stream",
          "text": [
            "False\n",
            "20.0\n",
            "30.0\n",
            "10.0\n",
            "True\n"
          ],
          "name": "stdout"
        }
      ]
    },
    {
      "cell_type": "markdown",
      "metadata": {
        "id": "jIgcvB8DNyr4"
      },
      "source": [
        "### Implementación usando una lista enlazada\n",
        "\n",
        "En esta implementación los elementos de la pila se almacenan en una lista de enlace simple (sin cabecera), en que el elemento del tope de la pila es el primero de la lista.\n",
        "\n",
        "![pila-lista](https://github.com/ppoblete/AED/blob/master/pila-lista.png?raw=1)"
      ]
    },
    {
      "cell_type": "code",
      "metadata": {
        "id": "xp_rryTXOrtp"
      },
      "source": [
        "class NodoLista:\n",
        "    def __init__(self,info,sgte=None):\n",
        "        self.info=info\n",
        "        self.sgte=sgte\n",
        "class Pila:\n",
        "    def __init__(self):\n",
        "        self.tope=None\n",
        "    def push(self,x):\n",
        "        self.tope=NodoLista(x,self.tope)\n",
        "    def pop(self):\n",
        "        assert self.tope is not None\n",
        "        x=self.tope.info\n",
        "        self.tope=self.tope.sgte\n",
        "        return x\n",
        "    def is_empty(self):\n",
        "        return self.tope is None"
      ],
      "execution_count": null,
      "outputs": []
    },
    {
      "cell_type": "code",
      "metadata": {
        "id": "BQN2hTQYOvA5",
        "colab": {
          "base_uri": "https://localhost:8080/"
        },
        "outputId": "bbb53426-c6ae-4872-f78f-083350aab4c2"
      },
      "source": [
        "a=Pila()\n",
        "a.push(10)\n",
        "a.push(20)\n",
        "print(a.pop())\n",
        "a.push(30)\n",
        "print(a.pop())\n",
        "print(a.pop())"
      ],
      "execution_count": null,
      "outputs": [
        {
          "output_type": "stream",
          "text": [
            "20\n",
            "30\n",
            "10\n"
          ],
          "name": "stdout"
        }
      ]
    },
    {
      "cell_type": "markdown",
      "metadata": {
        "id": "4bD8QYq88WUZ"
      },
      "source": [
        "### Aplicaciones de pilas\n",
        "\n",
        "#### Evaluación de balanceo de paréntesis en expresiones matemáticas\n",
        "\n",
        "En cualquier expresión aritmética que haga uso de paréntesis es necesario que estas estén balanceadas, es decir, para cada paréntesis que se abra debe haber una que la cierre. De ser así decimos que los paréntesis de la expresión están *balanceados*.\n",
        "\n",
        "Ej:\n",
        "1. ((1+5)+4*3)) no tiene las paréntesis balanceadas.\n",
        "2. ((1+5)+4*3) sí las tiene balanceadas.\n",
        "3. [(4+5+9+10)*5]+20*(4+40) sí las tiene balanceadas.\n",
        "4. [[(4+5+9+10)*5]+20*(4+40)) no las tiene balanceadas.\n",
        "\n",
        "Para solucionar este problema podemos usar una pila haciendo `push` a cada paréntesis de apertura y `pop` a cada paréntesis que cierra."
      ]
    },
    {
      "cell_type": "code",
      "metadata": {
        "colab": {
          "base_uri": "https://localhost:8080/"
        },
        "id": "5pGZNewC-Vt1",
        "outputId": "149973a9-fcd4-48f2-8629-cf0df2edb0b1"
      },
      "source": [
        "def estaBalanceada(exp):\n",
        "  abren=\"[{(\"\n",
        "  cierran=\"]})\"\n",
        "  pila = Pila()\n",
        "\n",
        "  for c in exp:\n",
        "    if c in abren:\n",
        "      pila.push(c)\n",
        "    elif c in cierran:\n",
        "      if pila.is_empty():\n",
        "        return False\n",
        "      x=pila.pop() # sacamos el paréntesis que abre\n",
        "     \n",
        "      # si NO corresponden la de la apertura con la de cierre: False\n",
        "\n",
        "      if x == \"[\" and c !=\"]\":\n",
        "        return False\n",
        "      elif x == \"(\" and c !=\")\":\n",
        "        return False\n",
        "      elif x == \"{\" and c !=\"}\":\n",
        "        return False\n",
        "\n",
        "  if pila.is_empty():\n",
        "    return True\n",
        "  else:\n",
        "    return False\n",
        "\n",
        "print(estaBalanceada(\"((1+5)+4*3))\"))\n",
        "print(estaBalanceada(\"((1+5)+4*3)\"))\n",
        "print(estaBalanceada(\"[(4+5+9+10)5]+20(4+40)\"))\n",
        "print(estaBalanceada(\"[[(4+5+9+10)5]+20(4+40))\"))\n",
        "\n"
      ],
      "execution_count": null,
      "outputs": [
        {
          "output_type": "stream",
          "text": [
            "False\n",
            "True\n",
            "True\n",
            "False\n"
          ],
          "name": "stdout"
        }
      ]
    },
    {
      "cell_type": "markdown",
      "metadata": {
        "id": "O6bX1s9O4ZiC"
      },
      "source": [
        "## Colas (\"*Queues*\")\n",
        "\n",
        "Una cola es una lista en que los elementos ingresan por un extremo y salen por el otro. Debido a que los elementos van saliendo en orden de llegada, una cola también se llama \"lista FIFO\", por \"First-In-First-Out\".\n",
        "\n",
        "![cola](https://github.com/ppoblete/AED/blob/master/cola.png?raw=1)\n",
        "\n",
        "Las dos operaciones básicas son **enq** (encolar), que agrega un elemento al final de todos, y **deq** (desencolar), que extrae el elemento que encabeza la cola. Más precisamente, si `q` es un objeto de tipo Cola, están disponibles las siguientes operaciones:\n",
        "\n",
        "* `q.enq(x)`: encola x al final de la cola `q`\n",
        "* `x=q.deq()`: extrae y retorna el elemento a la cabeza de la cola `q`\n",
        "* `b=q.is_empty()`: retorna verdadero si la cola `q`está vacía, falso si no"
      ]
    },
    {
      "cell_type": "markdown",
      "metadata": {
        "id": "UpEEL5Oj4rhB"
      },
      "source": [
        "### Implementación usando listas de Python\n",
        "\n",
        "Tal como hicimos en el caso de las pilas, es muy simple implementar colas usando las listas de Python, pero no tenemos mucho control sobre la eficiencia del resultado:"
      ]
    },
    {
      "cell_type": "code",
      "metadata": {
        "id": "SBrfA8rM4u1b"
      },
      "source": [
        "class Cola:\n",
        "    def __init__(self):\n",
        "        self.q=[]\n",
        "    def enq(self,x):\n",
        "        self.q.insert(0,x)\n",
        "    def deq(self):\n",
        "        assert len(self.q)>0\n",
        "        return self.q.pop()\n",
        "    def is_empty(self):\n",
        "        return len(self.q)==0"
      ],
      "execution_count": null,
      "outputs": []
    },
    {
      "cell_type": "code",
      "metadata": {
        "colab": {
          "base_uri": "https://localhost:8080/"
        },
        "id": "0-1mRRJ-4yil",
        "outputId": "fb108fab-189c-4415-b36b-c07b4a4890c1"
      },
      "source": [
        "a=Cola()\n",
        "a.enq(72)\n",
        "a.enq(36)\n",
        "print(a.deq())\n",
        "a.enq(20)\n",
        "print(a.deq())\n",
        "print(a.deq())\n",
        "a.enq(61)\n",
        "print(a.deq())"
      ],
      "execution_count": null,
      "outputs": [
        {
          "output_type": "stream",
          "text": [
            "72\n",
            "36\n",
            "20\n",
            "61\n"
          ],
          "name": "stdout"
        }
      ]
    },
    {
      "cell_type": "markdown",
      "metadata": {
        "id": "Ux9CyTGl44L3"
      },
      "source": [
        "### Implementación usando un arreglo\n",
        "\n",
        "De manera análoga a lo que hicimos en el caso de la pila, podemos almacenar los $n$ elementos de la cola usando posiciones contiguas en un arreglo, por ejemplo, las $n$ primeras posiciones.\n",
        "Pero hay un problema: como la cola crece por un extremo y se achica por el otro, ese grupo de posiciones contiguas se va desplazando dentro del arreglo, y después de un rato choca contra el otro extremo. La solución es ver al arreglo como _circular_, esto es, que si el arreglo tiene tamaño $maxn$, a continuación de la posición $maxn-1$ viene la posición $0$. Esto se puede hacer fácilmente usando aritmética módulo $maxn$.\n",
        "\n",
        "Para la implementación, utilizaremos un subíndice $cabeza$ que apunta al primer elemento de la cola, y una variable $n$ que indica cuántos elementos hay en la cola.\n",
        "La siguiente figura muestra dos situaciones en que podría encontrarse el arreglo:\n",
        "\n",
        "![cola-arreglo](https://github.com/ppoblete/AED/blob/master/cola-arreglo.png?raw=1)"
      ]
    },
    {
      "cell_type": "code",
      "metadata": {
        "id": "b0xJkGNI5GNy"
      },
      "source": [
        "import numpy as np\n",
        "class Cola:  \n",
        "    def __init__(self,maxn=100):\n",
        "        self.q=np.zeros(maxn,dtype=int)\n",
        "        self.n=0\n",
        "        self.cabeza=0\n",
        "    def enq(self,x):\n",
        "        assert self.n<len(self.q)-1\n",
        "        self.q[(self.cabeza+self.n)%len(self.q)]=x\n",
        "        self.n+=1      \n",
        "    def deq(self):\n",
        "        assert self.n>0\n",
        "        x=self.q[self.cabeza]\n",
        "        self.cabeza=(self.cabeza+1)%len(self.q)\n",
        "        self.n-=1\n",
        "        return x\n",
        "    def is_empty(self):\n",
        "        return self.n==0"
      ],
      "execution_count": null,
      "outputs": []
    },
    {
      "cell_type": "code",
      "metadata": {
        "colab": {
          "base_uri": "https://localhost:8080/"
        },
        "id": "dNnsXRA45H7Q",
        "outputId": "e0efe109-3c74-414b-d7b3-31585d4f3f5f"
      },
      "source": [
        "a=Cola(3) # para forzar circularidad\n",
        "a.enq(72)\n",
        "a.enq(36)\n",
        "print(a.deq())\n",
        "a.enq(20)\n",
        "print(a.deq())\n",
        "print(a.deq())\n",
        "a.enq(61)\n",
        "print(a.deq())"
      ],
      "execution_count": null,
      "outputs": [
        {
          "output_type": "stream",
          "text": [
            "72\n",
            "36\n",
            "20\n",
            "61\n"
          ],
          "name": "stdout"
        }
      ]
    },
    {
      "cell_type": "markdown",
      "metadata": {
        "id": "GjyV0cdR5OZx"
      },
      "source": [
        "### Implementación usando una lista enlazada\n",
        "\n",
        "El operar en los dos extremos de la cola sugiere de inmediato el uso de una lista de doble enlace, y esa es una opción posible. Pero, como veremos, se puede implementar una cola con una lista de enlace simple:\n",
        "\n",
        "![cola-lista](https://github.com/ppoblete/AED/blob/master/cola-lista.png?raw=1)\n",
        "\n",
        "Una cosa que complica un poco la programación es que el invariante que se ve a la derecha se cumple solo si la cola es no vacía. Para una cola vacía, los dos punteros (primero y último) son nulos. Por lo tanto, un `enq` sobre una cola vacía, y un `deq` que deja una cola vacía serán casos especiales."
      ]
    },
    {
      "cell_type": "code",
      "metadata": {
        "id": "Rc50HKBD5bVx"
      },
      "source": [
        "class NodoLista:\n",
        "    def __init__(self,info,sgte=None):\n",
        "        self.info=info\n",
        "        self.sgte=sgte\n",
        "class Cola:\n",
        "    def __init__(self):\n",
        "        self.primero=None\n",
        "        self.ultimo=None\n",
        "    def enq(self,x):\n",
        "        p=NodoLista(x)\n",
        "        if self.ultimo is not None: # cola no vacía, agregamos al final\n",
        "            self.ultimo.sgte=p\n",
        "            self.ultimo=p\n",
        "        else: # la cola estaba vacía\n",
        "            self.primero=p\n",
        "            self.ultimo=p\n",
        "    def deq(self):\n",
        "        assert self.primero is not None\n",
        "        x=self.primero.info\n",
        "        if self.primero is not self.ultimo: # hay más de 1 elemento\n",
        "            self.primero=self.primero.sgte\n",
        "        else: # hay solo 1 elemento, el deq deja la cola vacía\n",
        "            self.primero=None\n",
        "            self.ultimo=None\n",
        "        return x\n",
        "    def is_empty(self):\n",
        "        return self.primero is None"
      ],
      "execution_count": null,
      "outputs": []
    },
    {
      "cell_type": "code",
      "metadata": {
        "colab": {
          "base_uri": "https://localhost:8080/"
        },
        "id": "OLkPLk6b78CF",
        "outputId": "e7654f45-9d2c-4845-c0d1-7a96af34eb86"
      },
      "source": [
        "a=Cola()\n",
        "a.enq(72)\n",
        "a.enq(36)\n",
        "print(a.deq())\n",
        "a.enq(20)\n",
        "print(a.deq())\n",
        "print(a.is_empty())\n",
        "print(a.deq())\n",
        "print(a.is_empty())\n",
        "a.enq(61)\n",
        "print(a.deq())\n",
        "print(a.is_empty())"
      ],
      "execution_count": null,
      "outputs": [
        {
          "output_type": "stream",
          "text": [
            "72\n",
            "36\n",
            "False\n",
            "20\n",
            "True\n",
            "61\n",
            "True\n"
          ],
          "name": "stdout"
        }
      ]
    },
    {
      "cell_type": "markdown",
      "metadata": {
        "id": "zYhepsoy8JpQ"
      },
      "source": [
        "### Aplicaciones de colas\n",
        "\n",
        "Las colas se utilizan en los sistemas operativos siempre que hay algún recurso que no puede ser compartido. Uno de los procesos que lo requieren tiene acceso al recurso, mientras los demás deben esperar en una cola. Un ejemplo de esto son los sistemas de \"spooling\" para las impresoras.\n",
        "\n",
        "También se usan mucho en sistemas de simulación, cuando se deben modelar situaciones del mundo real en que hay colas. Por ejemplo, la caja en un supermercado.\n"
      ]
    },
    {
      "cell_type": "markdown",
      "metadata": {
        "id": "eC-yZPncGnyb"
      },
      "source": [
        "### Ejercicio: simulación de una cola de supermercado\n",
        "\n",
        "Codifique en Python un programa que simule una cola de Supermercado. Cada persona esté representada por su nombre de pila (Ej: “Alicia”). Para ello debe utilizar una Cola y los servicios que esta ofrece: `push`, `pop` e `is_empty`. A continuación un ejemplo del diálogo del programa:"
      ]
    },
    {
      "cell_type": "markdown",
      "metadata": {
        "id": "sNKV_ky1HJZo"
      },
      "source": [
        "```\n",
        "Cola de Supermercado.\n",
        "Ingrese “+<nombre>” si desea agregar <nombre> a la Cola y “-“ si desea sacar al primero de la cola.\n",
        "Cola vacía\n",
        "? +Alicia\n",
        "1 persona en cola\n",
        "? +Pedro\n",
        "2 personas en cola\n",
        "? -\n",
        "Sale Alicia. 1 persona en la cola\n",
        "? +Andres\n",
        "2 personas en la cola\n",
        "? -\n",
        "Sale Pedro. 1 persona en la cola\n",
        "? -\n",
        "Sale Andres\n",
        "Cola vacia\n",
        "? fin (Termina el programa)\n",
        "```"
      ]
    },
    {
      "cell_type": "markdown",
      "metadata": {
        "id": "vi_ZFwAgJSWn"
      },
      "source": [
        "Codifique la solución a este problema. Una vez terminado, enviélo al correo del o de la profesor(a). Se ofrecen 3 décimas para el siguiente taller a quienes entreguen de forma individual el código antes de la siguiente clase."
      ]
    }
  ]
}