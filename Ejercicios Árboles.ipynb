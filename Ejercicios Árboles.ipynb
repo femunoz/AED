{
  "cells": [
    {
      "attachments": {},
      "cell_type": "markdown",
      "metadata": {},
      "source": [
        "# Ejercicios de Árboles y recursividad"
      ]
    },
    {
      "attachments": {},
      "cell_type": "markdown",
      "metadata": {},
      "source": [
        "#### 1. Conjuntos\n",
        "\n",
        "Construya una clase en Python para almacenar un conjunto de números enteros, sobre la cual se pueda implementar las operaciones siguientes.\n",
        "\n",
        "1. Crear un conjunto vacío.\n",
        "2. Agregar un elemento k al conjunto (puede suponer que ese elemento no estaba anteriormente en el conjunto).\n",
        "3. Preguntar si un elemento k pertenece al conjunto.\n",
        "\n",
        "Utilice un arreglo para almacenar los elementos. Comience con un arreglo de algún tamaño razonable, y si se llena, construya un nuevo arreglo del doble del tamaño, copie hacia él todos los elementos del antiguo arreglo, y siga trabajando con el nuevo. Repita esto cada vez que se llene el arreglo."
      ]
    },
    {
      "attachments": {},
      "cell_type": "markdown",
      "metadata": {},
      "source": [
        "#### 2. Recursividad\n",
        "\n",
        "Escriba una función\n",
        "\n",
        "```\n",
        "# guionifica(): int -> str\n",
        "def guionifica(i):\n",
        "```\n",
        "que retorne el número n en caracteres, con sus dígitos separados por guiones. Por ejemplo, si n vale 35672, debe retornar \"3-5-6-7-2\".\n",
        "\n",
        "Indicación: Piense recursivamente. Use la función str(d) solamente para convertir a string cada uno de los dígitos de n.\n"
      ]
    },
    {
      "attachments": {},
      "cell_type": "markdown",
      "metadata": {},
      "source": [
        "#### 3. Arból binario\n",
        "\n",
        "En un árbol de búsqueda binaria que contiene enteros, queremos buscar todos los enteros menores que uno dado. Escribir el método menoresQue, que reciba el árbol e imprima en pantalla todos los elementos que buscamos."
      ]
    }
  ],
  "metadata": {
    "colab": {
      "collapsed_sections": [
        "0WW1OiVbcAB6",
        "15NMezn3cALU",
        "J5w5UQtRcAfn",
        "bXNfr8b_cAfn"
      ],
      "name": "04 Estructuras de Datos Elementales.ipynb",
      "provenance": []
    },
    "kernelspec": {
      "display_name": "Python 3",
      "language": "python",
      "name": "python3"
    },
    "language_info": {
      "codemirror_mode": {
        "name": "ipython",
        "version": 3
      },
      "file_extension": ".py",
      "mimetype": "text/x-python",
      "name": "python",
      "nbconvert_exporter": "python",
      "pygments_lexer": "ipython3",
      "version": "3.10.9"
    }
  },
  "nbformat": 4,
  "nbformat_minor": 0
}
