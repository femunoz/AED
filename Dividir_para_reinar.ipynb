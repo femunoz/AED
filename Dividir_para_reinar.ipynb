{
  "nbformat": 4,
  "nbformat_minor": 0,
  "metadata": {
    "colab": {
      "name": "Dividir para reinar.ipynb",
      "provenance": []
    },
    "kernelspec": {
      "name": "python3",
      "display_name": "Python 3"
    },
    "language_info": {
      "name": "python"
    }
  },
  "cells": [
    {
      "cell_type": "markdown",
      "metadata": {
        "id": "Fyvyn4atAF18"
      },
      "source": [
        "## Divide y vencerás\n",
        "\n",
        "Este es un método de diseño de algoritmos que se basa en *subdividir* el problema en sub-problemas, resolverlos *recursivamente*, y luego *combinar* las soluciones de los sub-problemas para construir la solución del problema original. Es necesario que los subproblemas tengan la misma estructura que el problema original, de modo que se pueda aplicar la recursividad."
      ]
    },
    {
      "cell_type": "markdown",
      "metadata": {
        "id": "0kCn58mtAUW2"
      },
      "source": [
        "## Ejemplo: Obtener la subsecuencia de suma máxima\n",
        "\n",
        "Dada una sucesión de enteros $$ a_{1}, a_{2}, …, a_{n}$$\n",
        "\n",
        "encontrar e identificar el valor máximo de la suma de una porción consecutiva de la secuencia. \n",
        "\n",
        "Cuando todos los enteros son negativos entendemos que la subsecuencia de suma máxima es la vacía, siendo su suma cero.\n",
        "\n",
        "Ejemplos: \n",
        "\n",
        "1. { -2, 11, -4, 13, -5, 2}\n",
        "2. {1, -3, 4, -2, -1, 6}\n",
        "\n",
        "Si revisamos el problema de forma intuitiva, mediante el uso de esquemas por ejemplo, para 1 y 2 las subsecuencias de suma máxima están marcadas en negrita:\n",
        "\n",
        "1. { -2, **11, -4, 13**, -5, 2}\n",
        "\n",
        "    y la suma de esta es 20.\n",
        "\n",
        "2. {1, -3, **4, -2, -1, 6**}\n",
        "\n",
        "    y la suma de esta es 7.\n"
      ]
    },
    {
      "cell_type": "markdown",
      "metadata": {
        "id": "yZmQ7Hp5DpXD"
      },
      "source": [
        "Esta solución intuitiva utiliza del orden de $n^2$ comparaciones: $\\Theta(n^2)$."
      ]
    },
    {
      "cell_type": "markdown",
      "metadata": {
        "id": "lhGX3fpEEnk5"
      },
      "source": [
        "## Usando divide y vencerás\n",
        "\n",
        "Supongamos ahora que la sucesión dada es {4, -3, 5, -2, -1, 2, 6, -2}. Dividiremos esta secuencia en dos partes iguales, como se muestra en la figura a continuación.\n",
        "\n",
        "\n",
        "![image](https://github.com/femunoz/AED/blob/main/recursos/Divide%20y%20vencera%CC%81s.png?raw=1)\n",
        "\n",
        "Entonces la subsecuencia de suma máxima puede aparecer en una de estas tres formas:\n",
        "\n",
        "*   *Caso 1*: está totalmente incluida en la primera mitad.\n",
        "*   *Caso 2*: está totalmente incluida en la segunda mitad.\n",
        "*   *Caso 3*: comienza en la primera mitad, pero termina en la segunda.\n",
        "\n",
        "\n",
        "La figura anterior muestra que podemos calcular, para cada elemento de la primera mitad, la suma de la subsecuencia contigua que termina en el elemento situado más a la derecha. Hacemos esto con un recorrido de derecha a izquierda, partiendo del elemento situado entre las dos mitades. Análogamente, podemos calcular la suma de todas las subsecuencias contiguas que comiencen con el primer elemento de la segunda mitad. Entonces se puede combinar estas dos subsecuencias para formar la subsecuencia de suma máxima que cruza la línea divisoria. En el ejemplo de la figura, la secuencia resultante va desde el primer elemento de la primera mitad hasta el penúltimo elemento de la segunda mitad. La suma total es la suma de las dos subsecuencias, 4+7 = 11. Esto nos muestra que el caso 3 se puede resolver en tiempo lineal.\n",
        "\n",
        "Tanto para el caso 1 como el caso 2, tenemos el mismo problema original, pero para una secuencia de tamaño $n/2$, es decir el mismo $\\Theta(n^2)$ (recordemos que se obvían los coeficientes).\n",
        "\n",
        "Sin embargo, podemos aplicar la misma estrategia de división por la mitad en los casos 1 y 2. Podemos continuar dividiendo hasta que sea imposible dividir más. Esto equivale, más concretamente, a resolver los casos 1 y 2 recursivamente. Se puede demostrar que esto reduce el tiempo de ejecución por de bajo de cuadrático, pues los ahorros se acumulan a lo largo de la ejecución del algoritmo. Mostramos a continuación un esquema del algoritmo:\n",
        "\n",
        "1.   Calcular recursivamente la subsecuencia de suma máxima que está totalmente contenida en la primera mitad. \n",
        "\n",
        "2.   Calcular recursivamente la subsecuencia de suma máxima que está totalmente contenida en la segunda mitad.\n",
        "\n",
        "3.   Calcular, usando dos bucles consecutivos, la subsecuencia de suma máxima que comienza en la primera mitad pero termina en la segunda. \n",
        "\n",
        "4.   Elegir la mayor de las tres sumas.\n",
        "\n",
        "El método resultante aparece a continuación. Un algoritmo recursivo nos exige definir un caso base. Naturalmente, cuando el dato es un solo elemento, no usamos recursión.\n",
        "\n",
        "A la llamada recursiva se le pasa el vector de entrada junto con los límites izquierdo y derecho, los cuales delimitan la porción de vector sobre la que se está operando. Una rutina guía de una línea inicializa los parámetros límite a 0 y N - 1.\n"
      ]
    },
    {
      "cell_type": "code",
      "metadata": {
        "colab": {
          "base_uri": "https://localhost:8080/"
        },
        "id": "7tzqvqbzPjJx",
        "outputId": "626af6ca-9617-417f-9f63-afc0632c712c"
      },
      "source": [
        "def max3(a,b,c):\n",
        "  aux=[]\n",
        "  aux.append(a)\n",
        "  aux.append(b)\n",
        "  aux.append(c)\n",
        "\n",
        "  max = -1000\n",
        "  for e in aux:\n",
        "    if e > max:\n",
        "      max = e\n",
        "  \n",
        "  return max\n",
        "\n",
        "def maxSumaRec( a, izq, der): # Sub-problema cualquiera\n",
        "                              # a: [][   ][   ] | [][][]. (n=6)\n",
        "                              #       izq  der\n",
        "                              # \n",
        "                              # Sub-problema inicial\n",
        "                              # a: [   ][   ][        ] | [][][    ]\n",
        "                              #    izq=0.     centro=2.        der=5\n",
        "  maxSumIzqBorde = 0; maxSumDerBorde = 0\n",
        "  sumIzqBorde = 0; sumDerBorde = 0\n",
        "\n",
        "  centro = int((izq+der)/2)\n",
        "\n",
        "  # CASO BASE:\n",
        "\n",
        "  if izq == der:\n",
        "    if a[izq] > 0:\n",
        "      return a[izq]\n",
        "    else:\n",
        "      return 0\n",
        "\n",
        "  # Se busca de forma recursiva la suma máxima en la sección izquierda\n",
        "  maxSumIzq = maxSumaRec(a, izq, centro)\n",
        "\n",
        "  # Se busca de forma recursiva la suma máxima en la sección derecha\n",
        "  maxSumDer = maxSumaRec(a, centro+1, der)\n",
        "\n",
        "\n",
        "  for i in range(centro, izq-1,-1): # al ppio: 3, 2, 1, 0 , para el ej.\n",
        "    sumIzqBorde += a[i]\n",
        "    if sumIzqBorde > maxSumIzqBorde:\n",
        "      maxSumIzqBorde = sumIzqBorde\n",
        "  \n",
        "  for j in range(centro+1, der+1): # al ppio: 4, 5, 6, 7\n",
        "    sumDerBorde += a[j]\n",
        "    if sumDerBorde > maxSumDerBorde:\n",
        "      maxSumDerBorde = sumDerBorde\n",
        "\n",
        "  return max3(maxSumIzq,maxSumDer, maxSumIzqBorde+maxSumDerBorde)\n",
        "\n",
        "a = [4,-3,5,-2,-1,2,6,-2]\n",
        "print(maxSumaRec(a,0,len(a)-1))\n",
        "\n",
        "b = [-2, 11, -4, 13, -5, 2]\n",
        "print(maxSumaRec(b,0,len(b)-1))\n",
        "\n",
        "c = [1, -3, 4, -2, -1, 6]\n",
        "print(maxSumaRec(c,0,len(c)-1))\n"
      ],
      "execution_count": null,
      "outputs": [
        {
          "output_type": "stream",
          "text": [
            "11\n",
            "20\n",
            "7\n"
          ],
          "name": "stdout"
        }
      ]
    },
    {
      "cell_type": "markdown",
      "metadata": {
        "id": "j3AX_aBPpBOY"
      },
      "source": [
        "### Ejercicio de divide y vencerás\n",
        "\n",
        "Si tenemos dos números complejos\n",
        "\n",
        "$$\n",
        "\\begin{align}\n",
        "u&=a+bi\\\\\n",
        "v&=c+di\n",
        "\\end{align}\n",
        "$$\n",
        "\n",
        "podemos calcular su producto\n",
        "\n",
        "$$\n",
        "uv=(ac-bd)+(ad+bc)i\n",
        "$$\n",
        "\n",
        "haciendo 4 multiplicación de números reales.\n",
        "\n",
        "Encuentre una forma de realizar este cálculo haciendo solo 3 multiplicaciones de números reales."
      ]
    },
    {
      "cell_type": "markdown",
      "metadata": {
        "id": "FxFWupRd8pah"
      },
      "source": [
        "## Referencias\n",
        "\n",
        "1. Weiss, M. A., & Marroquín, O. (2000). Estructuras de datos en JavaTM. Addison-Wesley.\n",
        "\n",
        "2. Apuntes de Patricio Poblete (U. de Chile) disponible en: https://github.com/ivansipiran/AED-Apuntes#Algoritmos-y-Estructuras-de-Datos (visitado en mayo 2021)"
      ]
    }
  ]
}