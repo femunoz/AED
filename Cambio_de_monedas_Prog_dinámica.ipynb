{
  "nbformat": 4,
  "nbformat_minor": 0,
  "metadata": {
    "colab": {
      "name": "Cambio de monedas - Prog. dinámica.ipynb",
      "provenance": []
    },
    "kernelspec": {
      "name": "python3",
      "display_name": "Python 3"
    },
    "language_info": {
      "name": "python"
    }
  },
  "cells": [
    {
      "cell_type": "markdown",
      "metadata": {
        "id": "YHVO9JCxw0LU"
      },
      "source": [
        "#Programación dinámica\n",
        "###Fuente: Mark Allen Weiss, Estructuras de datos en Java.\n",
        "\n",
        "\n",
        "Todo problema que se puede expresar recursivamente en forma matemática también se puede expresar directamente como un algoritmo recursivo. En muchos casos, hacer esto produce una mejora significativa en el rendimiento con respecto a una búsqueda exhaustiva ingenua. Cualquier fórmula matemática recursiva se podría traducir directamente a un algoritmo recursivo, pero a menudo el compilador no hace justicia al algoritmo recursivo y se obtiene un programa ineficiente. Éste es el caso del cálculo de los números de Fibonacci. En tales casos, podemos rescribir el algoritmo recursivo como un algoritmo no recursivo que sistemáticamente guarda las respuestas de los subproblemas resueltos en una tabla. Una técnica que hace uso de esta estrategia es la *programación dinámica*. Esta técnica se ilustra con el siguiente problema:\n",
        "\n",
        "\n",
        "> ### *Problema del cambio de monedas*\n",
        ">*Para una divisa con monedas de $C_{1}, C_{2}..... C_{n}$ (unidades). ¿cuál es el mínimo número de monedas que se necesitan para devolver K unidades de cambio?*\n",
        "\n",
        "La divisa española tiene monedas de 1, 5, 10 y 25 pesetas (antes de la adopción del Euro. Ignoremos las monedas de 50 pesetas, por ser poco frecuentes). Podemos juntar 63 pesetas usando:\n",
        "\n",
        " - dos monedas de 25 pesetas, \n",
        " - una moneda de 10 pesetas y \n",
        " - tres de 1 peseta, \n",
        " \n",
        "lo que hace un total de 6 monedas. Cambiar monedas en esta divisa es sencillo: usamos repetidamente la moneda con mayor valor que tengamos disponible. Se puede de mostrar que para la divisa española, esto siempre minimiza el número total de monedas usadas. Éste es un ejemplo de los llamados *algoritmos voraces o devoradores* (*greedy* en inglés), en los cuales se toma una decisión en cada fase que parece ser la apropiada, sin tener en cuenta futuras consecuencias. Esta estrategia de «coge todo lo que puedas ahora>> es la fuente del nombre de esta clase de algoritmos. Resulta agradable que un problema se pueda resolver usando un algoritmo devorador, ya que entonces el algoritmo se suele acercar bastante a nuestra intuición y además el código producido resulta comprensible. \n",
        "\n",
        "Desafortunadamente los algoritmos devoradores no siempre funcionan correctamente. Si la divisa española contuviera una moneda de 21 pesetas, entonces el algoritmo devorador seguiría dando una solución de seis monedas, cuando la solución óptima usa tres (de 21 pesetas). \n",
        "\n",
        "La pregunta se convierte entonces en cómo resolver el problema para un con junto de monedas arbitrario. Supongamos que siempre existe una moneda de 1 unidad, con lo que nos aseguramos de que el problema tiene siempre solución. Una estrategia simple para reunir $K$ unidades consiste en usar la recursión como sigue:\n",
        "\n",
        "1. Si con una sola moneda ya podemos devolver el cambio solicitado, ésta (1) es la cantidad mínima de monedas.\n",
        "2. En caso contrario, para cada posible valor $i$ podemos calcular de forma independiente el número mínimo de monedas que se necesitan para reunir y $K- i$ unidades, y elegimos el $i$ que minimice la suma de ambos.\n",
        "\n",
        "Como ejemplo, una vez introducida la moneda de 21 unidades, veamos cómo podemos devolver 63 unidades de cambio. Claramente, una moneda no es suficiente. Podemos calcular independientemente el número de monedas requerido para devolver 1 unidad y 62 unidades de cambio (que son 1 y 4 respectivamente). Estos resultados se obtienen recursivamente, por lo que podemos asumirlos como óptimos (las 62 unidades se reúnen con dos monedas de 21 unidades y dos de 10 unidades). Obtenemos así una solución con cinco monedas. Si dividimos el problema en 2 y 61 unidades, las soluciones recursivas son respectivamente 2 y 4, dando un total de seis monedas. Continuamos probando todas las posibilidades, algunas de las cuales se muestran en la Figura 7.20. Eventualmente, llegamos a la división en 21 y 42 unidades, que se pueden obtener usando respectivamente 1 y 2 monedas, lo que hace un total de tres.\n",
        "\n",
        "![Cantidad de monedas](https://github.com/femunoz/AED/blob/main/recursos/cantidadMonedas.jpg?raw=1)\n",
        "\n",
        "\n",
        "La última división probaría con 31 y 32 unidades. Podemos reunir 31 unidades con dos monedas y 32 con tres, lo que hace un total de cinco monedas. En consecuencia, el mínimo sigue siendo tres monedas.\n",
        "\n",
        "De nuevo, cada uno de los subproblemas se está resolviendo recursivamente, lo cual genera de forma natural el algoritmo del código a continuación. Si ejecutamos el algoritmo para cambiar cantidades pequeñas, funciona perfectamente, pero al igual que ocurría en el cálculo de los números de Fibonacci hay demasiado trabajo redundante. Como consecuencia, el algoritmo no terminará en una cantidad razonable de tiempo para el caso de las 63 unidades.\n"
      ]
    },
    {
      "cell_type": "code",
      "metadata": {
        "colab": {
          "base_uri": "https://localhost:8080/"
        },
        "id": "rEu7qq_ma9js",
        "outputId": "2e8a82db-7060-4598-8df8-f7c6c582ad43"
      },
      "source": [
        "### devCambio: arr int int -> int\n",
        "# Devuelve el mínimo de monedas para devolver\n",
        "# un cambio o vuelto.\n",
        "#\n",
        "# Ej: devCambio([1,5,10,21,25], 63, 5)\n",
        "# retorna 3\n",
        "\n",
        "### Es un algoritmo recursivo MUY INEFICIENTE\n",
        "\n",
        "\n",
        "def devCambio(arrMonedas, cambio, nMonDist):\n",
        "\n",
        "  minMon = cambio\n",
        "\n",
        "  # Buscamos una moneda qe reúna el cambio exacto\n",
        "\n",
        "  # CASO base de recursión\n",
        "\n",
        "  for i in range(0,nMonDist):\n",
        "    if arrMonedas[i] == cambio:\n",
        "      return 1\n",
        "\n",
        "  # Caso recursivo\n",
        "  \n",
        "  # No existe moneda que calce\n",
        "  # con cambio.\n",
        "  # Resolvemos recursivamente.\n",
        "\n",
        "  for i in range(1,(cambio//2)+1):\n",
        "    monAct = devCambio(arrMonedas,i,nMonDist) + devCambio(arrMonedas,cambio-i,nMonDist)\n",
        "\n",
        "    if monAct < minMon:\n",
        "      minMon = monAct\n",
        "      \n",
        "\n",
        "  return minMon\n",
        "\n",
        "# Si llamamos a la función para un cambio de 63 pesetas, el algoritmo toma un tiempo\n",
        "# excesivo. Puede ejecutar la siguiente línea para verlo.\n",
        "print( devCambio([1,5,10,21,25], 63, 5) )\n",
        "\n",
        "# Como se dijo, el algoritmo se ejecuta en un tiempo razonable para cantidades \n",
        "# pequeñas para el cambio. Comente la llamada anterior y descomente la siguiente\n",
        "# para comprobarlo. \n",
        "\n",
        "# print( devCambio([1,5,10,21,25], 17, 5) )\n"
      ],
      "execution_count": null,
      "outputs": [
        {
          "output_type": "stream",
          "text": [
            "4\n"
          ],
          "name": "stdout"
        }
      ]
    },
    {
      "cell_type": "markdown",
      "metadata": {
        "id": "naE_riL0kBbs"
      },
      "source": [
        "Un algoritmo alternativo consiste en reducir recursivamente el tamaño del problema especificando una primera moneda. Por ejemplo, para 63 unidades, podemos dar cambio de cada una de las formas siguientes, que se muestran en la Figura 7.22:\n",
        "\n",
        "- Una moneda de 1 unidad más el número de monedas necesarios para cambiar 62 unidades, calculado de forma recursiva.\n",
        "\n",
        "- Una moneda de 5 unidades más número de monedas necesarios para cambiar 58 unidades, calculado de forma recursiva.\n",
        "\n",
        "- Una moneda de 10 unidades más el número de monedas necesarios cambiar 53 unidades, calculado de forma recursiva. \n",
        "- Una moneda de 21 unidades más el número de monedas necesarios para cambiar 42 unidades, calculado de forma recursiva.\n",
        "\n",
        "- Una moneda de 25 unidades más el número de monedas necesarios para cambiar 38 unidades, calculado de forma recursiva.\n",
        "\n",
        "\n",
        "![AlgoritmoAlternativo](https://github.com/femunoz/AED/blob/main/recursos/CambioRecursivoAlternativo.jpg?raw=1)\n",
        "\n",
        "\n",
        "En lugar de generar 62 problemas recursivamente, como se hizo en la Figura 7.20, ahora solamente realizamos cinco llamadas recursivas, una por cada tipo distinto de moneda. A pesar de ello, una implementación recursiva ingenua seguiría siendo ineficiente porque repetiría cálculos. Por ejemplo, en el primer caso tenemos que resolver el problema de devolver 62 unidades de cambio. En este subproblema, una de las llamadas recursivas que se hacen elige una moneda de 10 unidades y resuelve recursivamente el problema para 52 unidades. Por otro lado, en el tercer caso tenemos que resolver el problema de devolver 53 unidades. Una de sus llamadas recursivas quita una unidad y resuelve recursivamente el problema para 52 unidades. Este trabajo redundante produce otra vez una gran cantidad de tiempo de ejecución. Sin embargo, si replanteamos radicalmente la forma de implementar el algoritmo, podemos hacer que el mismo sea razonablemente rápido.\n",
        "\n",
        "El truco está en guardar las soluciones de los subproblemas en un vector. Esta técnica de **programación dinámica** forma la base de muchos algoritmos. Puesto que la solución a un problema grande depende solamente de las soluciones de problemas más pequeños, podemos ir calculando las soluciones óptimas correspondientes a cambiar 1 unidad, 2 unidades, 3 unidades y así sucesivamente. Esta estrategia se implementa en el programa a continuación.\n",
        "\n"
      ]
    },
    {
      "cell_type": "code",
      "metadata": {
        "id": "r_Vq6O35zNH2"
      },
      "source": [
        "# Algoritmo de programación dinámica para el problema de la devolución \n",
        "# del cambio. Como resultado, el vector arrMonUsadas se rellena con\n",
        "# el mínimo número de monedas necesario para cambiar desde 0 hasta \n",
        "# maxCambio unidades, y arrUltMon contiene una de las monedas\n",
        "# necesarias para hacer el cambio.\n",
        "\n",
        "# arrMonUsadas[maxCambio] representa el mínimo número de monedas necesarias para cambiar \n",
        "# maxCambio unidades\n",
        "\n",
        "def devCambio(arrMonedas, nMonDist, maxCambio, arrMonUsadas, arrUltMon):\n",
        "\n",
        "    arrMonUsadas[0] = 0\n",
        "    arrUltMon[0] = 1\n",
        "\n",
        "    for unidades in range(1,maxCambio+1):\n",
        "        \n",
        "        minMon = unidades\n",
        "        nvaMon = 1\n",
        "\n",
        "        for i in range(0,nMonDist):\n",
        "            \n",
        "            if arrMonedas[i] <= unidades: \n",
        "                if arrMonUsadas[ unidades - arrMonedas[i]] + 1 < minMon:\n",
        "                    minMon = arrMonUsadas[unidades - arrMonedas[i]] + 1\n",
        "                    nvaMon = arrMonedas[i]\n",
        "        \n",
        "        \n",
        "        arrMonUsadas[unidades] = minMon\n",
        "        arrUltMon[unidades] = nvaMon\n",
        "\n"
      ],
      "execution_count": null,
      "outputs": []
    },
    {
      "cell_type": "markdown",
      "metadata": {
        "id": "XBrH45joy9PW"
      },
      "source": [
        "Comenzamos observando en la línea 3, que 0 unidades se pueden cambiar usando cero monedas. A continuación, a partir de la línea 6 vamos calculando el cambio óptimo para cada valor de unidades desde 1 hasta el valor solicitado `maxCambio`. El vector `arrUltMon` se usa para recordar cuál fue la última moneda usada para devolver el cambio óptimo en cada caso. Para calcular la forma óptima de devolver `unidades` unidades, probamos con cada tipo de moneda, como se indica en el bucle `for` de la línea 11. Si el valor de la moneda es mayor que la cantidad que queremos cambiar, entonces no hacemos nada. En caso contrario (`if` de línea 13), en la línea 14 comprobamos si el número de monedas usado para resolver el subproblema restante más 1 (por la moneda actual) es menor que las usadas hasta el momento. Si es así, realizamos la actualización de `minMon` en las líneas 13 a 16. Cuando el bucle termina, en las líneas 19 y 20 se almacenan los valores obtenidos de `minMon` y `nvaMon` en los vectores.\n",
        "\n",
        "Al final del algoritmo, `arrMonUsadas[maxCambio]` representa el mínimo número de monedas necesarias para cambiar `maxCambio` unidades. Volviendo hacia atrás a lo largo de `arrUltMon`, podemos averiguar las monedas necesarias para obtener la solución óptima. El tiempo de ejecución es el de los dos bucles `for` anidados, y por tanto es $O(NK)$, donde $N$ es el número de monedas con distintos valores y $K$ la cantidad (máxima) de cambio que queremos devolver.\n",
        "\n"
      ]
    }
  ]
}