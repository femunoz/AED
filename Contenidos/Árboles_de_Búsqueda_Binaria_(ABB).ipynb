{
  "nbformat": 4,
  "nbformat_minor": 0,
  "metadata": {
    "colab": {
      "name": "Árboles de Búsqueda Binaria (ABB).ipynb",
      "provenance": [],
      "collapsed_sections": [
        "b70bAlt8GRgt",
        "Dh9EXuREGRgu",
        "KQgj4emkGRgu",
        "PhOlVyOqGRgv",
        "6P17DE67GRgv",
        "7uFsBhVuGRgx",
        "G3_jYjkIGRgy",
        "qrFy5fapGRgy",
        "KkpXRTaPGRgy",
        "cCj4InEWGRgz",
        "E0v82yqgGRg0",
        "szac2cqOGRg1",
        "44aj5h68GRg1",
        "TlM6L6ZRGRg3",
        "o241gLnNGRg4",
        "ln5LtBWMGRg4",
        "EymvWLpnGRg5",
        "JzqgVzQRGRg5",
        "Xs4U2n_DGRg5",
        "7noXkj3bGRg6",
        "4ItAIfMkGRg6",
        "W6ktEMJ9GRg6",
        "rcjI85J1GRg6",
        "uwDjly4JGRg7",
        "pCFgAzMcGRg7",
        "EEOquAqAGRg7",
        "BH-DvWRyGRg7",
        "qSLpCD3_GRg7",
        "r6Eey-qXGRg8",
        "248kZ1B0GRg8",
        "Tp055Yo-GRg8",
        "6vyUh8_-GRg8",
        "oaSvXmoIGRg8",
        "8R6diHoyGRg8",
        "dQCgI7uCGRg8",
        "BAWA_R6DGRg9",
        "ziZHubHQGRg9",
        "yug_u5MmGRg9",
        "nB2LR__qGRg9",
        "jhiKyzRLGRg9",
        "1wxaXwQEGRg9",
        "abDm3QrxGRg9",
        "st15OGyPGRg9",
        "gvFJztmcGRg-",
        "oievNKHxGRg-",
        "DpeoxGOgGRg-",
        "Q0q-CFmXGRg_",
        "f94eeGKiGRg_",
        "MugBqUadGRg_",
        "rMamn9bjGRg_",
        "8wCLrWwHGRg_",
        "NuhNELt7GRhA",
        "wDytf2cHGRhA",
        "2HEafQJhGRhB",
        "VfuJ_vepGRhB",
        "JYrXv2zFGRhB",
        "coMAJBtKGRhB",
        "FhBOcHO4GRhB"
      ],
      "toc_visible": true,
      "include_colab_link": true
    },
    "kernelspec": {
      "display_name": "Python 3",
      "language": "python",
      "name": "python3"
    },
    "language_info": {
      "codemirror_mode": {
        "name": "ipython",
        "version": 3
      },
      "file_extension": ".py",
      "mimetype": "text/x-python",
      "name": "python",
      "nbconvert_exporter": "python",
      "pygments_lexer": "ipython3",
      "version": "3.6.3"
    }
  },
  "cells": [
    {
      "cell_type": "markdown",
      "metadata": {
        "id": "view-in-github",
        "colab_type": "text"
      },
      "source": [
        "<a href=\"https://colab.research.google.com/github/femunoz/AED/blob/main/%C3%81rboles_de_B%C3%BAsqueda_Binaria_(ABB).ipynb\" target=\"_parent\"><img src=\"https://colab.research.google.com/assets/colab-badge.svg\" alt=\"Open In Colab\"/></a>"
      ]
    },
    {
      "cell_type": "code",
      "metadata": {
        "collapsed": true,
        "id": "0ne8VAnMGXio"
      },
      "source": [
        "!pip install aed-utilities\n",
        "\n",
        "import aed_utilities as aed"
      ],
      "execution_count": null,
      "outputs": []
    },
    {
      "cell_type": "markdown",
      "metadata": {
        "id": "DYXHHULBGRgl"
      },
      "source": [
        "## Diccionarios\n",
        "\n",
        "El TDA Diccionario es uno de los más usados en la práctica, y se conocen mucha formas distintas de implementarlo.\n",
        "\n",
        "Un Diccionario es un conjunto de $n$ elementos, cada uno de los cuales tiene un campo que permite identificarlo de manera única (ese campo se llama su *llave primaria*), sobre el cual están definidas las operaciones de buscar, insertar, eliminar, y ocasionalmente otras que definiremos más adelante.\n",
        "Más precisamente, si $d$ es un diccionario, existirán las operaciones:\n",
        "\n",
        "* `r=d.search(x)`: buscar el elemento de llave `x`, retornar un resultado que permita ubicarlo, o `None` si no está\n",
        "* `d.insert(x)`: insertar un elemento de llave `x`, evitando crear una llave duplicada\n",
        "* `d.delete(x)`: eliminar el elemento de llave `x`, el cual debe estar en el diccionario"
      ]
    },
    {
      "cell_type": "markdown",
      "metadata": {
        "id": "3gP2KkUjGRgp"
      },
      "source": [
        "## Diccionarios de Python\n",
        "\n",
        "El lenguaje Python posee un tipo `dict` que implementa la funcionalidad de diccionarios que hemos descrito (más operaciones adicionales). En un diccionario se busca por una llave y se obtiene un valor asociado."
      ]
    },
    {
      "cell_type": "code",
      "metadata": {
        "collapsed": true,
        "id": "-H-QsYnkGRgq"
      },
      "source": [
        "distancia = {'Valparaíso':102, 'Concepción': 433, 'Arica': 1664, 'Puerto Montt': 912, 'Rancagua': 80}"
      ],
      "execution_count": null,
      "outputs": []
    },
    {
      "cell_type": "markdown",
      "metadata": {
        "id": "GW-XwCV9GRgq"
      },
      "source": [
        "La forma de buscar es simplemente usando la llave como subíndice:"
      ]
    },
    {
      "cell_type": "code",
      "metadata": {
        "collapsed": true,
        "id": "nrTbUdibGRgq"
      },
      "source": [
        "print(distancia['Arica'])"
      ],
      "execution_count": null,
      "outputs": []
    },
    {
      "cell_type": "markdown",
      "metadata": {
        "id": "8XLWUZ8sGRgr"
      },
      "source": [
        "Y la forma de agregar una nueva llave es asignándole un valor:"
      ]
    },
    {
      "cell_type": "code",
      "metadata": {
        "collapsed": true,
        "id": "hk_XoYl0GRgr"
      },
      "source": [
        "distancia['Talca']=237"
      ],
      "execution_count": null,
      "outputs": []
    },
    {
      "cell_type": "markdown",
      "metadata": {
        "id": "ohctsIV9GRgr"
      },
      "source": [
        "Al buscar una llave inexistente se produce una excepción:"
      ]
    },
    {
      "cell_type": "code",
      "metadata": {
        "collapsed": true,
        "id": "zhmyxoIiGRgr"
      },
      "source": [
        "print(distancia['La Serena'])"
      ],
      "execution_count": null,
      "outputs": []
    },
    {
      "cell_type": "markdown",
      "metadata": {
        "id": "IZYz3ZkzGRgs"
      },
      "source": [
        "Pero hay una forma de buscar sin que dé un error, sino que retorne `None`:"
      ]
    },
    {
      "cell_type": "code",
      "metadata": {
        "collapsed": true,
        "id": "7IhmjZx_GRgs"
      },
      "source": [
        "print(distancia.get('Rancagua'), distancia.get('La Serena'))"
      ],
      "execution_count": null,
      "outputs": []
    },
    {
      "cell_type": "markdown",
      "metadata": {
        "id": "6YRcQdsrGRgs"
      },
      "source": [
        "Para eliminar un dato, se usa `pop` (lo elimina y retorna su valor):"
      ]
    },
    {
      "cell_type": "code",
      "metadata": {
        "collapsed": true,
        "id": "HJ2iCnpaGRgs"
      },
      "source": [
        "distancia.pop('Rancagua')"
      ],
      "execution_count": null,
      "outputs": []
    },
    {
      "cell_type": "markdown",
      "metadata": {
        "id": "wvlxD9UXGRgs"
      },
      "source": [
        "Aparte de esto, hay muchas otras operaciones que permiten obtener la lista de todas las llaves, etc.\n",
        "\n",
        "Dado que en Python ya existe una implementación de diccionarios, ¿por qué querríamos estudiar nosotros cómo implementarlos?\n",
        "\n",
        "La respuesta está en que, si nosotros controlamos todos los detalles de una implementación, sabremos exactamente cuan eficiente es, y para qué tipo de aplicaciones es más apropiada. Lo último es particularmente importante, porque no hay ninguna implementación de diccionarios que sea uniformemente mejor que las otras para todas las aplicaciones.\n",
        "\n",
        "Estudiaremos entonces cómo se puede implementar un diccionario, comenzando por las estrategias más sencillas, y avanzando hacia enfoques más sofisticados.\n",
        "\n",
        "En nuestros ejemplos supondremos que solo almacenamos la llave, pero en la práctica siempre habrá información adicional asociada a cada llave. También por simplicidad a menudo usaremos llaves numéricas, aunque en la práctica es más frecuente que las llaves sean strings."
      ]
    },
    {
      "cell_type": "markdown",
      "metadata": {
        "id": "b70bAlt8GRgt"
      },
      "source": [
        "## Búsqueda secuencial\n",
        "\n",
        "La manera más simple de implementar un diccionario es con una lista desordenada de llaves, en la cual se hace búsqueda secuencial. La inserción es especialmente eficiente si obviamos chequear por duplicados, y la eliminación es eficiente una vez que sabemos dónde está la llave."
      ]
    },
    {
      "cell_type": "code",
      "metadata": {
        "collapsed": true,
        "id": "LKFd6QTyGRgt"
      },
      "source": [
        "import numpy as np"
      ],
      "execution_count": null,
      "outputs": []
    },
    {
      "cell_type": "code",
      "metadata": {
        "collapsed": true,
        "id": "uvFVFWhDGRgt"
      },
      "source": [
        "class Lista_secuencial:\n",
        "    def __init__(self, size=100):\n",
        "        self.a=np.zeros(size,dtype=int)\n",
        "        self.n=0\n",
        "    def insert(self,x):\n",
        "        assert self.n<len(self.a)\n",
        "        self.a[self.n]=x\n",
        "        self.n+=1\n",
        "    def search(self,x):\n",
        "        for k in range(0,self.n):\n",
        "            if self.a[k]==x:\n",
        "                return k\n",
        "        return None\n",
        "    def delete(self,x):\n",
        "        k=self.search(x)\n",
        "        self.a[k]=self.a[self.n-1] # movemos el último al lugar vacante\n",
        "        self.n-=1"
      ],
      "execution_count": null,
      "outputs": []
    },
    {
      "cell_type": "code",
      "metadata": {
        "collapsed": true,
        "id": "IZytCA6rGRgt"
      },
      "source": [
        "d=Lista_secuencial()\n",
        "d.insert(30)\n",
        "d.insert(10)\n",
        "d.insert(25)\n",
        "print(d.search(10))\n",
        "print(d.search(80))\n",
        "d.delete(30)\n",
        "print(d.search(30))"
      ],
      "execution_count": null,
      "outputs": []
    },
    {
      "cell_type": "markdown",
      "metadata": {
        "id": "xbScy-GlGRgt"
      },
      "source": [
        "La búsqueda secuencial también se puede implementar con una lista enlazada, en cuyo caso será más simple insertar al inicio.\n",
        "\n",
        "En cualquier caso, la búsqueda demora tiempo $\\Theta(n)$.\n",
        "Para estimar el costo promedio, suponemos que todos los elementos son igualmente probables de ser accesados y que el costo de buscar a un elemento que es el $k$-ésimo de la lista es $k$. Por lo tanto, el costo promedio es\n",
        "\n",
        "$$\n",
        "\\frac{1}{n}\\sum_{1\\le k \\le n} k = \\frac{n+1}{2}=\\Theta(n)\n",
        "$$\n",
        "\n",
        "Por lo tanto, este tipo de implementación solo será adecuada para conjuntos muy pequeños."
      ]
    },
    {
      "cell_type": "markdown",
      "metadata": {
        "id": "Dh9EXuREGRgu"
      },
      "source": [
        "## Búsqueda secuencial con probabilidades de acceso no uniformes\n",
        "\n",
        "En la práctica, es muy raro que las probabilidades de acceso a los elementos sean uniformes. Con frecuencia hay algunos elementos que son mucho más populares que otros, y empíricamente a menudo se observan distribuciones de tipo \"ley de potencias\", con probabilidades de tipo\n",
        "\n",
        "$$\n",
        "p_k \\propto \\frac{1}{k^{\\alpha}}\n",
        "$$\n",
        "\n",
        "para algún $\\alpha$. Para el caso $\\alpha=1$ esto se llama Ley de Zipf.\n",
        "\n",
        "Si un conjunto de datos tiene elementos con probabilidades de acceso diferentes, entonces para la búsqueda secuencial el orden en que estén los elementos en la lista hace una diferencia.\n",
        "\n",
        "### Caso 1. Probabilidades conocidas\n",
        "\n",
        "Si las probabilidades de acceso son conocidas, es fácil ver que el orden óptimo es en orden decreciente de probabilidad.\n",
        "\n",
        "Más precisamente, si los elementos son $X_1, X_2,\\ldots,X_n$ con probabilidades de acceso $p_1,p_2,\\ldots,p_n$ respectivamente, y si están ordenados de modo que $p_1\\ge p_2\\ge p_3\\ge \\cdots$, entonces el costo esperado de búsqueda óptimo es\n",
        "\n",
        "$$\n",
        "C_{OPT} = \\sum_{1\\le k\\le n} k p_k\n",
        "$$\n",
        "\n",
        "Tomemos como ejemplo el capítulo 1 de \"El Quijote\" (en minúsculas y sin puntuación para simplificar su proceso), cuyo texto está en el archivo `cap1.txt`:\n",
        "\n",
        "```\n",
        "en un lugar de la mancha de cuyo nombre no quiero acordarme no ha mucho\n",
        "tiempo que vivía un hidalgo de los de lanza en astillero adarga antigua\n",
        "...\n",
        "peregrino y significativo como todos los demás que a él y a sus cosas\n",
        "había puesto\n",
        "```"
      ]
    },
    {
      "cell_type": "markdown",
      "metadata": {
        "id": "KQgj4emkGRgu"
      },
      "source": [
        "#### Acceso al archivo desde Colab\n",
        "\n",
        "Si este notebook está usándose en Google Colab, el archivo se debe almacenar en la carpeta `Colab Notebooks` de Google Drive, y para que el código en Python pueda tener acceso a él se debe quitar los comentarios y ejecutar la siguiente celda: "
      ]
    },
    {
      "cell_type": "code",
      "metadata": {
        "collapsed": true,
        "id": "YA5MbLaXGRgu"
      },
      "source": [
        "#from google.colab import drive\n",
        "#drive.mount(\"/content/gdrive\")\n",
        "#%cd \"/content/gdrive/My Drive/Colab Notebooks/\""
      ],
      "execution_count": null,
      "outputs": []
    },
    {
      "cell_type": "markdown",
      "metadata": {
        "id": "XWRGotN5GRgu"
      },
      "source": [
        "El costo óptimo para un archivo dado se puede obtener con el siguiente código en Python, en el cual hacemos uso de los diccionarios provistos por el lenguaje:"
      ]
    },
    {
      "cell_type": "code",
      "metadata": {
        "collapsed": true,
        "id": "AAfF-AUOGRgv"
      },
      "source": [
        "def calcula_costo_optimo(archivo): # lee el archivo, calcula frecuencias en orden descendente\n",
        "    f=open(archivo,\"r\")\n",
        "    texto=f.read()\n",
        "    palabras=texto.split()\n",
        "    frec={}\n",
        "    for x in palabras:\n",
        "        frec[x] = 1 if not x in frec else frec[x]+1\n",
        "    lista=[]\n",
        "    Copt=0\n",
        "    costo=0\n",
        "    for x in sorted(frec,key=frec.get,reverse=True):\n",
        "        costo+=1\n",
        "        Copt+=costo*frec[x]\n",
        "        lista.append((frec[x],x))\n",
        "    Copt/=len(palabras)\n",
        "    f.close()\n",
        "    return (Copt,lista)"
      ],
      "execution_count": null,
      "outputs": []
    },
    {
      "cell_type": "markdown",
      "metadata": {
        "id": "bh8mye-gGRgv"
      },
      "source": [
        "Como resultado, mostramos el costo esperado de búsqueda en una lista ordenada de manera óptima (C_OPT) y las palabras más frecuentes:"
      ]
    },
    {
      "cell_type": "code",
      "metadata": {
        "collapsed": true,
        "id": "e3FSSt3_GRgv"
      },
      "source": [
        "(c,L)=calcula_costo_optimo(\"cap1.txt\")\n",
        "print('C_OPT={:6.2f}\\n'.format(c))\n",
        "for k in range(0,9):\n",
        "    print(L[k])"
      ],
      "execution_count": null,
      "outputs": []
    },
    {
      "cell_type": "markdown",
      "metadata": {
        "id": "PhOlVyOqGRgv"
      },
      "source": [
        "### Caso 2: Probabilidades desconocidas\n",
        "\n",
        "Cuando las probabilidades son desconocidas, existen estrategias adaptativas, que van reordenando la lista dinámicamente a medida que los elementos son buscados, de modo de tratar de aproximar el orden óptimo. Hay dos técnicas que dan buenos resultados: \"traspose\" (TR) y \"move to front\" (MTF)."
      ]
    },
    {
      "cell_type": "markdown",
      "metadata": {
        "id": "6P17DE67GRgv"
      },
      "source": [
        "### Transpose\n",
        "\n",
        "Esta técnica consiste en que cada vez que un elemento es accesado, se le mueve un lugar más adelante en la lista (a menos que ya esté en el primer lugar).\n",
        "Esto se puede implementar ya sea en un arreglo o en una lista enlazada. En la siguiente implementación usaremos una lista enlazada con cabecera.\n",
        "\n",
        "Si un elemento no se encuentra, simulamos como si hubiese estado al final de la lista. Para esto, mantendremos siempre disponible un nodo extra al final de la lista, en donde almacenaremos tentativamente la llave de búsqueda.\n",
        "Si finalmente se encuentra en ese nodo, se le incorpora a la lista y se crea un nuevo nodo extra.\n",
        "\n",
        "Para contabilizar el costo, el método `search` retorna el número de comparaciones de llaves que se hizo en la búsqueda."
      ]
    },
    {
      "cell_type": "code",
      "metadata": {
        "collapsed": true,
        "id": "ql6uE0-yGRgw"
      },
      "source": [
        "import aed_utilities as aed\n",
        "\n",
        "class NodoLista:\n",
        "    def __init__(self,info,sgte=None):\n",
        "        self.info=info\n",
        "        self.sgte=sgte\n",
        "        \n",
        "class Lista_TR:\n",
        "    def __init__(self):\n",
        "        self.extra=NodoLista(0)\n",
        "        self.cabecera=NodoLista(0,self.extra)\n",
        "        \n",
        "    def search(self,x): # busca x (si no está lo inserta al final) y lo adelanta un lugar\n",
        "                        # retorna el costo de búsqueda\n",
        "        self.extra.info=x # agregamos x al final, en caso que no estuviera antes\n",
        "        p=self.cabecera\n",
        "        q=p.sgte\n",
        "        \n",
        "        # k cuenta el número de comparaciones de llaves\n",
        "        if q.info==x: # x ya está primero en la lista, no hacemos nada\n",
        "            k=1\n",
        "        else:\n",
        "            # buscamos del segundo en adelante\n",
        "            r=q.sgte\n",
        "            k=2\n",
        "            while r.info!=x:\n",
        "                (p,q,r)=(q,r,r.sgte)\n",
        "                k+=1\n",
        "            # r apunta al elemento buscado, lo movemos un lugar hacia adelante\n",
        "            (p.sgte,q.sgte,r.sgte)=(r,r.sgte,q)\n",
        "        if q.sgte is None: # se utilizó el nodo extra, agregamos uno nuevo\n",
        "            self.extra=NodoLista(0)\n",
        "            q.sgte=self.extra\n",
        "        return k\n",
        "\n",
        "    def imprimir(self):\n",
        "        p=self.cabecera.sgte\n",
        "        print(\"[\",end=\" \")\n",
        "        while p is not self.extra:\n",
        "            print(p.info,end=\" \")\n",
        "            p=p.sgte\n",
        "        print(\"]\")\n"
      ],
      "execution_count": null,
      "outputs": []
    },
    {
      "cell_type": "code",
      "metadata": {
        "collapsed": true,
        "id": "3_Kp9UW1GRgw"
      },
      "source": [
        "def test(Lista_adaptativa): # test interactivo\n",
        "    a=Lista_adaptativa()\n",
        "    while True:\n",
        "        x=input(\"x=\")\n",
        "        if x==\"fin\":\n",
        "            return\n",
        "        print(\"costo=\",a.search(x),end=\" \")\n",
        "        a.imprimir()"
      ],
      "execution_count": null,
      "outputs": []
    },
    {
      "cell_type": "code",
      "metadata": {
        "collapsed": true,
        "id": "M-ZxpvtwGRgw"
      },
      "source": [
        "test(Lista_TR)"
      ],
      "execution_count": null,
      "outputs": []
    },
    {
      "cell_type": "code",
      "metadata": {
        "collapsed": true,
        "id": "NEmpi9hnGRgw"
      },
      "source": [
        "def procesa(archivo,Lista_adaptativa): # lee el archivo y calcula costo promedio de búsqueda\n",
        "    f=open(archivo,\"r\")\n",
        "    texto=f.read()\n",
        "    palabras=texto.split()\n",
        "    npalabras=0\n",
        "    costo_acum=0\n",
        "    a=Lista_adaptativa()\n",
        "    for x in palabras:\n",
        "        costo_acum+=a.search(x)\n",
        "        npalabras+=1\n",
        "    print(\"Costo promedio de búsqueda= {:6.2f}\".format(costo_acum/npalabras))\n",
        "    f.close()"
      ],
      "execution_count": null,
      "outputs": []
    },
    {
      "cell_type": "code",
      "metadata": {
        "collapsed": true,
        "id": "N5h3ZdShGRgx"
      },
      "source": [
        "procesa(\"cap1.txt\",Lista_TR)"
      ],
      "execution_count": null,
      "outputs": []
    },
    {
      "cell_type": "markdown",
      "metadata": {
        "id": "7uFsBhVuGRgx"
      },
      "source": [
        "### Move-To-Front\n",
        "\n",
        "Esta técnica consiste en que cada vez que un elemento es accesado, se le mueve al primer lugar de la lista (a menos que ya esté en el primer lugar). Si un elemento no se encuentra, simulamos como si hubiese estado al final de la lista."
      ]
    },
    {
      "cell_type": "code",
      "metadata": {
        "collapsed": true,
        "id": "TXuPeGgMGRgx"
      },
      "source": [
        "class Lista_MTF:\n",
        "    def __init__(self):\n",
        "        self.extra=NodoLista(0)\n",
        "        self.cabecera=NodoLista(0,self.extra)\n",
        "        \n",
        "    def search(self,x): # busca x (si no está lo inserta al final) y luego lo mueve al primer lugar\n",
        "        # retorna el costo de búsqueda\n",
        "        self.extra.info=x # agregamos x al final, en caso que no estuviera antes\n",
        "        p=self.cabecera\n",
        "        q=p.sgte\n",
        "        k=1 # cuenta el número de comparaciones de llaves\n",
        "        while q.info!=x:\n",
        "            (p,q)=(q,q.sgte)\n",
        "            k+=1\n",
        "        if q.sgte is None: # se utilizó el nodo extra, agregamos uno nuevo\n",
        "            self.extra=NodoLista(0)\n",
        "            q.sgte=self.extra\n",
        "        if k>1:  # x no está primero, move to front\n",
        "            (self.cabecera.sgte,p.sgte,q.sgte)=(q,q.sgte,self.cabecera.sgte)         \n",
        "        return k\n",
        "\n",
        "    def imprimir(self):\n",
        "        p=self.cabecera.sgte\n",
        "        print(\"[\",end=\" \")\n",
        "        while p is not self.extra:\n",
        "            print(p.info,end=\" \")\n",
        "            p=p.sgte\n",
        "        print(\"]\")"
      ],
      "execution_count": null,
      "outputs": []
    },
    {
      "cell_type": "code",
      "metadata": {
        "collapsed": true,
        "id": "sULn96xxGRgx",
        "scrolled": true
      },
      "source": [
        "test(Lista_MTF)"
      ],
      "execution_count": null,
      "outputs": []
    },
    {
      "cell_type": "code",
      "metadata": {
        "collapsed": true,
        "id": "Gmw2YfhyGRgx"
      },
      "source": [
        "procesa(\"cap1.txt\",Lista_MTF)"
      ],
      "execution_count": null,
      "outputs": []
    },
    {
      "cell_type": "markdown",
      "metadata": {
        "id": "F0CvsDcBGRgx"
      },
      "source": [
        "En resumen, tenemos que para este texto en particular, el costo óptimo es 157.81, el costo promedio de TR es 208.74 y el de MTF es 188.82.\n",
        "\n",
        "Si en lugar de considerar un caso se analiza matemáticamente el caso general, suponiendo que los accesos llegan independientemente siguiendo la distribución dada y que el algoritmo corre durante un tiempo que tiende a infinito, se puede demostrar que\n",
        "\n",
        "$$\n",
        "C_{OPT} \\le C_{TR} \\le C_{MTF} \\le \\frac{\\pi}{2} C_{OPT}\n",
        "$$"
      ]
    },
    {
      "cell_type": "markdown",
      "metadata": {
        "id": "G3_jYjkIGRgy"
      },
      "source": [
        "## Búsqueda en un arreglo ordenado: Búsqueda Binaria\n",
        "\n",
        "Ya hemos visto anteriormente que si los datos están en un arreglo ordenado, podemos hacer una búsqueda binaria, la que demora tiempo $\\lceil\\log_2{(n+1)}\\rceil=\\Theta(\\log{n})$ en el peor caso.\n",
        "\n",
        "Esto es bastante eficiente, pero tiene el problema que agregar o eliminar datos del arreglo toma tiempo $\\Theta(n)$ en el peor caso, por la necesidad de mantener el conjunto ordenado y compacto.\n",
        "Un objetivo que perseguiremos en el resto de este capítulo es tratar de encontrar estructuras de datos que nos permitan buscar de manera tan eficiente como la búsqueda binaria, junto con inserciones y eliminaciones igualmente eficientes.\n",
        "\n",
        "Pero antes de avanzar en esa dirección, consideremos la pregunta de si es posible buscar má rápido que la búsqueda binaria en el peor caso.\n",
        "\n",
        "### Cota inferior para la búsqueda por comparaciones\n",
        "\n",
        "Consideremos el problema de buscar una llave $x$ en un conjunto de tamaño 4, digamos $\\{a,b,c,d\\}$, con $a<b<c<d$. La siguiente figura ilustra una manera como podría hacerse esa búsqueda:\n",
        "\n",
        "![decision-tree](https://github.com/ivansipiran/AED-Apuntes/blob/main/recursos/decision-tree.png?raw=1)\n",
        "\n",
        "Este tipo de figura se llama un *árbol de decisión*, y en él los rombos representan preguntas y los rectángulos, las salidas (outputs) del algoritmo.\n",
        "\n",
        "Este árbol de decisión es uno entre la infinidad de árboles que podrían resolver el problema de la búsqueda. Lo importante que hay que observar es que todo algoritmo que funcione mediante comparaciones binarias (comparaciones con salidas \"Sí/No\") se puede representar por un árbol de decisión.\n",
        "\n",
        "En este tipo de árbol tenemos que:\n",
        "\n",
        "* La altura representa el número de comparaciones que hace el algoritmo en el peor caso, y\n",
        "* El número de hojas (cajas rectangulares) debe ser mayor o igual al número de respuestas posibles que debe ser capaz de emitir el algoritmo.\n",
        "\n",
        "Recordemos que si $N$ es el número de hojas y $h$ la altura, siempre se tiene $N\\le 2^h$, de donde se deduce que\n",
        "$h \\ge \\lceil\\log_2{N}\\rceil$ (porque la altura es un número entero), y en consecuencia, tenemos que\n",
        "\n",
        "$$\n",
        "\\text{Peor caso} \\ge \\lceil\\log_2{(\\text{número de respuestas distintas})}\\rceil\n",
        "$$\n",
        "\n",
        "Para el caso de la búsqueda binaria, tenemos que $N=n+1$, porque el algoritmo de búsqueda debe poder identificar a cada uno de los $n$ elementos, más la respuesta negativa cuando el elemento buscado no está. En consecuencia:\n",
        "\n",
        "**Todo algoritmo que busque en un conjunto de tamaño $n$ mediante comparaciones binarias debe hacer al menos\n",
        "$\\lceil\\log_2{(n+1)}\\rceil$ comparaciones en el peor caso.**\n",
        "\n",
        "Por lo tanto, la búsqueda binaria es óptima."
      ]
    },
    {
      "cell_type": "markdown",
      "metadata": {
        "id": "qrFy5fapGRgy"
      },
      "source": [
        "## Árboles de Búsqueda Binaria (ABBs)\n",
        "\n",
        "Un *árbol de búsqueda binaria* (*ABB*) es un árbol binario en que todos sus nodos internos cumplen la siguiente propiedad: Si la llave almacenada en el nodo es $x$, entonces todas las llaves en su subárbol izquierdo son menores que $x$, y las llaves en el subárbol derecho son mayores que $x$.\n",
        "\n",
        "![esquema-ABB2](https://github.com/ivansipiran/AED-Apuntes/blob/main/recursos/esquema-ABB2.png?raw=1)\n",
        "\n",
        "Los ABBs permiten realizar de manera eficiente (en promedio) las operaciones de inserción y búsqueda.\n",
        "\n",
        "### Búsqueda en un ABB\n",
        "\n",
        "La búsqueda es similar a una búsqueda binaria (de  ahí el nombre de estos árboles). Para buscar una llave $x$ se comienza en la raíz. Si $x$ se encuentra ahí, la búsqueda termina exitosamente. Si no está ahí, se continúa buscando  en el subárbol izquierdo si $x$ es menor que la raíz, o en el subárbol derecho si $x$ es mayor que la raíz. Si se llega a una hoja (nodo externo), la búsqueda concluye infructuosamente.\n",
        "\n",
        "### Inserción en un ABB\n",
        "\n",
        "Para insertar una llave $x$ en un ABB, se realiza una búsqueda, que debe ser infructuosa, y la hoja en donde termina la búsqueda se reemplaza por un nodo interno conteniendo la llave $x$, con dos nuevas hojas como hijos.\n",
        "\n",
        "![insercioABB](https://github.com/ivansipiran/AED-Apuntes/blob/main/recursos/insercionABB.gif?raw=1)"
      ]
    },
    {
      "cell_type": "markdown",
      "metadata": {
        "id": "KkpXRTaPGRgy"
      },
      "source": [
        "### Implementación recursiva\n",
        "\n",
        "Los algoritmos de un ABB se prestan de manera natural a ser programados de manera recursiva, especialmente con la representación explícita de los nodos externos:"
      ]
    },
    {
      "cell_type": "code",
      "metadata": {
        "collapsed": true,
        "id": "KTlzPSiLGRgy"
      },
      "source": [
        "class Nodoi:\n",
        "    def __init__(self, izq, info, der):\n",
        "        self.izq=izq\n",
        "        self.info=info\n",
        "        self.der=der\n",
        "        \n",
        "    def search(self,x):\n",
        "        if x==self.info:\n",
        "            return self\n",
        "        if x<self.info:\n",
        "            return self.izq.search(x)\n",
        "        else:\n",
        "            return self.der.search(x)\n",
        "        \n",
        "    def insert(self,x):\n",
        "        assert x!=self.info\n",
        "        if x<self.info:\n",
        "            return Nodoi(self.izq.insert(x),self.info,self.der)\n",
        "        else:\n",
        "            return Nodoi(self.izq,self.info,self.der.insert(x))\n",
        "        \n",
        "    def __str__(self):\n",
        "        return \"(\"+self.izq.__str__()+str(self.info)+self.der.__str__()+\")\"\n",
        "\n",
        "class Nodoe:\n",
        "    def __init__(self):\n",
        "        pass\n",
        "    \n",
        "    def search(self,x):\n",
        "        return None\n",
        "    \n",
        "    def insert(self,x):\n",
        "        return Nodoi(Nodoe(),x,Nodoe())\n",
        "    \n",
        "    def __str__(self):\n",
        "        return\"☐\"\n",
        "\n",
        "class Arbol:\n",
        "    def __init__(self,raiz=Nodoe()):\n",
        "        self.raiz=raiz     \n",
        "        \n",
        "    def insert(self,x):\n",
        "        self.raiz=self.raiz.insert(x)\n",
        "        \n",
        "    def search(self,x):\n",
        "        return self.raiz.search(x)\n",
        "    \n",
        "    def __str__(self):        \n",
        "        return self.raiz.__str__()\n",
        "    \n",
        "    def dibujar(self):\n",
        "      btd = aed.BinaryTreeDrawer(fieldData=\"info\", fieldLeft=\"izq\", fieldRight=\"der\", classNone=Nodoe, drawNull=True)\n",
        "      btd.draw_tree(self, \"raiz\")"
      ],
      "execution_count": null,
      "outputs": []
    },
    {
      "cell_type": "markdown",
      "metadata": {
        "id": "vhJlPDiNGRgz"
      },
      "source": [
        "Hemos incluído una función `__str__` para poder visualizar (de forma algo rudimentaria) el árbol construído."
      ]
    },
    {
      "cell_type": "code",
      "metadata": {
        "collapsed": true,
        "id": "Yi3Vmu_uGRgz"
      },
      "source": [
        "a=Arbol()\n",
        "a.insert(42)\n",
        "a.insert(77)\n",
        "a.insert(50)\n",
        "a.insert(10)\n",
        "a.dibujar()"
      ],
      "execution_count": null,
      "outputs": []
    },
    {
      "cell_type": "markdown",
      "metadata": {
        "id": "FfVDQWpeGRgz"
      },
      "source": [
        "Para probar nuestra implementación, definiremos una función `test`:"
      ]
    },
    {
      "cell_type": "code",
      "metadata": {
        "collapsed": true,
        "id": "zYWSd-YqGRgz"
      },
      "source": [
        "def test(a,x):\n",
        "    print(x, \"está\" if a.search(x) is not None else \"no está\")"
      ],
      "execution_count": null,
      "outputs": []
    },
    {
      "cell_type": "code",
      "metadata": {
        "collapsed": true,
        "id": "9zRLqY8cGRgz"
      },
      "source": [
        "test(a,50)\n",
        "test(a,90)"
      ],
      "execution_count": null,
      "outputs": []
    },
    {
      "cell_type": "code",
      "metadata": {
        "collapsed": true,
        "id": "1NUTjhDaGRgz"
      },
      "source": [
        "a.insert(90)\n",
        "a.dibujar()\n",
        "test(a,90)"
      ],
      "execution_count": null,
      "outputs": []
    },
    {
      "cell_type": "markdown",
      "metadata": {
        "id": "cCj4InEWGRgz"
      },
      "source": [
        "### Implementación no recursiva\n",
        "\n",
        "Las operaciones de búsqueda e inserción en el árbol no necesitan programarse recursivamente, porque se pueden realizar en una sola pasada de arriba a abajo, sin necesidad de volver hacia arriba. En este caso, toda esa funcionalidad se implementa dentro de la clase `Arbol`:"
      ]
    },
    {
      "cell_type": "code",
      "metadata": {
        "collapsed": true,
        "id": "QmZ1Sbw5GRg0"
      },
      "source": [
        "class Nodoi:\n",
        "    def __init__(self, izq, info, der):\n",
        "        self.izq=izq\n",
        "        self.info=info\n",
        "        self.der=der\n",
        "        \n",
        "    def __str__(self):\n",
        "        return \"(\"+self.izq.__str__()+str(self.info)+self.der.__str__()+\")\"\n",
        "\n",
        "class Nodoe:\n",
        "    def __init__(self):\n",
        "        pass\n",
        "    \n",
        "    def __str__(self):\n",
        "        return\"☐\"\n",
        "\n",
        "class Arbol:\n",
        "    def __init__(self,raiz=Nodoe()):\n",
        "        self.raiz=raiz\n",
        "        \n",
        "    def insert(self,x):\n",
        "        if isinstance(self.raiz, Nodoe):\n",
        "            self.raiz=Nodoi(Nodoe(),x,Nodoe())\n",
        "            return\n",
        "        p=self.raiz\n",
        "        while True:\n",
        "            assert x!=p.info\n",
        "            if x<p.info:\n",
        "                if isinstance(p.izq, Nodoe):\n",
        "                    p.izq=Nodoi(Nodoe(),x,Nodoe())\n",
        "                    return\n",
        "                p=p.izq\n",
        "            else: # x>p.info\n",
        "                if isinstance(p.der, Nodoe):\n",
        "                    p.der=Nodoi(Nodoe(),x,Nodoe())\n",
        "                    return\n",
        "                p=p.der\n",
        "                \n",
        "    def search(self,x):\n",
        "        p=self.raiz\n",
        "        while not isinstance(p, Nodoe):\n",
        "            if x==p.info:\n",
        "                return p\n",
        "            p=p.izq if x<p.info else p.der\n",
        "        return None\n",
        "    \n",
        "    def __str__(self):        \n",
        "        return self.raiz.__str__()\n",
        "    \n",
        "    def dibujar(self):\n",
        "      btd = aed.BinaryTreeDrawer(fieldData=\"info\", fieldLeft=\"izq\", fieldRight=\"der\", classNone=Nodoe, drawNull=True)\n",
        "      btd.draw_tree(self, \"raiz\")"
      ],
      "execution_count": null,
      "outputs": []
    },
    {
      "cell_type": "code",
      "metadata": {
        "collapsed": true,
        "id": "FcgouN46GRg0"
      },
      "source": [
        "a=Arbol()\n",
        "a.insert(42)\n",
        "a.insert(77)\n",
        "a.insert(50)\n",
        "a.insert(10)\n",
        "a.dibujar()"
      ],
      "execution_count": null,
      "outputs": []
    },
    {
      "cell_type": "code",
      "metadata": {
        "collapsed": true,
        "id": "WxgqqvssGRg0"
      },
      "source": [
        "test(a,50)\n",
        "test(a,90)"
      ],
      "execution_count": null,
      "outputs": []
    },
    {
      "cell_type": "code",
      "metadata": {
        "collapsed": true,
        "id": "-WrpMKOaGRg0"
      },
      "source": [
        "a.insert(90)\n",
        "a.dibujar()\n",
        "test(a,90)"
      ],
      "execution_count": null,
      "outputs": []
    },
    {
      "cell_type": "markdown",
      "metadata": {
        "id": "E0v82yqgGRg0"
      },
      "source": [
        "### Costo de búsqueda en un ABB\n",
        "\n",
        "#### Peor caso\n",
        "\n",
        "El peor caso para un árbol dado es la altura del árbol, y el peor árbol posible tiene altura $n$.\n",
        "Por lo tanto, el costo de búsqueda en el peor caso es $\\Theta(n)$.\n",
        "\n",
        "Lo anterior ocurre, por ejemplo, si los elementos se insertan en orden ascendente, o descendente, o en algún orden tipo \"zig-zag\". Es muy improbable que esto ocurra por casualidad, pero sí puede suceder si los datos provienen de algún otro proceso en que resultan naturalmente ordenados, o bien porque la secuencia de inserciones es generada por un adversario malicioso que busca hacer que el algoritmo funcione de la manera más lenta posible.\n",
        "\n",
        "#### Caso promedio\n",
        "\n",
        "Para analizar el costo esperado de búsqueda en un ABB con $n$ nodos, supondremos que en una inserción y en una búsqueda infructuosa, los $n+1$ nodos externos son igualmente probables como punto de destino de la búsqueda y de la inserción, y que en una búsqueda exitosa, los $n$ nodos internos son igualmente probables como punto de destino de la búsqueda.\n",
        "\n",
        "Recordemos que anteriormente definimos el *largo de caminos internos* (*LCI*) como\n",
        "$\n",
        "I_n=\\sum_{x\\in \\text{Nodos internos}}\\text{distancia}(\\text{raiz},x)\n",
        "$,\n",
        "y el *largo de caminos externos* (*LCE*) como\n",
        "$\n",
        "E_n=\\sum_{y\\in \\text{Nodos externos}}\\text{distancia}(\\text{raiz},y)\n",
        "$,\n",
        "para los cuales se cumple que\n",
        "$\n",
        "E_n=I_n+2n\n",
        "$.\n",
        "\n",
        "Utilizaremos las notaciones $C_n$ y $C'_n$ para el número esperado de comparaciones de llaves en una búsqueda exitosa e infructuosa, respectivamente. Entonces, tenemos que\n",
        "\n",
        "$$\n",
        "\\begin{align}\n",
        "C_n &= 1 + \\frac{I_n}{n}\\\\\n",
        "C'_n &= \\frac{E_n}{n+1}\n",
        "\\end{align}\n",
        "$$\n",
        "\n",
        "Reemplazando $E_n=I_n+2n$ en la fórmula para $C_n$, tenemos que\n",
        "\n",
        "$$\n",
        "C_n=1+\\frac{E_n-2n}{n}=\\frac{E_n}{n}-1=\\frac{n+1}{n}C'_n-1\n",
        "$$\n",
        "\n",
        "Por lo tanto, tenemos la siguiente relación entre los costos esperados de búsqueda exitoso e infructuoso:\n",
        "\n",
        "$$\n",
        "C_n=\\left( 1 +\\frac{1}{n}\\right) C'_n - 1\n",
        "$$\n",
        "\n",
        "de modo que, cuando $n \\rightarrow \\infty$\n",
        "\n",
        "$$\n",
        "C_n \\approx C'_n-1\n",
        "$$\n",
        "\n",
        "Para poder completar este análisis necesitamos una segunda ecuación que vincule a estas incógnitas.\n",
        "Para esto, observemos que _el costo de buscar un elemento que acaba de ser insertado es exactamente 1 más que el costo de buscarlo infructuosamente antes de su inserción_. Por lo tanto, si consideramos y promediamos los costos de búsqueda de los elementos en orden de inserción, tenemos que\n",
        "\n",
        "$$\n",
        "C_n=\\frac{(1+C'_0)+(1+C'_1)+\\cdots+(1+C'_{n-1})}{n}=1+\\frac{1}{n}\\sum_{0\\le k \\le n-1}C'_k\n",
        "$$\n",
        "\n",
        "Multiplicando ambos lados por $n$, tenemos\n",
        "\n",
        "$$\n",
        "nC_n=n+\\sum_{0\\le k \\le n-1}C'_k\n",
        "$$\n",
        "\n",
        "Sustituyendo $n$ por $n+1$ en esta ecuación, tenemos\n",
        "\n",
        "$$\n",
        "(n+1)C_{n+1}=n+1+\\sum_{0\\le k \\le n}C'_k\n",
        "$$\n",
        "\n",
        "Restando ambas ecuaciones, tenemos:\n",
        "\n",
        "$$\n",
        "(n+1)C_{n+1} - nC_n = 1+C'_n\n",
        "$$\n",
        "\n",
        "La relación que habíamos obtenido antes entre $C_c$ y $C'_n$ se puede reescribir como\n",
        "\n",
        "$$\n",
        "nC_n=(n+1)C'_n-n\n",
        "$$\n",
        "\n",
        "Reemplazando en la ecuación anterior, obtenemos:\n",
        "\n",
        "$$\n",
        "(n+2)C'_{n+1}-(n+1)-(n+1)C'_n+n=1+C'_n\n",
        "$$\n",
        "\n",
        "Lo que se simplifica a\n",
        "\n",
        "$$\n",
        "(n+2)(C'_{n+1}-C'_n)=2\n",
        "$$\n",
        "\n",
        "obteniéndose la ecuación de recurrencia\n",
        "\n",
        "$$\n",
        "\\begin{align}\n",
        "C'_{n+1} &= C'_n+\\frac{2}{n+2}\\\\\n",
        "C'_0 &= 0\n",
        "\\end{align}\n",
        "$$\n",
        "\n",
        "Esta ecuación se puede resolver \"desenrrollándola\", para obtener\n",
        "\n",
        "$$\n",
        "C'_n=2\\left(\\frac{1}{2}+\\frac{1}{3}+\\cdots+\\frac{1}{n+1}\\right)\n",
        "$$\n",
        "\n",
        "Si definimos los _números armónicos_ $H_n=1+\\frac{1}{2}+\\frac{1}{3}+\\cdots+\\frac{1}{n}$, podemos expresar la solución como\n",
        "\n",
        "$$\n",
        "C'_n=2(H_{n+1}-1)\n",
        "$$\n",
        "\n",
        "Los números armónicos son muy cercanos al logaritmo natural. Se puede demostrar que\n",
        "\n",
        "$$\n",
        "\\begin{align}\n",
        "H_n & \\le 1+\\int_1^n \\frac{1}{x}dx = 1+\\ln{n}\\\\\n",
        "H_n & \\ge \\int_1^{n+1} \\frac{1}{x}dx = \\ln{(n+1)}\n",
        "\\end{align}\n",
        "$$\n",
        "\n",
        "de donde obtenemos que\n",
        "\n",
        "$$\n",
        "\\ln{(n+1)} \\le H_n \\le 1+\\ln{n}\n",
        "$$\n",
        "\n",
        "Más precisamente, se puede demostrar que\n",
        "\n",
        "$$\n",
        "H_n = \\ln{n} + \\gamma + O\\left(\\frac{1}{n}\\right)\n",
        "$$\n",
        "\n",
        "donde $\\gamma\\approx 0.577\\ldots$ es la constante de Euler-Mascheroni."
      ]
    },
    {
      "cell_type": "code",
      "metadata": {
        "collapsed": true,
        "id": "ymLGf_nvGRg1"
      },
      "source": [
        "%pylab inline"
      ],
      "execution_count": null,
      "outputs": []
    },
    {
      "cell_type": "code",
      "metadata": {
        "collapsed": true,
        "id": "rfBcc_EOGRg1"
      },
      "source": [
        "H=np.zeros(100)\n",
        "n=range(1,101)\n",
        "H[0]=1;\n",
        "for k in range(1,100):\n",
        "    H[k]=H[k-1]+1/(k+1)\n",
        "plt.plot(n,H,label='$H_n$')\n",
        "plt.plot(n,log(n), label='$\\ln{n}$')\n",
        "leg=plt.legend(loc='best')"
      ],
      "execution_count": null,
      "outputs": []
    },
    {
      "cell_type": "markdown",
      "metadata": {
        "id": "b8XQUgK9GRg1"
      },
      "source": [
        "Por lo tanto, el costo esperado de búsqueda (exitosa o infructuosa) en un ABB es aproximadamente $2H_n \\approx 2\\ln{n} \\approx 1.386 \\log_2{n}$, lo cual es solo $38.6$ por cierto peor que un árbol óptimo, cuyo costo de búsqueda es $\\log_2{n}$.\n",
        "\n",
        "Se puede demostrar que la varianza también es logarítmica, por lo que en la práctica el tiempo de búsqueda debería ser cercano al promedio.\n",
        "\n",
        "Sin embargo, este análisis supone que las inserciones llegan en orden aleatorio, lo cual no necesariamente se cumple en la vida real. "
      ]
    },
    {
      "cell_type": "markdown",
      "metadata": {
        "id": "szac2cqOGRg1"
      },
      "source": [
        "### Eliminación en un ABB\n",
        "\n",
        "La eliminación de una llave $x$ es sencilla de efectuar en algunos casos, pero el caso complicado es cuando la llave tiene dos hijos:\n",
        "\n",
        "#### Eliminación de una llave sin hijos\n",
        "\n",
        "En este caso, el nodo interno que contiene a $x$ desaparece y en su lugar queda un nodo externo:\n",
        "\n",
        "![eliminacionABB1](https://github.com/ivansipiran/AED-Apuntes/blob/main/recursos/eliminacionABB1.gif?raw=1)\n",
        "\n",
        "#### Eliminación de una llave con 1 hijo\n",
        "\n",
        "En este caso, el padre de la llave $x$ pasa a apuntar al único hijo de $x$:\n",
        "\n",
        "![eliminacionABB2](https://github.com/ivansipiran/AED-Apuntes/blob/main/recursos/eliminacionABB2.gif?raw=1)\n",
        "\n",
        "#### Eliminación de una llave con 2 hijos\n",
        "\n",
        "Si $x$ tiene 2 hijos, no podemos eliminarla directamente, pero sí podemos eliminar a la que la sigue en orden ascendente, digamos $y$. Se puede demostrar que $y$ necesariamente es unos de los dos casos anteriores, de modo que es fácil de eliminar. Luego de concluído ese proceso, escribimos $y$ en lugar de $x$ en el campo `info` del nodo respectivo.\n",
        "\n",
        "![eliminacionABB3](https://github.com/ivansipiran/AED-Apuntes/blob/main/recursos/eliminacionABB3.gif?raw=1)\n",
        "\n",
        "Por simetría, esto mismo podría haberse hecho con la llave que sigue a $x$ en orden descendente.\n",
        "\n",
        "El análisis del costo esperado de búqueda que hicimos anteriormente es válido si solo hay inserciones. El análisis en el caso en que se incluyen eliminaciones es un un problema matemáticamente muy complicado, y sigue siendo un problema abierto. La evidencia experimental indica que se obtienen mejores resultados si se alterna o si se aleatoriza al elegir entre sucesor o el predecesor de $x$ en caso que haya que elegir."
      ]
    },
    {
      "cell_type": "markdown",
      "metadata": {
        "id": "44aj5h68GRg1"
      },
      "source": [
        "### Implementación recursiva de la eliminación\n",
        "\n",
        "Por simplicidad, omitimos el código para la inserción y búsqueda, y en el caso de un nodo con 2 hijos, eliminamos siempre el sucesor. También ignoramos las eliminaciones de llaves que no están en el árbol."
      ]
    },
    {
      "cell_type": "code",
      "metadata": {
        "collapsed": true,
        "id": "rL8--kjaGRg1"
      },
      "source": [
        "class Nodoi:\n",
        "    def __init__(self, izq, info, der):\n",
        "        self.izq=izq\n",
        "        self.info=info\n",
        "        self.der=der\n",
        "    \n",
        "    def deletemin(self): # Elimina llave mínima del árbol, retorna (llave_min,raiz_arbol_restante)\n",
        "        if isinstance(self.izq,Nodoe): # No hay hijo izquierdo\n",
        "            return (self.info,self.der)\n",
        "        # hay hijo izquierdo\n",
        "        (llave_min,izq_sin_min)=self.izq.deletemin()\n",
        "        return (llave_min,Nodoi(izq_sin_min,self.info,self.der))\n",
        "        \n",
        "    def delete(self,x):\n",
        "        if x<self.info:\n",
        "            return Nodoi(self.izq.delete(x),self.info,self.der)\n",
        "        if x>self.info:\n",
        "            return Nodoi(self.izq,self.info,self.der.delete(x))\n",
        "        # x==self.info\n",
        "        if isinstance(self.izq,Nodoe): # No hay hijo izquierdo\n",
        "            return self.der\n",
        "        if isinstance(self.der,Nodoe): # No hay hijo derecho\n",
        "            return self. izq\n",
        "        # Hay hijo izquierdo y derecho\n",
        "        (y,der_sin_min)=self.der.deletemin()\n",
        "        return(Nodoi(self.izq,y,der_sin_min))\n",
        "        \n",
        "    def __str__(self):\n",
        "        return \"(\"+self.izq.__str__()+str(self.info)+self.der.__str__()+\")\"\n",
        "\n",
        "class Nodoe:\n",
        "    def __init__(self):\n",
        "        pass\n",
        "    \n",
        "    def delete(self,x):\n",
        "        return self\n",
        "    \n",
        "    def __str__(self):\n",
        "        return\"☐\"\n",
        "\n",
        "class Arbol:\n",
        "    def __init__(self,raiz=Nodoe()):\n",
        "        self.raiz=raiz     \n",
        "        \n",
        "    def delete(self,x):\n",
        "        self.raiz=self.raiz.delete(x)\n",
        "    \n",
        "    def __str__(self):        \n",
        "        return self.raiz.__str__()\n",
        "    \n",
        "    def dibujar(self):\n",
        "      btd = aed.BinaryTreeDrawer(fieldData=\"info\", fieldLeft=\"izq\", fieldRight=\"der\", classNone=Nodoe, drawNull=True)\n",
        "      btd.draw_tree(self, \"raiz\")"
      ],
      "execution_count": null,
      "outputs": []
    },
    {
      "cell_type": "markdown",
      "metadata": {
        "id": "iVfCmrMXGRg1"
      },
      "source": [
        "Para probar este algoritmo utilizaremos el árbol que vimos en el capítulo 4:\n",
        "\n",
        "![ejemplo-ABB](https://github.com/ivansipiran/AED-Apuntes/blob/main/recursos/ejemplo-ABB.png?raw=1)"
      ]
    },
    {
      "cell_type": "code",
      "metadata": {
        "collapsed": true,
        "id": "zHOmD5kaGRg2"
      },
      "source": [
        "a=Arbol(\n",
        "    Nodoi(\n",
        "        Nodoi(\n",
        "            Nodoi(Nodoe(),15,Nodoe()),\n",
        "            20,\n",
        "            Nodoi(\n",
        "                Nodoi(Nodoe(),30,Nodoe()),\n",
        "                35,\n",
        "                Nodoe()\n",
        "            )\n",
        "        ),\n",
        "        42,\n",
        "        Nodoi(\n",
        "            Nodoi(\n",
        "                Nodoi(\n",
        "                    Nodoi(Nodoe(),65,Nodoe()),\n",
        "                    72,\n",
        "                    Nodoi(Nodoe(),81,Nodoe())\n",
        "                ),\n",
        "                90,\n",
        "                Nodoe()\n",
        "            ),\n",
        "            95,\n",
        "            Nodoe()\n",
        "        )\n",
        "       )\n",
        ")"
      ],
      "execution_count": null,
      "outputs": []
    },
    {
      "cell_type": "code",
      "metadata": {
        "collapsed": true,
        "id": "3nwYwtNGGRg2"
      },
      "source": [
        "a.dibujar()"
      ],
      "execution_count": null,
      "outputs": []
    },
    {
      "cell_type": "code",
      "metadata": {
        "collapsed": true,
        "id": "9s0QdOpEGRg2"
      },
      "source": [
        "a.delete(30)\n",
        "a.dibujar()"
      ],
      "execution_count": null,
      "outputs": []
    },
    {
      "cell_type": "code",
      "metadata": {
        "collapsed": true,
        "id": "_CU0_1icGRg2"
      },
      "source": [
        "a.delete(95)\n",
        "a.dibujar()"
      ],
      "execution_count": null,
      "outputs": []
    },
    {
      "cell_type": "code",
      "metadata": {
        "collapsed": true,
        "id": "ABKQalBeGRg2"
      },
      "source": [
        "a.delete(42)\n",
        "a.dibujar()"
      ],
      "execution_count": null,
      "outputs": []
    },
    {
      "cell_type": "code",
      "metadata": {
        "collapsed": true,
        "id": "xKNWeJxyGRg2"
      },
      "source": [
        "a.delete(44) # 44 no está en el árbol\n",
        "a.dibujar()"
      ],
      "execution_count": null,
      "outputs": []
    },
    {
      "cell_type": "code",
      "metadata": {
        "collapsed": true,
        "id": "l9KN65naGRg3"
      },
      "source": [
        "a.delete(20)\n",
        "a.dibujar()"
      ],
      "execution_count": null,
      "outputs": []
    },
    {
      "cell_type": "markdown",
      "metadata": {
        "id": "TlM6L6ZRGRg3"
      },
      "source": [
        "### Implementación no recursiva de la eliminación\n",
        "\n",
        "Al programar la eliminación de esta manera, necesitamos modificar el nodo padre de $x$. Para simplificar, asegurando que todo nodo tenga un padre, incluso la raíz, durante el proceso de eliminación simularemos que la raíz es hija derecha de un nodo con llave \"$-\\infty$\"."
      ]
    },
    {
      "cell_type": "code",
      "metadata": {
        "collapsed": true,
        "id": "UE0t3ESkGRg3"
      },
      "source": [
        "class Nodoi:\n",
        "    def __init__(self, izq, info, der):\n",
        "        self.izq=izq\n",
        "        self.info=info\n",
        "        self.der=der\n",
        "    \n",
        "    def __str__(self):\n",
        "        return \"(\"+self.izq.__str__()+str(self.info)+self.der.__str__()+\")\"\n",
        "\n",
        "class Nodoe:\n",
        "    def __init__(self):\n",
        "        pass\n",
        "    \n",
        "    def __str__(self):\n",
        "        return\"☐\"\n",
        "\n",
        "import math\n",
        "class Arbol:\n",
        "    def __init__(self,raiz=Nodoe()):\n",
        "        self.raiz=raiz     \n",
        "        \n",
        "    def delete(self,x):\n",
        "        cabecera=Nodoi(None,-math.inf,self.raiz)\n",
        "        p=cabecera # padre del candidato a ser eliminado\n",
        "        q=cabecera.der # el candidato\n",
        "        while not isinstance(q,Nodoe):\n",
        "            if x<q.info:\n",
        "                (p,q)=(q,q.izq)\n",
        "            elif x>q.info:\n",
        "                (p,q)=(q,q.der)\n",
        "            else: # encontramos x\n",
        "                if isinstance(q.izq,Nodoe): # no hay hijo izquierdo\n",
        "                    r=q.der\n",
        "                elif isinstance(q.der,Nodoe): # no hay hijo derecho\n",
        "                    r=q.izq\n",
        "                else: # hay 2 hijos, eliminamos el mínimo del árbol derecho y lo movemos a q\n",
        "                    s=q.der\n",
        "                    if isinstance(s.izq,Nodoe): # encontramos el mín de inmediato\n",
        "                        q.info=s.info\n",
        "                        q.der=s.der\n",
        "                    else: # el mín está más abajo\n",
        "                        t=s.izq # s es el padre del candidato a min, t es el candidato\n",
        "                        while not isinstance(t.izq,Nodoe): # mientras no encontremos el final de la rama izquierda\n",
        "                            (s,t)=(t,t.izq)\n",
        "                        q.info=t.info\n",
        "                        s.izq=t.der\n",
        "                    r=q\n",
        "                if x<p.info:\n",
        "                    p.izq=r\n",
        "                else:\n",
        "                    p.der=r\n",
        "                self.raiz=cabecera.der\n",
        "                return        \n",
        "        # si llegamos acá, x no estaba, no hacemos nada\n",
        "    \n",
        "    def __str__(self):        \n",
        "        return self.raiz.__str__()\n",
        "    \n",
        "    def dibujar(self):\n",
        "      btd = aed.BinaryTreeDrawer(fieldData=\"info\", fieldLeft=\"izq\", fieldRight=\"der\", classNone=Nodoe, drawNull=True)\n",
        "      btd.draw_tree(self, \"raiz\")"
      ],
      "execution_count": null,
      "outputs": []
    },
    {
      "cell_type": "code",
      "metadata": {
        "collapsed": true,
        "id": "3fg8jSPoGRg3"
      },
      "source": [
        "a=Arbol(\n",
        "    Nodoi(\n",
        "        Nodoi(\n",
        "            Nodoi(Nodoe(),15,Nodoe()),\n",
        "            20,\n",
        "            Nodoi(\n",
        "                Nodoi(Nodoe(),30,Nodoe()),\n",
        "                35,\n",
        "                Nodoe()\n",
        "            )\n",
        "        ),\n",
        "        42,\n",
        "        Nodoi(\n",
        "            Nodoi(\n",
        "                Nodoi(\n",
        "                    Nodoi(Nodoe(),65,Nodoe()),\n",
        "                    72,\n",
        "                    Nodoi(Nodoe(),81,Nodoe())\n",
        "                ),\n",
        "                90,\n",
        "                Nodoe()\n",
        "            ),\n",
        "            95,\n",
        "            Nodoe()\n",
        "        )\n",
        "       )\n",
        ")"
      ],
      "execution_count": null,
      "outputs": []
    },
    {
      "cell_type": "code",
      "metadata": {
        "collapsed": true,
        "id": "LLo6TaFBGRg3"
      },
      "source": [
        "a.dibujar()"
      ],
      "execution_count": null,
      "outputs": []
    },
    {
      "cell_type": "code",
      "metadata": {
        "collapsed": true,
        "id": "mPiH89ojGRg3"
      },
      "source": [
        "a.delete(30)\n",
        "a.dibujar()"
      ],
      "execution_count": null,
      "outputs": []
    },
    {
      "cell_type": "code",
      "metadata": {
        "collapsed": true,
        "id": "RLDhxVOPGRg4"
      },
      "source": [
        "a.delete(95)\n",
        "a.dibujar()"
      ],
      "execution_count": null,
      "outputs": []
    },
    {
      "cell_type": "code",
      "metadata": {
        "collapsed": true,
        "id": "mfZeUxqeGRg4"
      },
      "source": [
        "a.delete(42)\n",
        "a.dibujar()"
      ],
      "execution_count": null,
      "outputs": []
    },
    {
      "cell_type": "code",
      "metadata": {
        "collapsed": true,
        "id": "YtaL0767GRg4"
      },
      "source": [
        "a.delete(44) # 44 no está en el árbol\n",
        "a.dibujar()"
      ],
      "execution_count": null,
      "outputs": []
    },
    {
      "cell_type": "code",
      "metadata": {
        "collapsed": true,
        "id": "tjOm8mfoGRg4"
      },
      "source": [
        "a.delete(20)\n",
        "a.dibujar()"
      ],
      "execution_count": null,
      "outputs": []
    },
    {
      "cell_type": "markdown",
      "metadata": {
        "id": "o241gLnNGRg4"
      },
      "source": [
        "## Rotaciones en un ABB\n",
        "\n",
        "Una operación que es la base de muchos algoritmos es la *rotación* (o rotación simple, para diferenciarla de la rotación doble, que veremos más adelante).\n",
        "\n",
        "Una rotación entre los nodos $b$ y $d$ es la siguiente transformación:\n",
        "\n",
        "![rotacion-simple](https://github.com/ivansipiran/AED-Apuntes/blob/main/recursos/rotacion-simple.png?raw=1)\n",
        "\n",
        "Como lo sugiere la figura, por simetría esta operación también se puede hacer en la dirección inversa.\n",
        "\n",
        "Esta operación tiene costo constante, porque solo requiere modificar tres punteros, y preserva el orden de izquierda a derecha que caracteriza a un ABB. Su efecto es que $A$ y $b$ suben un nivel, mientras que $d$ y $E$ bajan un nivel."
      ]
    },
    {
      "cell_type": "markdown",
      "metadata": {
        "id": "ln5LtBWMGRg4"
      },
      "source": [
        "### Aplicación: Inserción en la raíz\n",
        "\n",
        "El método estándar de inserción en un ABB es inserción en las hojas.\n",
        "Veremos a continuación que existe un método alternativo, que deja al nuevo elemento como raíz del árbol.\n",
        "\n",
        "El método consiste en insertar el nuevo elemento de la manera usual, y luego hacer una secuencia de rotaciones que vayan haciéndolo ascender, hasta que llegue a estar en la raíz."
      ]
    },
    {
      "cell_type": "code",
      "metadata": {
        "collapsed": true,
        "id": "1fxX6BUYGRg4"
      },
      "source": [
        "class Nodoi:\n",
        "    def __init__(self, izq, info, der):\n",
        "        self.izq=izq\n",
        "        self.info=info\n",
        "        self.der=der\n",
        "    def right_rotation(self):\n",
        "        return(Nodoi(self.izq.izq,\n",
        "                     self.izq.info,\n",
        "                     Nodoi(self.izq.der,self.info,self.der)))   \n",
        "    def left_rotation(self):\n",
        "        return(Nodoi(Nodoi(self.izq,self.info,self.der.izq),\n",
        "                     self.der.info,\n",
        "                     self.der.der))\n",
        "    def root_insert(self,x):\n",
        "        assert x!=self.info\n",
        "        if x<self.info:\n",
        "            self.izq=self.izq.root_insert(x) # x queda como raíz del hijo izquierdo\n",
        "            return self.right_rotation() # la rotación deja a x como raíz\n",
        "        else:\n",
        "            self.der=self.der.root_insert(x) # x queda como raíz del hijo derecho\n",
        "            return self.left_rotation() # la rotación deja a x como raíz\n",
        "        \n",
        "    def __str__(self):\n",
        "        return \"(\"+self.izq.__str__()+str(self.info)+self.der.__str__()+\")\"\n",
        "\n",
        "class Nodoe:\n",
        "    def __init__(self):\n",
        "        pass\n",
        "    \n",
        "    def root_insert(self,x):\n",
        "        return Nodoi(Nodoe(),x,Nodoe())\n",
        "    \n",
        "    def __str__(self):\n",
        "        return\"☐\"\n",
        "\n",
        "class Arbol:\n",
        "    def __init__(self,raiz=Nodoe()):\n",
        "        self.raiz=raiz     \n",
        "        \n",
        "    def root_insert(self,x):\n",
        "        self.raiz=self.raiz.root_insert(x)\n",
        "    \n",
        "    def __str__(self):        \n",
        "        return self.raiz.__str__()\n",
        "    \n",
        "    def dibujar(self):\n",
        "      btd = aed.BinaryTreeDrawer(fieldData=\"info\", fieldLeft=\"izq\", fieldRight=\"der\", classNone=Nodoe, drawNull=True)\n",
        "      btd.draw_tree(self, \"raiz\")"
      ],
      "execution_count": null,
      "outputs": []
    },
    {
      "cell_type": "code",
      "metadata": {
        "collapsed": true,
        "id": "mrpCz9V4GRg5"
      },
      "source": [
        "a=Arbol()\n",
        "a.root_insert(10)\n",
        "a.dibujar()\n",
        "a.root_insert(20)\n",
        "a.dibujar()\n",
        "a.root_insert(30)\n",
        "a.dibujar()\n",
        "a.root_insert(25)\n",
        "a.dibujar()\n",
        "a.root_insert(15)\n",
        "a.dibujar()"
      ],
      "execution_count": null,
      "outputs": []
    },
    {
      "cell_type": "markdown",
      "metadata": {
        "id": "EymvWLpnGRg5"
      },
      "source": [
        "### Aplicación: Árboles cartesianos y \"Treaps\"\n",
        "\n",
        "Un *árbol cartesiano* es un árbol binario en que cada nodo interno contiene un par ordenado $(x,y)$, tal que:\n",
        "\n",
        "* Si se consideran las coordenadas $x$, el árbol es un ABB\n",
        "* Si se consideran las coordenadas $y$, el árbol es un árbol de prioridad\n",
        "\n",
        "La siguiente figura muestra a un árbol cartesiano en que la máxima prioridad corresponde al valor mínimo de $y$:\n",
        "\n",
        "![cartesian-tree](https://github.com/ivansipiran/AED-Apuntes/blob/main/recursos/cartesian-tree.png?raw=1)\n",
        "\n",
        "Intuitivamente, podemos imaginar que la prioridad $y$ corresponde a la hora en que la llave $x$ ingresó al árbol. Esto explica que la raíz tenga el valor mínimo de $y$, y que estos valores vayan creciendo a medida que descendemos en el árbol.\n",
        "\n",
        "Sin embargo, _no estamos obligados a insertar las llaves en orden cronológico_. En efecto, veremos que un nuevo par $(x,y)$ se puede insertar en cualquier momento, aunque su $y$ no sea mayor que los de los nodos que ya están en el árbol..\n",
        "\n",
        "Para insertar un nuevo par ordenado en un árbol cartesiano, primero efectuamos una inserción como si fuera un ABB, con lo cual el nuevo nodo cumple con las restricciones \"izquierda-derecha\" en su coordenada $x$, pero posiblemente no con las restricciones de prioridad \"arriba-abajo\" de la coordenada $y$. Para corregir esto último, a continuación, hacemos una serie de rotaciones hasta conseguir que el nuevo nodo cumpla con las restricciones de prioridad.\n",
        "\n",
        "También es posible eliminar un nodo dado de un árbol cartesiano. Como al eliminar un nodo sus dos árboles hijos quedan \"huérfanos\", es necesario fusionarlos en uno solo. Para esto, elegimos a la raíz de mejor prioridad para que quede como raíz del árbol resultante. De los tres subárboles restantes, uno va a un lado de la nueva raíz, y los otros dos deben fusionarse recursivamente.\n",
        "\n",
        "Una vez que tenemos una implementación de árboles cartesianos, podemos utilizarla para obtener un nuevo tipo de diccionario, llamado un *Treap* (mezcla de \"tree\" y de \"heap\"), que posee las mismas características de desempeño promedio que un ABB, pero que es inmune a que las llaves lleguen ordenadas, o a que un adversario le entregue la secuencia de inserciones en un orden malicioso. Para esto, dado una nueva llave $x$ para insertar, generamos una prioridad $y$ *al azar*, e insertamos el par $(x,y)$ resultante. El efecto neto es equivalente a si las llaves hubieran llegado en un orden aleatorio."
      ]
    }
  ]
}