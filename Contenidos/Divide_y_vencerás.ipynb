{
  "nbformat": 4,
  "nbformat_minor": 0,
  "metadata": {
    "colab": {
      "name": "Divide y vencerás.ipynb",
      "provenance": []
    },
    "kernelspec": {
      "name": "python3",
      "display_name": "Python 3"
    },
    "language_info": {
      "name": "python"
    }
  },
  "cells": [
    {
      "cell_type": "markdown",
      "metadata": {
        "id": "ppk8vsC36db1"
      },
      "source": [
        "# Divide y vencerás - Encontrar el máximo\n",
        "\n",
        "Se pide encontrar el número máximo de un arreglo\n",
        "\n",
        "Se recomienda seguir estos pasos:\n",
        "1. Dividir el arreglo en dos partes\n",
        "2. Encontrar el máximo en c/u\n",
        "3. Comparar los máximos de cada parte y retornar el mayor\n",
        "\n",
        "### Ejemplo:\n",
        "\n",
        "![Nodo-arbol-binario](https://github.com/femunoz/AED/blob/main/recursos/MaximoDivideYVence.png?raw=1)\n"
      ]
    },
    {
      "cell_type": "code",
      "metadata": {
        "colab": {
          "base_uri": "https://localhost:8080/"
        },
        "id": "2qqBrZju2wRm",
        "outputId": "0929d909-22b3-4307-b309-dfbee4201102"
      },
      "source": [
        "import numpy as np\n",
        "\n",
        "# findMax: arreglo, int, int\n",
        "# Funcion recursiva que busca el valor maximo de un arreglo a\n",
        "# entre los indices i y j. Retorna este valor.\n",
        "\n",
        "def findMax(a,i,j):\n",
        "\n",
        "    # CASO BASE:\n",
        "    \n",
        "    if i==j: # tiene un solo elem. Este es max. en subarreglo.\n",
        "        return a[i]\n",
        "\n",
        "    mid = (i+j)//2 # ej: i=1 y j=8 => mid = 9//2 = 4\n",
        "\n",
        "    max1 = findMax(a,i,mid)\n",
        "    max2 = findMax(a,mid+1,j)\n",
        "\n",
        "    if max1>=max2:\n",
        "        return max1\n",
        "    else:\n",
        "        return max2\n",
        "\n",
        "\n",
        "a = np.array([29,-1,9,4,5,14,-5])\n",
        "b = np.array([29,-1,9,4,5,14,-5,67])\n",
        "print(findMax(a,0,len(a)-1))\n",
        "print(findMax(b,0,len(b)-1))"
      ],
      "execution_count": 4,
      "outputs": [
        {
          "output_type": "stream",
          "text": [
            "29\n",
            "67\n"
          ],
          "name": "stdout"
        }
      ]
    }
  ]
}