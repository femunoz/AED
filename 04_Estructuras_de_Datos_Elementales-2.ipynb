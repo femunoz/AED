{
  "cells": [
    {
      "cell_type": "markdown",
      "metadata": {
        "id": "v5XWdjUXR8FX"
      },
      "source": [
        "!pip install aed-utilities"
      ]
    },
    {
      "cell_type": "markdown",
      "metadata": {
        "id": "gKQZhPwwb_uI"
      },
      "source": [
        "# Estructuras de datos elementales\n",
        "\n",
        "Los sistemas o métodos de organización de datos que permiten un almacenamiento eficiente de la información en la memoria del computador son conocidos como estructuras de datos. Estos métodos de organización constituyen las piezas básicas para la construcción de algoritmos complejos, y permiten implementarlos de manera eficiente.\n",
        "\n",
        "En el presente capítulo se presentan las estructuras de datos básicas como son arreglos, listas enlazadas y árboles, con las cuales se implementarán posteriormente los _tipos de datos abstractos_."
      ]
    },
    {
      "cell_type": "markdown",
      "metadata": {
        "id": "beBcsfmMb_vp"
      },
      "source": [
        "## Arreglos\n",
        "\n",
        "Un arreglo es una secuencia contigua en memoria, que almacena un número fijo de elementos homogéneos. En la siguiente figura se muestra un arreglo de enteros con 10 elementos:\n",
        "\n",
        "![ejemplo-arreglo](https://github.com/ivansipiran/AED-Apuntes/blob/main/recursos/ejemplo-arreglo.png?raw=1)\n",
        "\n",
        "Una ventaja que tienen los arreglos es que el costo de acceso a un elemento dado del arreglo es constante, es decir no hay diferencias de costo entre accesar el primer, el último o cualquier elemento del arreglo, lo cual es muy eficiente. La desventaja es que es necesario definir a priori el tamaño del arreglo, lo cual puede generar mucha pérdida de espacio en memoria si se definen arreglos muy grandes para contener conjuntos pequeños de elementos.\n",
        "\n",
        "Esta característica de costo de acceso constante es esencial para la eficiencia de algunos algoritmos muy importantes, como por ejemplo el siguiente:"
      ]
    },
    {
      "cell_type": "markdown",
      "metadata": {},
      "source": [
        "## Numpy y Arreglos\n",
        "\n",
        "Numpy es la principal biblioteca para computación científica en Python.\n",
        "\n",
        "Una de las características de Numpy es que provee arreglos multidimensionales de alta eficiencia. Mientras la gran flexibilidad de las listas de Python puede hacer que no sea muy eficiente el acceso a elementos específicos, los arreglos de Numpy aseguran el acceso a cada elemento en tiempo constante. Por esa razón, utilizaremos estos arreglos cuando necesitemos asegurar la eficiencia de la implementación de los algoritmos."
      ]
    },
    {
      "cell_type": "code",
      "execution_count": null,
      "metadata": {
        "id": "AlKwxPqqhWS3",
        "outputId": "2a1db433-bec2-4f8b-ae64-842325e0797f"
      },
      "outputs": [
        {
          "name": "stdout",
          "output_type": "stream",
          "text": [
            "4.6\n"
          ]
        }
      ],
      "source": [
        "import numpy as np\n",
        "\n",
        "a = np.array([6.5, 5.2, 4.6, 7.0, 4.3])\n",
        "print(a[2])"
      ]
    },
    {
      "cell_type": "code",
      "execution_count": null,
      "metadata": {
        "id": "3HoQcRkchWS4",
        "outputId": "532e04e7-4360-4b08-f881-39b48082dd7b"
      },
      "outputs": [
        {
          "name": "stdout",
          "output_type": "stream",
          "text": [
            "5\n"
          ]
        }
      ],
      "source": [
        "print(len(a))"
      ]
    },
    {
      "cell_type": "markdown",
      "metadata": {
        "id": "T4apZ6WwhWS4"
      },
      "source": [
        "Hay varias formas de crear arreglos inicializados con ceros, unos, valores constantes o valores aleatorios."
      ]
    },
    {
      "cell_type": "code",
      "execution_count": null,
      "metadata": {
        "id": "agomsoLOhWS5",
        "outputId": "5e2b7951-5d78-47d9-fbac-068bac016337"
      },
      "outputs": [
        {
          "name": "stdout",
          "output_type": "stream",
          "text": [
            "[1. 1. 1. 1. 1. 1. 1. 1. 1. 1.]\n"
          ]
        }
      ],
      "source": [
        "b = np.ones(10)\n",
        "print(b)"
      ]
    },
    {
      "cell_type": "code",
      "execution_count": null,
      "metadata": {
        "id": "YAKt8_SshWS6",
        "outputId": "73e0b40f-e24e-40e1-8e37-43d0e25a50c0"
      },
      "outputs": [
        {
          "name": "stdout",
          "output_type": "stream",
          "text": [
            "[0 0 0 0 0 0 0]\n"
          ]
        }
      ],
      "source": [
        "c = np.zeros(7,dtype=int)\n",
        "print(c)"
      ]
    },
    {
      "cell_type": "markdown",
      "metadata": {
        "id": "6Xr5S703hWS7"
      },
      "source": [
        "En los dos ejemplos anteriores mostramos la diferencia que se produce al explicitar el tipo de datos del arreglo. En el primero, obtenemos el *default*, que es flotante, mientras en el segundo forzamos a que sea entero."
      ]
    },
    {
      "cell_type": "code",
      "execution_count": null,
      "metadata": {
        "id": "P6S5ZczXhWS8",
        "outputId": "1fd1a3d7-e40a-43a2-fe9a-83eeb9422d61"
      },
      "outputs": [
        {
          "name": "stdout",
          "output_type": "stream",
          "text": [
            "[2 2 2 2 2]\n"
          ]
        }
      ],
      "source": [
        "c = np.full(5, 2)\n",
        "print(c)"
      ]
    },
    {
      "cell_type": "code",
      "execution_count": null,
      "metadata": {
        "id": "JyI-nY93hWS9",
        "outputId": "85f56db5-8247-4e81-f857-12e1ca1f4c82"
      },
      "outputs": [
        {
          "name": "stdout",
          "output_type": "stream",
          "text": [
            "[0.39229597 0.99294597 0.16978406 0.49579816 0.3654721  0.43266937]\n"
          ]
        }
      ],
      "source": [
        "d = np.random.random(6)\n",
        "print(d)"
      ]
    },
    {
      "cell_type": "markdown",
      "metadata": {
        "id": "Un6q1O8vhWS9"
      },
      "source": [
        "También es posible crear y manejar arreglos de varias dimensiones."
      ]
    },
    {
      "cell_type": "code",
      "execution_count": null,
      "metadata": {
        "id": "5EfpRX4HhWS-",
        "outputId": "0b1f18ed-f5dd-48b4-f564-a477be3037bc"
      },
      "outputs": [
        {
          "name": "stdout",
          "output_type": "stream",
          "text": [
            "[[1 2 3]\n",
            " [4 5 6]]\n"
          ]
        }
      ],
      "source": [
        "a = np.array([[1,2,3],[4,5,6]])\n",
        "print(a)"
      ]
    },
    {
      "cell_type": "code",
      "execution_count": null,
      "metadata": {
        "id": "3uqf-Q20hWS_",
        "outputId": "26273f39-d679-49b1-ce84-ffba6864d4b8"
      },
      "outputs": [
        {
          "name": "stdout",
          "output_type": "stream",
          "text": [
            "3\n"
          ]
        }
      ],
      "source": [
        "print(a[0,2])"
      ]
    },
    {
      "cell_type": "code",
      "execution_count": null,
      "metadata": {
        "id": "vL1H2x8IhWTA",
        "outputId": "a7277d66-200c-4f2a-f0b6-a11796a20a17"
      },
      "outputs": [
        {
          "name": "stdout",
          "output_type": "stream",
          "text": [
            "2 3\n"
          ]
        }
      ],
      "source": [
        "(m,n)=np.shape(a)\n",
        "print(m,n)"
      ]
    },
    {
      "cell_type": "code",
      "execution_count": null,
      "metadata": {
        "id": "WhzOB0s_hWTA",
        "outputId": "beb04274-7f1c-4c1b-bea2-e1858caf25ed"
      },
      "outputs": [
        {
          "name": "stdout",
          "output_type": "stream",
          "text": [
            "[[0. 0. 0.]\n",
            " [0. 0. 0.]\n",
            " [0. 0. 0.]]\n"
          ]
        }
      ],
      "source": [
        "b = np.zeros((3,3))\n",
        "print(b)"
      ]
    },
    {
      "cell_type": "code",
      "execution_count": null,
      "metadata": {
        "id": "hE2mrIruhWTB",
        "outputId": "be8fc070-c1a8-456b-db6a-c86752c5bcfd"
      },
      "outputs": [
        {
          "name": "stdout",
          "output_type": "stream",
          "text": [
            "[[1. 0. 0.]\n",
            " [0. 1. 0.]\n",
            " [0. 0. 1.]]\n"
          ]
        }
      ],
      "source": [
        "c = np.eye(3)\n",
        "print(c)"
      ]
    },
    {
      "cell_type": "markdown",
      "metadata": {
        "id": "JFLFBdd9b_vq"
      },
      "source": [
        "### Ejemplo: Búsqueda Binaria\n",
        "\n"
      ]
    },
    {
      "cell_type": "markdown",
      "metadata": {},
      "source": [
        "Supongamos que queremos buscar un elemento $x$ en un arreglo $a$ de tamaño $n$. Si no tenemos más información sobre el orden de los elementos dentro del arreglo, lo único que podemos hacer es una *búsqueda secuencial*, la cual tiene costo $\\Theta(n)$ tanto en el peor caso como en el caso promedio.\n",
        "\n",
        "Pero si sabemos que los elementos están en orden ascendente, existe una forma mucho más eficiente, llamada *búsqueda binaria*.\n",
        "\n",
        "La idea es comparar primero $x$ conta el elemento del centro del arreglo. Si tenemos suerte, lo encontramos ahí, pero incluso si no tenemos suerte, podemos de inmediato descartar la mitad del arreglo. En efecto, si $x$ es mayor que el elemento del centro, entonces basta seguir buscando en la segunda mitad. De la misma manera, si $x$ es menor, basta seguir buscando en la primera mitad."
      ]
    },
    {
      "cell_type": "code",
      "execution_count": null,
      "metadata": {
        "id": "-wMJcpUyb_vr"
      },
      "outputs": [],
      "source": [
        "import numpy as np\n",
        "a=np.array([12,25,29,34,45,53,59,67,86,92])"
      ]
    },
    {
      "cell_type": "code",
      "execution_count": null,
      "metadata": {
        "id": "VFOMEoMXb_xg"
      },
      "outputs": [],
      "source": [
        "# Búsqueda binaria, versión iterativa\n",
        "# busca x en el arreglo a, retorna subíndice o -1 si no está\n",
        "def bbin(x,a):\n",
        "    n=len(a)\n",
        "    i=0\n",
        "    j=n-1\n",
        "    while i<=j:\n",
        "        k=(i+j)//2\n",
        "        if x==a[k]:\n",
        "            return k\n",
        "        if x<a[k]:\n",
        "            j=k-1\n",
        "        else:\n",
        "            i=k+1\n",
        "    return -1"
      ]
    },
    {
      "cell_type": "code",
      "execution_count": null,
      "metadata": {
        "id": "-NuN8DBAb_xu",
        "outputId": "083f27c4-1104-473e-fd61-d020dc24353d"
      },
      "outputs": [
        {
          "name": "stdout",
          "output_type": "stream",
          "text": [
            "0 5 9 -1\n"
          ]
        }
      ],
      "source": [
        "print(bbin(12,a), bbin(53,a), bbin(92,a), bbin(30,a))"
      ]
    },
    {
      "cell_type": "markdown",
      "metadata": {
        "id": "jkMUR9rFb_xz"
      },
      "source": [
        "---"
      ]
    },
    {
      "cell_type": "markdown",
      "metadata": {
        "id": "oDMuy7qAb_x7"
      },
      "source": [
        "### Una manera más eficiente de programar la búsqueda binaria\n",
        "\n",
        "En el análisis anterior, hemos considerado que en cada iteración, el costo de accesar el elemento $a[k]$ es igual a $1$, representando así el costo total de comparar primero con`==`y luego con `<`.\n",
        "Si quisiéramos hacer una contabilidad más precisa, deberíamos decir que ese costo es en realidad de $2$ comparaciones por cada iteración.\n",
        "A continuación veremos que es posible reducir eso a $1$ comparación por ciclo, si utilizamos comparaciones de tipo `<=`:"
      ]
    },
    {
      "cell_type": "code",
      "execution_count": null,
      "metadata": {
        "id": "SlfQqvjgb_x8"
      },
      "outputs": [],
      "source": [
        "# Búsqueda binaria, versión iterativa y con <=\n",
        "# busca x en el arreglo a, retorna subíndice o -1 si no está\n",
        "def bbin(x,a):\n",
        "    n=len(a)\n",
        "    i=0\n",
        "    j=n-1\n",
        "    while i<j: # conjunto tiene al menos 2 elementos\n",
        "        k=(i+j)//2\n",
        "        if x<=a[k]:\n",
        "            j=k    # x estaría en a[i],...,a[k]\n",
        "        else:\n",
        "            i=k+1  # x estaría en a[k+1],...,a[j]\n",
        "    # al terminar, el conjunto factible se ha reducido a 0 o 1 elemento\n",
        "    if i==j and x==a[i]:\n",
        "        return i\n",
        "    else:\n",
        "        return -1"
      ]
    },
    {
      "cell_type": "code",
      "execution_count": null,
      "metadata": {
        "id": "ABDnWJ1Ab_yA",
        "outputId": "493b4b1e-e138-4306-ac93-b382199f04d0"
      },
      "outputs": [
        {
          "name": "stdout",
          "output_type": "stream",
          "text": [
            "0 5 9 -1\n"
          ]
        }
      ],
      "source": [
        "print(bbin(12,a), bbin(53,a), bbin(92,a), bbin(30,a))"
      ]
    },
    {
      "cell_type": "markdown",
      "metadata": {
        "id": "8bvaTQl9b_yU"
      },
      "source": [
        "En esta versión logramos ahorrar una comparación de elementos por iteración, al precio de que toda las búsquedas ahora hacen el máximo de iteraciones, a diferencia del algoritmo original, en donde si teníamos suerte el algoritmo buscado se podría encontrar en las primeras iteraciones.\n",
        "\n",
        "Este es un precio que vale la pena pagar, porque en el algoritmo original son muy pocos los casos en que la búsqueda termina tempranamente, y en la gran mayoría de los casos igual se hace un número de iteraciones muy cercano al máximo."
      ]
    }
  ],
  "metadata": {
    "colab": {
      "collapsed_sections": [],
      "name": "04_Estructuras_de_Datos_Elementales.ipynb",
      "provenance": [],
      "toc_visible": true
    },
    "kernelspec": {
      "display_name": "Python 3",
      "language": "python",
      "name": "python3"
    },
    "language_info": {
      "codemirror_mode": {
        "name": "ipython",
        "version": 3
      },
      "file_extension": ".py",
      "mimetype": "text/x-python",
      "name": "python",
      "nbconvert_exporter": "python",
      "pygments_lexer": "ipython3",
      "version": "3.6.9"
    }
  },
  "nbformat": 4,
  "nbformat_minor": 0
}
