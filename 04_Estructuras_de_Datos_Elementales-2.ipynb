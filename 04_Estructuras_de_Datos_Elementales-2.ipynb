{
  "cells": [
    {
      "cell_type": "code",
      "execution_count": null,
      "metadata": {
        "id": "v5XWdjUXR8FX"
      },
      "outputs": [],
      "source": [
        "!pip install aed-utilities"
      ]
    },
    {
      "cell_type": "markdown",
      "metadata": {
        "id": "gKQZhPwwb_uI"
      },
      "source": [
        "# 4 Estructuras de datos elementales\n",
        "\n",
        "Los sistemas o métodos de organización de datos que permiten un almacenamiento eficiente de la información en la memoria del computador son conocidos como estructuras de datos. Estos métodos de organización constituyen las piezas básicas para la construcción de algoritmos complejos, y permiten implementarlos de manera eficiente.\n",
        "\n",
        "En el presente capítulo se presentan las estructuras de datos básicas como son arreglos, listas enlazadas y árboles, con las cuales se implementarán posteriormente los _tipos de datos abstractos_."
      ]
    },
    {
      "cell_type": "markdown",
      "metadata": {
        "id": "beBcsfmMb_vp"
      },
      "source": [
        "## Arreglos\n",
        "\n",
        "Un arreglo es una secuencia contigua en memoria, que almacena un número fijo de elementos homogéneos. En la siguiente figura se muestra un arreglo de enteros con 10 elementos:\n",
        "\n",
        "![ejemplo-arreglo](https://github.com/ivansipiran/AED-Apuntes/blob/main/recursos/ejemplo-arreglo.png?raw=1)\n",
        "\n",
        "Una ventaja que tienen los arreglos es que el costo de acceso a un elemento dado del arreglo es constante, es decir no hay diferencias de costo entre accesar el primer, el último o cualquier elemento del arreglo, lo cual es muy eficiente. La desventaja es que es necesario definir a priori el tamaño del arreglo, lo cual puede generar mucha pérdida de espacio en memoria si se definen arreglos muy grandes para contener conjuntos pequeños de elementos.\n",
        "\n",
        "Esta característica de costo de acceso constante es esencial para la eficiencia de algunos algoritmos muy importantes, como por ejemplo el siguiente:"
      ]
    },
    {
      "cell_type": "markdown",
      "metadata": {
        "id": "JFLFBdd9b_vq"
      },
      "source": [
        "### Ejemplo: Búsqueda Binaria\n",
        "\n",
        "Supongamos que queremos buscar un elemento $x$ en un arreglo $a$ de tamaño $n$. Si no tenemos más información sobre el orden de los elementos dentro del arreglo, lo único que podemos hacer es una *búsqueda secuencial*, la cual tiene costo $\\Theta(n)$ tanto en el peor caso como en el caso promedio.\n",
        "\n",
        "Pero si sabemos que los elementos están en orden ascendente, existe una forma mucho más eficiente, llamada *búsqueda binaria*.\n",
        "\n",
        "La idea es comparar primero $x$ conta el elemento del centro del arreglo. Si tenemos suerte, lo encontramos ahí, pero incluso si no tenemos suerte, podemos de inmediato descartar la mitad del arreglo. En efecto, si $x$ es mayor que el elemento del centro, entonces basta seguir buscando en la segunda mitad. De la misma manera, si $x$ es menor, basta seguir buscando en la primera mitad."
      ]
    },
    {
      "cell_type": "code",
      "execution_count": null,
      "metadata": {
        "id": "-wMJcpUyb_vr"
      },
      "outputs": [],
      "source": [
        "import numpy as np\n",
        "a=np.array([12,25,29,34,45,53,59,67,86,92])"
      ]
    },
    {
      "cell_type": "code",
      "execution_count": null,
      "metadata": {
        "id": "VFOMEoMXb_xg"
      },
      "outputs": [],
      "source": [
        "# Búsqueda binaria, versión iterativa\n",
        "# busca x en el arreglo a, retorna subíndice o -1 si no está\n",
        "def bbin(x,a):\n",
        "    n=len(a)\n",
        "    i=0\n",
        "    j=n-1\n",
        "    while i<=j:\n",
        "        k=(i+j)//2\n",
        "        if x==a[k]:\n",
        "            return k\n",
        "        if x<a[k]:\n",
        "            j=k-1\n",
        "        else:\n",
        "            i=k+1\n",
        "    return -1"
      ]
    },
    {
      "cell_type": "code",
      "execution_count": null,
      "metadata": {
        "id": "-NuN8DBAb_xu",
        "outputId": "083f27c4-1104-473e-fd61-d020dc24353d"
      },
      "outputs": [
        {
          "name": "stdout",
          "output_type": "stream",
          "text": [
            "0 5 9 -1\n"
          ]
        }
      ],
      "source": [
        "print(bbin(12,a), bbin(53,a), bbin(92,a), bbin(30,a))"
      ]
    },
    {
      "cell_type": "markdown",
      "metadata": {
        "id": "jkMUR9rFb_xz"
      },
      "source": [
        "---"
      ]
    },
    {
      "cell_type": "markdown",
      "metadata": {
        "id": "oDMuy7qAb_x7"
      },
      "source": [
        "### Una manera más eficiente de programar la búsqueda binaria\n",
        "\n",
        "En el análisis anterior, hemos considerado que en cada iteración, el costo de accesar el elemento $a[k]$ es igual a $1$, representando así el costo total de comparar primero con`==`y luego con `<`.\n",
        "Si quisiéramos hacer una contabilidad más precisa, deberíamos decir que ese costo es en realidad de $2$ comparaciones por cada iteración.\n",
        "A continuación veremos que es posible reducir eso a $1$ comparación por ciclo, si utilizamos comparaciones de tipo `<=`:"
      ]
    },
    {
      "cell_type": "code",
      "execution_count": null,
      "metadata": {
        "id": "SlfQqvjgb_x8"
      },
      "outputs": [],
      "source": [
        "# Búsqueda binaria, versión iterativa y con <=\n",
        "# busca x en el arreglo a, retorna subíndice o -1 si no está\n",
        "def bbin(x,a):\n",
        "    n=len(a)\n",
        "    i=0\n",
        "    j=n-1\n",
        "    while i<j: # conjunto tiene al menos 2 elementos\n",
        "        k=(i+j)//2\n",
        "        if x<=a[k]:\n",
        "            j=k    # x estaría en a[i],...,a[k]\n",
        "        else:\n",
        "            i=k+1  # x estaría en a[k+1],...,a[j]\n",
        "    # al terminar, el conjunto factible se ha reducido a 0 o 1 elemento\n",
        "    if i==j and x==a[i]:\n",
        "        return i\n",
        "    else:\n",
        "        return -1"
      ]
    },
    {
      "cell_type": "code",
      "execution_count": null,
      "metadata": {
        "id": "ABDnWJ1Ab_yA",
        "outputId": "493b4b1e-e138-4306-ac93-b382199f04d0"
      },
      "outputs": [
        {
          "name": "stdout",
          "output_type": "stream",
          "text": [
            "0 5 9 -1\n"
          ]
        }
      ],
      "source": [
        "print(bbin(12,a), bbin(53,a), bbin(92,a), bbin(30,a))"
      ]
    },
    {
      "cell_type": "markdown",
      "metadata": {
        "id": "8bvaTQl9b_yU"
      },
      "source": [
        "En esta versión logramos ahorrar una comparación de elementos por iteración, al precio de que toda las búsquedas ahora hacen el máximo de iteraciones, a diferencia del algoritmo original, en donde si teníamos suerte el algoritmo buscado se podría encontrar en las primeras iteraciones.\n",
        "\n",
        "Este es un precio que vale la pena pagar, porque en el algoritmo original son muy pocos los casos en que la búsqueda termina tempranamente, y en la gran mayoría de los casos igual se hace un número de iteraciones muy cercano al máximo."
      ]
    },
    {
      "cell_type": "markdown",
      "metadata": {
        "id": "Oj2vevRMb_zS"
      },
      "source": [
        "## Estructuras enlazadas\n",
        "\n",
        "Como hemos visto, los arreglos permiten que algunos algoritmos se puedan programar de manera muy eficiente, pero las estructuras basadas en arreglos suelen ser muy rígidas.\n",
        "Por ejemplo, si quisiéramos agregar un nuevo elemento al arreglo ordenado en que se hace búsqueda binaria (suponiendo que hubiera holgura suficiente), la inserción tomaría tiempo $\\Theta(n)$ tanto en el peor caso como en promedio, por la necesidad de preservar el orden de los elementos.\n",
        "\n",
        "Veremos a continuación que podemos diseñar estructuras mucho más flexibles sin hacemos uso de la capacidad de definir clases de objetos que contienen dentro de sus campos referencias (también llamadas \"punteros\") a otros objetos."
      ]
    },
    {
      "cell_type": "markdown",
      "metadata": {
        "id": "C-hATftVb_zW"
      },
      "source": [
        "## Listas de enlace simple\n",
        "\n",
        "Comenzaremos viendo la estructura más sencilla de este tipo: una secuencia de nodos, en que cada uno contiene una referencia al siguiente de la lista. Consideremos nodos compuestos de dos *campos* (o *atributos*): `info` y `sgte`. El primero almacena el elemento de la secuencia, y el segundo apunta al siguiente nodo. Por ejemplo, un nodo que almacena el valor $42$ y que apunta al siguiente nodo se puede representar gráficamente así:\n",
        "\n",
        "![Nodo](https://github.com/ivansipiran/AED-Apuntes/blob/main/recursos/Nodo.png?raw=1)\n",
        "\n",
        "O, más simplemente:\n",
        "\n",
        "![Nodo-circular](https://github.com/ivansipiran/AED-Apuntes/blob/main/recursos/Nodo-circular.png?raw=1)\n",
        "\n",
        "Para definir el formato de estos nodos utilizaremos la siguiente definición de clase, la que incluye un constructor para inicializar sus campos al crear un objeto:"
      ]
    },
    {
      "cell_type": "code",
      "execution_count": null,
      "metadata": {
        "id": "xzjMpF3lb_00"
      },
      "outputs": [],
      "source": [
        "class Nodo:\n",
        "    def __init__(self, info, sgte=None):\n",
        "        self.info=info\n",
        "        self.sgte=sgte"
      ]
    },
    {
      "cell_type": "code",
      "execution_count": null,
      "metadata": {
        "colab": {
          "base_uri": "https://localhost:8080/"
        },
        "id": "pWk3Jh5Hb_1D",
        "outputId": "162159b5-b9f7-46df-f445-4cb23dff7824"
      },
      "outputs": [
        {
          "name": "stdout",
          "output_type": "stream",
          "text": [
            "42 None\n"
          ]
        }
      ],
      "source": [
        "p=Nodo(42)\n",
        "print(p.info, p.sgte)"
      ]
    },
    {
      "cell_type": "markdown",
      "metadata": {
        "id": "MBA7IQwVb_1a"
      },
      "source": [
        "El siguiente trozo de programa muestra la construcción de una lista con 4 elementos: $42$, $65$, $13$ y $44$, y un ejemplo simple de uso:"
      ]
    },
    {
      "cell_type": "code",
      "execution_count": null,
      "metadata": {
        "colab": {
          "base_uri": "https://localhost:8080/"
        },
        "id": "fywtIOnOb_1a",
        "outputId": "811aa587-4e2f-4871-9973-f69a7fb154e3"
      },
      "outputs": [
        {
          "name": "stdout",
          "output_type": "stream",
          "text": [
            "42 65 13 44 \n"
          ]
        }
      ],
      "source": [
        "primero=Nodo(42,Nodo(65,Nodo(13,Nodo(44))))\n",
        "p=primero\n",
        "while p is not None:\n",
        "    print(p.info, end=\" \")\n",
        "    p=p.sgte\n",
        "print()"
      ]
    },
    {
      "cell_type": "markdown",
      "metadata": {
        "id": "URLghW3yb_3h"
      },
      "source": [
        "Algo adicional respecto de la representación gráfica. Cuando una referencia es nula (`None`), es tradicional representarla como \"conectada a tierra\":\n",
        "\n",
        "![Nodo-None](https://github.com/ivansipiran/AED-Apuntes/blob/main/recursos/Nodo-None.png?raw=1)\n",
        "\n",
        "Al usar la representación con nodos circulares, la ausencia de un nodo siguiente la podemos representar simplemente por la ausencia de la flecha saliente:\n",
        "\n",
        "![Nodo-circular-None](https://github.com/ivansipiran/AED-Apuntes/blob/main/recursos/Nodo-circular-None.png?raw=1)\n",
        "\n",
        "O, si queremos hacer explícita la ausencia de un nodo siguiente (o, en otras palabras, que el puntero al nodo siguiente es nulo), podemos representarlo por un nodo cuadrado, que es una convención que nos resultará muy conveniente más adelante, al ver *árboles*:\n",
        "\n",
        "![Nodo-circular-cuadrado](https://github.com/ivansipiran/AED-Apuntes/blob/main/recursos/Nodo-circular-cuadrado.png?raw=1)\n",
        "\n",
        "Con esta última convención, la lista que construimos en el ejemplo anterior, se visualizaría así:\n",
        "\n",
        "![lista-ejemplo](https://github.com/ivansipiran/AED-Apuntes/blob/main/recursos/lista-ejemplo.png?raw=1)"
      ]
    },
    {
      "cell_type": "markdown",
      "metadata": {
        "id": "ZE7sPGOib_3i"
      },
      "source": [
        "A continuación definiremos una clase `Lista`, que contendrá el puntero al primer nodo de la lista, así como la funcionalidad que necesitamos para operar sobre la lista:"
      ]
    },
    {
      "cell_type": "code",
      "execution_count": null,
      "metadata": {
        "id": "IWYotum3b_5C"
      },
      "outputs": [],
      "source": [
        "import aed_utilities as aed\n",
        "\n",
        "class Lista:\n",
        "    def __init__(self):\n",
        "        self.primero=None\n",
        "        \n",
        "    def insertar_al_inicio(self,info):\n",
        "        self.primero=Nodo(info,self.primero)\n",
        "    \n",
        "    def insertar_despues_de(self,p,info): # inserta después de nodo p\n",
        "        p.sgte=Nodo(info,p.sgte)\n",
        "    \n",
        "    def eliminar_al_inicio(self):\n",
        "        assert self.primero is not None\n",
        "        self.primero=self.primero.sgte\n",
        "    \n",
        "    def eliminar_sgte_de(self,p): # elimina el nodo siguiente de p\n",
        "        assert p.sgte is not None\n",
        "        p.sgte=p.sgte.sgte\n",
        "    \n",
        "    def k_esimo(self,k): # retorna k-esimo nodo, o None si fuera de rango\n",
        "        p=self.primero\n",
        "        j=1\n",
        "        while p is not None:\n",
        "            if j==k:\n",
        "                return p\n",
        "            p=p.sgte\n",
        "            j+=1\n",
        "        return None\n",
        "    \n",
        "    def imprimir(self):\n",
        "        p=self.primero\n",
        "        while p is not None:\n",
        "            print(p.info, end=\" \")\n",
        "            p=p.sgte\n",
        "        print()\n",
        "\n",
        "    #Método para dibujar una lista enlazada.\n",
        "    # - Se crea una instancia de la clase LinkedListDrawer. Este objeto necesita conocer cómo se llaman los \n",
        "    #   campos de la estructura de los nodos de la lista. Para eso sirven los parámetros:\n",
        "    #     - fieldHeader: nombre del campo en la lista con el primer puntero de la lista\n",
        "    #     - fieldData: nombre del campo en el nodo que almacena la data\n",
        "    #     - fieldLink: nombre del campo en el nodo que almacena el puntero\n",
        "    #     - strHeader: cadena de texto que representa la cabecera de la lista\n",
        "    # - Para dibujar se llama al método \"draw_linked_list\" con la lista como parámetro\n",
        "    \n",
        "    def dibujar(self):\n",
        "      lld = aed.LinkedListDrawer(fieldHeader=\"primero\", fieldData=\"info\", fieldLink=\"sgte\", strHeader=\"primero\")\n",
        "      lld.draw_linked_list(self)"
      ]
    },
    {
      "cell_type": "code",
      "execution_count": null,
      "metadata": {
        "colab": {
          "base_uri": "https://localhost:8080/"
        },
        "id": "tb4J8Wf3b_5m",
        "outputId": "cb185399-f52b-4eb4-b4ec-9d604a3f2007"
      },
      "outputs": [
        {
          "name": "stdout",
          "output_type": "stream",
          "text": [
            "42 65 13 44 \n"
          ]
        }
      ],
      "source": [
        "L=Lista()\n",
        "L.insertar_al_inicio(44)\n",
        "L.insertar_al_inicio(13)\n",
        "L.insertar_al_inicio(65)\n",
        "L.insertar_al_inicio(42)\n",
        "L.imprimir()"
      ]
    },
    {
      "cell_type": "code",
      "execution_count": null,
      "metadata": {
        "colab": {
          "base_uri": "https://localhost:8080/",
          "height": 88
        },
        "id": "8cxLKgYFsr-V",
        "outputId": "0638189c-ebd2-4fb2-bb8b-b6833adcdc80"
      },
      "outputs": [
        {
          "data": {
            "image/svg+xml": "<svg height=\"50pt\" viewBox=\"0.00 0.00 452.39 49.60\" width=\"452pt\" xmlns=\"http://www.w3.org/2000/svg\" xmlns:xlink=\"http://www.w3.org/1999/xlink\">\n<g class=\"graph\" id=\"graph0\" transform=\"scale(1 1) rotate(0) translate(4 45.5963)\">\n<title>Lista</title>\n<polygon fill=\"#ffffff\" points=\"-4,4 -4,-45.5963 448.3852,-45.5963 448.3852,4 -4,4\" stroke=\"transparent\"/>\n<!-- primero -->\n<g class=\"node\" id=\"node1\">\n<title>primero</title>\n<text fill=\"#000000\" font-family=\"Times,serif\" font-size=\"14.00\" text-anchor=\"middle\" x=\"31\" y=\"-17.0982\">primero</text>\n</g>\n<!-- 42 -->\n<g class=\"node\" id=\"node3\">\n<title>42</title>\n<ellipse cx=\"118.7982\" cy=\"-20.7982\" fill=\"none\" rx=\"20.5982\" ry=\"20.5982\" stroke=\"#000000\"/>\n<text fill=\"#000000\" font-family=\"Times,serif\" font-size=\"14.00\" text-anchor=\"middle\" x=\"118.7982\" y=\"-17.0982\">42</text>\n</g>\n<!-- primero&#45;&gt;42 -->\n<g class=\"edge\" id=\"edge1\">\n<title>primero-&gt;42</title>\n<path d=\"M62.2016,-20.7982C70.519,-20.7982 79.5018,-20.7982 87.8079,-20.7982\" fill=\"none\" stroke=\"#000000\"/>\n<polygon fill=\"#000000\" points=\"87.866,-24.2983 97.8659,-20.7982 87.8659,-17.2983 87.866,-24.2983\" stroke=\"#000000\"/>\n</g>\n<g class=\"node\" id=\"node2\">\n<title/>\n<polygon fill=\"none\" points=\"444.3852,-38.7982 408.3852,-38.7982 408.3852,-2.7982 444.3852,-2.7982 444.3852,-38.7982\" stroke=\"#000000\"/>\n</g>\n<!-- 65 -->\n<g class=\"node\" id=\"node4\">\n<title>65</title>\n<ellipse cx=\"196.3945\" cy=\"-20.7982\" fill=\"none\" rx=\"20.5982\" ry=\"20.5982\" stroke=\"#000000\"/>\n<text fill=\"#000000\" font-family=\"Times,serif\" font-size=\"14.00\" text-anchor=\"middle\" x=\"196.3945\" y=\"-17.0982\">65</text>\n</g>\n<!-- 42&#45;&gt;65 -->\n<g class=\"edge\" id=\"edge2\">\n<title>42-&gt;65</title>\n<path d=\"M140.0017,-20.7982C147.8495,-20.7982 156.9158,-20.7982 165.4525,-20.7982\" fill=\"none\" stroke=\"#000000\"/>\n<polygon fill=\"#000000\" points=\"165.4853,-24.2983 175.4852,-20.7982 165.4852,-17.2983 165.4853,-24.2983\" stroke=\"#000000\"/>\n</g>\n<!-- 13 -->\n<g class=\"node\" id=\"node5\">\n<title>13</title>\n<ellipse cx=\"273.9908\" cy=\"-20.7982\" fill=\"none\" rx=\"20.5982\" ry=\"20.5982\" stroke=\"#000000\"/>\n<text fill=\"#000000\" font-family=\"Times,serif\" font-size=\"14.00\" text-anchor=\"middle\" x=\"273.9908\" y=\"-17.0982\">13</text>\n</g>\n<!-- 65&#45;&gt;13 -->\n<g class=\"edge\" id=\"edge3\">\n<title>65-&gt;13</title>\n<path d=\"M217.598,-20.7982C225.4458,-20.7982 234.5121,-20.7982 243.0488,-20.7982\" fill=\"none\" stroke=\"#000000\"/>\n<polygon fill=\"#000000\" points=\"243.0816,-24.2983 253.0815,-20.7982 243.0815,-17.2983 243.0816,-24.2983\" stroke=\"#000000\"/>\n</g>\n<!-- 44 -->\n<g class=\"node\" id=\"node6\">\n<title>44</title>\n<ellipse cx=\"351.5871\" cy=\"-20.7982\" fill=\"none\" rx=\"20.5982\" ry=\"20.5982\" stroke=\"#000000\"/>\n<text fill=\"#000000\" font-family=\"Times,serif\" font-size=\"14.00\" text-anchor=\"middle\" x=\"351.5871\" y=\"-17.0982\">44</text>\n</g>\n<!-- 13&#45;&gt;44 -->\n<g class=\"edge\" id=\"edge4\">\n<title>13-&gt;44</title>\n<path d=\"M295.1943,-20.7982C303.0421,-20.7982 312.1084,-20.7982 320.6451,-20.7982\" fill=\"none\" stroke=\"#000000\"/>\n<polygon fill=\"#000000\" points=\"320.6779,-24.2983 330.6779,-20.7982 320.6778,-17.2983 320.6779,-24.2983\" stroke=\"#000000\"/>\n</g>\n<!-- 44&#45;&gt; -->\n<g class=\"edge\" id=\"edge5\">\n<title>44-&gt;</title>\n<path d=\"M372.4225,-20.7982C380.325,-20.7982 389.4638,-20.7982 397.9487,-20.7982\" fill=\"none\" stroke=\"#000000\"/>\n<polygon fill=\"#000000\" points=\"398.2041,-24.2983 408.2041,-20.7982 398.2041,-17.2983 398.2041,-24.2983\" stroke=\"#000000\"/>\n</g>\n</g>\n</svg>",
            "text/plain": [
              "<IPython.core.display.SVG object>"
            ]
          },
          "metadata": {
            "tags": []
          },
          "output_type": "display_data"
        }
      ],
      "source": [
        "L.dibujar()"
      ]
    },
    {
      "cell_type": "code",
      "execution_count": null,
      "metadata": {
        "colab": {
          "base_uri": "https://localhost:8080/",
          "height": 105
        },
        "id": "Q4g43k5Db_52",
        "outputId": "7c695004-67a7-4e35-8f5d-0d50fb8114d2"
      },
      "outputs": [
        {
          "name": "stdout",
          "output_type": "stream",
          "text": [
            "42 65 88 13 44 \n"
          ]
        },
        {
          "data": {
            "image/svg+xml": "<svg height=\"50pt\" viewBox=\"0.00 0.00 529.98 49.60\" width=\"530pt\" xmlns=\"http://www.w3.org/2000/svg\" xmlns:xlink=\"http://www.w3.org/1999/xlink\">\n<g class=\"graph\" id=\"graph0\" transform=\"scale(1 1) rotate(0) translate(4 45.5963)\">\n<title>Lista</title>\n<polygon fill=\"#ffffff\" points=\"-4,4 -4,-45.5963 525.9815,-45.5963 525.9815,4 -4,4\" stroke=\"transparent\"/>\n<!-- primero -->\n<g class=\"node\" id=\"node1\">\n<title>primero</title>\n<text fill=\"#000000\" font-family=\"Times,serif\" font-size=\"14.00\" text-anchor=\"middle\" x=\"31\" y=\"-17.0982\">primero</text>\n</g>\n<!-- 42 -->\n<g class=\"node\" id=\"node3\">\n<title>42</title>\n<ellipse cx=\"118.7982\" cy=\"-20.7982\" fill=\"none\" rx=\"20.5982\" ry=\"20.5982\" stroke=\"#000000\"/>\n<text fill=\"#000000\" font-family=\"Times,serif\" font-size=\"14.00\" text-anchor=\"middle\" x=\"118.7982\" y=\"-17.0982\">42</text>\n</g>\n<!-- primero&#45;&gt;42 -->\n<g class=\"edge\" id=\"edge1\">\n<title>primero-&gt;42</title>\n<path d=\"M62.2016,-20.7982C70.519,-20.7982 79.5018,-20.7982 87.8079,-20.7982\" fill=\"none\" stroke=\"#000000\"/>\n<polygon fill=\"#000000\" points=\"87.866,-24.2983 97.8659,-20.7982 87.8659,-17.2983 87.866,-24.2983\" stroke=\"#000000\"/>\n</g>\n<g class=\"node\" id=\"node2\">\n<title/>\n<polygon fill=\"none\" points=\"521.9815,-38.7982 485.9815,-38.7982 485.9815,-2.7982 521.9815,-2.7982 521.9815,-38.7982\" stroke=\"#000000\"/>\n</g>\n<!-- 65 -->\n<g class=\"node\" id=\"node4\">\n<title>65</title>\n<ellipse cx=\"196.3945\" cy=\"-20.7982\" fill=\"none\" rx=\"20.5982\" ry=\"20.5982\" stroke=\"#000000\"/>\n<text fill=\"#000000\" font-family=\"Times,serif\" font-size=\"14.00\" text-anchor=\"middle\" x=\"196.3945\" y=\"-17.0982\">65</text>\n</g>\n<!-- 42&#45;&gt;65 -->\n<g class=\"edge\" id=\"edge2\">\n<title>42-&gt;65</title>\n<path d=\"M140.0017,-20.7982C147.8495,-20.7982 156.9158,-20.7982 165.4525,-20.7982\" fill=\"none\" stroke=\"#000000\"/>\n<polygon fill=\"#000000\" points=\"165.4853,-24.2983 175.4852,-20.7982 165.4852,-17.2983 165.4853,-24.2983\" stroke=\"#000000\"/>\n</g>\n<!-- 88 -->\n<g class=\"node\" id=\"node5\">\n<title>88</title>\n<ellipse cx=\"273.9908\" cy=\"-20.7982\" fill=\"none\" rx=\"20.5982\" ry=\"20.5982\" stroke=\"#000000\"/>\n<text fill=\"#000000\" font-family=\"Times,serif\" font-size=\"14.00\" text-anchor=\"middle\" x=\"273.9908\" y=\"-17.0982\">88</text>\n</g>\n<!-- 65&#45;&gt;88 -->\n<g class=\"edge\" id=\"edge3\">\n<title>65-&gt;88</title>\n<path d=\"M217.598,-20.7982C225.4458,-20.7982 234.5121,-20.7982 243.0488,-20.7982\" fill=\"none\" stroke=\"#000000\"/>\n<polygon fill=\"#000000\" points=\"243.0816,-24.2983 253.0815,-20.7982 243.0815,-17.2983 243.0816,-24.2983\" stroke=\"#000000\"/>\n</g>\n<!-- 13 -->\n<g class=\"node\" id=\"node6\">\n<title>13</title>\n<ellipse cx=\"351.5871\" cy=\"-20.7982\" fill=\"none\" rx=\"20.5982\" ry=\"20.5982\" stroke=\"#000000\"/>\n<text fill=\"#000000\" font-family=\"Times,serif\" font-size=\"14.00\" text-anchor=\"middle\" x=\"351.5871\" y=\"-17.0982\">13</text>\n</g>\n<!-- 88&#45;&gt;13 -->\n<g class=\"edge\" id=\"edge4\">\n<title>88-&gt;13</title>\n<path d=\"M295.1943,-20.7982C303.0421,-20.7982 312.1084,-20.7982 320.6451,-20.7982\" fill=\"none\" stroke=\"#000000\"/>\n<polygon fill=\"#000000\" points=\"320.6779,-24.2983 330.6779,-20.7982 320.6778,-17.2983 320.6779,-24.2983\" stroke=\"#000000\"/>\n</g>\n<!-- 44 -->\n<g class=\"node\" id=\"node7\">\n<title>44</title>\n<ellipse cx=\"429.1834\" cy=\"-20.7982\" fill=\"none\" rx=\"20.5982\" ry=\"20.5982\" stroke=\"#000000\"/>\n<text fill=\"#000000\" font-family=\"Times,serif\" font-size=\"14.00\" text-anchor=\"middle\" x=\"429.1834\" y=\"-17.0982\">44</text>\n</g>\n<!-- 13&#45;&gt;44 -->\n<g class=\"edge\" id=\"edge5\">\n<title>13-&gt;44</title>\n<path d=\"M372.7906,-20.7982C380.6384,-20.7982 389.7047,-20.7982 398.2414,-20.7982\" fill=\"none\" stroke=\"#000000\"/>\n<polygon fill=\"#000000\" points=\"398.2742,-24.2983 408.2742,-20.7982 398.2741,-17.2983 398.2742,-24.2983\" stroke=\"#000000\"/>\n</g>\n<!-- 44&#45;&gt; -->\n<g class=\"edge\" id=\"edge6\">\n<title>44-&gt;</title>\n<path d=\"M450.0188,-20.7982C457.9213,-20.7982 467.0601,-20.7982 475.545,-20.7982\" fill=\"none\" stroke=\"#000000\"/>\n<polygon fill=\"#000000\" points=\"475.8004,-24.2983 485.8004,-20.7982 475.8004,-17.2983 475.8004,-24.2983\" stroke=\"#000000\"/>\n</g>\n</g>\n</svg>",
            "text/plain": [
              "<IPython.core.display.SVG object>"
            ]
          },
          "metadata": {
            "tags": []
          },
          "output_type": "display_data"
        }
      ],
      "source": [
        "L.insertar_despues_de(L.k_esimo(2),88)\n",
        "L.imprimir()\n",
        "L.dibujar()"
      ]
    },
    {
      "cell_type": "code",
      "execution_count": null,
      "metadata": {
        "colab": {
          "base_uri": "https://localhost:8080/",
          "height": 105
        },
        "id": "-2WtFLOOcABk",
        "outputId": "c3c95ac5-e737-4e00-b5e7-1fe43bba743f"
      },
      "outputs": [
        {
          "name": "stdout",
          "output_type": "stream",
          "text": [
            "65 88 13 44 \n"
          ]
        },
        {
          "data": {
            "image/svg+xml": "<svg height=\"50pt\" viewBox=\"0.00 0.00 452.39 49.60\" width=\"452pt\" xmlns=\"http://www.w3.org/2000/svg\" xmlns:xlink=\"http://www.w3.org/1999/xlink\">\n<g class=\"graph\" id=\"graph0\" transform=\"scale(1 1) rotate(0) translate(4 45.5963)\">\n<title>Lista</title>\n<polygon fill=\"#ffffff\" points=\"-4,4 -4,-45.5963 448.3852,-45.5963 448.3852,4 -4,4\" stroke=\"transparent\"/>\n<!-- primero -->\n<g class=\"node\" id=\"node1\">\n<title>primero</title>\n<text fill=\"#000000\" font-family=\"Times,serif\" font-size=\"14.00\" text-anchor=\"middle\" x=\"31\" y=\"-17.0982\">primero</text>\n</g>\n<!-- 65 -->\n<g class=\"node\" id=\"node3\">\n<title>65</title>\n<ellipse cx=\"118.7982\" cy=\"-20.7982\" fill=\"none\" rx=\"20.5982\" ry=\"20.5982\" stroke=\"#000000\"/>\n<text fill=\"#000000\" font-family=\"Times,serif\" font-size=\"14.00\" text-anchor=\"middle\" x=\"118.7982\" y=\"-17.0982\">65</text>\n</g>\n<!-- primero&#45;&gt;65 -->\n<g class=\"edge\" id=\"edge1\">\n<title>primero-&gt;65</title>\n<path d=\"M62.2016,-20.7982C70.519,-20.7982 79.5018,-20.7982 87.8079,-20.7982\" fill=\"none\" stroke=\"#000000\"/>\n<polygon fill=\"#000000\" points=\"87.866,-24.2983 97.8659,-20.7982 87.8659,-17.2983 87.866,-24.2983\" stroke=\"#000000\"/>\n</g>\n<g class=\"node\" id=\"node2\">\n<title/>\n<polygon fill=\"none\" points=\"444.3852,-38.7982 408.3852,-38.7982 408.3852,-2.7982 444.3852,-2.7982 444.3852,-38.7982\" stroke=\"#000000\"/>\n</g>\n<!-- 88 -->\n<g class=\"node\" id=\"node4\">\n<title>88</title>\n<ellipse cx=\"196.3945\" cy=\"-20.7982\" fill=\"none\" rx=\"20.5982\" ry=\"20.5982\" stroke=\"#000000\"/>\n<text fill=\"#000000\" font-family=\"Times,serif\" font-size=\"14.00\" text-anchor=\"middle\" x=\"196.3945\" y=\"-17.0982\">88</text>\n</g>\n<!-- 65&#45;&gt;88 -->\n<g class=\"edge\" id=\"edge2\">\n<title>65-&gt;88</title>\n<path d=\"M140.0017,-20.7982C147.8495,-20.7982 156.9158,-20.7982 165.4525,-20.7982\" fill=\"none\" stroke=\"#000000\"/>\n<polygon fill=\"#000000\" points=\"165.4853,-24.2983 175.4852,-20.7982 165.4852,-17.2983 165.4853,-24.2983\" stroke=\"#000000\"/>\n</g>\n<!-- 13 -->\n<g class=\"node\" id=\"node5\">\n<title>13</title>\n<ellipse cx=\"273.9908\" cy=\"-20.7982\" fill=\"none\" rx=\"20.5982\" ry=\"20.5982\" stroke=\"#000000\"/>\n<text fill=\"#000000\" font-family=\"Times,serif\" font-size=\"14.00\" text-anchor=\"middle\" x=\"273.9908\" y=\"-17.0982\">13</text>\n</g>\n<!-- 88&#45;&gt;13 -->\n<g class=\"edge\" id=\"edge3\">\n<title>88-&gt;13</title>\n<path d=\"M217.598,-20.7982C225.4458,-20.7982 234.5121,-20.7982 243.0488,-20.7982\" fill=\"none\" stroke=\"#000000\"/>\n<polygon fill=\"#000000\" points=\"243.0816,-24.2983 253.0815,-20.7982 243.0815,-17.2983 243.0816,-24.2983\" stroke=\"#000000\"/>\n</g>\n<!-- 44 -->\n<g class=\"node\" id=\"node6\">\n<title>44</title>\n<ellipse cx=\"351.5871\" cy=\"-20.7982\" fill=\"none\" rx=\"20.5982\" ry=\"20.5982\" stroke=\"#000000\"/>\n<text fill=\"#000000\" font-family=\"Times,serif\" font-size=\"14.00\" text-anchor=\"middle\" x=\"351.5871\" y=\"-17.0982\">44</text>\n</g>\n<!-- 13&#45;&gt;44 -->\n<g class=\"edge\" id=\"edge4\">\n<title>13-&gt;44</title>\n<path d=\"M295.1943,-20.7982C303.0421,-20.7982 312.1084,-20.7982 320.6451,-20.7982\" fill=\"none\" stroke=\"#000000\"/>\n<polygon fill=\"#000000\" points=\"320.6779,-24.2983 330.6779,-20.7982 320.6778,-17.2983 320.6779,-24.2983\" stroke=\"#000000\"/>\n</g>\n<!-- 44&#45;&gt; -->\n<g class=\"edge\" id=\"edge5\">\n<title>44-&gt;</title>\n<path d=\"M372.4225,-20.7982C380.325,-20.7982 389.4638,-20.7982 397.9487,-20.7982\" fill=\"none\" stroke=\"#000000\"/>\n<polygon fill=\"#000000\" points=\"398.2041,-24.2983 408.2041,-20.7982 398.2041,-17.2983 398.2041,-24.2983\" stroke=\"#000000\"/>\n</g>\n</g>\n</svg>",
            "text/plain": [
              "<IPython.core.display.SVG object>"
            ]
          },
          "metadata": {
            "tags": []
          },
          "output_type": "display_data"
        }
      ],
      "source": [
        "L.eliminar_al_inicio()\n",
        "L.imprimir()\n",
        "L.dibujar()"
      ]
    },
    {
      "cell_type": "code",
      "execution_count": null,
      "metadata": {
        "colab": {
          "base_uri": "https://localhost:8080/",
          "height": 105
        },
        "id": "oK_MjRKUcABz",
        "outputId": "f91fa84d-42d6-4113-d389-64108d5e4409"
      },
      "outputs": [
        {
          "name": "stdout",
          "output_type": "stream",
          "text": [
            "65 13 44 \n"
          ]
        },
        {
          "data": {
            "image/svg+xml": "<svg height=\"50pt\" viewBox=\"0.00 0.00 374.79 49.60\" width=\"375pt\" xmlns=\"http://www.w3.org/2000/svg\" xmlns:xlink=\"http://www.w3.org/1999/xlink\">\n<g class=\"graph\" id=\"graph0\" transform=\"scale(1 1) rotate(0) translate(4 45.5963)\">\n<title>Lista</title>\n<polygon fill=\"#ffffff\" points=\"-4,4 -4,-45.5963 370.7889,-45.5963 370.7889,4 -4,4\" stroke=\"transparent\"/>\n<!-- primero -->\n<g class=\"node\" id=\"node1\">\n<title>primero</title>\n<text fill=\"#000000\" font-family=\"Times,serif\" font-size=\"14.00\" text-anchor=\"middle\" x=\"31\" y=\"-17.0982\">primero</text>\n</g>\n<!-- 65 -->\n<g class=\"node\" id=\"node3\">\n<title>65</title>\n<ellipse cx=\"118.7982\" cy=\"-20.7982\" fill=\"none\" rx=\"20.5982\" ry=\"20.5982\" stroke=\"#000000\"/>\n<text fill=\"#000000\" font-family=\"Times,serif\" font-size=\"14.00\" text-anchor=\"middle\" x=\"118.7982\" y=\"-17.0982\">65</text>\n</g>\n<!-- primero&#45;&gt;65 -->\n<g class=\"edge\" id=\"edge1\">\n<title>primero-&gt;65</title>\n<path d=\"M62.2016,-20.7982C70.519,-20.7982 79.5018,-20.7982 87.8079,-20.7982\" fill=\"none\" stroke=\"#000000\"/>\n<polygon fill=\"#000000\" points=\"87.866,-24.2983 97.8659,-20.7982 87.8659,-17.2983 87.866,-24.2983\" stroke=\"#000000\"/>\n</g>\n<g class=\"node\" id=\"node2\">\n<title/>\n<polygon fill=\"none\" points=\"366.7889,-38.7982 330.7889,-38.7982 330.7889,-2.7982 366.7889,-2.7982 366.7889,-38.7982\" stroke=\"#000000\"/>\n</g>\n<!-- 13 -->\n<g class=\"node\" id=\"node4\">\n<title>13</title>\n<ellipse cx=\"196.3945\" cy=\"-20.7982\" fill=\"none\" rx=\"20.5982\" ry=\"20.5982\" stroke=\"#000000\"/>\n<text fill=\"#000000\" font-family=\"Times,serif\" font-size=\"14.00\" text-anchor=\"middle\" x=\"196.3945\" y=\"-17.0982\">13</text>\n</g>\n<!-- 65&#45;&gt;13 -->\n<g class=\"edge\" id=\"edge2\">\n<title>65-&gt;13</title>\n<path d=\"M140.0017,-20.7982C147.8495,-20.7982 156.9158,-20.7982 165.4525,-20.7982\" fill=\"none\" stroke=\"#000000\"/>\n<polygon fill=\"#000000\" points=\"165.4853,-24.2983 175.4852,-20.7982 165.4852,-17.2983 165.4853,-24.2983\" stroke=\"#000000\"/>\n</g>\n<!-- 44 -->\n<g class=\"node\" id=\"node5\">\n<title>44</title>\n<ellipse cx=\"273.9908\" cy=\"-20.7982\" fill=\"none\" rx=\"20.5982\" ry=\"20.5982\" stroke=\"#000000\"/>\n<text fill=\"#000000\" font-family=\"Times,serif\" font-size=\"14.00\" text-anchor=\"middle\" x=\"273.9908\" y=\"-17.0982\">44</text>\n</g>\n<!-- 13&#45;&gt;44 -->\n<g class=\"edge\" id=\"edge3\">\n<title>13-&gt;44</title>\n<path d=\"M217.598,-20.7982C225.4458,-20.7982 234.5121,-20.7982 243.0488,-20.7982\" fill=\"none\" stroke=\"#000000\"/>\n<polygon fill=\"#000000\" points=\"243.0816,-24.2983 253.0815,-20.7982 243.0815,-17.2983 243.0816,-24.2983\" stroke=\"#000000\"/>\n</g>\n<!-- 44&#45;&gt; -->\n<g class=\"edge\" id=\"edge4\">\n<title>44-&gt;</title>\n<path d=\"M294.8262,-20.7982C302.7286,-20.7982 311.8675,-20.7982 320.3524,-20.7982\" fill=\"none\" stroke=\"#000000\"/>\n<polygon fill=\"#000000\" points=\"320.6078,-24.2983 330.6078,-20.7982 320.6078,-17.2983 320.6078,-24.2983\" stroke=\"#000000\"/>\n</g>\n</g>\n</svg>",
            "text/plain": [
              "<IPython.core.display.SVG object>"
            ]
          },
          "metadata": {
            "tags": []
          },
          "output_type": "display_data"
        }
      ],
      "source": [
        "L.eliminar_sgte_de(L.k_esimo(1))\n",
        "L.imprimir()\n",
        "L.dibujar()"
      ]
    },
    {
      "cell_type": "markdown",
      "metadata": {
        "id": "_xe32oascAB5"
      },
      "source": [
        "---"
      ]
    },
    {
      "cell_type": "markdown",
      "metadata": {
        "id": "7CS96xN2cAJO"
      },
      "source": [
        "Hay algunas cosas que no resultan muy elegantes en el diseño de listas que estamos considerando hasta el momento.\n",
        "\n",
        "Una de ellas es que para eliminar un elemento, no se pueda indicar al elemento que se desea eliminar, sino que haya que indicar al previo. Esto es inevitable, dado el caracter unidireccional de los enlaces, y más adelante, cuando veamos _listas de doble enlace_ veremos que eso puede mejorarse.\n",
        "\n",
        "Otro punto molesto en la interfaz de uso es la necesidad de distinguir entre si se opera al comienzo de la lista, o en un punto interior. Esto es porque las operaciones afectan al elemento previo, y el primero de la lista, por definición, no tiene un elemento previo.\n",
        "\n",
        "Esto puede subsanarse, sin embargo, introduciendo un nodo \"cabecera\" (\"*header*\") al comienzo de la lista. Este nodo no contiene información útil y para todos los efectos es como si no existiera, excepto que sirve como el previo del primer nodo real de la lista. Para poder ubicarlo, lo identificaremos con el nodo \"0-ésimo\" de la lista.\n",
        "\n",
        "![lista-ejemplo-con-cabecera](https://github.com/ivansipiran/AED-Apuntes/blob/main/recursos/lista-ejemplo-con-cabecera.png?raw=1)\n",
        "\n",
        "A continuación reescribimos nuestra definición de la clase `Lista` y sus ejemplos de uso, bajo el supuesto de que existe un nodo cabecera."
      ]
    },
    {
      "cell_type": "code",
      "execution_count": null,
      "metadata": {
        "id": "9jq5nS9UcAJt"
      },
      "outputs": [],
      "source": [
        "class Lista_con_cabecera:\n",
        "    def __init__(self):\n",
        "        self.cabecera=Nodo(0,None)\n",
        "    \n",
        "    def insertar_despues_de(self,p,info): # inserta después de nodo p\n",
        "        p.sgte=Nodo(info,p.sgte)\n",
        "    \n",
        "    def eliminar_sgte_de(self,p): # elimina el nodo siguiente de p\n",
        "        assert p.sgte is not None\n",
        "        p.sgte=p.sgte.sgte\n",
        "    \n",
        "    def k_esimo(self,k): # retorna k-esimo nodo, o None si fuera de rango\n",
        "        p=self.cabecera\n",
        "        j=0\n",
        "        while True:\n",
        "            if j==k:\n",
        "                return p\n",
        "            p=p.sgte\n",
        "            if p is None:\n",
        "                return None\n",
        "            j+=1\n",
        "    \n",
        "    def imprimir(self):\n",
        "        p=self.cabecera.sgte\n",
        "        while p is not None:\n",
        "            print(p.info,end=\" \")\n",
        "            p=p.sgte\n",
        "        print()"
      ]
    },
    {
      "cell_type": "code",
      "execution_count": null,
      "metadata": {
        "colab": {
          "base_uri": "https://localhost:8080/",
          "height": 35
        },
        "id": "d07676uucAK5",
        "outputId": "2693df50-7db9-431d-ca62-c3fe607f0f27"
      },
      "outputs": [
        {
          "name": "stdout",
          "output_type": "stream",
          "text": [
            "42 65 13 44 \n"
          ]
        }
      ],
      "source": [
        "L=Lista_con_cabecera()\n",
        "L.insertar_despues_de(L.k_esimo(0),42)\n",
        "L.insertar_despues_de(L.k_esimo(1),65)\n",
        "L.insertar_despues_de(L.k_esimo(2),13)\n",
        "L.insertar_despues_de(L.k_esimo(3),44)\n",
        "L.imprimir()"
      ]
    },
    {
      "cell_type": "code",
      "execution_count": null,
      "metadata": {
        "colab": {
          "base_uri": "https://localhost:8080/",
          "height": 35
        },
        "id": "YcgO7SD-cAK8",
        "outputId": "5d2c634f-9ba3-4462-c8ab-e717b61d6b4f"
      },
      "outputs": [
        {
          "name": "stdout",
          "output_type": "stream",
          "text": [
            "65 13 44 \n"
          ]
        }
      ],
      "source": [
        "L.eliminar_sgte_de(L.k_esimo(0)) # eliminar el primero\n",
        "L.imprimir()"
      ]
    },
    {
      "cell_type": "code",
      "execution_count": null,
      "metadata": {
        "id": "QxiTsFjucALC",
        "outputId": "d64b3e38-ca08-4bc6-833c-cb0e68b19268"
      },
      "outputs": [
        {
          "name": "stdout",
          "output_type": "stream",
          "text": [
            "None\n"
          ]
        }
      ],
      "source": [
        "print(L.k_esimo(7))"
      ]
    },
    {
      "cell_type": "code",
      "execution_count": null,
      "metadata": {
        "id": "oF-LiqtbcALN",
        "outputId": "d73b5b2f-ce60-4101-f4ac-c34c5a2db6d2"
      },
      "outputs": [
        {
          "name": "stdout",
          "output_type": "stream",
          "text": [
            "65 44 \n"
          ]
        }
      ],
      "source": [
        "L.eliminar_sgte_de(L.k_esimo(1)) # eliminar un elemento en el medio\n",
        "L.imprimir()"
      ]
    },
    {
      "cell_type": "markdown",
      "metadata": {
        "id": "15NMezn3cALU"
      },
      "source": [
        "### Recorriendo la lista con un iterador\n",
        "\n",
        "A continuación veremos cómo, en lugar de imprimir la lista, podemos implementar un iterador que vaya entregando los elementos de la lista cada vez que es llamado:"
      ]
    },
    {
      "cell_type": "code",
      "execution_count": null,
      "metadata": {
        "id": "bwuxzbmhcALV"
      },
      "outputs": [],
      "source": [
        "class Lista_con_cabecera:\n",
        "    def __init__(self):\n",
        "        self.cabecera=Nodo(0,None)\n",
        "    \n",
        "    def insertar_despues_de(self,p,info): # inserta después de nodo p\n",
        "        p.sgte=Nodo(info,p.sgte)\n",
        "    \n",
        "    def eliminar_sgte_de(self,p): # elimina el nodo siguiente de p\n",
        "        assert p.sgte is not None\n",
        "        p.sgte=p.sgte.sgte\n",
        "    \n",
        "    def k_esimo(self,k): # retorna k-esimo nodo, o None si fuera de rango\n",
        "        p=self.cabecera\n",
        "        j=0\n",
        "        while p is not None:\n",
        "            if j==k:\n",
        "                return p\n",
        "            p=p.sgte\n",
        "            j+=1\n",
        "        return None\n",
        "    \n",
        "    def valores(self):\n",
        "        p=self.cabecera.sgte\n",
        "        while p is not None:\n",
        "            yield p.info\n",
        "            p=p.sgte"
      ]
    },
    {
      "cell_type": "code",
      "execution_count": null,
      "metadata": {
        "id": "NvCDkQR7cALY"
      },
      "outputs": [],
      "source": [
        "L=Lista_con_cabecera()\n",
        "L.insertar_despues_de(L.k_esimo(0),42)\n",
        "L.insertar_despues_de(L.k_esimo(1),65)\n",
        "L.insertar_despues_de(L.k_esimo(2),13)\n",
        "L.insertar_despues_de(L.k_esimo(3),44)"
      ]
    },
    {
      "cell_type": "code",
      "execution_count": null,
      "metadata": {
        "colab": {
          "base_uri": "https://localhost:8080/",
          "height": 35
        },
        "id": "8DFkllz3cALa",
        "outputId": "9041a9b5-71a5-4cd4-81cc-8c2275c5d962"
      },
      "outputs": [
        {
          "name": "stdout",
          "output_type": "stream",
          "text": [
            "42 65 13 44 \n"
          ]
        }
      ],
      "source": [
        "for x in L.valores():\n",
        "    print(x, end=\" \")\n",
        "print()"
      ]
    },
    {
      "cell_type": "code",
      "execution_count": null,
      "metadata": {
        "colab": {
          "base_uri": "https://localhost:8080/",
          "height": 35
        },
        "id": "SBTOUgN0cAOw",
        "outputId": "05e15b68-c978-417b-9e7e-5578aa71b170"
      },
      "outputs": [
        {
          "name": "stdout",
          "output_type": "stream",
          "text": [
            "[42, 65, 13, 44]\n"
          ]
        }
      ],
      "source": [
        "print([x for x in L.valores()])"
      ]
    },
    {
      "cell_type": "markdown",
      "metadata": {
        "id": "xAQlV4xHcAO7"
      },
      "source": [
        "## Listas de doble enlace\n",
        "\n",
        "Las listas de enlace simple permiten solo procesos unidireccionales, por lo que no son muy apropiadas cuando los procesos necesitan poder recorrerlas en ambas dicecciones.\n",
        "\n",
        "Podemos mejorar esto si agregamos a los nodos una referencia al nodo *previo*, además del nodo siguiente:\n",
        "\n",
        "![Nodo-doble](https://github.com/ivansipiran/AED-Apuntes/blob/main/recursos/Nodo-doble.png?raw=1)\n",
        "\n",
        " "
      ]
    },
    {
      "cell_type": "code",
      "execution_count": null,
      "metadata": {
        "id": "HpPYCevFcAQc"
      },
      "outputs": [],
      "source": [
        "class Nodo:\n",
        "    def __init__(self, prev, info, sgte):\n",
        "        self.prev=prev\n",
        "        self.info=info\n",
        "        self.sgte=sgte"
      ]
    },
    {
      "cell_type": "markdown",
      "metadata": {
        "id": "a7iWALmLcAQj"
      },
      "source": [
        "Con este tipo de nodos podemos formar una lista que puede ser recorrida en ambas direcciones.\n",
        "Por consideraciones similares a las anteriores, resulta conveniente agregar un nodo cabecera en cada extremo, pero en realidad un mismo nodo puede jugar ambos roles, con lo cual la lista adopta un aspecto físicamente circular, aunque desde un punto de vista conceptual no lo sea:\n",
        "\n",
        "![lista-ejemplo-doble-enlace](https://github.com/ivansipiran/AED-Apuntes/blob/main/recursos/lista-ejemplo-doble-enlace.png?raw=1)\n",
        "\n",
        "La siguiente es una definición de lista de doble enlace, con alguna de la funcionalidad que ella permite:"
      ]
    },
    {
      "cell_type": "code",
      "execution_count": null,
      "metadata": {
        "id": "Ip_BRaAOcAQk"
      },
      "outputs": [],
      "source": [
        "import aed_utilities as aed\n",
        "\n",
        "class Lista_doble_enlace:\n",
        "    def __init__(self):\n",
        "        self.cabecera=Nodo(None,0,None)\n",
        "        self.cabecera.prev=self.cabecera\n",
        "        self.cabecera.sgte=self.cabecera\n",
        "    \n",
        "    def insertar_despues_de(self,p,info): # inserta después de nodo p\n",
        "        r=p.sgte\n",
        "        p.sgte=r.prev=Nodo(p,info,r)\n",
        " \n",
        "    def eliminar(self,p): # elimina el nodo p\n",
        "        assert p is not self.cabecera\n",
        "        (p.prev.sgte,p.sgte.prev)=(p.sgte,p.prev)\n",
        "    \n",
        "    def k_esimo(self,k): # retorna k-esimo nodo, o None si fuera de rango\n",
        "        p=self.cabecera\n",
        "        j=0\n",
        "        while True:\n",
        "            if j==k:\n",
        "                return p\n",
        "            p=p.sgte\n",
        "            if p is self.cabecera:\n",
        "                return None\n",
        "            j+=1\n",
        "    \n",
        "    def ascendente(self):\n",
        "        p=self.cabecera.sgte\n",
        "        while p is not self.cabecera:\n",
        "            yield p.info\n",
        "            p=p.sgte\n",
        "\n",
        "    def descendente(self):\n",
        "        p=self.cabecera.prev\n",
        "        while p is not self.cabecera:\n",
        "            yield p.info\n",
        "            p=p.prev\n",
        "\n",
        "    #Para dibujar una lista doblemente enlazada, es necesario además definir el nombre del campo del puntero hacia atrás.\n",
        "    # El parámetro para definir ese campo es \"fieldReverseLink\". Por default, este campo es None.\n",
        "    def dibujar(self):\n",
        "      lld=aed.LinkedListDrawer(fieldHeader=\"cabecera\", fieldData=\"info\", fieldLink=\"sgte\", fieldReverseLink=\"prev\")\n",
        "      lld.draw_double_linked_list(self)"
      ]
    },
    {
      "cell_type": "code",
      "execution_count": null,
      "metadata": {
        "colab": {
          "base_uri": "https://localhost:8080/",
          "height": 114
        },
        "id": "0frGgSjjcAQp",
        "outputId": "62e7b61b-39af-41ad-a297-49c3cc73eb4b"
      },
      "outputs": [
        {
          "name": "stdout",
          "output_type": "stream",
          "text": [
            "[42, 65, 13, 44]\n",
            "[44, 13, 65, 42]\n"
          ]
        },
        {
          "data": {
            "image/svg+xml": "<svg height=\"44pt\" viewBox=\"0.00 0.00 332.00 44.00\" width=\"332pt\" xmlns=\"http://www.w3.org/2000/svg\" xmlns:xlink=\"http://www.w3.org/1999/xlink\">\n<g class=\"graph\" id=\"graph0\" transform=\"scale(1 1) rotate(0) translate(4 40)\">\n<title>Lista</title>\n<polygon fill=\"#ffffff\" points=\"-4,4 -4,-40 328,-40 328,4 -4,4\" stroke=\"transparent\"/>\n<!-- 42 -->\n<g class=\"node\" id=\"node1\">\n<title>42</title>\n<ellipse cx=\"27\" cy=\"-18\" fill=\"none\" rx=\"27\" ry=\"18\" stroke=\"#000000\"/>\n<text fill=\"#000000\" font-family=\"Times,serif\" font-size=\"14.00\" text-anchor=\"middle\" x=\"27\" y=\"-14.3\">42</text>\n</g>\n<!-- 65 -->\n<g class=\"node\" id=\"node2\">\n<title>65</title>\n<ellipse cx=\"117\" cy=\"-18\" fill=\"none\" rx=\"27\" ry=\"18\" stroke=\"#000000\"/>\n<text fill=\"#000000\" font-family=\"Times,serif\" font-size=\"14.00\" text-anchor=\"middle\" x=\"117\" y=\"-14.3\">65</text>\n</g>\n<!-- 42&#45;&gt;65 -->\n<g class=\"edge\" id=\"edge1\">\n<title>42-&gt;65</title>\n<path d=\"M52.5497,-11.8449C61.4801,-11.2634 71.6762,-11.1082 81.2822,-11.3793\" fill=\"none\" stroke=\"#000000\"/>\n<polygon fill=\"#000000\" points=\"81.2372,-14.8808 91.3865,-11.8408 81.5566,-7.8881 81.2372,-14.8808\" stroke=\"#000000\"/>\n</g>\n<!-- 65&#45;&gt;42 -->\n<g class=\"edge\" id=\"edge6\">\n<title>65-&gt;42</title>\n<path d=\"M91.3865,-24.1592C82.45,-24.7387 72.2523,-24.8919 62.6491,-24.6188\" fill=\"none\" stroke=\"#000000\"/>\n<polygon fill=\"#000000\" points=\"62.6997,-21.1175 52.5497,-24.1551 62.3786,-28.1101 62.6997,-21.1175\" stroke=\"#000000\"/>\n</g>\n<!-- 13 -->\n<g class=\"node\" id=\"node3\">\n<title>13</title>\n<ellipse cx=\"207\" cy=\"-18\" fill=\"none\" rx=\"27\" ry=\"18\" stroke=\"#000000\"/>\n<text fill=\"#000000\" font-family=\"Times,serif\" font-size=\"14.00\" text-anchor=\"middle\" x=\"207\" y=\"-14.3\">13</text>\n</g>\n<!-- 65&#45;&gt;13 -->\n<g class=\"edge\" id=\"edge2\">\n<title>65-&gt;13</title>\n<path d=\"M142.5497,-11.8449C151.4801,-11.2634 161.6762,-11.1082 171.2822,-11.3793\" fill=\"none\" stroke=\"#000000\"/>\n<polygon fill=\"#000000\" points=\"171.2372,-14.8808 181.3865,-11.8408 171.5566,-7.8881 171.2372,-14.8808\" stroke=\"#000000\"/>\n</g>\n<!-- 13&#45;&gt;65 -->\n<g class=\"edge\" id=\"edge5\">\n<title>13-&gt;65</title>\n<path d=\"M181.3865,-24.1592C172.45,-24.7387 162.2523,-24.8919 152.6491,-24.6188\" fill=\"none\" stroke=\"#000000\"/>\n<polygon fill=\"#000000\" points=\"152.6997,-21.1175 142.5497,-24.1551 152.3786,-28.1101 152.6997,-21.1175\" stroke=\"#000000\"/>\n</g>\n<!-- 44 -->\n<g class=\"node\" id=\"node4\">\n<title>44</title>\n<ellipse cx=\"297\" cy=\"-18\" fill=\"none\" rx=\"27\" ry=\"18\" stroke=\"#000000\"/>\n<text fill=\"#000000\" font-family=\"Times,serif\" font-size=\"14.00\" text-anchor=\"middle\" x=\"297\" y=\"-14.3\">44</text>\n</g>\n<!-- 13&#45;&gt;44 -->\n<g class=\"edge\" id=\"edge3\">\n<title>13-&gt;44</title>\n<path d=\"M232.5497,-11.8449C241.4801,-11.2634 251.6762,-11.1082 261.2822,-11.3793\" fill=\"none\" stroke=\"#000000\"/>\n<polygon fill=\"#000000\" points=\"261.2372,-14.8808 271.3865,-11.8408 261.5566,-7.8881 261.2372,-14.8808\" stroke=\"#000000\"/>\n</g>\n<!-- 44&#45;&gt;13 -->\n<g class=\"edge\" id=\"edge4\">\n<title>44-&gt;13</title>\n<path d=\"M271.3865,-24.1592C262.45,-24.7387 252.2523,-24.8919 242.6491,-24.6188\" fill=\"none\" stroke=\"#000000\"/>\n<polygon fill=\"#000000\" points=\"242.6997,-21.1175 232.5497,-24.1551 242.3786,-28.1101 242.6997,-21.1175\" stroke=\"#000000\"/>\n</g>\n</g>\n</svg>",
            "text/plain": [
              "<IPython.core.display.SVG object>"
            ]
          },
          "metadata": {
            "tags": []
          },
          "output_type": "display_data"
        }
      ],
      "source": [
        "L=Lista_doble_enlace()\n",
        "L.insertar_despues_de(L.k_esimo(0),42)\n",
        "L.insertar_despues_de(L.k_esimo(1),65)\n",
        "L.insertar_despues_de(L.k_esimo(2),13)\n",
        "L.insertar_despues_de(L.k_esimo(3),44)\n",
        "print([x for x in L.ascendente()])\n",
        "print([x for x in L.descendente()])\n",
        "\n",
        "L.dibujar()"
      ]
    },
    {
      "cell_type": "code",
      "execution_count": null,
      "metadata": {
        "colab": {
          "base_uri": "https://localhost:8080/",
          "height": 97
        },
        "id": "97UhmCr9cAQv",
        "outputId": "9b56a8c9-4fb9-425a-d5ad-bf7fd8390806"
      },
      "outputs": [
        {
          "name": "stdout",
          "output_type": "stream",
          "text": [
            "[42, 65, 44]\n"
          ]
        },
        {
          "data": {
            "image/svg+xml": "<svg height=\"44pt\" viewBox=\"0.00 0.00 242.00 44.00\" width=\"242pt\" xmlns=\"http://www.w3.org/2000/svg\" xmlns:xlink=\"http://www.w3.org/1999/xlink\">\n<g class=\"graph\" id=\"graph0\" transform=\"scale(1 1) rotate(0) translate(4 40)\">\n<title>Lista</title>\n<polygon fill=\"#ffffff\" points=\"-4,4 -4,-40 238,-40 238,4 -4,4\" stroke=\"transparent\"/>\n<!-- 42 -->\n<g class=\"node\" id=\"node1\">\n<title>42</title>\n<ellipse cx=\"27\" cy=\"-18\" fill=\"none\" rx=\"27\" ry=\"18\" stroke=\"#000000\"/>\n<text fill=\"#000000\" font-family=\"Times,serif\" font-size=\"14.00\" text-anchor=\"middle\" x=\"27\" y=\"-14.3\">42</text>\n</g>\n<!-- 65 -->\n<g class=\"node\" id=\"node2\">\n<title>65</title>\n<ellipse cx=\"117\" cy=\"-18\" fill=\"none\" rx=\"27\" ry=\"18\" stroke=\"#000000\"/>\n<text fill=\"#000000\" font-family=\"Times,serif\" font-size=\"14.00\" text-anchor=\"middle\" x=\"117\" y=\"-14.3\">65</text>\n</g>\n<!-- 42&#45;&gt;65 -->\n<g class=\"edge\" id=\"edge1\">\n<title>42-&gt;65</title>\n<path d=\"M52.5497,-11.8449C61.4801,-11.2634 71.6762,-11.1082 81.2822,-11.3793\" fill=\"none\" stroke=\"#000000\"/>\n<polygon fill=\"#000000\" points=\"81.2372,-14.8808 91.3865,-11.8408 81.5566,-7.8881 81.2372,-14.8808\" stroke=\"#000000\"/>\n</g>\n<!-- 65&#45;&gt;42 -->\n<g class=\"edge\" id=\"edge4\">\n<title>65-&gt;42</title>\n<path d=\"M91.3865,-24.1592C82.45,-24.7387 72.2523,-24.8919 62.6491,-24.6188\" fill=\"none\" stroke=\"#000000\"/>\n<polygon fill=\"#000000\" points=\"62.6997,-21.1175 52.5497,-24.1551 62.3786,-28.1101 62.6997,-21.1175\" stroke=\"#000000\"/>\n</g>\n<!-- 44 -->\n<g class=\"node\" id=\"node3\">\n<title>44</title>\n<ellipse cx=\"207\" cy=\"-18\" fill=\"none\" rx=\"27\" ry=\"18\" stroke=\"#000000\"/>\n<text fill=\"#000000\" font-family=\"Times,serif\" font-size=\"14.00\" text-anchor=\"middle\" x=\"207\" y=\"-14.3\">44</text>\n</g>\n<!-- 65&#45;&gt;44 -->\n<g class=\"edge\" id=\"edge2\">\n<title>65-&gt;44</title>\n<path d=\"M142.5497,-11.8449C151.4801,-11.2634 161.6762,-11.1082 171.2822,-11.3793\" fill=\"none\" stroke=\"#000000\"/>\n<polygon fill=\"#000000\" points=\"171.2372,-14.8808 181.3865,-11.8408 171.5566,-7.8881 171.2372,-14.8808\" stroke=\"#000000\"/>\n</g>\n<!-- 44&#45;&gt;65 -->\n<g class=\"edge\" id=\"edge3\">\n<title>44-&gt;65</title>\n<path d=\"M181.3865,-24.1592C172.45,-24.7387 162.2523,-24.8919 152.6491,-24.6188\" fill=\"none\" stroke=\"#000000\"/>\n<polygon fill=\"#000000\" points=\"152.6997,-21.1175 142.5497,-24.1551 152.3786,-28.1101 152.6997,-21.1175\" stroke=\"#000000\"/>\n</g>\n</g>\n</svg>",
            "text/plain": [
              "<IPython.core.display.SVG object>"
            ]
          },
          "metadata": {
            "tags": []
          },
          "output_type": "display_data"
        }
      ],
      "source": [
        "L.eliminar(L.k_esimo(3))\n",
        "print([x for x in L.ascendente()])\n",
        "\n",
        "L.dibujar()"
      ]
    },
    {
      "cell_type": "markdown",
      "metadata": {
        "id": "DOg6llSdcAQ7"
      },
      "source": [
        "---"
      ]
    }
  ],
  "metadata": {
    "colab": {
      "collapsed_sections": [],
      "name": "04_Estructuras_de_Datos_Elementales.ipynb",
      "provenance": [],
      "toc_visible": true
    },
    "kernelspec": {
      "display_name": "Python 3",
      "language": "python",
      "name": "python3"
    },
    "language_info": {
      "codemirror_mode": {
        "name": "ipython",
        "version": 3
      },
      "file_extension": ".py",
      "mimetype": "text/x-python",
      "name": "python",
      "nbconvert_exporter": "python",
      "pygments_lexer": "ipython3",
      "version": "3.6.9"
    }
  },
  "nbformat": 4,
  "nbformat_minor": 0
}