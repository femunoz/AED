{
  "cells": [
    {
      "cell_type": "markdown",
      "source": [
        "#Búsqueda binaria\n"
      ],
      "metadata": {
        "id": "82suPTQL-UcB"
      }
    },
    {
      "cell_type": "markdown",
      "metadata": {
        "id": "Wgri8DLkhWSi"
      },
      "source": [
        "## Motivación: ejemplo de programación con invariantes: Calcular $y = x^n$\n",
        "\n",
        "Supongamos que no tuviéramos una operación de elevación a potencia, y que necesitáramos calcular $x^n$ para $n$ entero no negativo.\n",
        "El algoritmo obvio es calcular $x*x*\\cdots *x$ ($n$ veces):"
      ]
    },
    {
      "cell_type": "code",
      "execution_count": null,
      "metadata": {
        "id": "LaCL-sWkhWSj"
      },
      "outputs": [],
      "source": [
        "def potencia(x, n):\n",
        "    y=1\n",
        "    for k in range(0,n):\n",
        "        y*=x\n",
        "    return y"
      ]
    },
    {
      "cell_type": "code",
      "execution_count": null,
      "metadata": {
        "id": "wwYSvFudhWSk",
        "outputId": "96c2b8e2-f819-4eef-9899-d17ca5a9d165"
      },
      "outputs": [
        {
          "name": "stdout",
          "output_type": "stream",
          "text": [
            "1024\n"
          ]
        }
      ],
      "source": [
        "print(potencia(2,10))"
      ]
    },
    {
      "cell_type": "markdown",
      "metadata": {
        "id": "f-8MdZpuhWSl"
      },
      "source": [
        "El invariante, esto es, lo que se cumple al comenzar cada nueva iteración es $y = x^k$. Así, al inicio, cuando $k=0$, se tiene $y=1$ (inicialización), y al término, cuando $y=n$, se tiene la condición final buscada. La preservación del invariante consiste en multiplicar $y$ por $x$, porque así se sigue cumpliendo el invariante cuando $k$ se incrementa en $1$.\n",
        "\n",
        "Este algoritmo ejecuta $n$ multiplicaciones para calcular $x^n$ y, si tomamos en cuenta todo lo que hace, es evidente que demora un tiempo proporcional a $n$, lo cual escribiremos $O(n)$ y lo leeremos \"del orden de $n$\". (Más adelante definiremos precisamente esta notación, y veremos que podríamos ser más precisos todavía al describir el tiempo que demora un algoritmo)\n",
        "\n",
        "##¿Será posible calcular una potencia de manera más eficiente?\n",
        "\n",
        "Para ver cómo podríamos mejorar el algoritmo, comenzaremos por reescribirlo de modo que la variable $k$ vaya disminuyendo en lugar de ir aumentando, usando para ello la instrucción `while`:"
      ]
    },
    {
      "cell_type": "code",
      "execution_count": null,
      "metadata": {
        "id": "poVkHdgNhWSm"
      },
      "outputs": [],
      "source": [
        "def potencia(x, n):\n",
        "    y=1\n",
        "    k=n\n",
        "    while k>0:\n",
        "        y*=x\n",
        "        k-=1\n",
        "    return y"
      ]
    },
    {
      "cell_type": "code",
      "execution_count": null,
      "metadata": {
        "id": "_4WXdDH8hWSm",
        "outputId": "ec66e012-712f-4bbf-b0b1-61e5ab26176a"
      },
      "outputs": [
        {
          "name": "stdout",
          "output_type": "stream",
          "text": [
            "1024\n"
          ]
        }
      ],
      "source": [
        "print(potencia(2,10))"
      ]
    },
    {
      "cell_type": "markdown",
      "metadata": {
        "id": "VGvvBQhghWSo"
      },
      "source": [
        "El **invariante** en este caso **sería $y = x^{n-k}$ o**, lo que es lo mismo, $y * x^k = x^n$.\n",
        "\n",
        "El reescribirlo de esta manera nos permite hacer el siguiente truco: vamos a introducir una variable\n",
        "\n",
        "$$z$$\n",
        "\n",
        "cuyo valor inicial es \n",
        "\n",
        "$$x$$\n",
        "\n",
        " y reformular el invariante como $y * z^k = x^n$ y preservarlo aprovechando que $y*z^k = (y*z)*z^{k-1}$:"
      ]
    },
    {
      "cell_type": "code",
      "execution_count": null,
      "metadata": {
        "id": "lhy5dHNshWSo"
      },
      "outputs": [],
      "source": [
        "def potencia(x, n):\n",
        "    y=1\n",
        "    k=n\n",
        "    z=x\n",
        "    while k>0:\n",
        "        y*=z\n",
        "        k-=1\n",
        "    return y"
      ]
    },
    {
      "cell_type": "code",
      "execution_count": null,
      "metadata": {
        "id": "HY93rKS9hWSp",
        "outputId": "553bd788-ebe2-4e7d-81d6-ba6bbe69883a"
      },
      "outputs": [
        {
          "name": "stdout",
          "output_type": "stream",
          "text": [
            "1024\n"
          ]
        }
      ],
      "source": [
        "print(potencia(2,10))"
      ]
    },
    {
      "cell_type": "markdown",
      "metadata": {
        "id": "23jsv9HxhWSp"
      },
      "source": [
        "Este cambio podría parecer ocioso, pero gracias a él ahora tenemos un grado adicional de libertad: en efecto, podemos modificar la variable $z$ en la medida que eso no haga que el invariante deje de cumplirse.\n",
        "\n",
        "En particular, una oportunidad de hacer esto aparece cuando $k$ es par. En ese caso, como $z^n=(z^2)^{n/2}$, si elevamos $z$ al cuadrado y al mismo tiempo dividimos $k$ a la mitad, ambos cambios se complementan para hacer que el invariante se preserve. El algoritmo resultante se llama el ***algoritmo binario***."
      ]
    },
    {
      "cell_type": "code",
      "execution_count": 4,
      "metadata": {
        "id": "6wjRCG4ZhWSq"
      },
      "outputs": [],
      "source": [
        "def potencia(x, n):\n",
        "    y=1\n",
        "    k=n\n",
        "    z=x\n",
        "    while k>0:\n",
        "        if k%2==0: # caso k par\n",
        "            z=z*z\n",
        "            k=k/2\n",
        "        else:      # caso k impar\n",
        "            y*=z \n",
        "            k-=1\n",
        "    return y"
      ]
    },
    {
      "cell_type": "code",
      "execution_count": 5,
      "metadata": {
        "id": "Q2O9-arBhWSr",
        "outputId": "075e39e3-57fa-4e25-e537-fb8a059a27a3",
        "colab": {
          "base_uri": "https://localhost:8080/"
        }
      },
      "outputs": [
        {
          "output_type": "stream",
          "name": "stdout",
          "text": [
            "1024\n"
          ]
        }
      ],
      "source": [
        "print(potencia(2,10))"
      ]
    },
    {
      "cell_type": "markdown",
      "metadata": {
        "id": "tObhaoO6hWSv"
      },
      "source": [
        "Este algoritmo admite todavía una pequeña optimización. Cuando $k$ se divide por $2$, no solo se preserva el invariante, sino que además $k$ sigue siendo $>0$, y por lo tanto no es necesario en ese caso volver a preguntar por la condición del `while`. El algoritmo queda como sigue:"
      ]
    },
    {
      "cell_type": "code",
      "execution_count": null,
      "metadata": {
        "id": "9xppaV27hWSw"
      },
      "outputs": [],
      "source": [
        "def potencia(x, n):\n",
        "    y=1\n",
        "    k=n\n",
        "    z=x\n",
        "    while k>0:\n",
        "        while k%2==0: # caso k par\n",
        "            z=z*z\n",
        "            k//=2\n",
        "        y*=z # aquí estamos seguros que k es impar\n",
        "        k-=1\n",
        "    return y"
      ]
    },
    {
      "cell_type": "code",
      "execution_count": null,
      "metadata": {
        "id": "6sGlyRyChWSw",
        "outputId": "105c031f-8b52-4299-c221-4853e64d005a"
      },
      "outputs": [
        {
          "name": "stdout",
          "output_type": "stream",
          "text": [
            "1024\n"
          ]
        }
      ],
      "source": [
        "print(potencia(2,10))"
      ]
    },
    {
      "cell_type": "markdown",
      "metadata": {
        "id": "UFbiK4bthWSx"
      },
      "source": [
        "Este algoritmo (en cualquiera de las dos últimas versiones) se llama el *algoritmo binario*, y es mucho más eficiente que el algoritmo inicial. Cada vez que se da el caso par, $k$ disminuye a a mitad, y eso ocurre al menos la mitad de las veces. Pero si $k$ comienza con el valor $n$, la operación de dividir por $2$ se puede ejecutar a lo más $\\log_2{n}$ veces, por lo tanto el tiempo total de ejecución es $O(\\log_2{n})$, en lugar de $O(n)$. \n",
        "\n",
        "Decimos que el algoritmo original era de tiempo lineal, y que el algoritmo binario es de tiempo logarítmico. Para $n$ grande, la diferencia de eficiencia es muy grande en favor del algoritmo binario.\n",
        "\n",
        "Una observación importante es que para que el algoritmo binario funcione, solo es necesario que $x$ $y$, $z$ pertenezcan a un conjunto para el cual hay definida una operación multiplicativa que sea asociativa y que tenga un elemento neutro. Por lo tanto, este algoritmo no solo sirve para elevar a potencia números enteros o reales, sino que además, por ejemplo, para calcular potencias de *matrices*. "
      ]
    },
    {
      "cell_type": "markdown",
      "metadata": {
        "id": "z1tzPKX4hWSy"
      },
      "source": [
        "### ¿Por qué se llama \"algoritmo binario\"?\n",
        "\n",
        "Existe una relación muy interesante entre el funcionamiento de este algoritmo y la representación binaria del número $n$.\n",
        "\n",
        "Para quienes no lo recuerden (o lo estén viendo por primera vez), cuando un número se escribe en base $10$, por ejemplo, el número $2019$, esto significa\n",
        "\n",
        "$$\n",
        "(2019)_{10} = 2 \\cdot 10^3 + 0 \\cdot 10^2 + 1 \\cdot 10^1 + 9 \\cdot 10^0\n",
        "$$\n",
        "\n",
        "De manera análoga, un número escrito en base $2$, por ejemplo $110101$ significa\n",
        "\n",
        "$$\n",
        "(110101)_2 = 1 \\cdot 2^5 + 1 \\cdot 2^4 + 0 \\cdot 2^3 + 1 \\cdot 2^2 + 0 \\cdot 2^1 + 1 \\cdot 2^0 \n",
        "$$\n",
        "\n",
        "lo cual equivale a 53 en decimal.\n",
        "\n",
        "Más en general, un número puede estar escrito en base $b$:\n",
        "\n",
        "$$\n",
        "(\\ldots d_3 d_2 d_1 d_0)_b = \\sum_{k \\ge 0}{d_k b^k}\n",
        "$$\n",
        "\n",
        "donde $0\\le d_k \\le b-1$ para todo $k$.\n",
        "\n",
        "Volviendo ahora al problema de calcular $y=x^n$, consideremos como ejemplo de $n=53$.\n",
        "Si escribimos el exponente en binario, tenemos que\n",
        "\n",
        "$$\n",
        "\\begin{align}\n",
        "x^{53} &= x^{(110101)_2}\\\\\n",
        "  &=x^{1 \\cdot 2^5 + 1 \\cdot 2^4 + 0 \\cdot 2^3 + 1 \\cdot 2^2 + 0 \\cdot 2^1 + 1 \\cdot 2^0}\\\\\n",
        "  &=x^{2^5}\\cdot x^{2^4}\\cdot x^{2^2}\\cdot x^{2^0}\\\\\n",
        "  &=x^{32}\\cdot x^{16}\\cdot x^{4}\\cdot x^{1}\\\\\n",
        "\\end{align}\n",
        "$$\n",
        "\n",
        "Como vemos, el valor final calculado es el producto de los $x$ elevados a aquellas potencias de 2 que corresponden exactamente adonde hay un dígito $1$ en la representación binaria del número $n$. Veremos que eso es exactamente lo que hace al algoritmo.\n",
        "\n",
        "Si examinamos el algoritmo, en su primera versión, podemos ver que su estado se puede representar por una terna $(k,z,y)$, la cual tiene el valor inicial $(n,x,1)$. En cada iteración tenemos dos casos:\n",
        "\n",
        "Caso $k$ par:\n",
        "$$\n",
        "(k,z,y) \\rightarrow (\\frac{k}{2},z^2,y)\n",
        "$$\n",
        "\n",
        "Caso $k$ impar:\n",
        "$$\n",
        "(k,z,y) \\rightarrow (k-1,z,yz)\n",
        "$$\n",
        "\n",
        "Estas reglas adquieren una forma mucho muy simple si el número $k$ se considera escrito en binario. En esta base un número es *par* si termina en $0$ y es *impar* si termina en 1. Además, restarle $1$ a un número impar es equivalente a sustituir el $1$ de más a la derecha por un $0$, y dividir por $2$ un número par es equivalente a eliminar el $0$ de más a la derecha.\n",
        "\n",
        "Con esto, podemos reformular nuestras reglas, suponiendo que el número $k$ se escribe en binario en la forma $(\\alpha X)_2$, donde $X$ es el dígito de más a la derecha y $\\alpha$ es la secuencia de dígitos que lo preceden. Entonces\n",
        "\n",
        "Caso $k$ terminado en $0$:\n",
        "$$\n",
        "((\\alpha 0)_2,z,y) \\rightarrow ((\\alpha)_2,z^2,y)\n",
        "$$\n",
        "\n",
        "Caso $k$ terminado en $1$:\n",
        "$$\n",
        "((\\alpha 1)_2,z,y) \\rightarrow ((\\alpha 0)_2,z,yz)\n",
        "$$\n",
        "\n",
        "En palabras: la variable $z$ va tomando sucesivamente los valores $x^1,x^2,x^4,x^8,\\ldots$, y el valor final calculado es $x$ elevado a la suma aquellas potencias que corresponden exactamente adonde hay un dígito $1$ en la representación binaria del número $n$.\n",
        "\n",
        "La siguiente tabla muestra la ejecución del algoritmo para $n=53$:\n",
        "\n",
        "| $k$ | $z$ | $y$ |\n",
        "| --- | --- | --- |\n",
        "| $(110101)_2$ | $x^1$ | $1$ |\n",
        "| $(110100)_2$ | $x^1$ | $x^1$ |\n",
        "| $(11010)_2$ | $x^2$ | $x^1$ |\n",
        "| $(1101)_2$ | $x^4$ | $x^1$ |\n",
        "| $(1100)_2$ | $x^4$ | $x^{1+4}=x^5$ |\n",
        "| $(110)_2$ | $x^8$ | $x^{1+4}=x^5$ |\n",
        "| $(11)_2$ | $x^{16}$ | $x^{1+4}=x^5$ |\n",
        "| $(10)_2$ | $x^{16}$ | $x^{1+4+16}=x^{21}$ |\n",
        "| $(1)_2$ | $x^{32}$ | $x^{1+4+16}=x^{21}$ |\n",
        "| $(0)_2$ | $x^{32}$ | $x^{1+4+16+32}=x^{53}$ |\n"
      ]
    },
    {
      "cell_type": "markdown",
      "source": [
        ""
      ],
      "metadata": {
        "id": "Q5MsPG8N-LV4"
      }
    },
    {
      "cell_type": "markdown",
      "metadata": {
        "id": "Q_DdLTF9hWSy"
      },
      "source": [
        "## Ejemplo de programación con invariantes: Evaluación de un polinomio\n",
        "\n",
        "Supongamos que se tiene un polinomio\n",
        "\n",
        "$$\n",
        "P(x) = \\sum_{0<=k<=n}{a_k x^k}\n",
        "$$\n",
        "\n",
        "y se desea calcular su valor en un punto dado $x$.\n",
        "\n",
        "Una solución trivial se puede obtener directamente de la fórmula anterior:"
      ]
    },
    {
      "cell_type": "code",
      "execution_count": null,
      "metadata": {
        "id": "rHDd2pJKhWSz"
      },
      "outputs": [],
      "source": [
        "def evalp(a,x):\n",
        "    \"\"\"Evalúa en el punto x el polinomio cuyos coeficientes son a[0], a[1],...\n",
        "    Retorna el valor calculado\n",
        "    \"\"\"\n",
        "    P=0\n",
        "    for k in range(0,len(a)):\n",
        "        # Invariante: P=a[0]+a[1]*x+...+a[k-1]*x**(k-1)\n",
        "        P += a[k]*x**k\n",
        "    return P"
      ]
    },
    {
      "cell_type": "markdown",
      "metadata": {
        "id": "tgwq2y7fhWS0"
      },
      "source": [
        "Podemos probar esta función evaluando el polinomio\n",
        "\n",
        "$$\n",
        "P(x) = 5+2x-3x^2+4x^3\n",
        "$$\n",
        "\n",
        "en el punto $x=2$:"
      ]
    },
    {
      "cell_type": "code",
      "execution_count": null,
      "metadata": {
        "id": "emhL_eaQhWS0",
        "outputId": "e0121df7-d0a1-4009-8dea-b79593def010"
      },
      "outputs": [
        {
          "name": "stdout",
          "output_type": "stream",
          "text": [
            "29\n"
          ]
        }
      ],
      "source": [
        "print(evalp([5,2,-3,4],2))"
      ]
    },
    {
      "cell_type": "markdown",
      "metadata": {
        "id": "2ZP9XgKbhWS1"
      },
      "source": [
        "El problema es que este algoritmo puede ser ineficiente. Si el sistema calcula ``x**k`` de manera simple, el tiempo total de ejecución sería del orden de $n^2$, y si lo calcula usando el algoritmo binario, el tiempo sería del orden de $n\\log{n}$. Veremos que esto se puede reducir a tiempo lineal.\n",
        "\n",
        "Para esto, vamos a introducir una variable adicional, digamos $y$, que almacene el valor de $x^k$ necesario para cada iteración. Para preservar este invariante, al final de cada vuelta del ciclo debemos dejarla multiplicada por $x$, para que tenga el valor correcto al iniciarse la siguiente iteración:"
      ]
    },
    {
      "cell_type": "code",
      "execution_count": null,
      "metadata": {
        "id": "BR7YXGTUhWS1"
      },
      "outputs": [],
      "source": [
        "def evalp(a,x):\n",
        "    \"\"\"Evalúa en el punto x el polinomio cuyos coeficientes son a[0], a[1],...\n",
        "    Retorna el valor calculado\n",
        "    \"\"\"\n",
        "    P=0\n",
        "    y=1\n",
        "    for k in range(0,len(a)):\n",
        "        # Invariante: P=a[0]+a[1]*x+...+a[k-1]*x**(k-1) and y=x**k\n",
        "        P += a[k]*y\n",
        "        y *= x\n",
        "    return P"
      ]
    },
    {
      "cell_type": "code",
      "execution_count": null,
      "metadata": {
        "id": "1uUwkCVxhWS2",
        "outputId": "f51d68a1-4802-4e4c-aa39-2352c4457f39"
      },
      "outputs": [
        {
          "name": "stdout",
          "output_type": "stream",
          "text": [
            "29\n"
          ]
        }
      ],
      "source": [
        "print(evalp([5,2,-3,4],2))"
      ]
    },
    {
      "cell_type": "markdown",
      "metadata": {
        "id": "YCdga13ehWS2"
      },
      "source": [
        "---"
      ]
    },
    {
      "cell_type": "markdown",
      "metadata": {
        "id": "oQTlrSdNhWS3"
      },
      "source": [
        "## Numpy y Arreglos\n",
        "\n",
        "Numpy es la principal biblioteca para computación científica en Python.\n",
        "\n",
        "Una de las características de Numpy es que provee arreglos multidimensionales de alta eficiencia. Mientras la gran flexibilidad de las listas de Python puede hacer que no sea muy eficiente el acceso a elementos específicos, los arreglos de Numpy aseguran el acceso a cada elemento en tiempo constante. Por esa razón, utilizaremos estos arreglos cuando necesitemos asegurar la eficiencia de la implementación de los algoritmos.\n"
      ]
    },
    {
      "cell_type": "code",
      "execution_count": null,
      "metadata": {
        "id": "AlKwxPqqhWS3",
        "outputId": "2a1db433-bec2-4f8b-ae64-842325e0797f"
      },
      "outputs": [
        {
          "name": "stdout",
          "output_type": "stream",
          "text": [
            "4.6\n"
          ]
        }
      ],
      "source": [
        "import numpy as np\n",
        "\n",
        "a = np.array([6.5, 5.2, 4.6, 7.0, 4.3])\n",
        "print(a[2])"
      ]
    },
    {
      "cell_type": "code",
      "execution_count": null,
      "metadata": {
        "id": "3HoQcRkchWS4",
        "outputId": "532e04e7-4360-4b08-f881-39b48082dd7b"
      },
      "outputs": [
        {
          "name": "stdout",
          "output_type": "stream",
          "text": [
            "5\n"
          ]
        }
      ],
      "source": [
        "print(len(a))"
      ]
    },
    {
      "cell_type": "markdown",
      "metadata": {
        "id": "T4apZ6WwhWS4"
      },
      "source": [
        "Hay varias formas de crear arreglos inicializados con ceros, unos, valores constantes o valores aleatorios."
      ]
    },
    {
      "cell_type": "code",
      "execution_count": null,
      "metadata": {
        "id": "agomsoLOhWS5",
        "outputId": "5e2b7951-5d78-47d9-fbac-068bac016337"
      },
      "outputs": [
        {
          "name": "stdout",
          "output_type": "stream",
          "text": [
            "[1. 1. 1. 1. 1. 1. 1. 1. 1. 1.]\n"
          ]
        }
      ],
      "source": [
        "b = np.ones(10)\n",
        "print(b)"
      ]
    },
    {
      "cell_type": "code",
      "execution_count": null,
      "metadata": {
        "id": "YAKt8_SshWS6",
        "outputId": "73e0b40f-e24e-40e1-8e37-43d0e25a50c0"
      },
      "outputs": [
        {
          "name": "stdout",
          "output_type": "stream",
          "text": [
            "[0 0 0 0 0 0 0]\n"
          ]
        }
      ],
      "source": [
        "c = np.zeros(7,dtype=int)\n",
        "print(c)"
      ]
    },
    {
      "cell_type": "markdown",
      "metadata": {
        "id": "6Xr5S703hWS7"
      },
      "source": [
        "En los dos ejemplos anteriores mostramos la diferencia que se produce al explicitar el tipo de datos del arreglo. En el primero, obtenemos el *default*, que es flotante, mientras en el segundo forzamos a que sea entero."
      ]
    },
    {
      "cell_type": "code",
      "execution_count": null,
      "metadata": {
        "id": "P6S5ZczXhWS8",
        "outputId": "1fd1a3d7-e40a-43a2-fe9a-83eeb9422d61"
      },
      "outputs": [
        {
          "name": "stdout",
          "output_type": "stream",
          "text": [
            "[2 2 2 2 2]\n"
          ]
        }
      ],
      "source": [
        "c = np.full(5, 2)\n",
        "print(c)"
      ]
    },
    {
      "cell_type": "code",
      "execution_count": null,
      "metadata": {
        "id": "JyI-nY93hWS9",
        "outputId": "85f56db5-8247-4e81-f857-12e1ca1f4c82"
      },
      "outputs": [
        {
          "name": "stdout",
          "output_type": "stream",
          "text": [
            "[0.39229597 0.99294597 0.16978406 0.49579816 0.3654721  0.43266937]\n"
          ]
        }
      ],
      "source": [
        "d = np.random.random(6)\n",
        "print(d)"
      ]
    },
    {
      "cell_type": "markdown",
      "metadata": {
        "id": "Un6q1O8vhWS9"
      },
      "source": [
        "También es posible crear y manejar arreglos de varias dimensiones."
      ]
    },
    {
      "cell_type": "code",
      "execution_count": null,
      "metadata": {
        "id": "5EfpRX4HhWS-",
        "outputId": "0b1f18ed-f5dd-48b4-f564-a477be3037bc"
      },
      "outputs": [
        {
          "name": "stdout",
          "output_type": "stream",
          "text": [
            "[[1 2 3]\n",
            " [4 5 6]]\n"
          ]
        }
      ],
      "source": [
        "a = np.array([[1,2,3],[4,5,6]])\n",
        "print(a)"
      ]
    },
    {
      "cell_type": "code",
      "execution_count": null,
      "metadata": {
        "id": "3uqf-Q20hWS_",
        "outputId": "26273f39-d679-49b1-ce84-ffba6864d4b8"
      },
      "outputs": [
        {
          "name": "stdout",
          "output_type": "stream",
          "text": [
            "3\n"
          ]
        }
      ],
      "source": [
        "print(a[0,2])"
      ]
    },
    {
      "cell_type": "code",
      "execution_count": null,
      "metadata": {
        "id": "vL1H2x8IhWTA",
        "outputId": "a7277d66-200c-4f2a-f0b6-a11796a20a17"
      },
      "outputs": [
        {
          "name": "stdout",
          "output_type": "stream",
          "text": [
            "2 3\n"
          ]
        }
      ],
      "source": [
        "(m,n)=np.shape(a)\n",
        "print(m,n)"
      ]
    },
    {
      "cell_type": "code",
      "execution_count": null,
      "metadata": {
        "id": "WhzOB0s_hWTA",
        "outputId": "beb04274-7f1c-4c1b-bea2-e1858caf25ed"
      },
      "outputs": [
        {
          "name": "stdout",
          "output_type": "stream",
          "text": [
            "[[0. 0. 0.]\n",
            " [0. 0. 0.]\n",
            " [0. 0. 0.]]\n"
          ]
        }
      ],
      "source": [
        "b = np.zeros((3,3))\n",
        "print(b)"
      ]
    },
    {
      "cell_type": "code",
      "execution_count": null,
      "metadata": {
        "id": "hE2mrIruhWTB",
        "outputId": "be8fc070-c1a8-456b-db6a-c86752c5bcfd"
      },
      "outputs": [
        {
          "name": "stdout",
          "output_type": "stream",
          "text": [
            "[[1. 0. 0.]\n",
            " [0. 1. 0.]\n",
            " [0. 0. 1.]]\n"
          ]
        }
      ],
      "source": [
        "c = np.eye(3)\n",
        "print(c)"
      ]
    },
    {
      "cell_type": "markdown",
      "metadata": {
        "id": "L5Cvw5x9hWTB"
      },
      "source": [
        "## Ejemplos de programación con invariantes: Ordenación"
      ]
    },
    {
      "cell_type": "markdown",
      "metadata": {
        "id": "JmjEJKm0hWTC"
      },
      "source": [
        "## Ordenación por inserción\n",
        "\n",
        "Supongamos que se tiene un arreglo $a$, de tamaño $n$, y queremos reordenar los datos almacenados en su interior de modo que queden en orden ascendente.\n",
        "\n",
        "El método de **Ordenación por Inserción** se basa en formar en el sector izquierdo del arreglo un subconjunto ordenado, en el cual se van insertando uno por uno los elementos restantes. Para la inicialización, comenzamos con un subconjunto ordenado de tamaño 0, y el proceso termina cuando el subconjunto ordenado llega a tener tamaño $n$. El invariante se puede visualizar como:\n",
        "\n",
        "![insercion](https://github.com/ivansipiran/AED-Apuntes/blob/main/recursos/insercion.png?raw=1)\n",
        "\n",
        "La variable $k$ indica el tamaño del subconjunto ordenado. Equivalentemente, $k$ es el subíndice del primer elemento todavía no ordenado, y que será el que se insertará en esta oportunidad."
      ]
    },
    {
      "cell_type": "code",
      "execution_count": null,
      "metadata": {
        "id": "Nil1O_JahWTC"
      },
      "outputs": [],
      "source": [
        "# Ordenación Por Inserción\n",
        "def ordena_insercion(a):\n",
        "    n=len(a)\n",
        "    for k in range(0,n):\n",
        "        insertar(a,k)"
      ]
    },
    {
      "cell_type": "markdown",
      "metadata": {
        "id": "FhMxhC2HhWTD"
      },
      "source": [
        "Este algoritmo todavía no es ejecutable, porque falta definir la función `insertar`, que se encarga de tomar $a[k]$ e insertarlo entre los anteriores. La forma más simple de hacer esto es a través de intercambios sucesivos:"
      ]
    },
    {
      "cell_type": "code",
      "execution_count": null,
      "metadata": {
        "id": "k5mPbMSShWTD"
      },
      "outputs": [],
      "source": [
        "# Insertar a[k] entre los elementos anteriores preservando el orden ascendente (versión 1)\n",
        "def insertar(a, k):\n",
        "    j=k # señala la posición del elemento que está siendo insertado\n",
        "    while j>0 and a[j]<a[j-1]:\n",
        "        (a[j], a[j-1]) = (a[j-1], a[j])\n",
        "        j-=1"
      ]
    },
    {
      "cell_type": "markdown",
      "metadata": {
        "id": "4dIwPokchWTE"
      },
      "source": [
        "Para poder probar este algoritmo, generemos un arreglo con números aleatorios y ordenémoslo:"
      ]
    },
    {
      "cell_type": "code",
      "execution_count": null,
      "metadata": {
        "id": "SBuhN1cahWTE",
        "outputId": "19e5da72-a901-469b-8584-d8e1cfecdf63"
      },
      "outputs": [
        {
          "name": "stdout",
          "output_type": "stream",
          "text": [
            "[0.55230218 0.83643983 0.18410935 0.38172433 0.02348297 0.87717298]\n",
            "[0.02348297 0.18410935 0.38172433 0.55230218 0.83643983 0.87717298]\n"
          ]
        }
      ],
      "source": [
        "a = np.random.random(6)\n",
        "print(a)\n",
        "ordena_insercion(a)\n",
        "print(a)"
      ]
    },
    {
      "cell_type": "markdown",
      "metadata": {
        "id": "XxQlixv3hWTF"
      },
      "source": [
        "Si observamos el algoritmo de inserción, podemos ver que en los intercambios siempre uno de los dos elementos involucrados es el que se está insertando, el cual pasa por muchos lugares provisorios hasta llegar finalmente a su ubicación definitiva. Esto sugiere que podemos ahorrar trabajo si en lugar de hacer todos esos intercambios, sacamos primero el elemento a insertar hacia una variable auxiliar, luego vamos moviendo los restantes elementos hacia la derecha, y al final movemos directamente el nuevo elemento desde la variable auxiliar hasta su posición definitiva:"
      ]
    },
    {
      "cell_type": "code",
      "execution_count": null,
      "metadata": {
        "id": "GWIXYKuphWTF"
      },
      "outputs": [],
      "source": [
        "# Insertar a[k] entre los elementos anteriores preservando el orden ascendente (versión 2)\n",
        "def insertar(a, k):\n",
        "    b=a[k] # b almacena transitoriamente al elemento a[k]\n",
        "    j=k # señala la posición del lugar \"vacío\"\n",
        "    while j>0 and b<a[j-1]:\n",
        "        a[j]=a[j-1]\n",
        "        j-=1\n",
        "    a[j]=b"
      ]
    },
    {
      "cell_type": "code",
      "execution_count": null,
      "metadata": {
        "id": "bkhSa9OnhWTH",
        "outputId": "db4e0cdc-c66b-4e19-a7c9-c97ea9119172"
      },
      "outputs": [
        {
          "name": "stdout",
          "output_type": "stream",
          "text": [
            "[0.40361217 0.53495185 0.53249129 0.11225909 0.95760226 0.79345432]\n",
            "[0.11225909 0.40361217 0.53249129 0.53495185 0.79345432 0.95760226]\n"
          ]
        }
      ],
      "source": [
        "a = np.random.random(6)\n",
        "print(a)\n",
        "ordena_insercion(a)\n",
        "print(a)"
      ]
    },
    {
      "cell_type": "markdown",
      "metadata": {
        "id": "C1uJ-As7hWTI"
      },
      "source": [
        "Para analizar la eficiencia de este algoritmo, podemos considerar varios casos:\n",
        "* Mejor caso: Si el arreglo ya viene ordenado, el ciclo de la función `insertar` termina de inmediato, así que esa función demora tiempo constante, y el proceso completo demora tiempo $O(n)$, lineal en $n$.\n",
        "* Peor caso: Si el arreglo viene originalmente en orden decreciente, el ciclo de la función `insertar` hace el máximo de iteraciones ($k$), y la suma de todos esos costos da un total de $O(n^2)$, cuadrático en $n$.\n",
        "* Caso promedio: Si el arreglo viene en orden aleatorio, el número promedio de iteraciones que hace el ciclo de la función `insertar` es aproximadamente $k/2$, y la suma de todos esos costos igual da un total de $O(n^2)$. Esto es, el costo promedio también es cuadrático."
      ]
    },
    {
      "cell_type": "markdown",
      "metadata": {
        "id": "jRC1N3bXhWTI"
      },
      "source": [
        "## Ordenación por Selección\n",
        "\n",
        "El método de **Ordenación por Selección** se basa en extraer el máximo elemento y moverlo hacia el extremo derecho del arreglo, y repetir este proceso entre los elementos restantes hasta que todos hayan sido extraídos. El invariante se puede visualizar como:\n",
        "\n",
        "![ord-seleccion](https://github.com/ivansipiran/AED-Apuntes/blob/main/recursos/seleccion.png?raw=1)\n",
        "\n",
        "La variable $k$ indica el tamaño del subconjunto que todavía falta por procesar. Equivalentemente, es el subíndice del primer elemento que ya pertenece al subconjunto ordenado."
      ]
    },
    {
      "cell_type": "code",
      "execution_count": null,
      "metadata": {
        "id": "-MFVtCxRhWTJ"
      },
      "outputs": [],
      "source": [
        "# Ordenación por Selección\n",
        "def ordena_seleccion(a):\n",
        "    n=len(a)\n",
        "    for k in range(n,1,-1): # Paramos cuando todavía queda 1 elemento \"desordenado\" (¿por qué está bien eso?)\n",
        "        j=pos_maximo(a,k) # Encuentra posición del máximo entre a[0],...,a[k-1]\n",
        "        (a[j],a[k-1])=(a[k-1],a[j])"
      ]
    },
    {
      "cell_type": "code",
      "execution_count": null,
      "metadata": {
        "id": "AkjRPKqshWTJ"
      },
      "outputs": [],
      "source": [
        "# Encuentra posición del máximo entre a[0],...,a[k-1]\n",
        "def pos_maximo(a, k):\n",
        "    j=0 # j señala la posición del máximo\n",
        "    for i in range(1,k):\n",
        "        if a[i]>a[j]: # Encontramos un nuevo máximo\n",
        "            j=i\n",
        "    return j"
      ]
    },
    {
      "cell_type": "markdown",
      "metadata": {
        "id": "go8D8Rc7hWTK"
      },
      "source": [
        "Nuevamente, probamos nuestro algoritmo con un arreglo aleatorio:"
      ]
    },
    {
      "cell_type": "code",
      "execution_count": null,
      "metadata": {
        "id": "J3qCcgZBhWTK",
        "outputId": "1579795d-75de-4899-bf12-3683f0d40cc8"
      },
      "outputs": [
        {
          "name": "stdout",
          "output_type": "stream",
          "text": [
            "[0.19157218 0.79292674 0.15078436 0.13777891 0.66594199 0.21232741]\n",
            "[0.13777891 0.15078436 0.19157218 0.21232741 0.66594199 0.79292674]\n"
          ]
        }
      ],
      "source": [
        "a = np.random.random(6)\n",
        "print(a)\n",
        "ordena_seleccion(a)\n",
        "print(a)"
      ]
    },
    {
      "cell_type": "markdown",
      "metadata": {
        "id": "OKGTNK06hWTL"
      },
      "source": [
        "En este algoritmo, siempre se recorre todo el conjunto de tamaño $k$ para encontrar el máximo, de modo que la suma de todos estos costos de un total de $O(n^2)$, en todos los casos.\n",
        "\n",
        "Más adelante veremos que hay maneras mucho más eficientes de calcular el máximo de un conjunto, una vez que se ha encontrado y extraído el máximo la primera vez.\n",
        "\n",
        "Piensen por ejemplo en un típico torneo de tenis, en donde los jugadores se van eliminando por rondas, hasta que en la final queda solo un jugador invicto: el campeón. Si hay $n$ jugadores, ese proceso requiere exactamente $n-1$ partidos. **Pero** una vez que se ha jugado todo ese torneo, hagamos un experimento mental y pensemos que habría sucedido si el primer día el campeón no hubiera podido jugar por alguna causa. Para determinar quién habría resultado campeón en esas circunstancias (o sea, para encontrar al subcampeón), **no sería necesario repetir todo el torneo, sino solo volver a jugar los partidos en los que habría participado el campeón**. Ese número de partidos es mucho menor a $n$, y en realidad no es difícil ver que es logarítmico. Y eso puede repetirse para encontrar al tercero, al cuarto, etc., siempre con el mismo costo logarítmico.\n",
        "\n",
        "Si sumamos todos esos costos, da un total de $O(n\\log{n})$, en el peor caso.\n",
        "\n",
        "Lo anterior es una \"demostración de factibilidad\" de que existen algoritmos de ordenación de costo $O(n\\log{n})$, más eficientes que $O(n^2)$. Más adelante en el curso veremos algoritmos prácticos que alcanzan esta eficiencia."
      ]
    },
    {
      "cell_type": "markdown",
      "metadata": {
        "id": "r3uxQAkVhWTM"
      },
      "source": [
        "## Ordenación de la Burbuja\n",
        "\n",
        "Este algoritmo se basa en ir haciendo pasadas sucesivas de izquierda a derecha sobre el arreglo, y cada vez que encuentra dos elementos adyacentes fuera de orden, los intercambia. Así, el arreglo va quedando cada vez \"más ordenado\", hasta que finalmente esté totalmente ordenado.\n",
        "\n",
        "Analizando el efecto de una pasada de izquierda a derecha, vemos que, aparte de los pequeños desórdenes que pueda ir arreglando por el camino, una vez que el algoritmo se encuentra con el máximo, los intercambios lo empiezan a trasladar paso a paso hacia la derecha, hasta que finalmente queda en el extremo derecho del arreglo. Eso significa que ya ha llegado a su posición definitiva, y no necesitamos volver a tocarlo. Por lo tanto, el algoritmo puede ignorar esos elementos al extremo derecho, los que por construcción están ordenados y son mayores que todos los de la izquierda. Esto lo podemos visualizar como:\n",
        "\n",
        "![ord-seleccion](https://github.com/ivansipiran/AED-Apuntes/blob/main/recursos/seleccion.png?raw=1)\n",
        "\n",
        "¡El mismo invariante que la Ordenación por Selección! Sin embargo, el algoritmo resultante es distinto."
      ]
    },
    {
      "cell_type": "code",
      "execution_count": null,
      "metadata": {
        "id": "hAXfW2TfhWTO"
      },
      "outputs": [],
      "source": [
        "# Ordenación de la Burbuja (versión 1)\n",
        "def ordena_burbuja(a):\n",
        "    n=len(a)\n",
        "    k=n # número de elementos todavía desordenados\n",
        "    while k>1:\n",
        "        # Hacer una pasada sobre a[0],...,a[k-1]\n",
        "        # intercambiando elementos adyacentes desordenados\n",
        "        for j in range(0,k-1):\n",
        "            if a[j]>a[j+1]:\n",
        "                (a[j],a[j+1])=(a[j+1],a[j])\n",
        "        # Disminuir k\n",
        "        k-=1"
      ]
    },
    {
      "cell_type": "code",
      "execution_count": null,
      "metadata": {
        "id": "_UfQYeJVhWTP",
        "outputId": "e3d6ab9a-00c8-4b21-a7a7-72bb704181a3"
      },
      "outputs": [
        {
          "name": "stdout",
          "output_type": "stream",
          "text": [
            "[0.1592509  0.29551131 0.33254857 0.40328476 0.33155501 0.30588459]\n",
            "[0.1592509  0.29551131 0.30588459 0.33155501 0.33254857 0.40328476]\n"
          ]
        }
      ],
      "source": [
        "a = np.random.random(6)\n",
        "print(a)\n",
        "ordena_burbuja(a)\n",
        "print(a)"
      ]
    },
    {
      "cell_type": "markdown",
      "metadata": {
        "id": "-A8rTEIZhWTQ"
      },
      "source": [
        "Este algoritmo demora siempre tiempo $O(n^2)$, ¡incluso si se le da para ordenar un arregla que ya viene ordenado!\n",
        "\n",
        "No cuesta mucho introducir una variable booleana que señale si en una pasada no se ha hecho ningún intercambio, y usar esa variable para terminar el proceso cuando eso ocurre. Pero hay una manera mejor de modificar el algoritmo para aumentar su eficiencia.\n",
        "\n",
        "Para esto, introducimos una variable $i$ que recuerda el punto donde se hizo el último intercambio (el cual habría sido entre $a[i-1]$ y $a[i]$. Si a partir de ese punto ya no se encontraron elementos fuera de orden, eso quiere decir que $a[i-1]<a[i]$ y luego a partir de ahí todos los elementos están ordenados, **hasta el final del arreglo**. Por lo tanto, el invariante se preserva si hacemos $k=i$.\n",
        "\n",
        "¿Qué pasa si no hubo ningún intercambio? Para este caso, si le damos a la variable $i$ el valor inicial cero, al hacer $k=i$ tendríamos $k=0$ y el proceso terminaría automáticamente. El algoritmo resultante es el siguiente:"
      ]
    },
    {
      "cell_type": "code",
      "execution_count": null,
      "metadata": {
        "id": "Kk_ew9kZhWTS"
      },
      "outputs": [],
      "source": [
        "# Ordenación de la Burbuja (versión 2)\n",
        "def ordena_burbuja(a):\n",
        "    n=len(a)\n",
        "    k=n # número de elementos todavía desordenados\n",
        "    while k>1:\n",
        "        # Hacer una pasada sobre a[0],...,a[k-1]\n",
        "        # intercambiando elementos adyacentes desordenados\n",
        "        i=0\n",
        "        for j in range(0,k-1):\n",
        "            if a[j]>a[j+1]:\n",
        "                (a[j],a[j+1])=(a[j+1],a[j])\n",
        "                i=j+1 # recordamos el lugar del último intercambio\n",
        "        # Disminuir k\n",
        "        k=i"
      ]
    },
    {
      "cell_type": "code",
      "execution_count": null,
      "metadata": {
        "id": "0lXx7nnihWTV",
        "outputId": "5cf3b916-c76d-405e-958e-b412ba1e8ea4"
      },
      "outputs": [
        {
          "name": "stdout",
          "output_type": "stream",
          "text": [
            "[0.09420149 0.74028709 0.42818087 0.75324494 0.28554262 0.9882463 ]\n",
            "[0.09420149 0.28554262 0.42818087 0.74028709 0.75324494 0.9882463 ]\n"
          ]
        }
      ],
      "source": [
        "a = np.random.random(6)\n",
        "print(a)\n",
        "ordena_burbuja(a)\n",
        "print(a)"
      ]
    },
    {
      "cell_type": "markdown",
      "metadata": {
        "id": "22mdZgKthWTW"
      },
      "source": [
        "Este algoritmo aprovecha mejor el orden previo que puede trar el arreglo, y en particular ordena arreglos ordenados en tiempo lineal. Pero tanto su peor caso como su caso promedio siguen siendo cuadráticos."
      ]
    },
    {
      "cell_type": "markdown",
      "metadata": {
        "id": "HwIGNZ5QhWTW"
      },
      "source": [
        "## Recursividad\n",
        "\n",
        "El poder escribir funciones que se llamen a sí mismas es una herramienta muy poderosa de programación. Veremos algunos ejemplos de aplicaciones de este concepto, y más adelante veremos cómo puede conducir al diseño de algoritmos muy eficientes."
      ]
    },
    {
      "cell_type": "markdown",
      "metadata": {
        "id": "cEJL9iFShWTW"
      },
      "source": [
        "## Ejemplo: Calcular $y=x^n$\n",
        "Revisemos nuevamente este problema, pero ahora desde un punto de vista recursivo. Una potencia se puede definir recursivamente de la siguiente manera:\n",
        "\n",
        "$$\n",
        "x^n =\n",
        "\\begin{cases}x * x^{n-1} & \\mbox{si }n>0 \\\\\n",
        "1 & \\mbox{si }n=0\n",
        "\\end{cases}\n",
        "$$\n",
        "\n",
        "lo cual se puede implementar directamente como una función recursiva:"
      ]
    },
    {
      "cell_type": "code",
      "execution_count": null,
      "metadata": {
        "id": "d6pd2AKWhWTW"
      },
      "outputs": [],
      "source": [
        "def potencia(x,n):\n",
        "    if n==0:\n",
        "        return 1\n",
        "    else:\n",
        "        return x * potencia(x,n-1)"
      ]
    },
    {
      "cell_type": "code",
      "execution_count": null,
      "metadata": {
        "id": "aKfmywCQhWTX",
        "outputId": "077376b7-85a7-492b-c1e4-ecd7a2b793ea"
      },
      "outputs": [
        {
          "name": "stdout",
          "output_type": "stream",
          "text": [
            "1024\n"
          ]
        }
      ],
      "source": [
        "print(potencia(2,10))"
      ]
    },
    {
      "cell_type": "markdown",
      "metadata": {
        "id": "evD8b9qPhWTX"
      },
      "source": [
        "El algoritmo resultante demora tiempo $O(n)$, pero  puede mejorarse si el caso $n$ par lo tratamos aparte:\n",
        "\n",
        "$$\n",
        "x^n =\n",
        "\\begin{cases}\n",
        "\\left(x^2\\right)^{n/2} & \\mbox{si }n>0\\mbox{, par} \\\\\n",
        "x * x^{n-1} & \\mbox{si }n>0\\mbox{, impar} \\\\\n",
        "1 & \\mbox{si }n=0\n",
        "\\end{cases}\n",
        "$$\n",
        "\n",
        "y la función que lo implementa es:"
      ]
    },
    {
      "cell_type": "code",
      "execution_count": null,
      "metadata": {
        "id": "8tu4zR41hWTY"
      },
      "outputs": [],
      "source": [
        "def potencia(x,n):\n",
        "    if n==0:\n",
        "        return 1\n",
        "    elif n%2==0:\n",
        "        return potencia(x*x,n//2)\n",
        "    else:\n",
        "        return x * potencia(x,n-1)"
      ]
    },
    {
      "cell_type": "code",
      "execution_count": null,
      "metadata": {
        "id": "DxT9BNf-hWTY",
        "outputId": "f32d5c09-7d32-475a-de18-67d08ce010ea"
      },
      "outputs": [
        {
          "name": "stdout",
          "output_type": "stream",
          "text": [
            "1024\n"
          ]
        }
      ],
      "source": [
        "print(potencia(2,10))"
      ]
    },
    {
      "cell_type": "markdown",
      "metadata": {
        "id": "RyYv2pvQhWTY"
      },
      "source": [
        "El resultado es el algoritmo binario, que demora tiempo $O(\\log{n})$, en versión recursiva."
      ]
    },
    {
      "cell_type": "markdown",
      "metadata": {
        "id": "7P7OFn5uhWTZ"
      },
      "source": [
        "## Recursividad vs. Iteración\n",
        "Todo algoritmo iterativo puede escribirse recursivamente. En particular, cualquier ciclo de la forma\n",
        "```python\n",
        "while C:\n",
        "    A\n",
        "```\n",
        "puede implementarse como\n",
        "```python\n",
        "def f():\n",
        "    if C:\n",
        "        A\n",
        "        f()\n",
        "f()\n",
        "```\n",
        "Por cierto, en la llamada recursiva se le debe entregar a la función el contexto en que habría operado en la siguiente iteración del ciclo.\n",
        "\n",
        "Por ejemplo, si queremos imprimir uno por uno los elementos de un arreglo $a$, una forma iterativa de hacerlo sería:"
      ]
    },
    {
      "cell_type": "code",
      "execution_count": null,
      "metadata": {
        "id": "b8icWhSqhWTZ"
      },
      "outputs": [],
      "source": [
        "def imprimir(a):\n",
        "    k=0\n",
        "    while k<len(a):\n",
        "        print(a[k])\n",
        "        k+=1"
      ]
    },
    {
      "cell_type": "code",
      "execution_count": null,
      "metadata": {
        "id": "Bs-O4dz7hWTZ",
        "outputId": "f50886ba-f05d-4698-a57b-05675810d83e"
      },
      "outputs": [
        {
          "name": "stdout",
          "output_type": "stream",
          "text": [
            "0.12225215333811135\n",
            "0.9666515621892792\n",
            "0.7343725168219568\n",
            "0.12940626022986446\n",
            "0.8673473432897322\n",
            "0.17030220494709525\n"
          ]
        }
      ],
      "source": [
        "a=np.random.random(6)\n",
        "imprimir(a)"
      ]
    },
    {
      "cell_type": "markdown",
      "metadata": {
        "id": "sCq260K0hWTa"
      },
      "source": [
        "En forma recursiva, esto queda como:"
      ]
    },
    {
      "cell_type": "code",
      "execution_count": null,
      "metadata": {
        "id": "aseyB_7FhWTa"
      },
      "outputs": [],
      "source": [
        "def imprimir(a):\n",
        "    imprimir_recursivo(a,0)\n",
        "    \n",
        "def imprimir_recursivo(a,k): # imprimir desde a[k] en adelante\n",
        "    if k<len(a):\n",
        "        print(a[k])\n",
        "        imprimir_recursivo(a,k+1)"
      ]
    },
    {
      "cell_type": "code",
      "execution_count": null,
      "metadata": {
        "id": "b3vgRLnDhWTb",
        "outputId": "8e9ffb1b-2fdb-48e4-ef19-51b5e9685757"
      },
      "outputs": [
        {
          "name": "stdout",
          "output_type": "stream",
          "text": [
            "0.45816469538634885\n",
            "0.1238539048720454\n",
            "0.8452780478232685\n",
            "0.8249535493615134\n",
            "0.9090338598886296\n",
            "0.09811688418783937\n"
          ]
        }
      ],
      "source": [
        "a=np.random.random(6)\n",
        "imprimir(a)"
      ]
    },
    {
      "cell_type": "markdown",
      "metadata": {
        "id": "siFQwAnKhWTb"
      },
      "source": [
        "Este proceso es reversible: cuando una función recursiva lo último que hace es llamarse a sí misma, lo que se llama \"recursividad a la cola\" (\"*tail recursion*\"), eso se puede reemplazar por un `while`:"
      ]
    },
    {
      "cell_type": "code",
      "execution_count": null,
      "metadata": {
        "id": "GBshH2vehWTb"
      },
      "outputs": [],
      "source": [
        "def imprimir(a):\n",
        "    imprimir_recursivo(a,0)\n",
        "    \n",
        "def imprimir_recursivo(a,k): # imprimir desde a[k] en adelante, ahora NO recursivo\n",
        "    while k<len(a): # reemplazó a \"if k<len(a):\"\n",
        "        print(a[k])\n",
        "        k+=1 # reemplazó a \"imprimir_recursivo(a,k+1)\""
      ]
    },
    {
      "cell_type": "code",
      "execution_count": null,
      "metadata": {
        "id": "p3NINebThWTb",
        "outputId": "32c83b83-d3f7-48eb-d7c7-7c82a7e2aed3"
      },
      "outputs": [
        {
          "name": "stdout",
          "output_type": "stream",
          "text": [
            "0.8070534435454794\n",
            "0.5755788541681871\n",
            "0.030521084623730044\n",
            "0.08963944581140049\n",
            "0.3373915600706874\n",
            "0.3774477796256137\n"
          ]
        }
      ],
      "source": [
        "a=np.random.random(6)\n",
        "imprimir(a)"
      ]
    },
    {
      "cell_type": "markdown",
      "metadata": {
        "id": "GXthfVGshWTc"
      },
      "source": [
        "Pero ahora la función `imprimir_recursivo` es llamada desde un único lugar, con k=0, y por lo tanto, en ese lugar podemos sustituir la llamada por el código de la función, con lo que el resultado es:"
      ]
    },
    {
      "cell_type": "code",
      "execution_count": null,
      "metadata": {
        "id": "wVeOn3XrhWTc"
      },
      "outputs": [],
      "source": [
        "def imprimir(a):\n",
        "    # Esto reemplaza a \"imprimir_recursivo(a,0)\"\n",
        "    k=0\n",
        "    while k<len(a): # reemplazó a \"if k<len(a):\"\n",
        "        print(a[k])\n",
        "        k+=1 # reemplazó a \"imprimir_recursivo(a,k+1)\"\""
      ]
    },
    {
      "cell_type": "code",
      "execution_count": null,
      "metadata": {
        "id": "qKZyG-oghWTc",
        "outputId": "ab24d4b4-0325-4b85-cad1-ede4cfe22dfb"
      },
      "outputs": [
        {
          "name": "stdout",
          "output_type": "stream",
          "text": [
            "0.5828598441122989\n",
            "0.5271351769877851\n",
            "0.9123074412733657\n",
            "0.6678789866751913\n",
            "0.6832783074153522\n",
            "0.5897843645769776\n"
          ]
        }
      ],
      "source": [
        "a=np.random.random(6)\n",
        "imprimir(a)"
      ]
    },
    {
      "cell_type": "markdown",
      "metadata": {
        "id": "F10pPpZThWTd"
      },
      "source": [
        "¡Con lo cual hemos vuelto al punto de partida!\n",
        "\n",
        "Sin embargo, esto solo funciona para eliminar la \"recursividad a la cola\". Si hay llamadas recursivas que **no** son lo último que ejecuta la función, no pueden eliminarse con esta receta, y como veremos más adelante, requerirá el uso de una estructura llamada una \"pila\" (*stack*).\n",
        "\n",
        "El siguiente ejemplo ilustra un caso en que esto ocurre."
      ]
    },
    {
      "cell_type": "markdown",
      "metadata": {
        "id": "8w8zTy0yhWTd"
      },
      "source": [
        "## Ejemplo: Torres de Hanoi\n",
        "\n",
        "![Torres de Hanoi](https://github.com/ivansipiran/AED-Apuntes/blob/main/recursos/ColorHanoi.jpg?raw=1)\n",
        "\n",
        "Este puzzle consiste en trasladar $n$ discos desde la estaca 1 a la estaca 3, respetando siempre las dos reglas siguientes:\n",
        "* Solo se puede mover de a un disco a la vez, y\n",
        "* Nunca puede haber un disco más grande sobre uno más chico\n",
        "Esto se puede resolver recursivamente de la siguiente manera:\n",
        "\n",
        "![Torres de Hanoi](https://github.com/ivansipiran/AED-Apuntes/blob/main/recursos/hanoi.gif?raw=1)\n",
        "\n",
        "Para mover $n$ discos desde $a$ hasta $c$ (usando la estaca $b$ como auxiliar):\n",
        "* Primero movemos (recursivamente) $n-1$ discos desde la estaca $a$ a la estaca $b$\n",
        "* Una vez despejado el camino, movemos 1 disco desde $a$ hasta $c$\n",
        "* Finalmente, movemos de nuevo (recursivamente) los $n-1$ discos, ahora desde $b$ hasta $c$ (usando $a$ como auxiliar)\n",
        "\n",
        "El caso base es $n=0$, en cuyo caso no se hace nada."
      ]
    },
    {
      "cell_type": "code",
      "execution_count": null,
      "metadata": {
        "id": "acDOsII_hWTg"
      },
      "outputs": [],
      "source": [
        "def Hanoi(n, a, b, c): # Mover n discos desde \"a\" a \"c\", usando \"b\" como auxiliar\n",
        "    if n>0:\n",
        "        Hanoi(n-1, a, c, b)\n",
        "        print(a, \"-->\", c) # Mueve 1 disco desde \"a\" hasta \"c\"\n",
        "        Hanoi(n-1, b, a, c)"
      ]
    },
    {
      "cell_type": "code",
      "execution_count": null,
      "metadata": {
        "id": "ARY6rNFohWTh",
        "outputId": "d1de75b8-e02d-4a34-ce3f-63cce272076c"
      },
      "outputs": [
        {
          "name": "stdout",
          "output_type": "stream",
          "text": [
            "1 --> 3\n",
            "1 --> 2\n",
            "3 --> 2\n",
            "1 --> 3\n",
            "2 --> 1\n",
            "2 --> 3\n",
            "1 --> 3\n"
          ]
        }
      ],
      "source": [
        "Hanoi(3, 1, 2, 3)"
      ]
    },
    {
      "cell_type": "markdown",
      "metadata": {
        "id": "_ZiTB0VohWTi"
      },
      "source": [
        "Este algoritmo es muy claro y bastante intuitivo. Si aplicamos la regla de eliminación de \"recursividad a la cola\", lo que resulta es un algoritmo equivalente, pero mucho menos trivial de entender:"
      ]
    },
    {
      "cell_type": "code",
      "execution_count": null,
      "metadata": {
        "id": "_0IJNHOvhWTi"
      },
      "outputs": [],
      "source": [
        "def Hanoi(n, a, b, c): # Mover n discos desde \"a\" a \"c\", usando \"b\" como auxiliar\n",
        "    while n>0: # reemplaza a \"if n>0:\"\n",
        "        Hanoi(n-1, a, c, b)\n",
        "        print(a, \"-->\", c) # Mueve 1 disco desde \"a\" hasta \"c\"\n",
        "        n-=1\n",
        "        (a,b)=(b,a) # reemplaza a \"Hanoi(n-1, b, a, c)\""
      ]
    },
    {
      "cell_type": "code",
      "execution_count": null,
      "metadata": {
        "id": "TX-3Lwg8hWTj",
        "outputId": "0915db9b-8fae-4e31-8a5f-4f3af5c79f02"
      },
      "outputs": [
        {
          "name": "stdout",
          "output_type": "stream",
          "text": [
            "1 --> 3\n",
            "1 --> 2\n",
            "3 --> 2\n",
            "1 --> 3\n",
            "2 --> 1\n",
            "2 --> 3\n",
            "1 --> 3\n"
          ]
        }
      ],
      "source": [
        "Hanoi(3, 1, 2, 3)"
      ]
    },
    {
      "cell_type": "markdown",
      "metadata": {
        "id": "mzn47X2jhWTj"
      },
      "source": [
        "¿Puede usted dar una explicación intuitiva de por qué funciona este algoritmo?"
      ]
    },
    {
      "cell_type": "markdown",
      "metadata": {
        "id": "hNUOjroPhWTk"
      },
      "source": [
        "## Diagramas de Estados\n",
        "\n",
        "Consideremos una instrucción iterativa con un invariante \"I\", que se inicializa con instrucciones \"B\", con condición de continuación \"C\", con un cuerpo del ciclo consistente de instrucciones \"A\" y con el objetivo de lograr que se cumpla una afirmación lógica \"F\". Esto tendría la estructura siguiente:\n",
        "```python\n",
        "B\n",
        "while C: # invariante I\n",
        "    A\n",
        "    \n",
        "# al terminar se debería cumplir F\n",
        "``` \n",
        "\n",
        "Anotando con un poco más de precisión, podemos identificar lo que se cumple en cada punto:\n",
        "```python\n",
        "B\n",
        "# aquí se cumple el invariante \"I\" por primera vez\n",
        "while C:\n",
        "    # aquí se cumple \"I and C\"\n",
        "    A\n",
        "    # acá se debe cumplir nuevamente \"I\"\n",
        "    \n",
        "# al terminar el ciclo se cumple \"I and not C\"\n",
        "# y eso debe implicar que se cumple F\n",
        "```\n",
        "\n",
        "Esto se puede visualizar de manera más sencilla en un **diagrama de estados** como el siguiente:\n",
        "\n",
        "![Diagrama de Estados 1](https://github.com/ivansipiran/AED-Apuntes/blob/main/recursos/state-diagram-1.png?raw=1)\n",
        "\n",
        "En este diagrama:\n",
        "* Los estados (círculos) representan el estado del proceso en ese momento, descrito por la afirmación lógica correspondiente. En un ciclo, esa afirmación lógica es lo que hemos llamado invariante.\n",
        "* Un doble círculo representa a un estado final.\n",
        "* Las flechas pueden llevar como rótulo un \"if\" con una condición, que debe cumplirse para que se siga esa flecha, y también pueden estar rotuladas con una instrucción (o un bloque de instrucciones), que se ejecuta al hacer esa transición."
      ]
    },
    {
      "cell_type": "markdown",
      "metadata": {
        "id": "56G7CWsphWTk"
      },
      "source": [
        "Una ventaja de modelar un algoritmo en base a un diagrama de estados es que no estamos restringidos solo a los diagramas simples que corresponden a ciclos `while`, sino que podemos construir diagramas mucho más complejos, con múltiples estados y transiciones.\n",
        "\n",
        "Piensen por ejemplo en cómo modelar el funcionamiento de un **cajero automático**:\n",
        "\n",
        "* El cajero está originalmente en un estado inicial, que es además el estado al cual regresa cada vez que concluye la atención de un cliente.\n",
        "* Cuando llega un cliente e inserta su tarjeta, el cajero debe verificar que la tarjeta es legible y si no es, debe devolverla con un mensaje de error y volver al estado inicial.\n",
        "* Si la tarjeta es legible, debe pedir que ingrese el PIN y pasar a otro estado en que espera que el cliente ingrese dicha clave.\n",
        "* Si la clave es incorrecta, debe pedir que la ingrese de nuevo y seguir en ese estado. Pero eso tiene un límite, porque si el usuario comete muchos errores, el cajero debe dar un mensaje de error, retener la tarjeta y volver al estado inicial.\n",
        "* Si la clave es correcta, debe mostrar un menú de posibles operaciones y esperar que el cliente seleccione una.\n",
        "* Si el cliente selecciona \"Retirar dinero\", debe pasar a otro estado en que le pregunta el monto que quiere sacar.\n",
        "* Etc., etc., etc.,\n",
        "\n",
        "En realidad, el diagrama de estados de un cajero automático es enorme, porque en cada estado hay múltiples opciones que conducen a realizar acciones y trasladarse a otros estados. Además, hay \"timeouts\" que interrumpen el proceso si una operación se demora demasiado. El diagrama de estados es la herramienta que permite modelar este tipo de procesos complejos.\n",
        "\n"
      ]
    },
    {
      "cell_type": "markdown",
      "metadata": {
        "id": "is--1KYJhWTk"
      },
      "source": [
        "## Ejemplo: Contar palabras\n",
        "\n",
        "Supongamos que tenemos un string que contiene una frase y queremos contar cuántas palabras contiene. Para simplificar, supondremos que una palabra es cualquier secuencia de caracteres distintos de un espacio en blanco. Por ejemplo, el string\n",
        "```python\n",
        "\"    Algoritmos y    Estructuras  de   Datos   \"\n",
        "```\n",
        "contiene 5 palabras.\n",
        "\n",
        "Para resolver este problema, iremos examinando uno a uno los caracteres del string, y para cada uno deberemos decidir si ese caracter es el comienzo de una nueva palabra o no. Esto depende de si estábamos FUERA de una palabra (en cuyo caso sí es el inicio y hay que incrementar el contador de palabars) o si estábamos DENTRO de una palabra (en cuyo caso no se incrementa).\n",
        "\n",
        "Esto sugiere tener un diagrama de estados con dos estados (FUERA y DENTRO), más un tercer estado final FIN, al que se llega cuando se agota el string.\n",
        "\n",
        "El siguiente diagrama modela este proceso, donde el caracter que se está examinando en cada momento es $s[k]$. Para simplificar, suponemos que las transiciones hacia FIN tienen prioridad. Además, como en cada transición se examina un nuevo caracter, dejaremos implícita la inicialización $k=0$ y el incremento $k+=1$ que hay después de cada transición.\n",
        "\n",
        "![Diagrama de Estados 2](https://github.com/ivansipiran/AED-Apuntes/blob/main/recursos/state-diagram-2.png?raw=1)\n",
        "\n",
        "Una vez modelado el proceso mediante un diagrama de estados, debemos escribirlo en forma de un programa. Veremos a continuación que **hay más de una manera de hacerlo**:"
      ]
    },
    {
      "cell_type": "code",
      "execution_count": null,
      "metadata": {
        "id": "eiZSetU2hWTl"
      },
      "outputs": [],
      "source": [
        "# Contar palabras, versión 1 con variables de estado\n",
        "def contar_palabras(s):\n",
        "    np=0\n",
        "    estado=\"FUERA\"\n",
        "    for k in range(0,len(s)):\n",
        "        if estado==\"FUERA\":\n",
        "            if s[k]!=' ':\n",
        "                np+=1\n",
        "                estado=\"DENTRO\"\n",
        "        else: # estado==\"DENTRO\"\n",
        "            if s[k]==' ':\n",
        "                estado=\"FUERA\"\n",
        "    return np"
      ]
    },
    {
      "cell_type": "code",
      "execution_count": null,
      "metadata": {
        "id": "aOc9qReehWTl",
        "outputId": "637858d1-f6de-45ce-d0a4-2477bec3475a"
      },
      "outputs": [
        {
          "name": "stdout",
          "output_type": "stream",
          "text": [
            "Escriba frase: hola como estas\n",
            "Hay 3 palabras\n"
          ]
        }
      ],
      "source": [
        "s=input(\"Escriba frase: \")\n",
        "print(\"Hay\", contar_palabras(s), \"palabras\")"
      ]
    },
    {
      "cell_type": "code",
      "execution_count": null,
      "metadata": {
        "id": "JytnkLbehWTl"
      },
      "outputs": [],
      "source": [
        "# Contar palabras, versión 2 con variables de estado\n",
        "def contar_palabras(s):\n",
        "    np=0\n",
        "    estado=\"FUERA\"\n",
        "    for k in range(0,len(s)):\n",
        "        if s[k]==' ':\n",
        "            estado=\"FUERA\"\n",
        "        else: # s[k]!=' '\n",
        "            if estado==\"FUERA\":\n",
        "                np+=1\n",
        "            estado=\"DENTRO\"\n",
        "    return np"
      ]
    },
    {
      "cell_type": "code",
      "execution_count": null,
      "metadata": {
        "id": "UisKfEPShWTm",
        "outputId": "ddf2eacd-2989-42e1-fb48-4887af7106b0"
      },
      "outputs": [
        {
          "name": "stdout",
          "output_type": "stream",
          "text": [
            "Escriba frase: hola que tal como\n",
            "Hay 4 palabras\n"
          ]
        }
      ],
      "source": [
        "s=input(\"Escriba frase: \")\n",
        "print(\"Hay\", contar_palabras(s), \"palabras\")"
      ]
    },
    {
      "cell_type": "code",
      "execution_count": null,
      "metadata": {
        "id": "5x3BZx-YhWTm"
      },
      "outputs": [],
      "source": [
        "# Contar palabras, versión sin variables de estado\n",
        "def contar_palabras(s):\n",
        "    np=0\n",
        "    k=0\n",
        "    while k<len(s):\n",
        "        # Estamos en el estado FUERA\n",
        "        if s[k]!=' ':\n",
        "            np+=1\n",
        "            k+=1\n",
        "            # Ahora estamos en el estado DENTRO\n",
        "            while k<len(s) and s[k]!=' ':\n",
        "                k+=1\n",
        "            if k==len(s):\n",
        "                break\n",
        "            # Por descarte, s[k]==' '\n",
        "        k+=1\n",
        "    return np"
      ]
    },
    {
      "cell_type": "code",
      "execution_count": null,
      "metadata": {
        "id": "zyMDyE-ehWTm",
        "outputId": "d5ab8e68-1fef-4eab-9d96-08f034abaa81"
      },
      "outputs": [
        {
          "name": "stdout",
          "output_type": "stream",
          "text": [
            "Escriba frase: hola como estas\n",
            "Hay 3 palabras\n"
          ]
        }
      ],
      "source": [
        "s=input(\"Escriba frase: \")\n",
        "print(\"Hay\", contar_palabras(s), \"palabras\")"
      ]
    },
    {
      "cell_type": "markdown",
      "metadata": {
        "id": "NsUauBqrhWTn"
      },
      "source": [
        "---"
      ]
    }
  ],
  "metadata": {
    "kernelspec": {
      "display_name": "Python 3",
      "language": "python",
      "name": "python3"
    },
    "language_info": {
      "codemirror_mode": {
        "name": "ipython",
        "version": 3
      },
      "file_extension": ".py",
      "mimetype": "text/x-python",
      "name": "python",
      "nbconvert_exporter": "python",
      "pygments_lexer": "ipython3",
      "version": "3.6.9"
    },
    "colab": {
      "name": "01_Introduccion.ipynb",
      "provenance": [],
      "collapsed_sections": [
        "Q_DdLTF9hWSy",
        "oQTlrSdNhWS3",
        "L5Cvw5x9hWTB",
        "JmjEJKm0hWTC",
        "jRC1N3bXhWTI",
        "r3uxQAkVhWTM",
        "HwIGNZ5QhWTW",
        "cEJL9iFShWTW",
        "7P7OFn5uhWTZ",
        "8w8zTy0yhWTd",
        "hNUOjroPhWTk",
        "is--1KYJhWTk"
      ]
    }
  },
  "nbformat": 4,
  "nbformat_minor": 0
}