{
  "cells": [
    {
      "cell_type": "markdown",
      "metadata": {
        "id": "m6RzOWUrhWQt"
      },
      "source": [
        "# 0 Introducción\n",
        "El objetivo de este capítulo es resumir conceptos ya vistos y otros muy importantes en lo que a programación se refiere, que luego utilizaremos a lo largo de todo el curso. "
      ]
    },
    {
      "cell_type": "markdown",
      "metadata": {
        "id": "jxrMk-8UhWQ1"
      },
      "source": [
        "## Datos lógicos\n",
        "Los valores de verdad son `True` y `False`. Las operaciones lógicas se indican con palabras en lugar de símbolos."
      ]
    },
    {
      "cell_type": "code",
      "execution_count": null,
      "metadata": {
        "id": "Tas6TYrchWQ2",
        "outputId": "71cf3436-d56b-445f-c84a-a8fec1762eba"
      },
      "outputs": [
        {
          "name": "stdout",
          "output_type": "stream",
          "text": [
            "False\n",
            "True\n",
            "True\n"
          ]
        }
      ],
      "source": [
        "t=True\n",
        "f=False\n",
        "print(t and f)\n",
        "print(t and not f)\n",
        "print(n>0)"
      ]
    },
    {
      "cell_type": "markdown",
      "metadata": {
        "id": "7MyFdRmVhWQ4"
      },
      "source": [
        "## Strings\n",
        "Los strings se escriben entre comillas simples o dobles, y existen muchas operaciones definidas para ellos."
      ]
    },
    {
      "cell_type": "code",
      "execution_count": null,
      "metadata": {
        "id": "6kugMgQ3hWQ6",
        "outputId": "8cba4964-614a-4132-9063-b1698629fc9a"
      },
      "outputs": [
        {
          "name": "stdout",
          "output_type": "stream",
          "text": [
            "Hola\n",
            "4\n",
            "Hola mundo\n",
            "HOLA\n"
          ]
        }
      ],
      "source": [
        "h=\"Hola\"\n",
        "print(h)\n",
        "print(len(h))\n",
        "m='mundo'\n",
        "print(h + \" \" + m)\n",
        "print(h.upper())"
      ]
    },
    {
      "cell_type": "markdown",
      "metadata": {
        "id": "qjnlEzABhWQ7"
      },
      "source": [
        "## Listas\n",
        "Una lista es una secuencia de datos, posiblemente de distintos tipos, de largo variable."
      ]
    },
    {
      "cell_type": "code",
      "execution_count": null,
      "metadata": {
        "id": "1y8rjMNzhWQ8",
        "outputId": "555b70fe-6b6e-46f7-bf3a-51328e8bdc2d"
      },
      "outputs": [
        {
          "name": "stdout",
          "output_type": "stream",
          "text": [
            "[3, 2, 1]\n",
            "[3, 2, 1, 0]\n",
            "[3, 2, 1]\n",
            "0\n"
          ]
        }
      ],
      "source": [
        "L=[3,2,1]\n",
        "print(L)\n",
        "L.append(0)\n",
        "print(L)\n",
        "x=L.pop()\n",
        "print(L)\n",
        "print(x)"
      ]
    },
    {
      "cell_type": "markdown",
      "metadata": {
        "id": "lAmE8hemhWQ8"
      },
      "source": [
        "Los elementos de la lista se indexan partiendo desde cero."
      ]
    },
    {
      "cell_type": "code",
      "execution_count": null,
      "metadata": {
        "id": "Ovr7Bm5mhWQ9",
        "outputId": "714fb05c-ff53-4bab-9164-9d22e50283d4"
      },
      "outputs": [
        {
          "name": "stdout",
          "output_type": "stream",
          "text": [
            "3\n",
            "1\n",
            "1\n"
          ]
        }
      ],
      "source": [
        "print(L[0])\n",
        "print(L[2])\n",
        "print(L[-1]) # contando desde el extremo derecho"
      ]
    },
    {
      "cell_type": "markdown",
      "metadata": {
        "id": "k8TWyvn2hWQ-"
      },
      "source": [
        "Una lista se puede construir en base a iterar una fórmula:"
      ]
    },
    {
      "cell_type": "code",
      "execution_count": null,
      "metadata": {
        "id": "e1Ku6jplhWQ-",
        "outputId": "71f675ec-660e-4afb-9c83-942bc50e0f0f"
      },
      "outputs": [
        {
          "name": "stdout",
          "output_type": "stream",
          "text": [
            "[1, 4, 9, 16, 25, 36]\n"
          ]
        }
      ],
      "source": [
        "C = [n**2 for n in range(1,7)]\n",
        "print(C)"
      ]
    },
    {
      "cell_type": "markdown",
      "metadata": {
        "id": "ibnGsO9shWRA"
      },
      "source": [
        "Una lista se puede recorrer a través de sus subíndices:"
      ]
    },
    {
      "cell_type": "code",
      "execution_count": null,
      "metadata": {
        "id": "P5PTbx17hWRA",
        "outputId": "1b64adfc-e095-4dbb-e1c1-0c8885fef617"
      },
      "outputs": [
        {
          "name": "stdout",
          "output_type": "stream",
          "text": [
            "1\n",
            "4\n",
            "9\n",
            "16\n",
            "25\n",
            "36\n"
          ]
        }
      ],
      "source": [
        "for i in range(0,len(C)):\n",
        "    print(C[i])"
      ]
    },
    {
      "cell_type": "markdown",
      "metadata": {
        "id": "Xsp7AR0JhWRB"
      },
      "source": [
        "O bien iterando sobre los elementos de la lista:"
      ]
    },
    {
      "cell_type": "code",
      "execution_count": null,
      "metadata": {
        "id": "cB_ZV-mfhWRC",
        "outputId": "1cab7f80-12fc-4e05-bba7-ac351f4b7d76"
      },
      "outputs": [
        {
          "name": "stdout",
          "output_type": "stream",
          "text": [
            "1\n",
            "4\n",
            "9\n",
            "16\n",
            "25\n",
            "36\n"
          ]
        }
      ],
      "source": [
        "for v in C:\n",
        "    print(v)"
      ]
    },
    {
      "cell_type": "markdown",
      "metadata": {
        "id": "u2QKooBPhWRD"
      },
      "source": [
        "## Funciones predefinidas\n",
        "Hay funciones que están disponibles para ser utilizadas:"
      ]
    },
    {
      "cell_type": "code",
      "execution_count": null,
      "metadata": {
        "id": "frZHk7vShWRD",
        "outputId": "dce03587-5c76-4e7c-ecf9-374f57cac610"
      },
      "outputs": [
        {
          "name": "stdout",
          "output_type": "stream",
          "text": [
            "5.0\n"
          ]
        }
      ],
      "source": [
        "import math\n",
        "a=3\n",
        "b=4\n",
        "c=math.sqrt(a**2+b**2)\n",
        "print(c)"
      ]
    },
    {
      "cell_type": "markdown",
      "metadata": {
        "id": "yqh0fzkQhWRE"
      },
      "source": [
        "## Funciones\n",
        "Uno puede definir sus propias funciones:"
      ]
    },
    {
      "cell_type": "code",
      "execution_count": null,
      "metadata": {
        "id": "s47Vf_iLhWRF",
        "outputId": "2323e531-7bb1-465a-f6b6-a778776599cf"
      },
      "outputs": [
        {
          "name": "stdout",
          "output_type": "stream",
          "text": [
            "5.0\n"
          ]
        }
      ],
      "source": [
        "def hipotenusa(a,b):\n",
        "    import math\n",
        "    c=math.sqrt(a**2+b**2)\n",
        "    return c\n",
        "print(hipotenusa(3,4))"
      ]
    },
    {
      "cell_type": "markdown",
      "metadata": {
        "id": "HvI_scJ6hWSS"
      },
      "source": [
        "## Instrucción condicional: if\n",
        "La instrucción `if` permite elegir entre distintas alternativas de instrucciones a ejecutar."
      ]
    },
    {
      "cell_type": "code",
      "execution_count": null,
      "metadata": {
        "id": "qNTQDsp_hWSS",
        "outputId": "0a381eb1-4499-4f95-bea2-cb5000c44776"
      },
      "outputs": [
        {
          "name": "stdout",
          "output_type": "stream",
          "text": [
            "7\n"
          ]
        }
      ],
      "source": [
        "# Encontrar el máximo entre dos valores\n",
        "def max2(a, b):\n",
        "    if a>b:\n",
        "        m=a\n",
        "    else:\n",
        "        m=b\n",
        "    return m\n",
        "print(max2(3,7))"
      ]
    },
    {
      "cell_type": "markdown",
      "metadata": {
        "id": "3nGKR8HuhWST"
      },
      "source": [
        "Esto se puede generalizar a 3 valores, pero el resultado no es muy elegante:"
      ]
    },
    {
      "cell_type": "code",
      "execution_count": null,
      "metadata": {
        "id": "XWUun1kphWST",
        "outputId": "73cb6a7d-b418-4473-e394-aea4c724b52d"
      },
      "outputs": [
        {
          "name": "stdout",
          "output_type": "stream",
          "text": [
            "7\n"
          ]
        }
      ],
      "source": [
        "# Encontrar el máximo entre tres valores\n",
        "def max3(a, b, c):\n",
        "    if a>b:\n",
        "        if a>c:\n",
        "            m=a\n",
        "        else:\n",
        "            m=c\n",
        "    else:\n",
        "        if b>c:\n",
        "            m=b\n",
        "        else:\n",
        "            m=c\n",
        "    return m\n",
        "print(max3(4,3,7))"
      ]
    },
    {
      "cell_type": "markdown",
      "metadata": {
        "id": "3pJAa79lhWSU"
      },
      "source": [
        "Una mejor alternativa la podemos obtener si vamos obteniendo aproximaciones sucesivas al máximo:"
      ]
    },
    {
      "cell_type": "code",
      "execution_count": null,
      "metadata": {
        "id": "g3Fa5pWthWSU",
        "outputId": "350c4991-748a-4e6d-9240-fe156eb824f7"
      },
      "outputs": [
        {
          "name": "stdout",
          "output_type": "stream",
          "text": [
            "7\n"
          ]
        }
      ],
      "source": [
        "# Encontrar el máximo entre dos valores\n",
        "def max2(a, b):\n",
        "    m=a\n",
        "    if b>m:\n",
        "        m=b\n",
        "    return m\n",
        "print(max2(3,7))"
      ]
    },
    {
      "cell_type": "markdown",
      "metadata": {
        "id": "blZIuprwhWSV"
      },
      "source": [
        "Esto se generaliza de manera mucho más simple a tres (o más) valores:"
      ]
    },
    {
      "cell_type": "code",
      "execution_count": null,
      "metadata": {
        "id": "Q0fJrnM3hWSV",
        "outputId": "8aa8d3a3-2002-4355-94d6-2c5447faa741"
      },
      "outputs": [
        {
          "name": "stdout",
          "output_type": "stream",
          "text": [
            "7\n"
          ]
        }
      ],
      "source": [
        "# Encontrar el máximo entre tres valores\n",
        "def max3(a, b, c):\n",
        "    m=a\n",
        "    if b>m:\n",
        "        m=b\n",
        "    if c>m:\n",
        "        m=c\n",
        "    return m\n",
        "print(max3(4,3,7))"
      ]
    },
    {
      "cell_type": "markdown",
      "metadata": {
        "id": "7kgd95SihWSW"
      },
      "source": [
        "Cuando hay preguntas encadenadas, se puede usar la cláusula `elif` (abreviatura de `else if`, pero que no abre un nuevo nivel de indentación):"
      ]
    },
    {
      "cell_type": "code",
      "execution_count": null,
      "metadata": {
        "id": "bqka-YWThWSW",
        "outputId": "998d1ff8-16e0-44f1-a0b1-3ae4180aa82d"
      },
      "outputs": [
        {
          "name": "stdout",
          "output_type": "stream",
          "text": [
            "False True True\n"
          ]
        }
      ],
      "source": [
        "# Dice si un año dado es bisiesto\n",
        "def es_bisiesto(a):\n",
        "    if a%400==0:   # Los múltiplos de 400 siempre son bisiestos\n",
        "        b=True\n",
        "    elif a%100==0: # Los demás múltiplos de 100 no son bisiestos\n",
        "        b=False\n",
        "    elif a%4==0:   # De los restantes, los múltiplos de 4 son bisiestos\n",
        "        b=True\n",
        "    else:          # Cualquier otro año no es bisiesto\n",
        "        b=False\n",
        "    return b\n",
        "print(es_bisiesto(1900), es_bisiesto(2000), es_bisiesto(2020))"
      ]
    },
    {
      "cell_type": "markdown",
      "metadata": {
        "id": "g0Rmm5t2hWSZ"
      },
      "source": [
        "## Instrucciones iterativas: for\n",
        "La instrucción `for` itera con una variable que toma valores de una lista dada. A menudo, esa lista se especifica mediante `range`.\n",
        "Ilustraremos su uso generalizando los algoritmos que vimos antes para encontrar el máximo de un conjunto de dos o tres números, al caso de un conjunto con un número cualquiera de elementos:"
      ]
    },
    {
      "cell_type": "code",
      "execution_count": null,
      "metadata": {
        "id": "ILhzjgZZhWSZ",
        "outputId": "b1025967-f7af-4ffd-db2e-2cdd70a04c6d"
      },
      "outputs": [
        {
          "name": "stdout",
          "output_type": "stream",
          "text": [
            "93\n"
          ]
        }
      ],
      "source": [
        "# Encuentra el máximo de una lista a\n",
        "def maximo(a):\n",
        "    m=a[0]\n",
        "    # Al comenzar cada iteración, se cumple que m==max(a[0],...,a[k-1])\n",
        "    for k in range(1,len(a)):\n",
        "        if a[k]>m:\n",
        "            m=a[k]\n",
        "    return m\n",
        "print(maximo([25, 42, 93, 17, 54, 28]))"
      ]
    },
    {
      "cell_type": "markdown",
      "metadata": {
        "id": "51VAnQrnhWSa"
      },
      "source": [
        "El comentario que aparece junto al `for` describe lo que se llama el **invariante** del ciclo, y es muy útil para poder argumentar la correctitud del programa, así como para poder ayudar a su diseño.\n",
        "\n",
        "El invariante una afirmación lógica que debe ser verdadera cada vez que se intenta iniciar una nueva iteración, lo cual incluye tanto la primera vez como el último intento, en que se detecta que el rango ya se ha agotado y el ciclo termina.\n",
        "\n",
        "* La validez del invariante la primera vez la deben asegurar las instrucciones previas al ciclo, que se llaman instrucciones de *inicialización*. En este ejemplo, al comenzar el ciclo se tiene que $k=1$, y por lo tanto trivialmente se cumple que $m=\\max(a[0])$.\n",
        "\n",
        "* Las instrucciones al interior del ciclo (el \"cuerpo de ciclo\") parten de la premisa de que el invariante se cumple al inicio, y deben garantizar que se cumpla al final (para dejar todo listo para la próxima iteración). Esto se llama _preservar el invariante_. En este ejemplo, para asegurar que $m=\\max(a[0],\\ldots,a[k])$ sabiendo que ya era cierto que $m=\\max(a[0],\\ldots,a[k-1])$, se debe modificar $m$ solo en el caso de que $a[k]$ sea mayor que $m$, o dejarlo igual si no.\n",
        "\n",
        "* Cuando se detecta que el rango se ha agotado, el invariante igualmente se cumple, y ambas cosas juntas deben asegurar que haya logrado el objetivo final deseado. En este ejemplo, cuando $k$ llega a ser igual a $len(a)$, el invariante implica que $m=\\max(a[0],\\ldots,a[len(a)-1])$, o sea, es el máximo de toda la lista."
      ]
    },
    {
      "cell_type": "markdown",
      "metadata": {
        "id": "PhsWoZNahWSc"
      },
      "source": [
        "---"
      ]
    },
    {
      "cell_type": "markdown",
      "metadata": {
        "id": "Ce55f4TvhWSd"
      },
      "source": [
        "## Instrucciones iterativas: while\n",
        "La instrucción `while` ejecuta instrucciones mientra la condición especificada sea verdadera:"
      ]
    },
    {
      "cell_type": "code",
      "execution_count": null,
      "metadata": {
        "id": "anEvLRn6hWSd",
        "outputId": "6ac944ab-db04-4d95-8268-4667d38c55ae"
      },
      "outputs": [
        {
          "name": "stdout",
          "output_type": "stream",
          "text": [
            "True True False False True\n"
          ]
        }
      ],
      "source": [
        "# Dice si un número dado es primo o no\n",
        "def es_primo(n):\n",
        "    if n==2:\n",
        "        return True # 2 es primo\n",
        "    if n%2==0:\n",
        "        return False # ningún otro par es primo\n",
        "    k=3\n",
        "    while k**2<=n: # no es necesario buscar posibles factores más allá de sqrt(n)\n",
        "        if n%k==0:\n",
        "            return False # n es divisible por k => no es primo\n",
        "        k+=2 # probamos solo los impares\n",
        "    # si no se encontró ningún factor menor que raíz de n, es primo\n",
        "    return True\n",
        "print(es_primo(2), es_primo(7), es_primo(9), es_primo(79823492843), es_primo(79823492869))"
      ]
    },
    {
      "cell_type": "markdown",
      "metadata": {
        "id": "OmB2xjSyhWSe"
      },
      "source": [
        "## Ejemplo de programación con invariantes: particionar un conjunto\n",
        "\n",
        "Supongamos que se tiene un conjunto de datos en una lista $a[0],\\ldots,a[n-1]$ y un valor de corte $p$, y se desea reordenar los datos dentro de la lista, de modo que queden a la izquierda todos los que son menores que $p$, y a la derecha los que son mayores. Por simplicidad, supondremos que en la lista no hay ningún valor igual a $p$. Este es un problema cuya utilidad veremos más adelante, cuando estudiemos el algoritmo de ordenación Quicksort.\n",
        "\n",
        "La solución clásica para este problema es la de **Hoare**, el autor de Quicksort, y se basa en ir identificando elementos menores o mayores que $p$, y moviéndolos hacia el extremo izquierdo o derecho de la lista, según corresponda. Esto corresponde al siguiente invariante:\n",
        "\n",
        "![particio-Hoare](https://github.com/ivansipiran/AED-Apuntes/blob/main/recursos/particion-Hoare.png?raw=1)\n",
        "\n",
        "En este invariante, $i$ y $j$ son los primeros elementos desconocidos (esto es, aún no identificados como menores o mayores), viniendo desde cada extremo."
      ]
    },
    {
      "cell_type": "code",
      "execution_count": null,
      "metadata": {
        "id": "8g7p_tmFhWSf"
      },
      "outputs": [],
      "source": [
        "def particionHoare(a,p):\n",
        "    # retorna el punto de corte, el número de elementos <p y la lista particionada\n",
        "    n=len(a)\n",
        "    (i,j)=(0,n-1) #inicialmente todos los elementos son desconocidos\n",
        "    while i<=j: # aún quedan elementos desconocidos\n",
        "        if a[i]<p:\n",
        "            i+=1\n",
        "        elif a[j]>p:\n",
        "            j-=1\n",
        "        else:\n",
        "            (a[i],a[j])=(a[j],a[i]) # intercambio\n",
        "            i+=1\n",
        "            j-=1\n",
        "    return (p,i,a)   "
      ]
    },
    {
      "cell_type": "markdown",
      "metadata": {
        "id": "tRQ0hxWEhWSf"
      },
      "source": [
        "Para ayudarnos a verificar que la partición se realiza correctamente, definiremos una función auxiliar:"
      ]
    },
    {
      "cell_type": "code",
      "execution_count": null,
      "metadata": {
        "id": "Y5UICG_vhWSg"
      },
      "outputs": [],
      "source": [
        "def verifica_particion(t): # imprime y chequea partición\n",
        "    (p,m,a)=t\n",
        "    # p=punto de corte, m=número de elementos <p, a=lista completa particionada\n",
        "    print(a[0:m],p,a[m:])\n",
        "    print(\"Partición OK\" if (m==0 or max(a[0:m])<p) and (m==len(a) or min(a[m:])>p)\n",
        "          else \"Error\")"
      ]
    },
    {
      "cell_type": "code",
      "execution_count": null,
      "metadata": {
        "id": "2u3kv8xWhWSg",
        "outputId": "56254a2f-ed6e-48a1-f685-37bde55dbac5"
      },
      "outputs": [
        {
          "name": "stdout",
          "output_type": "stream",
          "text": [
            "[36, 21, 34, 15, 37] 50 [56, 77, 65, 82, 98, 73]\n",
            "Partición OK\n"
          ]
        }
      ],
      "source": [
        "verifica_particion(particionHoare([73,21,34,98,56,37,77,65,82,15,36],50))"
      ]
    },
    {
      "cell_type": "code",
      "execution_count": null,
      "metadata": {
        "id": "Mjeye67GhWSg",
        "outputId": "0ea39c1b-f4b8-48aa-b32b-67f5d4fa9eed"
      },
      "outputs": [
        {
          "name": "stdout",
          "output_type": "stream",
          "text": [
            "[] 0 [73, 21, 34, 98, 56, 37, 77, 65, 82, 15, 36]\n",
            "Partición OK\n"
          ]
        }
      ],
      "source": [
        "verifica_particion(particionHoare([73,21,34,98,56,37,77,65,82,15,36],0))"
      ]
    },
    {
      "cell_type": "code",
      "execution_count": null,
      "metadata": {
        "scrolled": true,
        "id": "53v_gAwzhWSh",
        "outputId": "5fdce9de-b3d3-4778-aeee-882c2567628c"
      },
      "outputs": [
        {
          "name": "stdout",
          "output_type": "stream",
          "text": [
            "[73, 21, 34, 98, 56, 37, 77, 65, 82, 15, 36] 100 []\n",
            "Partición OK\n"
          ]
        }
      ],
      "source": [
        "verifica_particion(particionHoare([73,21,34,98,56,37,77,65,82,15,36],100))"
      ]
    },
    {
      "cell_type": "markdown",
      "metadata": {
        "id": "Et87dbWdhWSh"
      },
      "source": [
        "---"
      ]
    },
    {
      "cell_type": "markdown",
      "metadata": {
        "id": "Wgri8DLkhWSi"
      },
      "source": [
        "## Ejemplo de programación con invariantes: Calcular $y = x^n$\n",
        "\n",
        "Supongamos que no tuviéramos una operación de elevación a potencia, y que necesitáramos calcular $x^n$ para $n$ entero no negativo.\n",
        "El algoritmo obvio es calcular $x*x*\\cdots *x$ ($n$ veces):"
      ]
    },
    {
      "cell_type": "code",
      "execution_count": null,
      "metadata": {
        "id": "LaCL-sWkhWSj"
      },
      "outputs": [],
      "source": [
        "def potencia(x, n):\n",
        "    y=1\n",
        "    for k in range(0,n):\n",
        "        y*=x\n",
        "    return y"
      ]
    },
    {
      "cell_type": "code",
      "execution_count": null,
      "metadata": {
        "id": "wwYSvFudhWSk",
        "outputId": "96c2b8e2-f819-4eef-9899-d17ca5a9d165"
      },
      "outputs": [
        {
          "name": "stdout",
          "output_type": "stream",
          "text": [
            "1024\n"
          ]
        }
      ],
      "source": [
        "print(potencia(2,10))"
      ]
    },
    {
      "cell_type": "markdown",
      "metadata": {
        "id": "f-8MdZpuhWSl"
      },
      "source": [
        "El invariante, esto es, lo que se cumple al comenzar cada nueva iteración es $y = x^k$. Así, al inicio, cuando $k=0$, se tiene $y=1$ (inicialización), y al término, cuando $y=n$, se tiene la condición final buscada. La preservación del invariante consiste en multiplicar $y$ por $x$, porque así se sigue cumpliendo el invariante cuando $k$ se incrementa en $1$.\n",
        "\n",
        "Este algoritmo ejecuta $n$ multiplicaciones para calcular $x^n$ y, si tomamos en cuenta todo lo que hace, es evidente que demora un tiempo proporcional a $n$, lo cual escribiremos $O(n)$ y lo leeremos \"del orden de $n$\". (Más adelante definiremos precisamente esta notación, y veremos que podríamos ser más precisos todavía al describir el tiempo que demora un algoritmo)\n",
        "\n",
        "### ¿Será posible calcular una potencia de manera más eficiente?"
      ]
    }
  ],
  "metadata": {
    "kernelspec": {
      "display_name": "Python 3",
      "language": "python",
      "name": "python3"
    },
    "language_info": {
      "codemirror_mode": {
        "name": "ipython",
        "version": 3
      },
      "file_extension": ".py",
      "mimetype": "text/x-python",
      "name": "python",
      "nbconvert_exporter": "python",
      "pygments_lexer": "ipython3",
      "version": "3.6.9"
    },
    "colab": {
      "name": "Copia de 01_Introduccion.ipynb",
      "provenance": []
    }
  },
  "nbformat": 4,
  "nbformat_minor": 0
}