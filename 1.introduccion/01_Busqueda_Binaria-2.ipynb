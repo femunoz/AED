{
  "cells": [
    {
      "cell_type": "markdown",
      "source": [
        "#Búsqueda binaria\n"
      ],
      "metadata": {
        "id": "82suPTQL-UcB"
      }
    },
    {
      "cell_type": "markdown",
      "metadata": {
        "id": "Wgri8DLkhWSi"
      },
      "source": [
        "## Motivación: ejemplo de programación con invariantes: Calcular $y = x^n$\n",
        "\n",
        "Supongamos que no tuviéramos una operación de elevación a potencia, y que necesitáramos calcular $x^n$ para $n$ entero no negativo.\n",
        "El algoritmo obvio es calcular $x*x*\\cdots *x$ ($n$ veces):"
      ]
    },
    {
      "cell_type": "code",
      "execution_count": null,
      "metadata": {
        "id": "LaCL-sWkhWSj"
      },
      "outputs": [],
      "source": [
        "def potencia(x, n):\n",
        "    y=1\n",
        "    for k in range(0,n):\n",
        "        y*=x\n",
        "    return y"
      ]
    },
    {
      "cell_type": "code",
      "execution_count": null,
      "metadata": {
        "id": "wwYSvFudhWSk",
        "outputId": "96c2b8e2-f819-4eef-9899-d17ca5a9d165"
      },
      "outputs": [
        {
          "name": "stdout",
          "output_type": "stream",
          "text": [
            "1024\n"
          ]
        }
      ],
      "source": [
        "print(potencia(2,10))"
      ]
    },
    {
      "cell_type": "markdown",
      "metadata": {
        "id": "f-8MdZpuhWSl"
      },
      "source": [
        "El invariante, esto es, lo que se cumple al comenzar cada nueva iteración es $y = x^k$. Así, al inicio, cuando $k=0$, se tiene $y=1$ (inicialización), y al término, cuando $y=n$, se tiene la condición final buscada. La preservación del invariante consiste en multiplicar $y$ por $x$, porque así se sigue cumpliendo el invariante cuando $k$ se incrementa en $1$.\n",
        "\n",
        "Este algoritmo ejecuta $n$ multiplicaciones para calcular $x^n$ y, si tomamos en cuenta todo lo que hace, es evidente que demora un tiempo proporcional a $n$, lo cual escribiremos $O(n)$ y lo leeremos \"del orden de $n$\". (Más adelante definiremos precisamente esta notación, y veremos que podríamos ser más precisos todavía al describir el tiempo que demora un algoritmo)\n",
        "\n",
        "##¿Será posible calcular una potencia de manera más eficiente?\n",
        "\n",
        "Para ver cómo podríamos mejorar el algoritmo, comenzaremos por reescribirlo de modo que la variable $k$ vaya disminuyendo en lugar de ir aumentando, usando para ello la instrucción `while`:"
      ]
    },
    {
      "cell_type": "code",
      "execution_count": null,
      "metadata": {
        "id": "poVkHdgNhWSm"
      },
      "outputs": [],
      "source": [
        "def potencia(x, n):\n",
        "    y=1\n",
        "    k=n\n",
        "    while k>0:\n",
        "        y*=x\n",
        "        k-=1\n",
        "    return y"
      ]
    },
    {
      "cell_type": "code",
      "execution_count": null,
      "metadata": {
        "id": "_4WXdDH8hWSm",
        "outputId": "ec66e012-712f-4bbf-b0b1-61e5ab26176a"
      },
      "outputs": [
        {
          "name": "stdout",
          "output_type": "stream",
          "text": [
            "1024\n"
          ]
        }
      ],
      "source": [
        "print(potencia(2,10))"
      ]
    },
    {
      "cell_type": "markdown",
      "metadata": {
        "id": "VGvvBQhghWSo"
      },
      "source": [
        "El **invariante** en este caso **sería $y = x^{n-k}$ o**, lo que es lo mismo, $y * x^k = x^n$.\n",
        "\n",
        "El reescribirlo de esta manera nos permite hacer el siguiente truco: vamos a introducir una variable\n",
        "\n",
        "$$z$$\n",
        "\n",
        "cuyo valor inicial es \n",
        "\n",
        "$$x$$\n",
        "\n",
        " y reformular el invariante como $y * z^k = x^n$ y preservarlo aprovechando que $y*z^k = (y*z)*z^{k-1}$:"
      ]
    },
    {
      "cell_type": "code",
      "execution_count": null,
      "metadata": {
        "id": "lhy5dHNshWSo"
      },
      "outputs": [],
      "source": [
        "def potencia(x, n):\n",
        "    y=1\n",
        "    k=n\n",
        "    z=x\n",
        "    while k>0:\n",
        "        y*=z\n",
        "        k-=1\n",
        "    return y"
      ]
    },
    {
      "cell_type": "code",
      "execution_count": null,
      "metadata": {
        "id": "HY93rKS9hWSp",
        "outputId": "553bd788-ebe2-4e7d-81d6-ba6bbe69883a"
      },
      "outputs": [
        {
          "name": "stdout",
          "output_type": "stream",
          "text": [
            "1024\n"
          ]
        }
      ],
      "source": [
        "print(potencia(2,10))"
      ]
    },
    {
      "cell_type": "markdown",
      "metadata": {
        "id": "23jsv9HxhWSp"
      },
      "source": [
        "Este cambio podría parecer ocioso, pero gracias a él ahora tenemos un grado adicional de libertad: en efecto, podemos modificar la variable $z$ en la medida que eso no haga que el invariante deje de cumplirse.\n",
        "\n",
        "En particular, una oportunidad de hacer esto aparece cuando $k$ es par. En ese caso, como $z^n=(z^2)^{n/2}$, si elevamos $z$ al cuadrado y al mismo tiempo dividimos $k$ a la mitad, ambos cambios se complementan para hacer que el invariante se preserve. El algoritmo resultante se llama el ***algoritmo binario***."
      ]
    },
    {
      "cell_type": "code",
      "execution_count": null,
      "metadata": {
        "id": "6wjRCG4ZhWSq"
      },
      "outputs": [],
      "source": [
        "def potencia(x, n):\n",
        "    y=1\n",
        "    k=n\n",
        "    z=x\n",
        "    while k>0:\n",
        "        if k%2==0: # caso k par\n",
        "            z=z*z\n",
        "            k=k/2\n",
        "        else:      # caso k impar\n",
        "            y*=z \n",
        "            k-=1\n",
        "    return y"
      ]
    },
    {
      "cell_type": "code",
      "execution_count": null,
      "metadata": {
        "id": "Q2O9-arBhWSr",
        "outputId": "075e39e3-57fa-4e25-e537-fb8a059a27a3",
        "colab": {
          "base_uri": "https://localhost:8080/"
        }
      },
      "outputs": [
        {
          "output_type": "stream",
          "name": "stdout",
          "text": [
            "1024\n"
          ]
        }
      ],
      "source": [
        "print(potencia(2,10))"
      ]
    },
    {
      "cell_type": "markdown",
      "metadata": {
        "id": "tObhaoO6hWSv"
      },
      "source": [
        "Este algoritmo admite todavía una pequeña optimización. Cuando $k$ se divide por $2$, no solo se preserva el invariante, sino que además $k$ sigue siendo $>0$, y por lo tanto no es necesario en ese caso volver a preguntar por la condición del `while`. El algoritmo queda como sigue:"
      ]
    },
    {
      "cell_type": "code",
      "execution_count": null,
      "metadata": {
        "id": "9xppaV27hWSw"
      },
      "outputs": [],
      "source": [
        "def potencia(x, n):\n",
        "    y=1\n",
        "    k=n\n",
        "    z=x\n",
        "    while k>0:\n",
        "        while k%2==0: # caso k par\n",
        "            z=z*z\n",
        "            k//=2\n",
        "        y*=z # aquí estamos seguros que k es impar\n",
        "        k-=1\n",
        "    return y"
      ]
    },
    {
      "cell_type": "code",
      "execution_count": null,
      "metadata": {
        "id": "6sGlyRyChWSw",
        "outputId": "105c031f-8b52-4299-c221-4853e64d005a"
      },
      "outputs": [
        {
          "name": "stdout",
          "output_type": "stream",
          "text": [
            "1024\n"
          ]
        }
      ],
      "source": [
        "print(potencia(2,10))"
      ]
    },
    {
      "cell_type": "markdown",
      "metadata": {
        "id": "UFbiK4bthWSx"
      },
      "source": [
        "Este algoritmo (en cualquiera de las dos últimas versiones) se llama el *algoritmo binario*, y es mucho más eficiente que el algoritmo inicial. Cada vez que se da el caso par, $k$ disminuye a a mitad, y eso ocurre al menos la mitad de las veces. Pero si $k$ comienza con el valor $n$, la operación de dividir por $2$ se puede ejecutar a lo más $\\log_2{n}$ veces, por lo tanto el tiempo total de ejecución es $O(\\log_2{n})$, en lugar de $O(n)$. \n",
        "\n",
        "Decimos que el algoritmo original era de tiempo lineal, y que el algoritmo binario es de tiempo logarítmico. Para $n$ grande, la diferencia de eficiencia es muy grande en favor del algoritmo binario.\n",
        "\n",
        "Una observación importante es que para que el algoritmo binario funcione, solo es necesario que $x$ $y$, $z$ pertenezcan a un conjunto para el cual hay definida una operación multiplicativa que sea asociativa y que tenga un elemento neutro. Por lo tanto, este algoritmo no solo sirve para elevar a potencia números enteros o reales, sino que además, por ejemplo, para calcular potencias de *matrices*. "
      ]
    },
    {
      "cell_type": "markdown",
      "metadata": {
        "id": "Q_DdLTF9hWSy"
      },
      "source": [
        "## Ejemplo de programación con invariantes: Evaluación de un polinomio\n",
        "\n",
        "Supongamos que se tiene un polinomio\n",
        "\n",
        "$$\n",
        "P(x) = \\sum_{0<=k<=n}{a_k x^k}\n",
        "$$\n",
        "\n",
        "y se desea calcular su valor en un punto dado $x$.\n",
        "\n",
        "Una solución trivial se puede obtener directamente de la fórmula anterior:"
      ]
    },
    {
      "cell_type": "code",
      "execution_count": null,
      "metadata": {
        "id": "rHDd2pJKhWSz"
      },
      "outputs": [],
      "source": [
        "def evalp(a,x):\n",
        "    \"\"\"Evalúa en el punto x el polinomio cuyos coeficientes son a[0], a[1],...\n",
        "    Retorna el valor calculado\n",
        "    \"\"\"\n",
        "    P=0\n",
        "    for k in range(0,len(a)):\n",
        "        # Invariante: P=a[0]+a[1]*x+...+a[k-1]*x**(k-1)\n",
        "        P += a[k]*x**k\n",
        "    return P"
      ]
    },
    {
      "cell_type": "markdown",
      "metadata": {
        "id": "tgwq2y7fhWS0"
      },
      "source": [
        "Podemos probar esta función evaluando el polinomio\n",
        "\n",
        "$$\n",
        "P(x) = 5+2x-3x^2+4x^3\n",
        "$$\n",
        "\n",
        "en el punto $x=2$:"
      ]
    },
    {
      "cell_type": "code",
      "execution_count": null,
      "metadata": {
        "id": "emhL_eaQhWS0",
        "outputId": "e0121df7-d0a1-4009-8dea-b79593def010"
      },
      "outputs": [
        {
          "name": "stdout",
          "output_type": "stream",
          "text": [
            "29\n"
          ]
        }
      ],
      "source": [
        "print(evalp([5,2,-3,4],2))"
      ]
    },
    {
      "cell_type": "markdown",
      "metadata": {
        "id": "2ZP9XgKbhWS1"
      },
      "source": [
        "El problema es que este algoritmo puede ser ineficiente. Si el sistema calcula ``x**k`` de manera simple, el tiempo total de ejecución sería del orden de $n^2$, y si lo calcula usando el algoritmo binario, el tiempo sería del orden de $n\\log{n}$. Veremos que esto se puede reducir a tiempo lineal.\n",
        "\n",
        "Para esto, vamos a introducir una variable adicional, digamos $y$, que almacene el valor de $x^k$ necesario para cada iteración. Para preservar este invariante, al final de cada vuelta del ciclo debemos dejarla multiplicada por $x$, para que tenga el valor correcto al iniciarse la siguiente iteración:"
      ]
    },
    {
      "cell_type": "code",
      "execution_count": null,
      "metadata": {
        "id": "BR7YXGTUhWS1"
      },
      "outputs": [],
      "source": [
        "def evalp(a,x):\n",
        "    \"\"\"Evalúa en el punto x el polinomio cuyos coeficientes son a[0], a[1],...\n",
        "    Retorna el valor calculado\n",
        "    \"\"\"\n",
        "    P=0\n",
        "    y=1\n",
        "    for k in range(0,len(a)):\n",
        "        # Invariante: P=a[0]+a[1]*x+...+a[k-1]*x**(k-1) and y=x**k\n",
        "        P += a[k]*y\n",
        "        y *= x\n",
        "    return P"
      ]
    },
    {
      "cell_type": "code",
      "execution_count": null,
      "metadata": {
        "id": "1uUwkCVxhWS2",
        "outputId": "f51d68a1-4802-4e4c-aa39-2352c4457f39"
      },
      "outputs": [
        {
          "name": "stdout",
          "output_type": "stream",
          "text": [
            "29\n"
          ]
        }
      ],
      "source": [
        "print(evalp([5,2,-3,4],2))"
      ]
    },
    {
      "cell_type": "markdown",
      "metadata": {
        "id": "YCdga13ehWS2"
      },
      "source": [
        "---"
      ]
    }
  ],
  "metadata": {
    "kernelspec": {
      "display_name": "Python 3",
      "language": "python",
      "name": "python3"
    },
    "language_info": {
      "codemirror_mode": {
        "name": "ipython",
        "version": 3
      },
      "file_extension": ".py",
      "mimetype": "text/x-python",
      "name": "python",
      "nbconvert_exporter": "python",
      "pygments_lexer": "ipython3",
      "version": "3.6.9"
    },
    "colab": {
      "name": "01_Busqueda-Binaria.ipynb",
      "provenance": [],
      "collapsed_sections": []
    }
  },
  "nbformat": 4,
  "nbformat_minor": 0
}