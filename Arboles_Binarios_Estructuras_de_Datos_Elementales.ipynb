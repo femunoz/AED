{
  "nbformat": 4,
  "nbformat_minor": 0,
  "metadata": {
    "colab": {
      "name": "Arboles Binarios - Estructuras de Datos Elementales.ipynb",
      "provenance": [],
      "collapsed_sections": [
        "0WW1OiVbcAB6",
        "15NMezn3cALU",
        "J5w5UQtRcAfn",
        "bXNfr8b_cAfn"
      ],
      "toc_visible": true,
      "include_colab_link": true
    },
    "kernelspec": {
      "display_name": "Python 3",
      "language": "python",
      "name": "python3"
    },
    "language_info": {
      "codemirror_mode": {
        "name": "ipython",
        "version": 3
      },
      "file_extension": ".py",
      "mimetype": "text/x-python",
      "name": "python",
      "nbconvert_exporter": "python",
      "pygments_lexer": "ipython3",
      "version": "3.6.9"
    }
  },
  "cells": [
    {
      "cell_type": "markdown",
      "metadata": {
        "id": "view-in-github",
        "colab_type": "text"
      },
      "source": [
        "<a href=\"https://colab.research.google.com/github/femunoz/AED/blob/main/Arboles_Binarios_Estructuras_de_Datos_Elementales.ipynb\" target=\"_parent\"><img src=\"https://colab.research.google.com/assets/colab-badge.svg\" alt=\"Open In Colab\"/></a>"
      ]
    },
    {
      "cell_type": "code",
      "metadata": {
        "id": "VaRcY-dMfZkz",
        "colab": {
          "base_uri": "https://localhost:8080/"
        },
        "outputId": "d0a5ff4f-ff49-4111-c67b-1bdd9f9916c3"
      },
      "source": [
        "!pip install aed-utilities"
      ],
      "execution_count": 1,
      "outputs": [
        {
          "output_type": "stream",
          "text": [
            "Collecting aed-utilities\n",
            "  Downloading https://files.pythonhosted.org/packages/d9/53/1fb6dd5ad276ed9857cc448e7df0efc7f0f68c1818e8732bd5941ef99a7e/aed_utilities-0.5.2.tar.gz\n",
            "Collecting validators\n",
            "  Downloading https://files.pythonhosted.org/packages/db/2f/7fed3ee94ad665ad2c1de87f858f10a7785251ff75b4fd47987888d07ef1/validators-0.18.2-py3-none-any.whl\n",
            "Requirement already satisfied: beautifulsoup4 in /usr/local/lib/python3.7/dist-packages (from aed-utilities) (4.6.3)\n",
            "Requirement already satisfied: decorator>=3.4.0 in /usr/local/lib/python3.7/dist-packages (from validators->aed-utilities) (4.4.2)\n",
            "Requirement already satisfied: six>=1.4.0 in /usr/local/lib/python3.7/dist-packages (from validators->aed-utilities) (1.15.0)\n",
            "Building wheels for collected packages: aed-utilities\n",
            "  Building wheel for aed-utilities (setup.py) ... \u001b[?25l\u001b[?25hdone\n",
            "  Created wheel for aed-utilities: filename=aed_utilities-0.5.2-cp37-none-any.whl size=4468 sha256=6fcc524cde66dbfb97a86d17a314d652dd5a0536ebf20e680bcfb6f87af22ac4\n",
            "  Stored in directory: /root/.cache/pip/wheels/68/e6/33/33cadc26cc3b96e6f5830bb498d2c521b2e0fca7069fd52473\n",
            "Successfully built aed-utilities\n",
            "Installing collected packages: validators, aed-utilities\n",
            "Successfully installed aed-utilities-0.5.2 validators-0.18.2\n"
          ],
          "name": "stdout"
        }
      ]
    },
    {
      "cell_type": "markdown",
      "metadata": {
        "id": "_J9bS7IocAR1"
      },
      "source": [
        "## Árboles Binarios\n",
        "\n",
        "Al usar nodos que hacen referencia a otros nodos, no es de ninguna manera obligatorio limitarse a estructuras lineales como las que hemos visto en las secciones anteriores: podemos construir estructuras enlazadas tan complejas como queramos.\n",
        "\n",
        "Un tipo de estructura muy utilizada son los *árboles binarios*, en que cada nodo puede tener \"hijos\" tanto a su izquierda como a si derecha, y eso mismo se reproduce para los hijos, recursivamente.\n",
        "\n",
        "Los nodos tienen un formato similar al de los nodos de doble enlace, pero las referencias se llaman `izq` (izquierda) y `der` (derecha).\n",
        "\n",
        "![Nodo-arbol-binario](https://github.com/ivansipiran/AED-Apuntes/blob/main/recursos/Nodo-arbol-binario.png?raw=1)\n",
        "\n",
        "Al dibujarlo con nodos circulares, normalmente las líneas no llevan flecha, porque se entiende que apuntan hacia abajo:\n",
        "\n",
        "![Nodo-arbol-binario-circular](https://github.com/ivansipiran/AED-Apuntes/blob/main/recursos/Nodo-arbol-binario-circular.png?raw=1)"
      ]
    },
    {
      "cell_type": "code",
      "metadata": {
        "id": "9idcMoGKcAR2"
      },
      "source": [
        "class Nodo:\n",
        "    def __init__(self, izq, info, der):\n",
        "        self.izq=izq\n",
        "        self.info=info\n",
        "        self.der=der"
      ],
      "execution_count": 2,
      "outputs": []
    },
    {
      "cell_type": "markdown",
      "metadata": {
        "id": "Fc-UAZ59cAR_"
      },
      "source": [
        "La siguiente figura muestra un ejemplo de un árbol binario:\n",
        "\n",
        "![ejemplo-ABB](https://github.com/ivansipiran/AED-Apuntes/blob/main/recursos/ejemplo-ABB.png?raw=1)\n",
        "\n",
        "Este es un tipo especial de árbol binario, llamado *árbol de búsqueda binaria* (*ABB*), que se caracteriza porque para cada nodo, sus hijos descendientes hacia la izquierda son menores que él, y los de la derecha son mayores. Más adelante estudiaremos en profundidad los ABB.\n",
        "\n",
        "La terminología asociada a los árboles combina lo forestal con lo genealógico. El nodo de nivel superior se llama la *raíz* y los nodos que están en los niveles inferiores (los nodos cuadrados en la figura) se llaman *hojas*. Como vemos, al revés que en la naturaleza, estos árboles crecen hacia abajo.\n",
        "\n",
        "Un nodo apunta hacia abajo a sus hijos (izquierdo y derecho), y se dice que es el *padre* de ellos. Yendo desde un nodo hacia abajo se encuentran sus *descendientes*, y hacia arriba se encuentran sus *ancestros*.\n",
        "\n",
        "Si el nodo $b$ es descendiente del nodo $a$, se dice que la distancia entre $a$ y $b$ es el número de pasos que hay que dar para ir de $a$ a $b$. La máxima distancia entre la raíz y una hoja se llama la *altura* del árbol. En el ejemplo, la altura es $5$, que se alcanza yendo desde la raíz hasta cualquiera de las hojas hijas de $65$ o de $81$.\n",
        "\n",
        "Al dibujar un árbol con nodos circulares y nodos cuadrados, los circulares se llaman *nodos internos* y los cuadrados, *nodos externos*. Los nodos internos siempre tienen dos hijos (internos y/o externos) y los nodos externos no tienen hijos.\n",
        "\n",
        "La altura máxima de un árbol binario con $n$ nodos internos es $n$, y la altura mínima es $\\lceil \\log_2{(n+1)} \\rceil$. Esto último es una consecuencia de que un árbol binario de altura $h$ puede tener a lo más $2^h$ nodos externos.\n",
        "\n",
        "A continuación definiremos una clase árbol, con un constructor que define un puntero al nodo raíz. Para poder hacer ejemplos de uso, admitiremos que el constructor reciba un puntero a la raíz de un árbol ya construido. "
      ]
    },
    {
      "cell_type": "code",
      "metadata": {
        "id": "UT_wwk8PcASC"
      },
      "source": [
        "class Arbol:\n",
        "    def __init__(self,raiz=None):\n",
        "        self.raiz=raiz"
      ],
      "execution_count": 3,
      "outputs": []
    },
    {
      "cell_type": "markdown",
      "metadata": {
        "id": "0OfPA1VIcASN"
      },
      "source": [
        "### Recorridos de Árboles Binarios\n",
        "\n",
        "Un árbol binario es una estructura esencialmente recursiva, y las principales formas de recorrer un árbol se definen también recursivamente.\n",
        "Los tres tipos de recorridos más conocidos son:\n",
        "\n",
        "* Preorden: Visitar la raíz, recorrer el subárbol izquierdo y recorrer el subárbol derecho\n",
        "\n",
        "* Indorden: Recorrer el subárbol izquierdo, visitar la raíz y recorrer el subárbol derecho\n",
        "\n",
        "* Postorden: Recorrer el subárbol izquierdo, recorrer el subárbol derecho y visitar la raíz\n",
        "\n",
        "A continuación agregamos a la definición de la clase tres métodos que imprimen en contenido del árbol en estos recorridos:"
      ]
    },
    {
      "cell_type": "code",
      "metadata": {
        "id": "Y17mLMlScASN"
      },
      "source": [
        "import aed_utilities as aed\n",
        "\n",
        "def pre(p):\n",
        "    if p is not None:\n",
        "        print(p.info,end=\" \")\n",
        "        pre(p.izq)\n",
        "        pre(p.der)\n",
        "\n",
        "def ino(p):\n",
        "    if p is not None:\n",
        "        ino(p.izq)\n",
        "        print(p.info,end=\" \")\n",
        "        ino(p.der)\n",
        "\n",
        "def post(p):\n",
        "    if p is not None:\n",
        "        post(p.izq)\n",
        "        post(p.der)\n",
        "        print(p.info,end=\" \")\n",
        "        \n",
        "class Arbol:\n",
        "    def __init__(self,raiz=None):\n",
        "        self.raiz=raiz\n",
        "        \n",
        "    def preorden(self):\n",
        "        print(\"Preorden:\", end=\" \")\n",
        "        pre(self.raiz)\n",
        "        print()\n",
        "        \n",
        "    def inorden(self):\n",
        "        print(\"Inorden:\", end=\" \")\n",
        "        ino(self.raiz)\n",
        "        print()\n",
        "        \n",
        "    def postorden(self):\n",
        "        print(\"Postorden:\", end=\" \")\n",
        "        post(self.raiz)\n",
        "        print()\n",
        "    \n",
        "    # Para dibujar un árbol binario, necesitamos crear una instancia de la clase BinaryTreeDrawer\n",
        "    # Aquí también necesitamos conocer la estructura de los nodos. Esta información se envía como parámetro \n",
        "    # al constructor de la clase:\n",
        "    #    - fieldData: nombre del campo del nodo que mantiene la data\n",
        "    #    - fieldLeft: nombre del campo del nodo con el puntero izquierdo\n",
        "    #    - fieldRight: nombre del campo del noso con le puntero derecho\n",
        "    # Para dibujar se llama al método \"draw_tree\", enviando como parámetro el árbol binario y el nombre del campo que identifica al nodo raiz.\n",
        "    \n",
        "    def dibujar(self):\n",
        "      btd = aed.BinaryTreeDrawer(fieldData=\"info\", fieldLeft=\"izq\", fieldRight=\"der\")\n",
        "      btd.draw_tree(self, \"raiz\")\n"
      ],
      "execution_count": 4,
      "outputs": []
    },
    {
      "cell_type": "code",
      "metadata": {
        "id": "qTIM84SBcAS1"
      },
      "source": [
        "AX=Arbol(\n",
        "    Nodo(\n",
        "        Nodo(\n",
        "            Nodo(None,15,None),\n",
        "            20,\n",
        "            Nodo(\n",
        "                Nodo(None,30,None),\n",
        "                35,\n",
        "                None\n",
        "            )\n",
        "        ),\n",
        "        42,\n",
        "        Nodo(\n",
        "            Nodo(\n",
        "                Nodo(\n",
        "                    Nodo(Nodo(None,62, None),65,None),\n",
        "                    72,\n",
        "                    Nodo(None,81,None)\n",
        "                ),\n",
        "                90,\n",
        "                None\n",
        "            ),\n",
        "            95,\n",
        "            None\n",
        "        )\n",
        "       )\n",
        ")\n",
        "\n",
        "AX1 = Arbol(Nodo(Nodo(Nodo(None,7,None),10,Nodo(None, 12, None)),18, Nodo(Nodo(None, 20,None),24,Nodo(None, 30, None))))\n",
        "AX2 = Arbol(Nodo(None, 10, Nodo(None, 12, Nodo(None, 14, Nodo(None, 20, None)))))\n",
        "AX3 = Arbol(Nodo(Nodo(Nodo(None,5,None),7,Nodo(None, 9, None)),10,None))"
      ],
      "execution_count": 5,
      "outputs": []
    },
    {
      "cell_type": "code",
      "metadata": {
        "colab": {
          "base_uri": "https://localhost:8080/"
        },
        "id": "GUxu0Dz9cATY",
        "outputId": "b4bf3afa-3655-496f-d3e9-a06a24f84520"
      },
      "source": [
        "AX.preorden()\n",
        "AX.inorden()\n",
        "AX.postorden()"
      ],
      "execution_count": 6,
      "outputs": [
        {
          "output_type": "stream",
          "text": [
            "Preorden: 42 20 15 35 30 95 90 72 65 62 81 \n",
            "Inorden: 15 20 30 35 42 62 65 72 81 90 95 \n",
            "Postorden: 15 30 35 20 62 65 81 72 90 95 42 \n"
          ],
          "name": "stdout"
        }
      ]
    },
    {
      "cell_type": "code",
      "metadata": {
        "colab": {
          "base_uri": "https://localhost:8080/",
          "height": 198
        },
        "id": "B5iAVuSpDbS8",
        "outputId": "63709538-c7eb-4d51-f2d7-7acc12c76f80"
      },
      "source": [
        "AX3.dibujar()"
      ],
      "execution_count": 7,
      "outputs": [
        {
          "output_type": "display_data",
          "data": {
            "text/plain": [
              "<IPython.core.display.SVG object>"
            ],
            "image/svg+xml": "<svg height=\"133pt\" viewBox=\"0.00 0.00 147.60 133.20\" width=\"148pt\" xmlns=\"http://www.w3.org/2000/svg\" xmlns:xlink=\"http://www.w3.org/1999/xlink\">\n<g class=\"graph\" id=\"graph0\" transform=\"scale(1 1) rotate(0) translate(4 129.1982)\">\n<title>Arbol</title>\n<polygon fill=\"#ffffff\" points=\"-4,4 -4,-129.1982 143.5982,-129.1982 143.5982,4 -4,4\" stroke=\"transparent\"/>\n<!-- node0 -->\n<g class=\"node\" id=\"node1\">\n<title>node0</title>\n<ellipse cx=\"18\" cy=\"-18\" fill=\"none\" rx=\"18\" ry=\"18\" stroke=\"#000000\"/>\n<text fill=\"#000000\" font-family=\"Times,serif\" font-size=\"14.00\" text-anchor=\"middle\" x=\"18\" y=\"-14.3\">5</text>\n</g>\n<!-- node2 -->\n<g class=\"node\" id=\"node2\">\n<title>node2</title>\n<ellipse cx=\"51.6\" cy=\"-61.2\" fill=\"none\" rx=\"18\" ry=\"18\" stroke=\"#000000\"/>\n<text fill=\"#000000\" font-family=\"Times,serif\" font-size=\"14.00\" text-anchor=\"middle\" x=\"51.6\" y=\"-57.5\">7</text>\n</g>\n<!-- node2&#45;&#45;node0 -->\n<g class=\"edge\" id=\"edge2\">\n<title>node2--node0</title>\n<path d=\"M40.2246,-46.5745C36.6454,-41.9726 32.6982,-36.8977 29.1358,-32.3175\" fill=\"none\" stroke=\"#000000\"/>\n</g>\n<!-- node1 -->\n<g class=\"node\" id=\"node3\">\n<title>node1</title>\n<ellipse cx=\"85.2\" cy=\"-18\" fill=\"none\" rx=\"18\" ry=\"18\" stroke=\"#000000\"/>\n<text fill=\"#000000\" font-family=\"Times,serif\" font-size=\"14.00\" text-anchor=\"middle\" x=\"85.2\" y=\"-14.3\">9</text>\n</g>\n<!-- node2&#45;&#45;node1 -->\n<g class=\"edge\" id=\"edge3\">\n<title>node2--node1</title>\n<path d=\"M62.9754,-46.5745C66.5546,-41.9726 70.5018,-36.8977 74.0642,-32.3175\" fill=\"none\" stroke=\"#000000\"/>\n</g>\n<!-- node3 -->\n<g class=\"node\" id=\"node4\">\n<title>node3</title>\n<ellipse cx=\"118.8\" cy=\"-104.4\" fill=\"none\" rx=\"20.5982\" ry=\"20.5982\" stroke=\"#000000\"/>\n<text fill=\"#000000\" font-family=\"Times,serif\" font-size=\"14.00\" text-anchor=\"middle\" x=\"118.8\" y=\"-100.7\">10</text>\n</g>\n<!-- node3&#45;&#45;node2 -->\n<g class=\"edge\" id=\"edge1\">\n<title>node3--node2</title>\n<path d=\"M101.144,-93.0497C90.5667,-86.25 77.2451,-77.6862 67.0803,-71.1516\" fill=\"none\" stroke=\"#000000\"/>\n</g>\n</g>\n</svg>"
          },
          "metadata": {
            "tags": []
          }
        }
      ]
    }
  ]
}