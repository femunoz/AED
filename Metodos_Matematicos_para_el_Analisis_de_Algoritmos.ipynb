{
  "nbformat": 4,
  "nbformat_minor": 0,
  "metadata": {
    "kernelspec": {
      "display_name": "Python 3",
      "language": "python",
      "name": "python3"
    },
    "language_info": {
      "codemirror_mode": {
        "name": "ipython",
        "version": 3
      },
      "file_extension": ".py",
      "mimetype": "text/x-python",
      "name": "python",
      "nbconvert_exporter": "python",
      "pygments_lexer": "ipython3",
      "version": "3.6.9"
    },
    "colab": {
      "name": "Metodos_Matematicos_para_el_Analisis_de_Algoritmos.ipynb",
      "provenance": [],
      "include_colab_link": true
    }
  },
  "cells": [
    {
      "cell_type": "markdown",
      "metadata": {
        "id": "view-in-github",
        "colab_type": "text"
      },
      "source": [
        "<a href=\"https://colab.research.google.com/github/femunoz/AED/blob/main/Metodos_Matematicos_para_el_Analisis_de_Algoritmos.ipynb\" target=\"_parent\"><img src=\"https://colab.research.google.com/assets/colab-badge.svg\" alt=\"Open In Colab\"/></a>"
      ]
    },
    {
      "cell_type": "markdown",
      "metadata": {
        "id": "RHhqEcuBwTcg"
      },
      "source": [
        "#Métodos Matemáticos para el Análisis de Algoritmos\n",
        "\n",
        "(Apuntes de Patricio Poblete, disponibles en: https://github.com/ivansipiran/AED-Apuntes#Algoritmos-y-Estructuras-de-Datos)\n",
        "\n",
        "Para cuantificar la eficiencia de los algoritmos, utilizamos funciones que miden, por ejemplo, cuánto tiempo demora un algoritmo en ejecutarse sobre una entrada dada, cuál es su peor caso sobre un conjunto de entradas posibles, o cuánto demora en promedio, suponiendo una cierta distribución de probabilidad de las entradas. Ocasionalmente, estudiaremos el uso de otro tipo de recursos, como por ejemplo la cantidad de memoria utilizada.\n",
        "\n",
        "Es habitual que los resultados que obtengamos dependan de un parámetro $n$, que representa el tamaño del problema (por ejemplo, el número de elementos a ordenar, el número de elementos en un conjunto en el que hay que hacer una búsqueda, etc.). Por lo tanto, nuestras funciones serán normalmente *funciones discretas*, esto es funciones cuyo argumento es un número entero nonegativo. Como notación, para este tipo de funciones utilizaremos indistintamente una notación de funciones $f(n)$ o de sucesiones $f_n$.\n",
        "\n",
        "Tal como en Física el estudio de funciones de variable continua $f(t)$ conduce a ecuaciones diferenciales que luego hay que resolver, acá el estudio de funciones de variable discreta $f(n)$ conducirá a *ecuaciones de recurrencia*, y en este capítulo veremos algunos métodos para resolver ese tipo de ecuaciones."
      ]
    },
    {
      "cell_type": "markdown",
      "metadata": {
        "id": "Gk2p51exwTcl"
      },
      "source": [
        "## Notación $O$\n",
        "\n",
        "Al trabajar con funciones que pueden ser muy complicadas, en la práctica resulta útil poder ignorar los términos de orden inferior para concentrarse en el que determina la forma en que la función evoluciona cuando $n \\rightarrow \\infty$. También resulta útil en ese caso poder ignorar factores constantes, para concentrarse en la forma como la función depende de $n$.\n",
        "\n",
        "Utilizaremos la notación\n",
        "$$\n",
        "f(n)=O(g(n))\n",
        "$$\n",
        "si existe una constante $C$ y un número $n_0$ tal que\n",
        "\n",
        "$$\n",
        "|f(n)| \\le C|g(n)|\n",
        "$$\n",
        "\n",
        "para todo $n\\ge n_0$.\n",
        "\n",
        "Cuando la notación $O(g(n))$ aparezca en medio de una fórmula, representará a una función que cumple con la condición anterior.\n",
        "\n",
        "Es importante notar que la notación $O$ provee una cota superior, la cual puede o no ser cercana a la función de la izquierda.\n",
        "Más adelante veremos una notación más ajustada.\n",
        "\n",
        "### Ejemplos\n",
        "\n",
        "* $3n=O(n)$\n",
        "* $2=O(1)$\n",
        "* $2=O(n)$\n",
        "* $3n+2=O(n)$\n",
        "\n",
        "La notación $f(n)=O(g(n))$ es utilizada por la mayoría de los autores, pero hay que usarla con cuidado, porque la igualdad que ahí aparece **no es una relación reflexiva**.\n",
        "En efecto, de $3n=O(n)$ y $2=O(n)$, **no** podemos deducir que $3n=2$.\n",
        "Hay que tener presente siempre que lo que aparece a la derecha del signo igual contiene menos información que lo de la izquierda.\n",
        "\n",
        "Para evitar las posible confusiones que podrían derivar de este uso no estándar del signo igual, algunos autores prefieren escribir\n",
        "\n",
        "$$\n",
        "f(n) \\in O(g(n))\n",
        "$$\n",
        "\n",
        "en donde $O(g(n))$ se interpreta como el _conjunto_ de todas las funciones que acotan a $f(n)$ de la manera indicada.\n"
      ]
    },
    {
      "cell_type": "markdown",
      "metadata": {
        "id": "tnnwbW4MwTcm"
      },
      "source": [
        "## Notación $\\Omega$\n",
        "\n",
        "De manera análoga, se puede definir una notación de cota inferior.\n",
        "\n",
        "Diremos que\n",
        "$$\n",
        "f(n)=\\Omega(g(n))\n",
        "$$\n",
        "si existe una constante $C$ y un número $n_0$ tal que\n",
        "\n",
        "$$\n",
        "|f(n)|\\ge C|g(n)|\n",
        "$$\n",
        "\n",
        "para todo $n\\ge n_0$.\n",
        "\n",
        "### Ejemplos\n",
        "\n",
        "* $3=\\Omega(1)$\n",
        "* $3n=\\Omega(n)$\n",
        "* $3n=\\Omega(1)$\n",
        "* $3n+2=\\Omega(n)$"
      ]
    },
    {
      "cell_type": "markdown",
      "metadata": {
        "id": "D-0JBaqKwTcn"
      },
      "source": [
        "## Notación $\\Theta$\n",
        "\n",
        "La notación $\\Theta$ nos permite especificar el orden exacto de crecimiento de una función.\n",
        "\n",
        "Diremos que\n",
        "$$\n",
        "f(n)=\\Theta(g(n))\n",
        "$$\n",
        "si $f(n)=O(g(n))$ y $f(n)=\\Omega(g(n))$\n",
        "\n",
        "### Ejemplo\n",
        "\n",
        "* $3n+2=\\Theta(n)$"
      ]
    },
    {
      "cell_type": "markdown",
      "metadata": {
        "id": "oA6whqPjwTco"
      },
      "source": [
        "Esta notación enfatiza que lo más importante, cuando $n$ crece, es el orden de magnitud de las funciones, y que podemos ignorar constantes multiplicativas y términos de orden inferior para comparar funciones a largo plazo.\n",
        "\n",
        "Por otra parte, si por alguna razón queremos comparar funciones para $n$ pequeño, ahí toda la información es significativa, y como muestra el siguiente gráfico, en ese rango una solución \"ineficiente\" puede resultar preferible a otra que solo es eficiente para $n$ grande:"
      ]
    },
    {
      "cell_type": "code",
      "metadata": {
        "id": "sp7pKTEGwTcp",
        "colab": {
          "base_uri": "https://localhost:8080/"
        },
        "outputId": "6e893cef-34e0-46ba-8bcf-4851c2a38767"
      },
      "source": [
        "%pylab inline"
      ],
      "execution_count": null,
      "outputs": [
        {
          "output_type": "stream",
          "text": [
            "Populating the interactive namespace from numpy and matplotlib\n"
          ],
          "name": "stdout"
        }
      ]
    },
    {
      "cell_type": "code",
      "metadata": {
        "scrolled": true,
        "id": "Sav8lG6gwTcq",
        "colab": {
          "base_uri": "https://localhost:8080/",
          "height": 265
        },
        "outputId": "f1641f6c-585b-417e-9bfc-760ab27f6fd9"
      },
      "source": [
        "n=linspace(1,10)\n",
        "plt.plot(n,n+6,label='$n+6$')\n",
        "plt.plot(n,log(n)+8, label='$\\log{n}+8$')\n",
        "leg=plt.legend(loc='best')"
      ],
      "execution_count": null,
      "outputs": [
        {
          "output_type": "display_data",
          "data": {
            "image/png": "[encoded data removed]",
            "text/plain": [
              "<Figure size 432x288 with 1 Axes>"
            ]
          },
          "metadata": {
            "tags": [],
            "needs_background": "light"
          }
        }
      ]
    },
    {
      "cell_type": "code",
      "metadata": {
        "id": "b9s7MSHbwTcr",
        "colab": {
          "base_uri": "https://localhost:8080/",
          "height": 265
        },
        "outputId": "b92e52b4-ea34-4ddd-e993-b50717881180"
      },
      "source": [
        "n=linspace(1,10)\n",
        "plt.plot(n,n*n, label='$n^2$')\n",
        "plt.plot(n,2*n*log(n)+5, label='$2n\\log{n}+5$')\n",
        "leg=plt.legend(loc='best')"
      ],
      "execution_count": null,
      "outputs": [
        {
          "output_type": "display_data",
          "data": {
            "image/png": "[encoded data removed]",
            "text/plain": [
              "<Figure size 432x288 with 1 Axes>"
            ]
          },
          "metadata": {
            "tags": [],
            "needs_background": "light"
          }
        }
      ]
    }
  ]
}