{
  "cells": [
    {
      "cell_type": "markdown",
      "metadata": {
        "id": "oQTlrSdNhWS3"
      },
      "source": [
        "## Numpy y Arreglos\n",
        "\n",
        "Numpy es la principal biblioteca para computación científica en Python.\n",
        "\n",
        "Una de las características de Numpy es que provee arreglos multidimensionales de alta eficiencia. Mientras la gran flexibilidad de las listas de Python puede hacer que no sea muy eficiente el acceso a elementos específicos, los arreglos de Numpy aseguran el acceso a cada elemento en tiempo constante. Por esa razón, utilizaremos estos arreglos cuando necesitemos asegurar la eficiencia de la implementación de los algoritmos.\n"
      ]
    },
    {
      "cell_type": "code",
      "execution_count": null,
      "metadata": {
        "id": "AlKwxPqqhWS3",
        "outputId": "2a1db433-bec2-4f8b-ae64-842325e0797f"
      },
      "outputs": [
        {
          "name": "stdout",
          "output_type": "stream",
          "text": [
            "4.6\n"
          ]
        }
      ],
      "source": [
        "import numpy as np\n",
        "\n",
        "a = np.array([6.5, 5.2, 4.6, 7.0, 4.3])\n",
        "print(a[2])"
      ]
    },
    {
      "cell_type": "code",
      "execution_count": null,
      "metadata": {
        "id": "3HoQcRkchWS4",
        "outputId": "532e04e7-4360-4b08-f881-39b48082dd7b"
      },
      "outputs": [
        {
          "name": "stdout",
          "output_type": "stream",
          "text": [
            "5\n"
          ]
        }
      ],
      "source": [
        "print(len(a))"
      ]
    },
    {
      "cell_type": "markdown",
      "metadata": {
        "id": "T4apZ6WwhWS4"
      },
      "source": [
        "Hay varias formas de crear arreglos inicializados con ceros, unos, valores constantes o valores aleatorios."
      ]
    },
    {
      "cell_type": "code",
      "execution_count": null,
      "metadata": {
        "id": "agomsoLOhWS5",
        "outputId": "5e2b7951-5d78-47d9-fbac-068bac016337"
      },
      "outputs": [
        {
          "name": "stdout",
          "output_type": "stream",
          "text": [
            "[1. 1. 1. 1. 1. 1. 1. 1. 1. 1.]\n"
          ]
        }
      ],
      "source": [
        "b = np.ones(10)\n",
        "print(b)"
      ]
    },
    {
      "cell_type": "code",
      "execution_count": null,
      "metadata": {
        "id": "YAKt8_SshWS6",
        "outputId": "73e0b40f-e24e-40e1-8e37-43d0e25a50c0"
      },
      "outputs": [
        {
          "name": "stdout",
          "output_type": "stream",
          "text": [
            "[0 0 0 0 0 0 0]\n"
          ]
        }
      ],
      "source": [
        "c = np.zeros(7,dtype=int)\n",
        "print(c)"
      ]
    },
    {
      "cell_type": "markdown",
      "metadata": {
        "id": "6Xr5S703hWS7"
      },
      "source": [
        "En los dos ejemplos anteriores mostramos la diferencia que se produce al explicitar el tipo de datos del arreglo. En el primero, obtenemos el *default*, que es flotante, mientras en el segundo forzamos a que sea entero."
      ]
    },
    {
      "cell_type": "code",
      "execution_count": null,
      "metadata": {
        "id": "P6S5ZczXhWS8",
        "outputId": "1fd1a3d7-e40a-43a2-fe9a-83eeb9422d61"
      },
      "outputs": [
        {
          "name": "stdout",
          "output_type": "stream",
          "text": [
            "[2 2 2 2 2]\n"
          ]
        }
      ],
      "source": [
        "c = np.full(5, 2)\n",
        "print(c)"
      ]
    },
    {
      "cell_type": "code",
      "execution_count": null,
      "metadata": {
        "id": "JyI-nY93hWS9",
        "outputId": "85f56db5-8247-4e81-f857-12e1ca1f4c82"
      },
      "outputs": [
        {
          "name": "stdout",
          "output_type": "stream",
          "text": [
            "[0.39229597 0.99294597 0.16978406 0.49579816 0.3654721  0.43266937]\n"
          ]
        }
      ],
      "source": [
        "d = np.random.random(6)\n",
        "print(d)"
      ]
    },
    {
      "cell_type": "markdown",
      "metadata": {
        "id": "Un6q1O8vhWS9"
      },
      "source": [
        "También es posible crear y manejar arreglos de varias dimensiones."
      ]
    },
    {
      "cell_type": "code",
      "execution_count": null,
      "metadata": {
        "id": "5EfpRX4HhWS-",
        "outputId": "0b1f18ed-f5dd-48b4-f564-a477be3037bc"
      },
      "outputs": [
        {
          "name": "stdout",
          "output_type": "stream",
          "text": [
            "[[1 2 3]\n",
            " [4 5 6]]\n"
          ]
        }
      ],
      "source": [
        "a = np.array([[1,2,3],[4,5,6]])\n",
        "print(a)"
      ]
    },
    {
      "cell_type": "code",
      "execution_count": null,
      "metadata": {
        "id": "3uqf-Q20hWS_",
        "outputId": "26273f39-d679-49b1-ce84-ffba6864d4b8"
      },
      "outputs": [
        {
          "name": "stdout",
          "output_type": "stream",
          "text": [
            "3\n"
          ]
        }
      ],
      "source": [
        "print(a[0,2])"
      ]
    },
    {
      "cell_type": "code",
      "execution_count": null,
      "metadata": {
        "id": "vL1H2x8IhWTA",
        "outputId": "a7277d66-200c-4f2a-f0b6-a11796a20a17"
      },
      "outputs": [
        {
          "name": "stdout",
          "output_type": "stream",
          "text": [
            "2 3\n"
          ]
        }
      ],
      "source": [
        "(m,n)=np.shape(a)\n",
        "print(m,n)"
      ]
    },
    {
      "cell_type": "code",
      "execution_count": null,
      "metadata": {
        "id": "WhzOB0s_hWTA",
        "outputId": "beb04274-7f1c-4c1b-bea2-e1858caf25ed"
      },
      "outputs": [
        {
          "name": "stdout",
          "output_type": "stream",
          "text": [
            "[[0. 0. 0.]\n",
            " [0. 0. 0.]\n",
            " [0. 0. 0.]]\n"
          ]
        }
      ],
      "source": [
        "b = np.zeros((3,3))\n",
        "print(b)"
      ]
    },
    {
      "cell_type": "code",
      "execution_count": null,
      "metadata": {
        "id": "hE2mrIruhWTB",
        "outputId": "be8fc070-c1a8-456b-db6a-c86752c5bcfd"
      },
      "outputs": [
        {
          "name": "stdout",
          "output_type": "stream",
          "text": [
            "[[1. 0. 0.]\n",
            " [0. 1. 0.]\n",
            " [0. 0. 1.]]\n"
          ]
        }
      ],
      "source": [
        "c = np.eye(3)\n",
        "print(c)"
      ]
    }
  ],
  "metadata": {
    "kernelspec": {
      "display_name": "Python 3",
      "language": "python",
      "name": "python3"
    },
    "language_info": {
      "codemirror_mode": {
        "name": "ipython",
        "version": 3
      },
      "file_extension": ".py",
      "mimetype": "text/x-python",
      "name": "python",
      "nbconvert_exporter": "python",
      "pygments_lexer": "ipython3",
      "version": "3.6.9"
    },
    "colab": {
      "name": "01_Introduccion.ipynb",
      "provenance": [],
      "collapsed_sections": [],
      "toc_visible": true
    }
  },
  "nbformat": 4,
  "nbformat_minor": 0
}